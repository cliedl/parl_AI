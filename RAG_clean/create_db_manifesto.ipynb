{
 "cells": [
  {
   "cell_type": "code",
   "execution_count": 5,
   "metadata": {},
   "outputs": [],
   "source": [
    "DATABASE_DIR = \"../data/manifestos/chroma\"\n",
    "DATA_PATH = \"../data/manifestos/01_pdf_originals\""
   ]
  },
  {
   "cell_type": "code",
   "execution_count": 6,
   "metadata": {},
   "outputs": [
    {
     "name": "stderr",
     "output_type": "stream",
     "text": [
      "/Users/christianliedl/anaconda3/envs/bundestag/lib/python3.11/site-packages/torch/_utils.py:831: UserWarning: TypedStorage is deprecated. It will be removed in the future and UntypedStorage will be the only storage class. This should only matter to you if you are using storages directly.  To access UntypedStorage directly, use tensor.untyped_storage() instead of tensor.storage()\n",
      "  return self.fget.__get__(instance, owner)()\n",
      "Some weights of XLMRobertaModel were not initialized from the model checkpoint at manifesto-project/manifestoberta-xlm-roberta-56policy-topics-sentence-2023-1-1 and are newly initialized: ['roberta.pooler.dense.bias', 'roberta.pooler.dense.weight']\n",
      "You should probably TRAIN this model on a down-stream task to be able to use it for predictions and inference.\n"
     ]
    }
   ],
   "source": [
    "# Here we import our modules\n",
    "from models.embedding import ManifestoBertaEmbeddings\n",
    "from database.vector_database import VectorDatabaseCreator\n",
    "\n",
    "# get embedding module\n",
    "embedding_model = ManifestoBertaEmbeddings()\n",
    "\n",
    "# get database_creator\n",
    "database_creator = VectorDatabaseCreator(\n",
    "    embedding_model=embedding_model,\n",
    "    db_directory=DATABASE_DIR,\n",
    "    data_path=DATA_PATH,\n",
    "    loader=\"pdf\"\n",
    ")\n",
    "\n",
    "# load database\n",
    "database = database_creator.build_database()"
   ]
  },
  {
   "cell_type": "code",
   "execution_count": 8,
   "metadata": {},
   "outputs": [
    {
     "data": {
      "text/plain": [
       "{'party': 'afd',\n",
       " 'source': '../../data/manifestos/01_pdf_originals/afd_wahlprogramm_europawahl_2024.pdf'}"
      ]
     },
     "execution_count": 8,
     "metadata": {},
     "output_type": "execute_result"
    }
   ],
   "source": [
    "database = database_creator.load_database()"
   ]
  },
  {
   "cell_type": "code",
   "execution_count": 23,
   "metadata": {},
   "outputs": [
    {
     "name": "stdout",
     "output_type": "stream",
     "text": [
      "Wir wollen Demokratie und Mitbestimmung am \n",
      "Arbeitsplatz länderübergreifend ausbauen. Dafür \n",
      "wollen wir zum einen die Europäischen Betriebs-\n",
      "räte stärken, indem wir an der Seite der Gewerk-\n",
      "schaften die EU-Kommission auffordern, endlich \n",
      "die bestehende Richtlinie zu den Europäischen Be-\n",
      "triebsräten zu überarbeiten und Ausnahmeregeln \n",
      "zu beenden. Die Rechtssicherheit, den Rechtszu-\n",
      "gang und Durchsetzungsmöglichkeiten für Euro-\n",
      "päische Betriebsräte wollen wir verbessern. Um \n",
      "Schlupflöcher zu schließen, sollen auch Franchise-\n",
      "Unternehmen in die Richtlinie einbezogen werden. \n",
      "Zudem setzen wir uns für eine stärkere Vertretung \n",
      "von Frauen sowie jungen Beschäftigten und Auszu-\n",
      "bildenden in den Europäischen Betriebsräten ein.\n",
      "Zum anderen setzen wir uns dafür ein, das Betei-\n",
      "ligungsgesetz für die Societas Europaea (SEBG) in \n",
      "Hinblick auf die Vertretung von Arbeitnehmer*in-\n",
      "nen im Aufsichtsrat zu prüfen. Insbesondere das \n",
      "„Vorher-Nachher-Prinzip“ nehmen wir dabei in den\n",
      "_________________________________________________________________\n",
      "{'party': 'gruene', 'source': '../data/manifestos/01_pdf_originals/gruene_wahlprogramm_europawahl_2024.pdf'}\n"
     ]
    }
   ],
   "source": [
    "print(database.get()[\"documents\"][10])\n",
    "print(\"_________________________________________________________________\")\n",
    "print(database.get()[\"metadatas\"][10])"
   ]
  },
  {
   "cell_type": "code",
   "execution_count": null,
   "metadata": {},
   "outputs": [],
   "source": []
  }
 ],
 "metadata": {
  "kernelspec": {
   "display_name": "bundestag",
   "language": "python",
   "name": "python3"
  },
  "language_info": {
   "codemirror_mode": {
    "name": "ipython",
    "version": 3
   },
   "file_extension": ".py",
   "mimetype": "text/x-python",
   "name": "python",
   "nbconvert_exporter": "python",
   "pygments_lexer": "ipython3",
   "version": "3.11.7"
  }
 },
 "nbformat": 4,
 "nbformat_minor": 2
}
