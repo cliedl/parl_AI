{
 "cells": [
  {
   "cell_type": "code",
   "execution_count": 1,
   "metadata": {},
   "outputs": [],
   "source": [
    "# Select flags: Decide which database should be rebuilt\n",
    "build_debate_database = False\n",
    "build_manifesto_database = False\n",
    "# Then: Run all"
   ]
  },
  {
   "cell_type": "code",
   "execution_count": 2,
   "metadata": {},
   "outputs": [],
   "source": [
    "import sys\n",
    "\n",
    "sys.path.append(\"..\")"
   ]
  },
  {
   "cell_type": "code",
   "execution_count": 3,
   "metadata": {},
   "outputs": [],
   "source": [
    "# Here we import our modules\n",
    "\n",
    "from database.vector_database import VectorDatabase\n",
    "from models.embedding import ManifestoBertaEmbeddings"
   ]
  },
  {
   "cell_type": "markdown",
   "metadata": {},
   "source": [
    "# Define embedding model"
   ]
  },
  {
   "cell_type": "code",
   "execution_count": 4,
   "metadata": {},
   "outputs": [
    {
     "name": "stderr",
     "output_type": "stream",
     "text": [
      "/Users/christianliedl/anaconda3/envs/bundestag/lib/python3.11/site-packages/torch/_utils.py:831: UserWarning: TypedStorage is deprecated. It will be removed in the future and UntypedStorage will be the only storage class. This should only matter to you if you are using storages directly.  To access UntypedStorage directly, use tensor.untyped_storage() instead of tensor.storage()\n",
      "  return self.fget.__get__(instance, owner)()\n",
      "Some weights of XLMRobertaModel were not initialized from the model checkpoint at manifesto-project/manifestoberta-xlm-roberta-56policy-topics-sentence-2023-1-1 and are newly initialized: ['roberta.pooler.dense.bias', 'roberta.pooler.dense.weight']\n",
      "You should probably TRAIN this model on a down-stream task to be able to use it for predictions and inference.\n"
     ]
    }
   ],
   "source": [
    "# Define embedding module\n",
    "embedding_model = ManifestoBertaEmbeddings()\n",
    "embedding_name = \"manifestoberta\""
   ]
  },
  {
   "cell_type": "markdown",
   "metadata": {},
   "source": [
    "# (Re)Build Debate Database"
   ]
  },
  {
   "cell_type": "code",
   "execution_count": 5,
   "metadata": {},
   "outputs": [],
   "source": [
    "# Define path of database and raw data\n",
    "import pandas as pd\n",
    "\n",
    "DATABASE_DIR = f\"../../data/debates/chroma/{embedding_name}/\"\n",
    "DATA_PATH = \"../../data/debates/europarl_speeches.csv\"\n",
    "\n",
    "# instantiate database\n",
    "database_debates = VectorDatabase(\n",
    "    embedding_model=embedding_model,\n",
    "    source_type=\"debates\",\n",
    "    data_path=DATA_PATH,\n",
    "    database_directory=DATABASE_DIR,\n",
    "    loader=\"csv\",\n",
    "    reload=False,\n",
    ")\n",
    "\n",
    "# Build or load database, depending on flag\n",
    "if build_debate_database:\n",
    "    database_debates.build_database()\n",
    "else:\n",
    "    database_debates.load_database()\n",
    "\n",
    "# Assert whether database exists\n",
    "assert (\n",
    "    str(type(database_debates.database))\n",
    "    == \"<class 'langchain_community.vectorstores.chroma.Chroma'>\"\n",
    ")"
   ]
  },
  {
   "cell_type": "markdown",
   "metadata": {},
   "source": [
    "# (Re)Build Manifesto Database"
   ]
  },
  {
   "cell_type": "code",
   "execution_count": 6,
   "metadata": {},
   "outputs": [
    {
     "name": "stdout",
     "output_type": "stream",
     "text": [
      "reloaded database\n"
     ]
    }
   ],
   "source": [
    "# Define path of database and raw data\n",
    "DATABASE_DIR = f\"../../data/manifestos/chroma/{embedding_name}/\"\n",
    "DATA_PATH = \"../../data/manifestos/01_pdf_originals\"\n",
    "\n",
    "# instantiate database\n",
    "database_manifestos = VectorDatabase(\n",
    "    embedding_model=embedding_model,\n",
    "    source_type=\"manifestos\",\n",
    "    database_directory=DATABASE_DIR,\n",
    "    data_path=DATA_PATH,\n",
    "    loader=\"pdf\",\n",
    "    reload=False,\n",
    ")\n",
    "\n",
    "# Build or load database, depending on flag\n",
    "if build_manifesto_database:\n",
    "    database_manifestos.build_database()\n",
    "else:\n",
    "    database_manifestos.load_database()\n",
    "\n",
    "database_manifestos.database\n",
    "\n",
    "# Assert whether database exists\n",
    "assert (\n",
    "    str(type(database_manifestos.database))\n",
    "    == \"<class 'langchain_community.vectorstores.chroma.Chroma'>\"\n",
    ")"
   ]
  },
  {
   "cell_type": "code",
   "execution_count": null,
   "metadata": {},
   "outputs": [],
   "source": []
  }
 ],
 "metadata": {
  "kernelspec": {
   "display_name": "bundestag",
   "language": "python",
   "name": "python3"
  },
  "language_info": {
   "codemirror_mode": {
    "name": "ipython",
    "version": 3
   },
   "file_extension": ".py",
   "mimetype": "text/x-python",
   "name": "python",
   "nbconvert_exporter": "python",
   "pygments_lexer": "ipython3",
   "version": "3.11.7"
  }
 },
 "nbformat": 4,
 "nbformat_minor": 2
}
