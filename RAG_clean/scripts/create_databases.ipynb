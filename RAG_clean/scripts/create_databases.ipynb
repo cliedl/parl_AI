{
 "cells": [
  {
   "cell_type": "code",
   "execution_count": 26,
   "metadata": {},
   "outputs": [],
   "source": [
    "# Select flags: Decide which database should be rebuilt\n",
    "build_debate_database = False\n",
    "build_manifesto_database = False\n",
    "\n",
    "# Then: Run all"
   ]
  },
  {
   "cell_type": "code",
   "execution_count": 27,
   "metadata": {},
   "outputs": [],
   "source": [
    "# Here we import our modules\n",
    "from models.embedding import ManifestoBertaEmbeddings\n",
    "from database.vector_database import VectorDatabase\n",
    "import sys\n",
    "sys.path.append(\"..\")"
   ]
  },
  {
   "cell_type": "markdown",
   "metadata": {},
   "source": [
    "# Define embedding model"
   ]
  },
  {
   "cell_type": "code",
   "execution_count": 28,
   "metadata": {},
   "outputs": [
    {
     "name": "stderr",
     "output_type": "stream",
     "text": [
      "Some weights of XLMRobertaModel were not initialized from the model checkpoint at manifesto-project/manifestoberta-xlm-roberta-56policy-topics-sentence-2023-1-1 and are newly initialized: ['roberta.pooler.dense.bias', 'roberta.pooler.dense.weight']\n",
      "You should probably TRAIN this model on a down-stream task to be able to use it for predictions and inference.\n"
     ]
    }
   ],
   "source": [
    "# Define embedding module\n",
    "embedding_model = ManifestoBertaEmbeddings()"
   ]
  },
  {
   "cell_type": "markdown",
   "metadata": {},
   "source": [
    "# (Re)Build Debate Database"
   ]
  },
  {
   "cell_type": "code",
   "execution_count": 37,
   "metadata": {},
   "outputs": [],
   "source": [
    "# Define path of database and raw data\n",
    "DATABASE_DIR = \"../../data/debates/chroma\"\n",
    "DATA_PATH = \"../../data/debates/europarl_speeches.csv\"\n",
    "\n",
    "# instantiate database\n",
    "database_debates = VectorDatabase(\n",
    "    embedding_model=embedding_model,\n",
    "    source_type=\"debates\",\n",
    "    data_path=DATA_PATH,\n",
    "    database_directory=DATABASE_DIR,\n",
    "    loader=\"csv\",\n",
    ")\n",
    "\n",
    "\n",
    "# Build or load database, depending on flag\n",
    "if build_debate_database:\n",
    "    database_debates.build_database()\n",
    "else:\n",
    "    database_debates.load_database()\n",
    "\n",
    "# Assert whether database exists\n",
    "assert str(type(database_debates.database)\n",
    "           ) == \"<class 'langchain_community.vectorstores.chroma.Chroma'>\""
   ]
  },
  {
   "cell_type": "markdown",
   "metadata": {},
   "source": [
    "# (Re)Build Manifesto Database"
   ]
  },
  {
   "cell_type": "code",
   "execution_count": 38,
   "metadata": {},
   "outputs": [],
   "source": [
    "# Define path of database and raw data\n",
    "DATABASE_DIR = \"../../data/manifestos/chroma\"\n",
    "DATA_PATH = \"../../data/manifestos/01_pdf_originals\"\n",
    "\n",
    "# instantiate database\n",
    "database_manifestos = VectorDatabase(\n",
    "    embedding_model=embedding_model,\n",
    "    source_type=\"manifestos\",\n",
    "    database_directory=DATABASE_DIR,\n",
    "    data_path=DATA_PATH,\n",
    "    loader=\"pdf\"\n",
    ")\n",
    "\n",
    "# Build or load database, depending on flag\n",
    "if build_manifesto_database:\n",
    "    database_manifestos.build_database()\n",
    "else:\n",
    "    database_manifestos.load_database()\n",
    "\n",
    "database_manifestos.database\n",
    "\n",
    "# ASsert whether database exists\n",
    "assert str(type(database_manifestos.database)\n",
    "           ) == \"<class 'langchain_community.vectorstores.chroma.Chroma'>\""
   ]
  },
  {
   "cell_type": "code",
   "execution_count": null,
   "metadata": {},
   "outputs": [],
   "source": []
  }
 ],
 "metadata": {
  "kernelspec": {
   "display_name": "bundestag",
   "language": "python",
   "name": "python3"
  },
  "language_info": {
   "codemirror_mode": {
    "name": "ipython",
    "version": 3
   },
   "file_extension": ".py",
   "mimetype": "text/x-python",
   "name": "python",
   "nbconvert_exporter": "python",
   "pygments_lexer": "ipython3",
   "version": "3.11.7"
  }
 },
 "nbformat": 4,
 "nbformat_minor": 2
}
