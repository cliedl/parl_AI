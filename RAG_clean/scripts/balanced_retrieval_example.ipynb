{
 "cells": [
  {
   "cell_type": "code",
   "execution_count": 2,
   "metadata": {},
   "outputs": [],
   "source": [
    "DATABASE_DIR_MANIFESTOS = \"../../data/manifestos/chroma\"\n",
    "DATABASE_DIR_DEBATES = \"../../data/manifestos/chroma\""
   ]
  },
  {
   "cell_type": "code",
   "execution_count": 5,
   "metadata": {},
   "outputs": [],
   "source": [
    "from database.vector_database import VectorDatabase\n",
    "from models.embedding import ManifestoBertaEmbeddings\n",
    "import sys\n",
    "sys.path.append(\"..\")"
   ]
  },
  {
   "cell_type": "code",
   "execution_count": 6,
   "metadata": {},
   "outputs": [
    {
     "name": "stderr",
     "output_type": "stream",
     "text": [
      "Some weights of XLMRobertaModel were not initialized from the model checkpoint at manifesto-project/manifestoberta-xlm-roberta-56policy-topics-sentence-2023-1-1 and are newly initialized: ['roberta.pooler.dense.bias', 'roberta.pooler.dense.weight']\n",
      "You should probably TRAIN this model on a down-stream task to be able to use it for predictions and inference.\n"
     ]
    }
   ],
   "source": [
    "embedding_model = ManifestoBertaEmbeddings()\n",
    "\n",
    "db_manifestos = VectorDatabase(\n",
    "    data_path=\"../data/manifestos\",\n",
    "    embedding_model=embedding_model,\n",
    "    database_directory=DATABASE_DIR_MANIFESTOS,\n",
    "    source_type=\"manifestos\")\n",
    "\n",
    "db_debates = VectorDatabase(\n",
    "    data_path=\"../data/debates\",\n",
    "    embedding_model=embedding_model,\n",
    "    database_directory=DATABASE_DIR_DEBATES,\n",
    "    source_type=\"debates\")"
   ]
  },
  {
   "cell_type": "code",
   "execution_count": 7,
   "metadata": {},
   "outputs": [],
   "source": [
    "from models.generation import generate_chain_with_balanced_retrieval\n",
    "\n",
    "chain = generate_chain_with_balanced_retrieval(\n",
    "    [db_manifestos])  # add more databases here"
   ]
  },
  {
   "cell_type": "code",
   "execution_count": 8,
   "metadata": {},
   "outputs": [
    {
     "name": "stderr",
     "output_type": "stream",
     "text": [
      "huggingface/tokenizers: The current process just got forked, after parallelism has already been used. Disabling parallelism to avoid deadlocks...\n",
      "To disable this warning, you can either:\n",
      "\t- Avoid using `tokenizers` before the fork if possible\n",
      "\t- Explicitly set the environment variable TOKENIZERS_PARALLELISM=(true | false)\n"
     ]
    }
   ],
   "source": [
    "# invoke chain\n",
    "response = chain.invoke(\n",
    "    \"Wie stehen die Parteien zum Selbstbestimmungsrecht des Geschlechts?\"\n",
    ")"
   ]
  },
  {
   "cell_type": "code",
   "execution_count": 9,
   "metadata": {},
   "outputs": [
    {
     "data": {
      "text/plain": [
       "{'cdu_summary': 'Die CDU/CSU setzt sich für traditionelle Geschlechterrollen ein und unterstützt es, wenn Menschen diese leben. Sie lehnen Abtreibungen ab und bezeichnen sie als Ausnahme, außer in kriminologischen oder medizinischen Fällen. Die Partei betont die Bedeutung von Familie und Kindern für die Gesellschaft.',\n",
       " 'spd_summary': 'Die SPD setzt sich für reproduktive Selbstbestimmung ein und fordert sichere und kostenlose Schwangerschaftsabbrüche in der EU. Sie unterstützen die Gleichstellung von LGBTIQ+-Personen und setzen sich für die Umsetzung von Gleichstellungsstrategien ein.',\n",
       " 'gruene_summary': 'Bündnis 90/Die Grünen setzen sich für die Gleichstellung und Selbstbestimmung von Frauen und Mädchen ein. Sie betonen die Notwendigkeit, reproduktive Rechte zu schützen, einschließlich des Rechts auf Schwangerschaftsabbruch. Die Partei fordert ein Europa, das die sexuelle und geschlechtliche Vielfalt anerkennt.',\n",
       " 'linke_summary': 'Die Linke fordert die Stärkung reproduktiver Rechte in ganz Europa, einschließlich der Abschaffung aller Einschränkungen des Rechts auf Schwangerschaftsabbruch. Sie setzen sich für die finanzielle Förderung von Initiativen zur Selbstorganisierung von geflüchteten Frauen und queeren Menschen ein.',\n",
       " 'fdp_summary': 'Die FDP setzt sich für die Verbesserung der Vereinbarkeit von Beruf und Care-Arbeit ein und fordert kostenfreie Empfängnisverhütung für alle. Sie betonen die Notwendigkeit, das Recht auf einen sicheren Schwangerschaftsabbruch in Europa zu gewährleisten und setzen sich für die Stärkung der reproduktiven Rechte ein.',\n",
       " 'afd_summary': 'Die AfD lehnt Abtreibungen ab und fordert, dass sie zur Ausnahme werden. Sie unterstützen traditionelle Geschlechterrollen und betonen die Bedeutung von Familien mit Kindern. Die Partei lehnt kommerzielle Leihmutterschaften ab und setzt sich gegen eine Förderung von Abtreibungen durch die EU ein.'}"
      ]
     },
     "execution_count": 9,
     "metadata": {},
     "output_type": "execute_result"
    }
   ],
   "source": [
    "response"
   ]
  },
  {
   "cell_type": "code",
   "execution_count": null,
   "metadata": {},
   "outputs": [],
   "source": []
  }
 ],
 "metadata": {
  "kernelspec": {
   "display_name": "bundestag",
   "language": "python",
   "name": "python3"
  },
  "language_info": {
   "codemirror_mode": {
    "name": "ipython",
    "version": 3
   },
   "file_extension": ".py",
   "mimetype": "text/x-python",
   "name": "python",
   "nbconvert_exporter": "python",
   "pygments_lexer": "ipython3",
   "version": "3.11.7"
  }
 },
 "nbformat": 4,
 "nbformat_minor": 2
}
