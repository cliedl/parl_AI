{
 "cells": [
  {
   "cell_type": "code",
   "execution_count": 6,
   "metadata": {},
   "outputs": [],
   "source": [
    "DATABASE_DIR = \"../data/debates/chroma\"\n",
    "DATA_PATH = \"../data/debates/europarl_speeches.csv\"\n",
    "\n",
    "# import pandas as pd\n",
    "# df = pd.read_csv(DATA_PATH)\n",
    "# print(len(df))\n",
    "# DATA_PATH = \"../data/debates/europarl_speeches2.csv\"\n",
    "# df.iloc[-100:].to_csv(DATA_PATH)"
   ]
  },
  {
   "cell_type": "code",
   "execution_count": 7,
   "metadata": {},
   "outputs": [
    {
     "name": "stderr",
     "output_type": "stream",
     "text": [
      "Some weights of XLMRobertaModel were not initialized from the model checkpoint at manifesto-project/manifestoberta-xlm-roberta-56policy-topics-sentence-2023-1-1 and are newly initialized: ['roberta.pooler.dense.bias', 'roberta.pooler.dense.weight']\n",
      "You should probably TRAIN this model on a down-stream task to be able to use it for predictions and inference.\n"
     ]
    }
   ],
   "source": [
    "# Here we import our modules\n",
    "from models.embedding import ManifestoBertaEmbeddings\n",
    "from database.vector_database import VectorDatabaseCreator\n",
    "from models.generation import generate_chain\n",
    "\n",
    "# get embedding module\n",
    "embedding_model = ManifestoBertaEmbeddings()\n",
    "\n",
    "# get database_creator\n",
    "database_creator = VectorDatabaseCreator(\n",
    "    embedding_model=embedding_model,\n",
    "    data_path=DATA_PATH,\n",
    "    db_directory=DATABASE_DIR,\n",
    "    loader=\"csv\"\n",
    ")\n",
    "\n",
    "# buil database\n",
    "database = database_creator.build_database()"
   ]
  },
  {
   "cell_type": "code",
   "execution_count": 3,
   "metadata": {},
   "outputs": [],
   "source": [
    "# load database\n",
    "database = database_creator.load_database()"
   ]
  },
  {
   "cell_type": "code",
   "execution_count": null,
   "metadata": {},
   "outputs": [],
   "source": [
    "# Testing:\n",
    "\n",
    "# get retriever\n",
    "retriever = database_creator.get_retriever(\n",
    "    search_type=\"similarity\",\n",
    "    k=10)\n",
    "\n",
    "# generate langchain\n",
    "chain = generate_chain(retriever=retriever)"
   ]
  },
  {
   "cell_type": "code",
   "execution_count": 4,
   "metadata": {},
   "outputs": [
    {
     "data": {
      "text/plain": [
       "{'cdu_summary': 'Die CDU/CSU setzt sich für eine Verbesserung des Tierschutzes in der Landwirtschaft ein, indem sie veraltete Vorschriften aktualisieren und den Schutz landwirtschaftlicher Nutztiere stärken möchte.',\n",
       " 'spd_summary': 'Die SPD fordert strengere Transportregeln und Kontrollen, um das Leiden von Nutztieren während des Transports zu verringern. Sie setzt sich für eine Begrenzung der Transportzeiten auf maximal acht Stunden an Land und 24 Stunden auf See ein.',\n",
       " 'gruene_summary': 'Bündnis 90/Die Grünen setzen sich für den Schutz von Bestäubern wie Bienen ein und fordern Maßnahmen gegen das Insektensterben. Sie plädieren für naturnahe Lösungen und Alternativen zu synthetischen Pflanzenschutzmitteln.',\n",
       " 'linke_summary': 'Die Linke fordert eine fortschrittlichere Perspektive in Bezug auf die Behandlung von Nutztieren und setzt sich für mehr Tierschutz und Wohlergehen in der Landwirtschaft ein.',\n",
       " 'fdp_summary': 'Die FDP betont die Notwendigkeit von Lösungen statt Verboten im Bereich des Tierschutzes. Sie setzt auf Kooperation und alternative Ansätze, um die Erzeugung qualitativ hochwertiger Lebensmittel zu gewährleisten.',\n",
       " 'afd_summary': 'Die AfD positioniert sich kritisch gegenüber Berichten und Maßnahmen zum Wohlergehen landwirtschaftlicher Nutztiere. Sie warnt vor populistischer Angstmacherei und betont die Bedeutung der Ernährungssicherheit.'}"
      ]
     },
     "execution_count": 4,
     "metadata": {},
     "output_type": "execute_result"
    }
   ],
   "source": [
    "# invoke chain\n",
    "chain.invoke(\n",
    "    \"Was wollen die Parteien tun, damit es Tieren auf den Bauernhöfen und bei der Herstellung von Essen besser geht?\"\n",
    ")"
   ]
  }
 ],
 "metadata": {
  "kernelspec": {
   "display_name": "parl_AI",
   "language": "python",
   "name": "python3"
  },
  "language_info": {
   "codemirror_mode": {
    "name": "ipython",
    "version": 3
   },
   "file_extension": ".py",
   "mimetype": "text/x-python",
   "name": "python",
   "nbconvert_exporter": "python",
   "pygments_lexer": "ipython3",
   "version": "3.11.7"
  }
 },
 "nbformat": 4,
 "nbformat_minor": 2
}
