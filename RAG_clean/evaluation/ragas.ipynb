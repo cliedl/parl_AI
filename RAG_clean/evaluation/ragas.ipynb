{
 "cells": [
  {
   "cell_type": "code",
   "execution_count": 38,
   "metadata": {},
   "outputs": [],
   "source": [
    "import sys\n",
    "import os\n",
    "import numpy as np\n",
    "import pandas as pd\n",
    "sys.path.append(os.path.abspath('..'))\n",
    "\n",
    "DATABASE_DIR = \"../../data/manifestos/chroma\"\n",
    "TEST_DATA_DIR = \"../../data/questions\""
   ]
  },
  {
   "cell_type": "markdown",
   "metadata": {},
   "source": [
    "# Create simple chain"
   ]
  },
  {
   "cell_type": "code",
   "execution_count": 23,
   "metadata": {},
   "outputs": [
    {
     "name": "stderr",
     "output_type": "stream",
     "text": [
      "Some weights of XLMRobertaModel were not initialized from the model checkpoint at manifesto-project/manifestoberta-xlm-roberta-56policy-topics-sentence-2023-1-1 and are newly initialized: ['roberta.pooler.dense.bias', 'roberta.pooler.dense.weight']\n",
      "You should probably TRAIN this model on a down-stream task to be able to use it for predictions and inference.\n"
     ]
    }
   ],
   "source": [
    "# Here we import our modules\n",
    "from models.embedding import ManifestoBertaEmbeddings\n",
    "from database.vector_database import VectorDatabaseCreator\n",
    "from models.retrieval import retriever\n",
    "from models.generation import generate_chain\n",
    "\n",
    "# get embedding module\n",
    "embedding_model = ManifestoBertaEmbeddings()\n",
    "\n",
    "# get database_creator\n",
    "database_creator = VectorDatabaseCreator(\n",
    "    embedding_model=embedding_model,\n",
    "    db_directory=DATABASE_DIR)\n",
    "\n",
    "# load database\n",
    "database = database_creator.load_database()\n",
    "\n",
    "# get retriever\n",
    "retriever = retriever(db=database,\n",
    "                      search_type=\"similarity\",\n",
    "                      k=10)\n",
    "\n",
    "# generate langchain\n",
    "chain, chain_with_source = generate_chain(\n",
    "    retriever=retriever, output_parser=\"str\")"
   ]
  },
  {
   "cell_type": "markdown",
   "metadata": {},
   "source": [
    "# Load test data"
   ]
  },
  {
   "cell_type": "code",
   "execution_count": 24,
   "metadata": {},
   "outputs": [],
   "source": [
    "import pandas as pd\n",
    "\n",
    "df_test_simple = pd.read_csv(os.path.join(\n",
    "    TEST_DATA_DIR, \"simple_questions.csv\"))\n",
    "\n",
    "df_test_complex = pd.read_csv(os.path.join(\n",
    "    TEST_DATA_DIR, \"complex_questions.csv\"))"
   ]
  },
  {
   "cell_type": "markdown",
   "metadata": {},
   "source": [
    "# Create Eval chain"
   ]
  },
  {
   "cell_type": "code",
   "execution_count": 25,
   "metadata": {},
   "outputs": [],
   "source": [
    "from ragas.metrics import faithfulness, answer_relevancy, context_relevancy, context_recall\n",
    "from ragas.langchain import RagasEvaluatorChain\n",
    "\n",
    "# create eval chains\n",
    "eval_chains = {\n",
    "    m.name: RagasEvaluatorChain(metric=m)\n",
    "    for m in [faithfulness, answer_relevancy, context_relevancy]\n",
    "}"
   ]
  },
  {
   "cell_type": "markdown",
   "metadata": {},
   "source": [
    "# Run eval chain for test data"
   ]
  },
  {
   "cell_type": "code",
   "execution_count": 27,
   "metadata": {},
   "outputs": [
    {
     "name": "stdout",
     "output_type": "stream",
     "text": [
      "_____________________________________\n",
      "Was denken die Parteien darüber, mehr Geld für die Armee auszugeben, um Europa sicher zu halten?\n",
      "faithfulness_score: 0.75\n",
      "answer_relevancy_score: 0.8481909739343152\n",
      "context_relevancy_score: 0.25882352941176473\n",
      "_____________________________________\n",
      "Was sagen die Parteien, wie wir Transgender-Menschen helfen und dafür sorgen können, dass alle fair behandelt werden?\n",
      "faithfulness_score: 0.6666666666666666\n",
      "answer_relevancy_score: 0.8598844241881297\n",
      "context_relevancy_score: 0.04716981132075472\n",
      "_____________________________________\n",
      "Sollen wir in Europa mehr für den Schutz unserer Umwelt tun?\n",
      "faithfulness_score: 1.0\n",
      "answer_relevancy_score: 0.8885471136150095\n",
      "context_relevancy_score: 0.08823529411764706\n",
      "_____________________________________\n",
      "Wie wollen die Parteien den Bauern helfen, so zu arbeiten, dass es gut für die Natur ist und sie trotzdem Geld verdienen können?\n",
      "faithfulness_score: 0.6666666666666666\n",
      "answer_relevancy_score: 0.8544237070459714\n",
      "context_relevancy_score: 0.06593406593406594\n",
      "_____________________________________\n",
      "Was denken die Parteien darüber, wie Europa mit anderen Ländern Handel treibt, und dass es dabei gerecht und gut für die Umwelt sein soll?\n",
      "faithfulness_score: 0.0\n",
      "answer_relevancy_score: 0.8153892811174192\n",
      "context_relevancy_score: 0.0\n",
      "_____________________________________\n",
      "Wie möchten die Parteien Verbrechen stoppen, ohne dass sich Menschen unfair behandelt fühlen?\n",
      "faithfulness_score: 0.3333333333333333\n",
      "answer_relevancy_score: 0.8452669093730824\n",
      "context_relevancy_score: 0.0\n",
      "_____________________________________\n",
      "Was ist die Meinung der Parteien dazu, wie Menschen, die aus anderen Ländern fliehen, in Europa verteilt werden sollen?\n",
      "faithfulness_score: 0.75\n",
      "answer_relevancy_score: 0.8474299088225595\n",
      "context_relevancy_score: 0.11764705882352941\n",
      "_____________________________________\n",
      "Sollen Männer mit Männern und Frauen mit Frauen heiraten dürfen? \n",
      "faithfulness_score: 1.0\n",
      "answer_relevancy_score: 0.872633937232291\n",
      "context_relevancy_score: 0.0\n",
      "_____________________________________\n",
      "Wie finden die Parteien, dass wir Fische fangen sollten, damit das Meer und die Tiere geschützt werden?\n",
      "faithfulness_score: 0.75\n",
      "answer_relevancy_score: 0.801134888276486\n",
      "context_relevancy_score: 0.0\n",
      "_____________________________________\n",
      "Was wollen die Parteien tun, damit es Tieren auf den Bauernhöfen und bei der Herstellung von Essen besser geht?\n",
      "faithfulness_score: 0.875\n",
      "answer_relevancy_score: 0.8111648733902505\n",
      "context_relevancy_score: 0.0989010989010989\n",
      "_____________________________________\n",
      "Wie möchten die Parteien sicherstellen, dass Europas Armee stark ist und wir trotzdem gut mit anderen Ländern wie den USA zusammenarbeiten?\n",
      "faithfulness_score: 0.75\n",
      "answer_relevancy_score: 0.9032249240517434\n",
      "context_relevancy_score: 0.07792207792207792\n",
      "_____________________________________\n",
      "Was haben die Parteien für Ideen, um jungen Menschen zu helfen, die keine Arbeit haben?\n",
      "faithfulness_score: 1.0\n",
      "answer_relevancy_score: 0.8444137055801568\n",
      "context_relevancy_score: 0.04672897196261682\n",
      "_____________________________________\n",
      "Wie schnell sollen wir in Europa aufhören, dreckige Energie zu nutzen, und was sind die Pläne der Parteien dafür?\n",
      "faithfulness_score: 1.0\n",
      "answer_relevancy_score: 0.842021324082313\n",
      "context_relevancy_score: 0.08602150537634409\n",
      "_____________________________________\n",
      "Wie wollen die Parteien kleinen Bauernhöfen helfen und gleichzeitig darauf achten, dass sie die Natur nicht kaputt machen?\n",
      "faithfulness_score: 0.8333333333333334\n",
      "answer_relevancy_score: 0.8412259461942435\n",
      "context_relevancy_score: 0.0\n",
      "_____________________________________\n",
      "Was denken die Parteien darüber, wie Europa mit China Geschäfte macht und dabei darauf achtet, dass niemand unfair behandelt wird?\n",
      "faithfulness_score: 0.0\n",
      "answer_relevancy_score: 0.0\n",
      "context_relevancy_score: 0.0\n",
      "_____________________________________\n",
      "Was sagen die Parteien zu Kameras und Technik, die dabei helfen, Verbrechen zu stoppen, ohne dass unsere Privatsphäre gestört wird?\n",
      "faithfulness_score: 1.0\n",
      "answer_relevancy_score: 0.857939403677781\n",
      "context_relevancy_score: 0.6590909090909091\n",
      "_____________________________________\n",
      "Sollen mehr Länder in die EU kommen, wie zum Beispiel Länder aus dem Balkan oder die Türkei? Was denken die deutschen Parteien?\n",
      "faithfulness_score: 0.5\n",
      "answer_relevancy_score: 0.8353856167838566\n",
      "context_relevancy_score: 0.0\n",
      "_____________________________________\n",
      "Was sind die Ideen der Parteien, um Europa in Dingen wie Computern und neuen Erfindungen besser zu machen?\n",
      "faithfulness_score: 0.5\n",
      "answer_relevancy_score: 0.9311368070549793\n",
      "context_relevancy_score: 0.033707865168539325\n",
      "_____________________________________\n",
      "Wie wollen die Parteien sicherstellen, dass wir im Meer nicht zu viele Fische fangen und die Unterwasserwelt schützen?\n",
      "faithfulness_score: 0.6\n",
      "answer_relevancy_score: 0.7876940498614852\n",
      "context_relevancy_score: 0.0\n",
      "_____________________________________\n",
      "Wie wollen die Parteien sicherstellen, dass es Tieren beim Züchten und Transportieren gut geht?\n",
      "faithfulness_score: 1.0\n",
      "answer_relevancy_score: 0.8158707522415442\n",
      "context_relevancy_score: 0.10526315789473684\n",
      "_____________________________________\n",
      "Wie denken die Parteien darüber, dass Europa zusammenarbeitet, um weniger dreckige Energie zu nutzen und mehr saubere Energie?\n",
      "faithfulness_score: 0.75\n",
      "answer_relevancy_score: 0.9041633013261091\n",
      "context_relevancy_score: 0.1651376146788991\n",
      "_____________________________________\n",
      "Wie möchten die Parteien unsere Geschichte und Kulturen in Europa bewahren und zeigen?\n",
      "faithfulness_score: 1.0\n",
      "answer_relevancy_score: 0.8586156890210314\n",
      "context_relevancy_score: 0.0\n"
     ]
    }
   ],
   "source": [
    "metrics = {key: [] for key in list(eval_chains.keys())}\n",
    "\n",
    "for question in df_test_simple[\"EINFACHE FRAGEN\"]:\n",
    "    print(\"_____________________________________\")\n",
    "    print(question)\n",
    "    output = chain_with_source.invoke(question)\n",
    "\n",
    "    # Rename keys to be compatible with eval_chain\n",
    "    output[\"query\"] = output.pop(\"question\")\n",
    "    output[\"result\"] = output.pop(\"answer\")\n",
    "    output[\"source_documents\"] = output.pop(\"context\")\n",
    "\n",
    "    # Evaluate one metric at a time\n",
    "    for name, eval_chain in eval_chains.items():\n",
    "        score_name = f\"{name}_score\"\n",
    "        print(f\"{score_name}: {eval_chain(output)[score_name]}\")\n",
    "        metrics[name].append(eval_chain(output)[score_name])"
   ]
  },
  {
   "cell_type": "code",
   "execution_count": 37,
   "metadata": {},
   "outputs": [],
   "source": [
    "df_metrics = pd.DataFrame(metrics)\n",
    "df_metrics.loc[:, \"question\"] = df_test_simple[\"EINFACHE FRAGEN\"]\n",
    "df_metrics.to_csv(\"metrics.csv\")"
   ]
  },
  {
   "cell_type": "code",
   "execution_count": 41,
   "metadata": {},
   "outputs": [
    {
     "data": {
      "text/plain": [
       "{'faithfulness_mean': 0.6958333333333333,\n",
       " 'answer_relevancy_mean': 0.8132587018852587,\n",
       " 'context_relevancy_mean': 0.08362864874686092}"
      ]
     },
     "execution_count": 41,
     "metadata": {},
     "output_type": "execute_result"
    }
   ],
   "source": [
    "df_metrics = pd.read_csv(\"metrics.csv\")\n",
    "\n",
    "{key+\"_mean\": np.mean(df_metrics[key]) for key in metrics.keys()}"
   ]
  },
  {
   "cell_type": "code",
   "execution_count": null,
   "metadata": {},
   "outputs": [],
   "source": []
  }
 ],
 "metadata": {
  "kernelspec": {
   "display_name": "bundestag",
   "language": "python",
   "name": "python3"
  },
  "language_info": {
   "codemirror_mode": {
    "name": "ipython",
    "version": 3
   },
   "file_extension": ".py",
   "mimetype": "text/x-python",
   "name": "python",
   "nbconvert_exporter": "python",
   "pygments_lexer": "ipython3",
   "version": "3.11.7"
  }
 },
 "nbformat": 4,
 "nbformat_minor": 2
}
