{
 "cells": [
  {
   "cell_type": "code",
   "execution_count": 14,
   "metadata": {},
   "outputs": [],
   "source": [
    "import sys\n",
    "import pandas as pd\n",
    "\n",
    "sys.path.append(\"..\")\n",
    "DATABASE_DIR_MANIFESTOS = \"../../data/manifestos/chroma/manifestoberta\"\n",
    "DATABASE_DIR_DEBATES = \"../../data/manifestos/chroma/manifestoberta\""
   ]
  },
  {
   "cell_type": "code",
   "execution_count": 15,
   "metadata": {},
   "outputs": [],
   "source": [
    "from database.vector_database import VectorDatabase\n",
    "from models.embedding import ManifestoBertaEmbeddings"
   ]
  },
  {
   "cell_type": "code",
   "execution_count": 16,
   "metadata": {},
   "outputs": [
    {
     "name": "stderr",
     "output_type": "stream",
     "text": [
      "Some weights of XLMRobertaModel were not initialized from the model checkpoint at manifesto-project/manifestoberta-xlm-roberta-56policy-topics-sentence-2023-1-1 and are newly initialized: ['roberta.pooler.dense.bias', 'roberta.pooler.dense.weight']\n",
      "You should probably TRAIN this model on a down-stream task to be able to use it for predictions and inference.\n"
     ]
    },
    {
     "name": "stdout",
     "output_type": "stream",
     "text": [
      "reloaded database\n",
      "reloaded database\n"
     ]
    }
   ],
   "source": [
    "from models.embedding import ManifestoBertaEmbeddings\n",
    "from database.vector_database import VectorDatabase\n",
    "\n",
    "\n",
    "embedding_model = ManifestoBertaEmbeddings()\n",
    "\n",
    "db_manifestos = VectorDatabase(\n",
    "    data_path=\"../data/manifestos\",\n",
    "    embedding_model=embedding_model,\n",
    "    database_directory=DATABASE_DIR_MANIFESTOS,\n",
    "    source_type=\"manifestos\",\n",
    ")\n",
    "\n",
    "db_debates = VectorDatabase(\n",
    "    data_path=\"../data/debates\",\n",
    "    embedding_model=embedding_model,\n",
    "    database_directory=DATABASE_DIR_DEBATES,\n",
    "    source_type=\"debates\",\n",
    ")\n",
    "\n",
    "query = \"Wie positionieren sich die verschiedenen Parteien zum Thema Erhöhung der Verteidigungsausgaben im Kontext gemeinsamer europäischer Sicherheitsinteressen?\""
   ]
  },
  {
   "cell_type": "code",
   "execution_count": 17,
   "metadata": {},
   "outputs": [
    {
     "data": {
      "text/plain": [
       "[Document(page_content='-minister.\\n\\nMehr gemeinsame europäische Beschaffung\\n\\nMit dem Sondervermögen für die Bundeswehr haben wir bewiesen, dass wir bereit sind, die nötigen \\n\\nfinanziellen Ressourcen in die Hand zu nehmen, um Europa im Bereich der Sicherheit und Verteidigung \\n\\nhandlungsfähiger zu machen. Wir müssen sicherstellen, dass die angestoßenen Investitionen fortgeführt \\n\\nwerden und setzen uns daher für eine nachhaltige Verteidigungsfinanzierung von mindestens 2 Prozent \\n\\ndes Bruttoinlandsproduktes ein. Wir wollen mehr Anreize für kollaborative Ausgaben für Verteidigung auf \\n\\neuropäischer Ebene setzen, indem wir europäische Fonds (EDF, EDIP) substanziell besser ausstatten. Wir \\n\\nsetzen uns für mehr Transparenz in der koordinierten europäischen Verteidigungsplanung ein, damit der \\n\\nDruck auf Mitgliedsstaaten erhöht wird, ihre Verpflichtungen auch zu erfüllen. Ebenso wollen wir mehr \\n\\nStand: 28.1.2024\\n\\n19 / 39', metadata={'party': 'spd', 'source': '../../data/manifestos/01_pdf_originals/spd_wahlprogramm_europawahl_2024.pdf'}),\n",
       " Document(page_content='Druck auf Mitgliedsstaaten erhöht wird, ihre Verpflichtungen auch zu erfüllen. Ebenso wollen wir mehr \\n\\nStand: 28.1.2024\\n\\n19 / 39\\n\\n\\x0cSynergien zwischen den NATO- und EU-Planungsprozessen erzeugen und die verschiedenen \\nInnovationsinitiativen besser koordinieren.\\n\\nEin europäischer Binnenmarkt für Verteidigung\\n\\nDurch mehr gemeinsame Entwicklung und Beschaffung wollen wir mehr Standardisierung und \\n\\nInteroperabilität in Europa erreichen. Wir wollen gemeinsame Rüstungsprojekte aktiv befördern und \\n\\nfinanziell unterstützen. Dabei setzen wir auch auf einheitlichere Zertifizierungsverfahren sowie \\n\\nBeschaffungszyklen. Es geht ebenso darum, Regularien in Europa zu harmonisieren, um den Transport von \\n\\nVerstärkungskräften an die NATO-\\n\\nOstflanke zu erleichtern und zu beschleunigen. Und es geht um eine schrittweise Liberalisierung des \\n\\neuropäischen Verteidigungsmarktes für Produkte, die nicht als nationale Schlüsseltechnologien gelten.\\n\\nAbrüstung und Rüstungskontrolle aktiv verfolgen', metadata={'party': 'spd', 'source': '../../data/manifestos/01_pdf_originals/spd_wahlprogramm_europawahl_2024.pdf'}),\n",
       " Document(page_content='Synergieeffekte erzielt werden. Im Sinne des strategischen Kompasses der Europäischen Union möchten \\n\\nwir, dass diese eine handlungsfähigere Sicherheitsakteurin wird. Auch wenn die NATO ihre zentrale Rolle \\n\\nfür unsere Bündnisverteidigung behält, wollen wir Europa in die Lage versetzen, Sicherheit vor externen \\n\\nBedrohungen zunehmend eigenständig zu gewährleisten. Wir setzen uns für mehr Harmonisierung in der \\n\\nAusbildung von Soldatinnen und Soldaten in der EU sowie die Stärkung von effizienten und gleichzeitig \\n\\ndemokratisch legitimierten Entscheidungsstrukturen in der Gemeinsamen Sicherheits- und \\n\\nVerteidigungspolitik ein. Dazu gehören für uns insbesondere auch die Einbeziehung des Europäischen \\nParlaments, die Stärkung des Amts des Hohen Vertreters bzw. der Hohen Vertreterin der EU für Außen- \\nund Sicherheitspolitik und die Einrichtung eines eigenständigen Rats der Verteidigungsministerinnen und \\n\\n-minister.\\n\\nMehr gemeinsame europäische Beschaffung', metadata={'party': 'spd', 'source': '../../data/manifestos/01_pdf_originals/spd_wahlprogramm_europawahl_2024.pdf'}),\n",
       " Document(page_content='Luftverteidigung (European Sky Shield Initiative, ESSI) erhöhen wir unseren Beitrag zur NATO bereits \\n\\nqualitativ und konzeptionell – dieses Engagement wollen wir weiter ausbauen. Gleichzeitig setzen wir als \\n\\ndie Friedenspartei in Deutschland auch weiterhin auf Diplomatie und Dialog, auf zivile Krisenprävention \\n\\nund Friedensförderung sowie auf Abrüstung und Rüstungskontrolle. Sicherheit und Frieden gehören \\n\\nuntrennbar zusammen, aber Frieden ist mehr als Sicherheit. Der Dreiklang von Außen-, Entwicklungs- und \\n\\nVerteidigungspolitik bleibt deshalb der Grundpfeiler sozialdemokratischer internationaler Politik.\\n\\nVision einer europäischen Armee\\n\\nWir Sozialdemokratinnen und Sozialdemokraten haben schon lange die Vision einer europäischen Armee, \\n\\ndenn wir wissen, durch gemeinsame Investitionen und Organisation unserer Streitkräfte können wichtige \\n\\nSynergieeffekte erzielt werden. Im Sinne des strategischen Kompasses der Europäischen Union möchten', metadata={'party': 'spd', 'source': '../../data/manifestos/01_pdf_originals/spd_wahlprogramm_europawahl_2024.pdf'}),\n",
       " Document(page_content='Der Krieg in der Ukraine hat deutlich gemacht, dass wir einen strategischeren Ansatz in unserer \\n\\nRüstungsexportpolitik benötigen. Als Sozialdemokratinnen und Sozialdemokraten haben wir jede \\n\\nWaffenlieferung an die Ukraine vorsichtig abgewogen. Für einen Binnenmarkt der Verteidigung ist ein \\n\\nÜbereinkommen über Rüstungsexporte auf europäischer Ebene notwendig – unterschiedliche Regeln \\n\\nstehen der gemeinsamen Entwicklung und Produktion entgegen. Wir setzen uns daher für eine \\n\\ngemeinsame und koordinierte europäische Rüstungsexportpolitik ein, die sich an gemeinsamen Werten \\n\\nund strategischen Prioritäten orientiert. Europäische Rüstungsgüter dürfen nicht in die falschen Hände \\n\\ngeraten. Wir müssen gleichzeitig unsere strategischen Partner besser und zuverlässiger unterstützen.\\n\\n2. Eine Europäische Union für alle Europäerinnen und Europäer\\n\\nDie Erweiterungspolitik der EU war und ist ein Motor für Frieden, Demokratie, Rechtsstaatlichkeit und', metadata={'party': 'spd', 'source': '../../data/manifestos/01_pdf_originals/spd_wahlprogramm_europawahl_2024.pdf'}),\n",
       " Document(page_content='europäischen Verteidigungsmarktes für Produkte, die nicht als nationale Schlüsseltechnologien gelten.\\n\\nAbrüstung und Rüstungskontrolle aktiv verfolgen\\n\\nInsbesondere in Zeiten der weltweiten Aufrüstung ist es unsere Pflicht als Europäerinnen und Europäer, \\n\\nInitiativen zur Abrüstung und Rüstungskontrolle aktiv voranzutreiben, denn sie sind Teil einer \\n\\nvorausschauenden Sicherheitspolitik. Wir werden uns deshalb aktiv für ein internationales Regelwerk zu \\n\\nbewaffneten Drohnen einsetzen sowie Rüstungskontrolle und wirksame Regulierung in den Bereichen \\n\\nBiowaffen, Cyber und Künstliche Intelligenz etablieren. Wir halten an dem langfristigen Ziel einer \\n\\natomwaffenfreien Welt fest.\\n\\nGemeinsame europäische Rüstungsexportpolitik\\n\\nDer Krieg in der Ukraine hat deutlich gemacht, dass wir einen strategischeren Ansatz in unserer \\n\\nRüstungsexportpolitik benötigen. Als Sozialdemokratinnen und Sozialdemokraten haben wir jede', metadata={'party': 'spd', 'source': '../../data/manifestos/01_pdf_originals/spd_wahlprogramm_europawahl_2024.pdf'})]"
      ]
     },
     "execution_count": 17,
     "metadata": {},
     "output_type": "execute_result"
    }
   ],
   "source": [
    "res = db_manifestos.database.similarity_search(\n",
    "    query, 6, filter={\"party\": \"spd\"})\n",
    "res"
   ]
  },
  {
   "cell_type": "code",
   "execution_count": 18,
   "metadata": {},
   "outputs": [
    {
     "data": {
      "text/plain": [
       "[Document(page_content='Die Nachbarschafts- und Erweiterungspolitik wird von der EU-Kommission oft auf \\nkurzfristige und bornierte energie- und migrationspolitische „Lösungen“ verkürzt. \\nDabei ist eine friedliche, kooperative und umfassende Nachbarschaftspolitik, die eine \\nwachsende wirtschaftliche Zusammenarbeit, Rechtsstaatsdiskurse und Kulturaus-\\ntausch einschließt, Teil des erklärten Selbstverständnisses der EU. Die Linke steht für \\neine Nachbarschaftspolitik, die Kooperation, wirtschaftliche Zusammenarbeit zum \\ngegenseitigen Vorteil, den Schutz der Menschenrechte, interkulturellen Dialog und \\ndemokratische Entwicklungen fördert. Während Bundesregierung und EU-Kommission \\ngern von Menschenrechten und feministischer Außenpolitik reden, ist die Realität eine \\nvöllig andere. Militär und Polizei verschmelzen zunehmend, insbesondere an den von \\nFrontex bewachten Außengrenzen der EU. Die Militarisierung der EU-Außengrenzen \\nund die militärische „Unterstützung“ von Drittstaaten zur Vorverlagerung der europäi-', metadata={'party': 'linke', 'source': '../../data/manifestos/01_pdf_originals/linke_wahlprogramm_europawahl_2024.pdf'}),\n",
       " Document(page_content='Der soziale und klimagerechte Umbau von Wirtschaft und Gesellschaft ist eine epo-\\nchale Herausforderung. Er erfordert mehr grenzübergreifende Kooperation und \\ninternationalen Austausch. Doch die EU driftet politisch wie sozial auseinander. Die \\nUSA, die EU und China konkurrieren zunehmend miteinander. Die weltweiten Macht-\\nblöcke verschieben sich. Die Welt ist unübersichtlicher und gefährlicher geworden, die \\nBlockkonfrontation zwischen den USA und China bzw. Russland spitzt sich zu. Neue \\nHandelskriege und ein gigantischer Rüstungswettlauf sind die Folge. Die EU rüstet im \\nBündnis mit den USA und der NATO seit Jahren auf und liefert Waffen an Diktaturen. \\nDabei könnte die EU in Zeiten einer Neuordnung der globalen Machtverhältnisse ein \\nStabilitätsanker werden: Für eine gerechte Welthandelsordnung, für Völkerrecht und \\nMenschenrechte, für die diplomatische Beilegung von Konflikten, für Rechtsstaatlich-', metadata={'party': 'linke', 'source': '../../data/manifestos/01_pdf_originals/linke_wahlprogramm_europawahl_2024.pdf'}),\n",
       " Document(page_content='\\uf0a7  Das Prinzip der Parlamentsarmee darf nicht aufgeweicht werden, über Einsätze der \\n\\nBundeswehr muss weiter der Bundestag entscheiden. \\n\\n\\uf0a7  Wir werden keiner Veränderung der EU-Verträge zustimmen, die Schritte zu einer \\n\\nweiteren Militarisierung der EU umfassen. \\n\\n\\uf0a7  Die Verträge der EU müssen geändert werden: Die Aufrüstungsverpflichtung für die \\nMitgliedstaaten schreibt Militarisierung in die Grundlagen der EU. Sie muss über-\\nwunden werden. \\n\\n\\uf0a7  Wir wollen die Streitkräfte in Europa abrüsten. Es braucht eine konventionelle \\n\\nRüstungskontrolle in Europa nach dem Vorbild des A-KSE-Vertrags (Angepasster \\nVertrag über Konventionelle Streitkräfte in Europa). \\n\\n\\uf0a7  Die EU darf nicht Teil von Konfrontation und Eskalation sein! Daher müssen unnötige \\nProvokationen wie das Großmanöver „Air Defender“ oder eine dauerhafte Stationie-\\nrung von deutschen Kampftruppen an der russischen Grenze unterbleiben.', metadata={'party': 'linke', 'source': '../../data/manifestos/01_pdf_originals/linke_wahlprogramm_europawahl_2024.pdf'}),\n",
       " Document(page_content='umfassen bereits ein Vielfaches der Rüstungsausgaben Russlands. Wir streiten für eine \\nEU, die strategisch unabhängig ist, aber für Frieden, Verhandlungen und Abrüstung \\neintritt. Wir wollen daher eine Sicherheitsstrategie für Europa, die nachhaltig Sicherheit \\nschafft, ohne weiter zu eskalieren und den Rüstungswettlauf anzutreiben, und die \\nzugleich international wieder eine Perspektive für Abrüstung und Deeskalation eröff-\\nnet.', metadata={'party': 'linke', 'source': '../../data/manifestos/01_pdf_originals/linke_wahlprogramm_europawahl_2024.pdf'}),\n",
       " Document(page_content='Insgesamt sind in ihrem aktuellen Finanzrahmen bis zu 46 Milliarden Euro öffentliche \\nInvestitionen für Rüstung und militärisch relevante Forschungsprojekte vorgesehen. \\nDie von EU-Kommission und Bundesregierung verfolgte Version einer „strategischen \\nAutonomie“ soll der EU vor allem die Möglichkeit geben, militärisch global zu agieren. \\nDie „Zeitenwende“ hin zu einem neuen Rüstungswettlauf bedeutet, dass Ressourcen \\nvom Kampf für Klimaschutz, bessere Bildung, Entwicklungszusammenarbeit und \\nsoziale Sicherheit verschoben werden zu (noch) mehr Militär. Diese Politik treibt eine \\nAufrüstungsspirale an, die keinesfalls mehr Sicherheit in Europa schafft. Denn das \\nMilitär in der EU ist nicht unterfinanziert. Die Rüstungsausgaben der EU-Staaten \\numfassen bereits ein Vielfaches der Rüstungsausgaben Russlands. Wir streiten für eine \\nEU, die strategisch unabhängig ist, aber für Frieden, Verhandlungen und Abrüstung', metadata={'party': 'linke', 'source': '../../data/manifestos/01_pdf_originals/linke_wahlprogramm_europawahl_2024.pdf'}),\n",
       " Document(page_content='Dafür wurden diverse Instrumente ausgebaut oder neu geschaffen: Die Europäische \\nFriedensfazilität ist zu einem wichtigen Topf geworden, um Waffenlieferungen zu \\nfinanzieren. Ihr Budget wurde von 5,7 Milliarden Euro auf – vorläufig – 12 Milliarden \\nEuro erhöht. Außerdem fördert das im September 2023 vom EU-Parlament beschlos-\\nsene „Instrument zur Stärkung der Europäischen Verteidigungsindustrie durch gemein-\\nsame Beschaffung“ (EDIRPA) den länderübergreifenden Ankauf von Rüstungsgütern \\nmit vorerst 300 Millionen Euro aus dem EU-Haushalt. Damit ist die Zivilmacht Europa \\neinen weiten Weg gegangen: Die Forschung und Entwicklung von Rüstungsgütern, der \\nEinkauf und die Produktion, alles wird inzwischen über den EU-Haushalt mitfinanziert. \\nDer gegenwärtige Krieg ist ein Riesengeschäft für die Rüstungsindustrie.', metadata={'party': 'linke', 'source': '../../data/manifestos/01_pdf_originals/linke_wahlprogramm_europawahl_2024.pdf'})]"
      ]
     },
     "execution_count": 18,
     "metadata": {},
     "output_type": "execute_result"
    }
   ],
   "source": [
    "res = db_debates.database.similarity_search(\n",
    "    query, 6, filter={\"party\": \"linke\"})\n",
    "res"
   ]
  },
  {
   "cell_type": "code",
   "execution_count": 19,
   "metadata": {},
   "outputs": [
    {
     "data": {
      "text/plain": [
       "0.0"
      ]
     },
     "execution_count": 19,
     "metadata": {},
     "output_type": "execute_result"
    }
   ],
   "source": [
    "df = pd.DataFrame(db_manifestos.database.get())\n",
    "df.duplicated(subset=[\"documents\"]).sum() / len(df)"
   ]
  },
  {
   "cell_type": "code",
   "execution_count": 20,
   "metadata": {},
   "outputs": [
    {
     "data": {
      "text/plain": [
       "0.0"
      ]
     },
     "execution_count": 20,
     "metadata": {},
     "output_type": "execute_result"
    }
   ],
   "source": [
    "df = pd.DataFrame(db_debates.database.get())\n",
    "df.duplicated(subset=[\"documents\"]).sum() / len(df)"
   ]
  },
  {
   "cell_type": "code",
   "execution_count": null,
   "metadata": {},
   "outputs": [],
   "source": []
  }
 ],
 "metadata": {
  "kernelspec": {
   "display_name": "bundestag",
   "language": "python",
   "name": "python3"
  },
  "language_info": {
   "codemirror_mode": {
    "name": "ipython",
    "version": 3
   },
   "file_extension": ".py",
   "mimetype": "text/x-python",
   "name": "python",
   "nbconvert_exporter": "python",
   "pygments_lexer": "ipython3",
   "version": "3.11.7"
  }
 },
 "nbformat": 4,
 "nbformat_minor": 2
}
