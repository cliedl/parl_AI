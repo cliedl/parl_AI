{
 "cells": [
  {
   "cell_type": "code",
   "execution_count": 1,
   "metadata": {},
   "outputs": [],
   "source": [
    "import sys\n",
    "sys.path.append(\"..\")\n",
    "DATABASE_DIR_MANIFESTOS = \"../../data/manifestos/chroma\"\n",
    "DATABASE_DIR_DEBATES = \"../../data/manifestos/chroma\""
   ]
  },
  {
   "cell_type": "code",
   "execution_count": 2,
   "metadata": {},
   "outputs": [],
   "source": [
    "from database.vector_database import VectorDatabase\n",
    "from models.embedding import ManifestoBertaEmbeddings"
   ]
  },
  {
   "cell_type": "code",
   "execution_count": 3,
   "metadata": {},
   "outputs": [
    {
     "name": "stderr",
     "output_type": "stream",
     "text": [
      "/Users/christianliedl/anaconda3/envs/bundestag/lib/python3.11/site-packages/torch/_utils.py:831: UserWarning: TypedStorage is deprecated. It will be removed in the future and UntypedStorage will be the only storage class. This should only matter to you if you are using storages directly.  To access UntypedStorage directly, use tensor.untyped_storage() instead of tensor.storage()\n",
      "  return self.fget.__get__(instance, owner)()\n",
      "Some weights of XLMRobertaModel were not initialized from the model checkpoint at manifesto-project/manifestoberta-xlm-roberta-56policy-topics-sentence-2023-1-1 and are newly initialized: ['roberta.pooler.dense.bias', 'roberta.pooler.dense.weight']\n",
      "You should probably TRAIN this model on a down-stream task to be able to use it for predictions and inference.\n"
     ]
    }
   ],
   "source": [
    "embedding_model = ManifestoBertaEmbeddings()\n",
    "\n",
    "db_manifestos = VectorDatabase(\n",
    "    data_path=\"../data/manifestos\",\n",
    "    embedding_model=embedding_model,\n",
    "    database_directory=DATABASE_DIR_MANIFESTOS,\n",
    "    source_type=\"manifestos\")\n",
    "\n",
    "db_manifestos.database._collection.metadata"
   ]
  },
  {
   "cell_type": "code",
   "execution_count": 5,
   "metadata": {},
   "outputs": [],
   "source": [
    "import chromadb\n",
    "import os\n",
    "import shutil\n",
    "\n",
    "\n",
    "if not os.path.exists(\"test\"):\n",
    "    os.mkdir(\"test\")\n",
    "\n",
    "\n",
    "client = chromadb.PersistentClient(path=\"test\")\n",
    "\n",
    "collection = client.get_or_create_collection(\n",
    "    name=\"test\",\n",
    "    metadata={\"hnsw:space\": \"cosine\"}  # l2 is the default\n",
    ")"
   ]
  },
  {
   "cell_type": "code",
   "execution_count": 12,
   "metadata": {},
   "outputs": [
    {
     "data": {
      "text/plain": [
       "({'hnsw:space': 'cosine'}, {'hnsw:space': 'cosine'})"
      ]
     },
     "execution_count": 12,
     "metadata": {},
     "output_type": "execute_result"
    }
   ],
   "source": [
    "collection.metadata, db_manifestos.database._collection.metadata"
   ]
  },
  {
   "cell_type": "code",
   "execution_count": 6,
   "metadata": {},
   "outputs": [
    {
     "data": {
      "text/plain": [
       "dict_keys(['ids', 'embeddings', 'metadatas', 'documents', 'uris', 'data'])"
      ]
     },
     "execution_count": 6,
     "metadata": {},
     "output_type": "execute_result"
    }
   ],
   "source": [
    "data = db.get(include=[\"embeddings\", \"documents\", \"metadatas\"])\n",
    "data.keys()"
   ]
  },
  {
   "cell_type": "code",
   "execution_count": 7,
   "metadata": {},
   "outputs": [],
   "source": [
    "collection.add(\n",
    "    ids=data[\"ids\"],\n",
    "    embeddings=data[\"embeddings\"],\n",
    "    metadatas=data[\"metadatas\"],\n",
    "    documents=data[\"documents\"],\n",
    "    uris=data[\"uris\"],\n",
    ")"
   ]
  },
  {
   "cell_type": "code",
   "execution_count": 10,
   "metadata": {},
   "outputs": [
    {
     "data": {
      "text/plain": [
       "{'ids': [['31c1be19-b0a5-4dd8-bdbe-67b98d61a9aa',\n",
       "   '46bb1c18-cfae-444d-ad2d-254dbd1d844c',\n",
       "   'ddaf808a-1007-42ea-b573-ffa2a7782ba2',\n",
       "   '4c85d546-dc04-11ee-a5cd-da358c50b9e0',\n",
       "   '9ff6bcd9-5b4c-4721-a7c9-43d5f6272549',\n",
       "   'f26374d6-0617-4bc9-8fbc-c4cb94592032']],\n",
       " 'distances': [[0.26378679275512695,\n",
       "   0.26378679275512695,\n",
       "   0.26378679275512695,\n",
       "   0.27518242597579956,\n",
       "   0.29224997758865356,\n",
       "   0.29224997758865356]],\n",
       " 'metadatas': [[{'party': 'gruene',\n",
       "    'source': '../data/manifestos/01_pdf_originals/gruene_wahlprogramm_europawahl_2024.pdf'},\n",
       "   {'party': 'gruene',\n",
       "    'source': '../../data/manifestos/01_pdf_originals/gruene_wahlprogramm_europawahl_2024.pdf'},\n",
       "   {'source': '../../data/manifestos/01_pdf_originals/gruene_wahlprogramm_europawahl_2024.pdf'},\n",
       "   {'page': 14,\n",
       "    'source': '../data/manifestos/01_pdf_originals/afd_manifesto.pdf'},\n",
       "   {'party': 'afd',\n",
       "    'source': '../../data/manifestos/01_pdf_originals/afd_wahlprogramm_europawahl_2024.pdf'},\n",
       "   {'party': 'afd',\n",
       "    'source': '../data/manifestos/01_pdf_originals/afd_wahlprogramm_europawahl_2024.pdf'}]],\n",
       " 'embeddings': None,\n",
       " 'documents': [['Putin und sein Machtregime haben Russland in \\neine totalitäre Diktatur gewandelt. Sicherheit in \\nEuropa kann es aktuell nur vor Russland geben \\n– und nicht mit Russland. Gewalt, Lüge, Korrup-\\ntion und Willkür prägen die politische Realität. \\nDie Zivilgesellschaft wurde mundtot gemacht, die \\nOpposition befindet sich entweder im Exil oder in \\npolitischer Gefangenschaft. Wir werden uns weiter-\\nhin für die Freilassung aller politischen Häftlinge \\neinsetzen. Wir sehen uns als Freunde und Partner \\nderer, die ein freies, friedliches und demokratisches \\nRussland wünschen. Wir verstehen uns als har-\\nte Widersacher all jener, die das verbrecherische \\nRegime um Putin stützen. Wir unterstützen daher \\ndie europäische Sanktionspolitik gegen das Re-\\ngime und seine Vertreter*innen. Wirtschafts- und \\nhandelspolitische Normalität kann es mit diesem \\nRussland nicht geben.',\n",
       "   'Putin und sein Machtregime haben Russland in \\neine totalitäre Diktatur gewandelt. Sicherheit in \\nEuropa kann es aktuell nur vor Russland geben \\n– und nicht mit Russland. Gewalt, Lüge, Korrup-\\ntion und Willkür prägen die politische Realität. \\nDie Zivilgesellschaft wurde mundtot gemacht, die \\nOpposition befindet sich entweder im Exil oder in \\npolitischer Gefangenschaft. Wir werden uns weiter-\\nhin für die Freilassung aller politischen Häftlinge \\neinsetzen. Wir sehen uns als Freunde und Partner \\nderer, die ein freies, friedliches und demokratisches \\nRussland wünschen. Wir verstehen uns als har-\\nte Widersacher all jener, die das verbrecherische \\nRegime um Putin stützen. Wir unterstützen daher \\ndie europäische Sanktionspolitik gegen das Re-\\ngime und seine Vertreter*innen. Wirtschafts- und \\nhandelspolitische Normalität kann es mit diesem \\nRussland nicht geben.',\n",
       "   'Putin und sein Machtregime haben Russland in \\neine totalitäre Diktatur gewandelt. Sicherheit in \\nEuropa kann es aktuell nur vor Russland geben \\n– und nicht mit Russland. Gewalt, Lüge, Korrup-\\ntion und Willkür prägen die politische Realität. \\nDie Zivilgesellschaft wurde mundtot gemacht, die \\nOpposition befindet sich entweder im Exil oder in \\npolitischer Gefangenschaft. Wir werden uns weiter-\\nhin für die Freilassung aller politischen Häftlinge \\neinsetzen. Wir sehen uns als Freunde und Partner \\nderer, die ein freies, friedliches und demokratisches \\nRussland wünschen. Wir verstehen uns als har-\\nte Widersacher all jener, die das verbrecherische \\nRegime um Putin stützen. Wir unterstützen daher \\ndie europäische Sanktionspolitik gegen das Re-\\ngime und seine Vertreter*innen. Wirtschafts- und \\nhandelspolitische Normalität kann es mit diesem \\nRussland nicht geben.',\n",
       "   'und Sicherheitspolitik der USA zwingt Deutschland dazu, seine Interessen eigenständig zu formulieren. Dies \\nsollte in möglichst enger Abstimmung mit anderen europäischen Staaten erfolgen. \\n\\tQ Russland\\nDie russische Invasion hat in der Ukraine viel Leid unter den Betroffenen erzeugt. Durch den Krieg wurde die \\nAußenpolitik Deutschlands enorm erschwert. Aus der geostrategischen Lage Russlands, mit den daraus resul -',\n",
       "   'nach innen und ermöglicht die Koordination im Auftreten nach außen. Richtschnur deutscher Außenpolitik \\n\\nmüssen wieder realpolitische Erfordernisse statt wirklichkeitsfremder Ideologien sein. \\n\\nDie russische Invasion hat in der Ukraine viel Leid unter den Betroffenen erzeugt. Durch den Krieg wurde die \\nAußenpolitik Deutschlands enorm erschwert. Aus der geostrategischen Lage Russlands, mit den daraus resul-\\ntierenden historischen und wirtschaftlichen Verflechtungen, insbesondere auch mit Deutschland, ergibt sich \\n\\ndie Notwendigkeit, mit diplomatischen Mitteln auf eine Beendigung des Krieges hinzuwirken und so auch für \\nfriedliche deutsch-russische Beziehungen zu sorgen. Russland war über Jahrzehnte ein zuverlässiger Liefe-\\nrant und Garant einer erschwinglichen Energieversorgung, die aufgrund unserer energieintensiven Industrie',\n",
       "   'nach innen und ermöglicht die Koordination im Auftreten nach außen. Richtschnur deutscher Außenpolitik \\n\\nmüssen wieder realpolitische Erfordernisse statt wirklichkeitsfremder Ideologien sein. \\n\\nDie russische Invasion hat in der Ukraine viel Leid unter den Betroffenen erzeugt. Durch den Krieg wurde die \\nAußenpolitik Deutschlands enorm erschwert. Aus der geostrategischen Lage Russlands, mit den daraus resul-\\ntierenden historischen und wirtschaftlichen Verflechtungen, insbesondere auch mit Deutschland, ergibt sich \\n\\ndie Notwendigkeit, mit diplomatischen Mitteln auf eine Beendigung des Krieges hinzuwirken und so auch für \\nfriedliche deutsch-russische Beziehungen zu sorgen. Russland war über Jahrzehnte ein zuverlässiger Liefe-\\nrant und Garant einer erschwinglichen Energieversorgung, die aufgrund unserer energieintensiven Industrie']],\n",
       " 'uris': None,\n",
       " 'data': None}"
      ]
     },
     "execution_count": 10,
     "metadata": {},
     "output_type": "execute_result"
    }
   ],
   "source": [
    "query_embedding = db._embedding_function.embed_query(query)\n",
    "collection.query(query_embedding, n_results=6)"
   ]
  },
  {
   "cell_type": "code",
   "execution_count": 36,
   "metadata": {},
   "outputs": [
    {
     "name": "stderr",
     "output_type": "stream",
     "text": [
      "Some weights of XLMRobertaModel were not initialized from the model checkpoint at manifesto-project/manifestoberta-xlm-roberta-56policy-topics-sentence-2023-1-1 and are newly initialized: ['roberta.pooler.dense.bias', 'roberta.pooler.dense.weight']\n",
      "You should probably TRAIN this model on a down-stream task to be able to use it for predictions and inference.\n"
     ]
    }
   ],
   "source": [
    "from models.embedding import ManifestoBertaEmbeddings\n",
    "from database.vector_database import VectorDatabase\n",
    "import sys\n",
    "DATABASE_DIR_MANIFESTOS = \"../../data/manifestos/chroma\"\n",
    "DATABASE_DIR_DEBATES = \"../../data/debates/chroma\"\n",
    "sys.path.append(\"..\")\n",
    "\n",
    "\n",
    "embedding_model = ManifestoBertaEmbeddings()\n",
    "\n",
    "db_manifestos = VectorDatabase(\n",
    "    data_path=\"../data/manifestos\",\n",
    "    embedding_model=embedding_model,\n",
    "    database_directory=DATABASE_DIR_MANIFESTOS,\n",
    "    source_type=\"manifestos\")\n",
    "\n",
    "db_debates = VectorDatabase(\n",
    "    data_path=\"../data/debates\",\n",
    "    embedding_model=embedding_model,\n",
    "    database_directory=DATABASE_DIR_DEBATES,\n",
    "    source_type=\"debates\")\n",
    "\n",
    "query = \"Wie positionieren sich die verschiedenen Parteien zum Thema Erhöhung der Verteidigungsausgaben im Kontext gemeinsamer europäischer Sicherheitsinteressen?\""
   ]
  },
  {
   "cell_type": "code",
   "execution_count": 68,
   "metadata": {},
   "outputs": [
    {
     "data": {
      "text/plain": [
       "[Document(page_content='-minister.\\n\\nMehr gemeinsame europäische Beschaffung\\n\\nMit dem Sondervermögen für die Bundeswehr haben wir bewiesen, dass wir bereit sind, die nötigen \\n\\nfinanziellen Ressourcen in die Hand zu nehmen, um Europa im Bereich der Sicherheit und Verteidigung \\n\\nhandlungsfähiger zu machen. Wir müssen sicherstellen, dass die angestoßenen Investitionen fortgeführt \\n\\nwerden und setzen uns daher für eine nachhaltige Verteidigungsfinanzierung von mindestens 2 Prozent \\n\\ndes Bruttoinlandsproduktes ein. Wir wollen mehr Anreize für kollaborative Ausgaben für Verteidigung auf \\n\\neuropäischer Ebene setzen, indem wir europäische Fonds (EDF, EDIP) substanziell besser ausstatten. Wir \\n\\nsetzen uns für mehr Transparenz in der koordinierten europäischen Verteidigungsplanung ein, damit der \\n\\nDruck auf Mitgliedsstaaten erhöht wird, ihre Verpflichtungen auch zu erfüllen. Ebenso wollen wir mehr \\n\\nStand: 28.1.2024\\n\\n19 / 39', metadata={'party': 'spd', 'source': '../../data/manifestos/01_pdf_originals/spd_wahlprogramm_europawahl_2024.pdf'}),\n",
       " Document(page_content='-minister.\\n\\nMehr gemeinsame europäische Beschaffung\\n\\nMit dem Sondervermögen für die Bundeswehr haben wir bewiesen, dass wir bereit sind, die nötigen \\n\\nfinanziellen Ressourcen in die Hand zu nehmen, um Europa im Bereich der Sicherheit und Verteidigung \\n\\nhandlungsfähiger zu machen. Wir müssen sicherstellen, dass die angestoßenen Investitionen fortgeführt \\n\\nwerden und setzen uns daher für eine nachhaltige Verteidigungsfinanzierung von mindestens 2 Prozent \\n\\ndes Bruttoinlandsproduktes ein. Wir wollen mehr Anreize für kollaborative Ausgaben für Verteidigung auf \\n\\neuropäischer Ebene setzen, indem wir europäische Fonds (EDF, EDIP) substanziell besser ausstatten. Wir \\n\\nsetzen uns für mehr Transparenz in der koordinierten europäischen Verteidigungsplanung ein, damit der \\n\\nDruck auf Mitgliedsstaaten erhöht wird, ihre Verpflichtungen auch zu erfüllen. Ebenso wollen wir mehr \\n\\nStand: 28.1.2024\\n\\n19 / 39', metadata={'party': 'spd', 'source': '../data/manifestos/01_pdf_originals/spd_wahlprogramm_europawahl_2024.pdf'}),\n",
       " Document(page_content='Druck auf Mitgliedsstaaten erhöht wird, ihre Verpflichtungen auch zu erfüllen. Ebenso wollen wir mehr \\n\\nStand: 28.1.2024\\n\\n19 / 39\\n\\n\\x0cSynergien zwischen den NATO- und EU-Planungsprozessen erzeugen und die verschiedenen \\nInnovationsinitiativen besser koordinieren.\\n\\nEin europäischer Binnenmarkt für Verteidigung\\n\\nDurch mehr gemeinsame Entwicklung und Beschaffung wollen wir mehr Standardisierung und \\n\\nInteroperabilität in Europa erreichen. Wir wollen gemeinsame Rüstungsprojekte aktiv befördern und \\n\\nfinanziell unterstützen. Dabei setzen wir auch auf einheitlichere Zertifizierungsverfahren sowie \\n\\nBeschaffungszyklen. Es geht ebenso darum, Regularien in Europa zu harmonisieren, um den Transport von \\n\\nVerstärkungskräften an die NATO-\\n\\nOstflanke zu erleichtern und zu beschleunigen. Und es geht um eine schrittweise Liberalisierung des \\n\\neuropäischen Verteidigungsmarktes für Produkte, die nicht als nationale Schlüsseltechnologien gelten.\\n\\nAbrüstung und Rüstungskontrolle aktiv verfolgen', metadata={'party': 'spd', 'source': '../../data/manifestos/01_pdf_originals/spd_wahlprogramm_europawahl_2024.pdf'}),\n",
       " Document(page_content='Druck auf Mitgliedsstaaten erhöht wird, ihre Verpflichtungen auch zu erfüllen. Ebenso wollen wir mehr \\n\\nStand: 28.1.2024\\n\\n19 / 39\\n\\n\\x0cSynergien zwischen den NATO- und EU-Planungsprozessen erzeugen und die verschiedenen \\nInnovationsinitiativen besser koordinieren.\\n\\nEin europäischer Binnenmarkt für Verteidigung\\n\\nDurch mehr gemeinsame Entwicklung und Beschaffung wollen wir mehr Standardisierung und \\n\\nInteroperabilität in Europa erreichen. Wir wollen gemeinsame Rüstungsprojekte aktiv befördern und \\n\\nfinanziell unterstützen. Dabei setzen wir auch auf einheitlichere Zertifizierungsverfahren sowie \\n\\nBeschaffungszyklen. Es geht ebenso darum, Regularien in Europa zu harmonisieren, um den Transport von \\n\\nVerstärkungskräften an die NATO-\\n\\nOstflanke zu erleichtern und zu beschleunigen. Und es geht um eine schrittweise Liberalisierung des \\n\\neuropäischen Verteidigungsmarktes für Produkte, die nicht als nationale Schlüsseltechnologien gelten.\\n\\nAbrüstung und Rüstungskontrolle aktiv verfolgen', metadata={'party': 'spd', 'source': '../data/manifestos/01_pdf_originals/spd_wahlprogramm_europawahl_2024.pdf'}),\n",
       " Document(page_content='Synergieeffekte erzielt werden. Im Sinne des strategischen Kompasses der Europäischen Union möchten \\n\\nwir, dass diese eine handlungsfähigere Sicherheitsakteurin wird. Auch wenn die NATO ihre zentrale Rolle \\n\\nfür unsere Bündnisverteidigung behält, wollen wir Europa in die Lage versetzen, Sicherheit vor externen \\n\\nBedrohungen zunehmend eigenständig zu gewährleisten. Wir setzen uns für mehr Harmonisierung in der \\n\\nAusbildung von Soldatinnen und Soldaten in der EU sowie die Stärkung von effizienten und gleichzeitig \\n\\ndemokratisch legitimierten Entscheidungsstrukturen in der Gemeinsamen Sicherheits- und \\n\\nVerteidigungspolitik ein. Dazu gehören für uns insbesondere auch die Einbeziehung des Europäischen \\nParlaments, die Stärkung des Amts des Hohen Vertreters bzw. der Hohen Vertreterin der EU für Außen- \\nund Sicherheitspolitik und die Einrichtung eines eigenständigen Rats der Verteidigungsministerinnen und \\n\\n-minister.\\n\\nMehr gemeinsame europäische Beschaffung', metadata={'party': 'spd', 'source': '../../data/manifestos/01_pdf_originals/spd_wahlprogramm_europawahl_2024.pdf'}),\n",
       " Document(page_content='Synergieeffekte erzielt werden. Im Sinne des strategischen Kompasses der Europäischen Union möchten \\n\\nwir, dass diese eine handlungsfähigere Sicherheitsakteurin wird. Auch wenn die NATO ihre zentrale Rolle \\n\\nfür unsere Bündnisverteidigung behält, wollen wir Europa in die Lage versetzen, Sicherheit vor externen \\n\\nBedrohungen zunehmend eigenständig zu gewährleisten. Wir setzen uns für mehr Harmonisierung in der \\n\\nAusbildung von Soldatinnen und Soldaten in der EU sowie die Stärkung von effizienten und gleichzeitig \\n\\ndemokratisch legitimierten Entscheidungsstrukturen in der Gemeinsamen Sicherheits- und \\n\\nVerteidigungspolitik ein. Dazu gehören für uns insbesondere auch die Einbeziehung des Europäischen \\nParlaments, die Stärkung des Amts des Hohen Vertreters bzw. der Hohen Vertreterin der EU für Außen- \\nund Sicherheitspolitik und die Einrichtung eines eigenständigen Rats der Verteidigungsministerinnen und \\n\\n-minister.\\n\\nMehr gemeinsame europäische Beschaffung', metadata={'party': 'spd', 'source': '../data/manifestos/01_pdf_originals/spd_wahlprogramm_europawahl_2024.pdf'})]"
      ]
     },
     "execution_count": 68,
     "metadata": {},
     "output_type": "execute_result"
    }
   ],
   "source": [
    "res = db_manifestos.database.similarity_search(\n",
    "    query, 6, filter={\"party\": \"spd\"})\n",
    "res"
   ]
  },
  {
   "cell_type": "code",
   "execution_count": 66,
   "metadata": {},
   "outputs": [
    {
     "data": {
      "text/plain": [
       "[Document(page_content=\"NATO Response Force\\n\\n und die Befehlsstruktur. Die Mitgliedstaaten müssen die genauen Modalitäten jetzt zügig festlegen, idealerweise noch vor der ersten Übung in diesem Jahr. Am Ende, liebe Kolleginnen und Kollegen, steht und fällt das Konzept mit dem echten politischen Willen der Mitgliedstaaten. Gemessen an den Hürden, die die europäische sicherheits- und verteidigungspolitische Zusammenarbeit bisher nehmen musste, ist die schnelle Eingreiftruppe ein Meilenstein. Darauf kann und sollte aufgebaut werden.\\nmep_id: 124806\\nfullName: David McALLISTER\\ncountry: Germany\\npoliticalGroup: Group of the European People's Party (Christian Democrats)\\nnationalPoliticalGroup: Christlich Demokratische Union Deutschlands\", metadata={'row': 3813, 'source': '../data/debates/europarl_speeches.csv'}),\n",
       " Document(page_content=\"NATO Response Force\\n\\n und die Befehlsstruktur. Die Mitgliedstaaten müssen die genauen Modalitäten jetzt zügig festlegen, idealerweise noch vor der ersten Übung in diesem Jahr. Am Ende, liebe Kolleginnen und Kollegen, steht und fällt das Konzept mit dem echten politischen Willen der Mitgliedstaaten. Gemessen an den Hürden, die die europäische sicherheits- und verteidigungspolitische Zusammenarbeit bisher nehmen musste, ist die schnelle Eingreiftruppe ein Meilenstein. Darauf kann und sollte aufgebaut werden.\\nmep_id: 124806\\nfullName: David McALLISTER\\ncountry: Germany\\npoliticalGroup: Group of the European People's Party (Christian Democrats)\\nnationalPoliticalGroup: Christlich Demokratische Union Deutschlands\", metadata={'row': 3813, 'source': '../data/debates/europarl_speeches.csv'}),\n",
       " Document(page_content='Temporary-Protection-Directive\\n\\n endlich aktivieren. Afghanistan hat aber auch gezeigt, dass wir als Europäer in der Verteidigungspolitik nicht handlungsfähig sind. Und ich glaube deswegen, dass wir uns darüber Gedanken machen müssen, wie wir die Europäische Verteidigungsunion schneller auf den Weg bringen und wie wir sie vertiefen können. Und, Herr Kollege Bullmann, das hat erst mal nichts mit Säbelrasseln zu tun, sondern es hat damit zu tun, dass wir als Europäer Einsatzfähigkeit zeigen und dass wir in militärischen Fragen von den USA unabhängig sind.\\nmep_id: 197432\\nfullName: Jan-Christoph OETJEN\\ncountry: Germany\\npoliticalGroup: Renew Europe Group\\nnationalPoliticalGroup: Freie Demokratische Partei', metadata={'row': 1877, 'source': '../data/debates/europarl_speeches.csv'}),\n",
       " Document(page_content='Temporary-Protection-Directive\\n\\n endlich aktivieren. Afghanistan hat aber auch gezeigt, dass wir als Europäer in der Verteidigungspolitik nicht handlungsfähig sind. Und ich glaube deswegen, dass wir uns darüber Gedanken machen müssen, wie wir die Europäische Verteidigungsunion schneller auf den Weg bringen und wie wir sie vertiefen können. Und, Herr Kollege Bullmann, das hat erst mal nichts mit Säbelrasseln zu tun, sondern es hat damit zu tun, dass wir als Europäer Einsatzfähigkeit zeigen und dass wir in militärischen Fragen von den USA unabhängig sind.\\nmep_id: 197432\\nfullName: Jan-Christoph OETJEN\\ncountry: Germany\\npoliticalGroup: Renew Europe Group\\nnationalPoliticalGroup: Freie Demokratische Partei', metadata={'row': 1877, 'source': '../data/debates/europarl_speeches.csv'}),\n",
       " Document(page_content='Parlament hat mit großen Mehrheiten seit Jahren konkrete Vorschläge dazu gemacht, zuletzt während der Plenardebatte und der Plenarsitzung hier in Straßburg, wo die beiden Berichte verabschiedet wurden. Lasst uns jetzt endgültig konkrete Schritte hin zu einer europäischen Verteidigungsunion gehen – eng abgestimmt mit unseren Nachbarn, eng abgestimmt mit unseren NATO-Partnern\\xa0–, und zwar schnell und engagiert.', metadata={'date': '2022-03-09', 'fullName': 'David McALLISTER', 'party': 'cdu', 'politicalGroup': \"Group of the European People's Party (Christian Democrats)\", 'row': 2242, 'source': '../data/debates/europarl_speeches.csv'}),\n",
       " Document(page_content='Parlament hat mit großen Mehrheiten seit Jahren konkrete Vorschläge dazu gemacht, zuletzt während der Plenardebatte und der Plenarsitzung hier in Straßburg, wo die beiden Berichte verabschiedet wurden. Lasst uns jetzt endgültig konkrete Schritte hin zu einer europäischen Verteidigungsunion gehen – eng abgestimmt mit unseren Nachbarn, eng abgestimmt mit unseren NATO-Partnern\\xa0–, und zwar schnell und engagiert.', metadata={'row': 2492, 'source': '../data/debates/europarl_speeches.csv'})]"
      ]
     },
     "execution_count": 66,
     "metadata": {},
     "output_type": "execute_result"
    }
   ],
   "source": [
    "res = db_debates.database.similarity_search(\n",
    "    query, 6, filter={\"party\": \"linke\"})\n",
    "res"
   ]
  },
  {
   "cell_type": "code",
   "execution_count": 58,
   "metadata": {},
   "outputs": [],
   "source": [
    "import pandas as pd\n",
    "df = pd.DataFrame(db_manifestos.database.get())\n",
    "# df.duplicated(subset=[\"documents\"]).sum()/len(df)"
   ]
  },
  {
   "cell_type": "code",
   "execution_count": 65,
   "metadata": {},
   "outputs": [
    {
     "data": {
      "text/plain": [
       "0.5032239977572189"
      ]
     },
     "execution_count": 65,
     "metadata": {},
     "output_type": "execute_result"
    }
   ],
   "source": [
    "df.loc[:, \"has_party\"] = df[\"metadatas\"].apply(lambda x: \"party\" in x.keys())\n",
    "\n",
    "df_filtered = df[df.loc[:, \"has_party\"] == True]\n",
    "df_filtered.duplicated(subset=[\"documents\"]).sum()/len(df_filtered)"
   ]
  },
  {
   "cell_type": "code",
   "execution_count": 41,
   "metadata": {},
   "outputs": [
    {
     "data": {
      "text/plain": [
       "0.6106242520171409"
      ]
     },
     "execution_count": 41,
     "metadata": {},
     "output_type": "execute_result"
    }
   ],
   "source": [
    "import pandas as pd\n",
    "df = pd.DataFrame(db_debates.database.get())\n",
    "df.duplicated(subset=[\"documents\"]).sum()/len(df)"
   ]
  }
 ],
 "metadata": {
  "kernelspec": {
   "display_name": "bundestag",
   "language": "python",
   "name": "python3"
  },
  "language_info": {
   "codemirror_mode": {
    "name": "ipython",
    "version": 3
   },
   "file_extension": ".py",
   "mimetype": "text/x-python",
   "name": "python",
   "nbconvert_exporter": "python",
   "pygments_lexer": "ipython3",
   "version": "3.11.7"
  }
 },
 "nbformat": 4,
 "nbformat_minor": 2
}
