{
 "cells": [
  {
   "cell_type": "code",
   "execution_count": 1,
   "metadata": {},
   "outputs": [],
   "source": [
    "DATABASE_DIR = \"../data/manifestos/chroma\""
   ]
  },
  {
   "cell_type": "code",
   "execution_count": 6,
   "metadata": {},
   "outputs": [
    {
     "name": "stderr",
     "output_type": "stream",
     "text": [
      "Some weights of XLMRobertaModel were not initialized from the model checkpoint at manifesto-project/manifestoberta-xlm-roberta-56policy-topics-sentence-2023-1-1 and are newly initialized: ['roberta.pooler.dense.bias', 'roberta.pooler.dense.weight']\n",
      "You should probably TRAIN this model on a down-stream task to be able to use it for predictions and inference.\n"
     ]
    }
   ],
   "source": [
    "from models.embedding import ManifestoBertaEmbeddings\n",
    "from database.vector_database import VectorDatabase\n",
    "\n",
    "embedding_model = ManifestoBertaEmbeddings()\n",
    "\n",
    "db_manifestos = VectorDatabase(\n",
    "    data_path=\"../data/manifestos\",\n",
    "    embedding_model=embedding_model,\n",
    "    database_directory=DATABASE_DIR,\n",
    "    source_type=\"manifestos\")\n",
    "\n",
    "db_debates = VectorDatabase(\n",
    "    data_path=\"../data/debates\",\n",
    "    embedding_model=embedding_model,\n",
    "    database_directory=DATABASE_DIR,\n",
    "    source_type=\"debates\")"
   ]
  },
  {
   "cell_type": "code",
   "execution_count": 9,
   "metadata": {},
   "outputs": [],
   "source": [
    "from models.generation import generate_chain_with_balanced_retrieval\n",
    "\n",
    "chain = generate_chain_with_balanced_retrieval(\n",
    "    [db_manifestos])  # add more databases here"
   ]
  },
  {
   "cell_type": "code",
   "execution_count": 10,
   "metadata": {},
   "outputs": [],
   "source": [
    "# invoke chain\n",
    "response = chain.invoke(\n",
    "    \"Wie stehen die Parteien zum Selbstbestimmungsrecht des Geschlechts?\"\n",
    ")"
   ]
  },
  {
   "cell_type": "code",
   "execution_count": 4,
   "metadata": {},
   "outputs": [
    {
     "data": {
      "text/plain": [
       "{'cdu_summary': 'Die CDU/CSU unterstützt traditionelle Geschlechterrollen und lehnt Abtreibungen nicht grundsätzlich ab. Sie setzen sich für die Stärkung von Ehe und Familie ein.',\n",
       " 'spd_summary': 'Die SPD setzt sich für reproduktive Selbstbestimmung ein, fordert sichere und kostenfreie Schwangerschaftsabbrüche sowie den Schutz und Ausbau von Frauenrechten und LGBTIQ+-Rechten.',\n",
       " 'gruene_summary': 'Bündnis 90/Die Grünen setzen sich für die Gleichstellung und Selbstbestimmung von Frauen und queeren Menschen ein. Sie fordern die Anerkennung sexueller und geschlechtlicher Vielfalt in ganz Europa.',\n",
       " 'linke_summary': 'Die Linke fordert die Stärkung der reproduktiven Rechte, die Abschaffung von Einschränkungen beim Schwangerschaftsabbruch und die Förderung von Bildungsarbeit gegen Sexismus und Queerfeindlichkeit.',\n",
       " 'fdp_summary': 'Die FDP setzt sich für verbesserte Vereinbarkeit von Beruf und Care-Arbeit ein, kostenfreie Empfängnisverhütung und sichere Schwangerschaftsabbrüche in Europa.',\n",
       " 'afd_summary': 'Die AfD lehnt Abtreibungen nicht grundsätzlich ab, unterstützt traditionelle Geschlechterrollen und setzt sich für die Stärkung von Ehe und Familie ein.'}"
      ]
     },
     "execution_count": 4,
     "metadata": {},
     "output_type": "execute_result"
    }
   ],
   "source": [
    "response"
   ]
  },
  {
   "cell_type": "code",
   "execution_count": null,
   "metadata": {},
   "outputs": [],
   "source": []
  }
 ],
 "metadata": {
  "kernelspec": {
   "display_name": "bundestag",
   "language": "python",
   "name": "python3"
  },
  "language_info": {
   "codemirror_mode": {
    "name": "ipython",
    "version": 3
   },
   "file_extension": ".py",
   "mimetype": "text/x-python",
   "name": "python",
   "nbconvert_exporter": "python",
   "pygments_lexer": "ipython3",
   "version": "3.11.7"
  }
 },
 "nbformat": 4,
 "nbformat_minor": 2
}
