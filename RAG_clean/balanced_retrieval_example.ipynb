{
 "cells": [
  {
   "cell_type": "code",
   "execution_count": 1,
   "metadata": {},
   "outputs": [],
   "source": [
    "DATABASE_DIR = \"../data/manifestos/chroma\""
   ]
  },
  {
   "cell_type": "code",
   "execution_count": 2,
   "metadata": {},
   "outputs": [
    {
     "name": "stderr",
     "output_type": "stream",
     "text": [
      "/Users/Joshua/opt/anaconda3/envs/politik-nlp/lib/python3.10/site-packages/tqdm/auto.py:21: TqdmWarning: IProgress not found. Please update jupyter and ipywidgets. See https://ipywidgets.readthedocs.io/en/stable/user_install.html\n",
      "  from .autonotebook import tqdm as notebook_tqdm\n",
      "Some weights of XLMRobertaModel were not initialized from the model checkpoint at manifesto-project/manifestoberta-xlm-roberta-56policy-topics-sentence-2023-1-1 and are newly initialized: ['roberta.pooler.dense.bias', 'roberta.pooler.dense.weight']\n",
      "You should probably TRAIN this model on a down-stream task to be able to use it for predictions and inference.\n"
     ]
    }
   ],
   "source": [
    "from models.embedding import ManifestoBertaEmbeddings\n",
    "from database.vector_database import VectorDatabaseCreator\n",
    "\n",
    "embedding_model = ManifestoBertaEmbeddings()\n",
    "\n",
    "db_manifestos = VectorDatabaseCreator(\n",
    "    data_path=\"../data/manifestos\",\n",
    "    embedding_model=embedding_model,\n",
    "    db_directory=DATABASE_DIR,\n",
    "    source_type=\"manifestos\")\n",
    "\n",
    "# load database\n",
    "database = db_manifestos.load_database()"
   ]
  },
  {
   "cell_type": "code",
   "execution_count": 3,
   "metadata": {},
   "outputs": [],
   "source": [
    "from models.generation import generate_chain_with_balanced_retrieval\n",
    "chain = generate_chain_with_balanced_retrieval([db_manifestos]) # add more databases here"
   ]
  },
  {
   "cell_type": "code",
   "execution_count": 4,
   "metadata": {},
   "outputs": [
    {
     "name": "stderr",
     "output_type": "stream",
     "text": [
      "huggingface/tokenizers: The current process just got forked, after parallelism has already been used. Disabling parallelism to avoid deadlocks...\n",
      "To disable this warning, you can either:\n",
      "\t- Avoid using `tokenizers` before the fork if possible\n",
      "\t- Explicitly set the environment variable TOKENIZERS_PARALLELISM=(true | false)\n"
     ]
    },
    {
     "data": {
      "text/plain": [
       "'{\\n    \"cdu_summary\": \"Die Position der CDU/CSU zur Selbstbestimmung des Geschlechts ist nicht eindeutig aus den gegebenen Wahlprogrammen ersichtlich.\",\\n    \"spd_summary\": \"Die SPD setzt sich für die Sicherstellung reproduktiver Selbstbestimmung und Gesundheit ein, einschließlich sicherer und legaler Schwangerschaftsabbrüche sowie Sexual- und Beziehungserziehung. Sie fordert die Gleichstellung und den Schutz der Rechte von queeren Menschen.\",\\n    \"gruene_summary\": \"Bündnis 90/Die Grünen treten entschieden für die Selbstbestimmungsrechte von Frauen, Mädchen und queeren Menschen ein. Sie fordern die Stärkung der reproduktiven Gesundheit, das Recht auf körperliche Selbstbestimmung und selbstbestimmte Familienplanung für alle.\",\\n    \"linke_summary\": \"Die Linke setzt sich für die Rechte von Frauen, queeren Menschen und Menschen mit Behinderungen ein. Sie kämpft gegen Diskriminierung und für die Stärkung der Selbstbestimmungsrechte, auch im Bereich der reproduktiven Gesundheit.\",\\n    \"fdp_summary\": \"Die FDP fordert die Achtung reproduktiver Rechte wie Eizellspende und Leihmutterschaft in der EU. Sie setzt sich für die Gleichstellung und den Schutz von LSBTIQ-Personen ein, sowie für die Vereinbarkeit von Beruf und Care-Arbeit.\",\\n    \"afd_summary\": \"Die Position der AfD zum Selbstbestimmungsrecht des Geschlechts ist nicht eindeutig aus den gegebenen Wahlprogrammen ersichtlich.\"\\n}'"
      ]
     },
     "execution_count": 4,
     "metadata": {},
     "output_type": "execute_result"
    }
   ],
   "source": [
    "# invoke chain\n",
    "chain.invoke(\n",
    "    \"Wie stehen die Parteien zum Selbstbestimmungsrecht des Geschlechts?\"\n",
    ")"
   ]
  },
  {
   "cell_type": "code",
   "execution_count": null,
   "metadata": {},
   "outputs": [],
   "source": []
  },
  {
   "cell_type": "code",
   "execution_count": null,
   "metadata": {},
   "outputs": [],
   "source": []
  },
  {
   "cell_type": "code",
   "execution_count": null,
   "metadata": {},
   "outputs": [],
   "source": []
  },
  {
   "cell_type": "code",
   "execution_count": null,
   "metadata": {},
   "outputs": [],
   "source": []
  },
  {
   "cell_type": "code",
   "execution_count": null,
   "metadata": {},
   "outputs": [],
   "source": [
    "from langchain_core.runnables import RunnableParallel, RunnablePassthrough\n",
    "\n",
    "runnable = RunnableParallel({\n",
    "    \"question\": lambda x: x[\"input_query\"],\n",
    "    \"context\": lambda x: x[\"input_query\"] + \" will be answered\"\n",
    "})\n",
    "\n",
    "runnable.invoke({\"query\": \"a question\"})"
   ]
  },
  {
   "cell_type": "code",
   "execution_count": null,
   "metadata": {},
   "outputs": [],
   "source": [
    "from langchain_core.runnables import RunnableParallel, RunnablePassthrough\n",
    "\n",
    "some_list = [\"a\", \"b\", \"c\"]\n",
    "\n",
    "runnable = ( \n",
    "    {\"question\": RunnablePassthrough()}\n",
    "    | RunnableParallel({\n",
    "        \"question\": lambda x: x[\"question\"],\n",
    "        \"context\": lambda x: \" \".join([x[\"question\"] + \" \" + item for item in some_list])\n",
    "}))\n",
    "\n",
    "runnable.invoke(\"the input question\")"
   ]
  },
  {
   "cell_type": "code",
   "execution_count": null,
   "metadata": {},
   "outputs": [],
   "source": [
    "db_manifestos"
   ]
  },
  {
   "cell_type": "code",
   "execution_count": null,
   "metadata": {},
   "outputs": [],
   "source": []
  },
  {
   "cell_type": "code",
   "execution_count": null,
   "metadata": {},
   "outputs": [],
   "source": []
  }
 ],
 "metadata": {
  "kernelspec": {
   "display_name": "bundestag",
   "language": "python",
   "name": "python3"
  },
  "language_info": {
   "codemirror_mode": {
    "name": "ipython",
    "version": 3
   },
   "file_extension": ".py",
   "mimetype": "text/x-python",
   "name": "python",
   "nbconvert_exporter": "python",
   "pygments_lexer": "ipython3",
   "version": "3.10.13"
  }
 },
 "nbformat": 4,
 "nbformat_minor": 2
}
