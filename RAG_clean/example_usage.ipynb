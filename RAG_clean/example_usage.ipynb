{
 "cells": [
  {
   "cell_type": "code",
   "execution_count": 1,
   "metadata": {},
   "outputs": [],
   "source": [
    "DATABASE_DIR = \"../data/manifestos/chroma\""
   ]
  },
  {
   "cell_type": "code",
   "execution_count": 2,
   "metadata": {},
   "outputs": [
    {
     "name": "stderr",
     "output_type": "stream",
     "text": [
      "/Users/christianliedl/anaconda3/envs/bundestag/lib/python3.11/site-packages/torch/_utils.py:831: UserWarning: TypedStorage is deprecated. It will be removed in the future and UntypedStorage will be the only storage class. This should only matter to you if you are using storages directly.  To access UntypedStorage directly, use tensor.untyped_storage() instead of tensor.storage()\n",
      "  return self.fget.__get__(instance, owner)()\n",
      "Some weights of XLMRobertaModel were not initialized from the model checkpoint at manifesto-project/manifestoberta-xlm-roberta-56policy-topics-sentence-2023-1-1 and are newly initialized: ['roberta.pooler.dense.bias', 'roberta.pooler.dense.weight']\n",
      "You should probably TRAIN this model on a down-stream task to be able to use it for predictions and inference.\n"
     ]
    }
   ],
   "source": [
    "# Here we import our modules\n",
    "from models.embedding import ManifestoBertaEmbeddings\n",
    "from database.vector_database import VectorDatabaseCreator\n",
    "from models.retrieval import retriever\n",
    "from models.generation import generate_chain\n",
    "\n",
    "# get embedding module\n",
    "embedding_model = ManifestoBertaEmbeddings()\n",
    "\n",
    "# get database_creator\n",
    "database_creator = VectorDatabaseCreator(\n",
    "    embedding_model=embedding_model,\n",
    "    db_directory=DATABASE_DIR)\n",
    "\n",
    "# load database\n",
    "database = database_creator.load_database()\n",
    "\n",
    "# get retriever\n",
    "retriever = retriever(db=database,\n",
    "                      search_type=\"similarity\",\n",
    "                      k=10)\n",
    "\n",
    "# generate langchain\n",
    "chain = generate_chain(retriever=retriever)"
   ]
  },
  {
   "cell_type": "code",
   "execution_count": 3,
   "metadata": {},
   "outputs": [
    {
     "name": "stderr",
     "output_type": "stream",
     "text": [
      "huggingface/tokenizers: The current process just got forked, after parallelism has already been used. Disabling parallelism to avoid deadlocks...\n",
      "To disable this warning, you can either:\n",
      "\t- Avoid using `tokenizers` before the fork if possible\n",
      "\t- Explicitly set the environment variable TOKENIZERS_PARALLELISM=(true | false)\n"
     ]
    },
    {
     "data": {
      "text/plain": [
       "'Die Grünen und die Linke treten für das Selbstbestimmungsrecht des Geschlechts ein, insbesondere für queere Menschen. Sie fordern den Zugang zu diskriminierungsfreier Gesundheitsversorgung, die Möglichkeit zur selbstbestimmten Änderung des Geschlechtseintrags und zur Ehe. Die AfD hingegen spricht sich gegen die sogenannte \"Gender-Ideologie\" aus und betont die biologische Tatsache von genau zwei Geschlechtern, Frau und Mann. Die SPD hat sich in diesem Kontext nicht eindeutig positioniert.'"
      ]
     },
     "execution_count": 3,
     "metadata": {},
     "output_type": "execute_result"
    }
   ],
   "source": [
    "# invoke chain\n",
    "chain.invoke(\n",
    "    \"Wie stehen die Parteien zum Selbstbestimmungsrecht des Geschlechts?\")"
   ]
  },
  {
   "cell_type": "code",
   "execution_count": null,
   "metadata": {},
   "outputs": [],
   "source": []
  }
 ],
 "metadata": {
  "kernelspec": {
   "display_name": "bundestag",
   "language": "python",
   "name": "python3"
  },
  "language_info": {
   "codemirror_mode": {
    "name": "ipython",
    "version": 3
   },
   "file_extension": ".py",
   "mimetype": "text/x-python",
   "name": "python",
   "nbconvert_exporter": "python",
   "pygments_lexer": "ipython3",
   "version": "3.11.7"
  }
 },
 "nbformat": 4,
 "nbformat_minor": 2
}
