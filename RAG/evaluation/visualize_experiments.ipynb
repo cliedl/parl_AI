{
 "cells": [
  {
   "cell_type": "code",
   "execution_count": 150,
   "metadata": {},
   "outputs": [
    {
     "data": {
      "text/plain": [
       "['Experiments/1_anonymize_parties/metrics_1b_parties_anonymous.csv']"
      ]
     },
     "execution_count": 150,
     "metadata": {},
     "output_type": "execute_result"
    }
   ],
   "source": [
    "import pandas as pd\n",
    "import numpy as np\n",
    "import os\n",
    "import glob\n",
    "import plotly.express as px\n",
    "\n",
    "experiment = \"Experiments/1_anonymize_parties\"\n",
    "metrics_files = glob.glob(os.path.join(experiment, \"metrics_*.csv\"))\n",
    "metrics_files"
   ]
  },
  {
   "cell_type": "code",
   "execution_count": 159,
   "metadata": {},
   "outputs": [
    {
     "name": "stdout",
     "output_type": "stream",
     "text": [
      "category\n",
      "1b_parties_anonymous    0.750713\n",
      "Name: value, dtype: float64\n"
     ]
    },
    {
     "data": {
      "application/vnd.plotly.v1+json": {
       "config": {
        "plotlyServerURL": "https://plot.ly"
       },
       "data": [
        {
         "alignmentgroup": "True",
         "hovertemplate": "category=1b_parties_anonymous<br>Party=%{x}<br>answer_relevancy=%{y}<extra></extra>",
         "legendgroup": "1b_parties_anonymous",
         "marker": {
          "color": "#636efa",
          "pattern": {
           "shape": ""
          }
         },
         "name": "1b_parties_anonymous",
         "offsetgroup": "1b_parties_anonymous",
         "orientation": "v",
         "showlegend": true,
         "textposition": "auto",
         "type": "bar",
         "x": [
          "cdu",
          "fdp",
          "gruene",
          "linke",
          "spd"
         ],
         "xaxis": "x",
         "y": [
          0.7284500914655127,
          0.7035032638709372,
          0.856157785502041,
          0.6668696283799761,
          0.7985866067147036
         ],
         "yaxis": "y"
        }
       ],
       "layout": {
        "barmode": "group",
        "legend": {
         "title": {
          "text": "category"
         },
         "tracegroupgap": 0
        },
        "template": {
         "data": {
          "bar": [
           {
            "error_x": {
             "color": "#2a3f5f"
            },
            "error_y": {
             "color": "#2a3f5f"
            },
            "marker": {
             "line": {
              "color": "#E5ECF6",
              "width": 0.5
             },
             "pattern": {
              "fillmode": "overlay",
              "size": 10,
              "solidity": 0.2
             }
            },
            "type": "bar"
           }
          ],
          "barpolar": [
           {
            "marker": {
             "line": {
              "color": "#E5ECF6",
              "width": 0.5
             },
             "pattern": {
              "fillmode": "overlay",
              "size": 10,
              "solidity": 0.2
             }
            },
            "type": "barpolar"
           }
          ],
          "carpet": [
           {
            "aaxis": {
             "endlinecolor": "#2a3f5f",
             "gridcolor": "white",
             "linecolor": "white",
             "minorgridcolor": "white",
             "startlinecolor": "#2a3f5f"
            },
            "baxis": {
             "endlinecolor": "#2a3f5f",
             "gridcolor": "white",
             "linecolor": "white",
             "minorgridcolor": "white",
             "startlinecolor": "#2a3f5f"
            },
            "type": "carpet"
           }
          ],
          "choropleth": [
           {
            "colorbar": {
             "outlinewidth": 0,
             "ticks": ""
            },
            "type": "choropleth"
           }
          ],
          "contour": [
           {
            "colorbar": {
             "outlinewidth": 0,
             "ticks": ""
            },
            "colorscale": [
             [
              0,
              "#0d0887"
             ],
             [
              0.1111111111111111,
              "#46039f"
             ],
             [
              0.2222222222222222,
              "#7201a8"
             ],
             [
              0.3333333333333333,
              "#9c179e"
             ],
             [
              0.4444444444444444,
              "#bd3786"
             ],
             [
              0.5555555555555556,
              "#d8576b"
             ],
             [
              0.6666666666666666,
              "#ed7953"
             ],
             [
              0.7777777777777778,
              "#fb9f3a"
             ],
             [
              0.8888888888888888,
              "#fdca26"
             ],
             [
              1,
              "#f0f921"
             ]
            ],
            "type": "contour"
           }
          ],
          "contourcarpet": [
           {
            "colorbar": {
             "outlinewidth": 0,
             "ticks": ""
            },
            "type": "contourcarpet"
           }
          ],
          "heatmap": [
           {
            "colorbar": {
             "outlinewidth": 0,
             "ticks": ""
            },
            "colorscale": [
             [
              0,
              "#0d0887"
             ],
             [
              0.1111111111111111,
              "#46039f"
             ],
             [
              0.2222222222222222,
              "#7201a8"
             ],
             [
              0.3333333333333333,
              "#9c179e"
             ],
             [
              0.4444444444444444,
              "#bd3786"
             ],
             [
              0.5555555555555556,
              "#d8576b"
             ],
             [
              0.6666666666666666,
              "#ed7953"
             ],
             [
              0.7777777777777778,
              "#fb9f3a"
             ],
             [
              0.8888888888888888,
              "#fdca26"
             ],
             [
              1,
              "#f0f921"
             ]
            ],
            "type": "heatmap"
           }
          ],
          "heatmapgl": [
           {
            "colorbar": {
             "outlinewidth": 0,
             "ticks": ""
            },
            "colorscale": [
             [
              0,
              "#0d0887"
             ],
             [
              0.1111111111111111,
              "#46039f"
             ],
             [
              0.2222222222222222,
              "#7201a8"
             ],
             [
              0.3333333333333333,
              "#9c179e"
             ],
             [
              0.4444444444444444,
              "#bd3786"
             ],
             [
              0.5555555555555556,
              "#d8576b"
             ],
             [
              0.6666666666666666,
              "#ed7953"
             ],
             [
              0.7777777777777778,
              "#fb9f3a"
             ],
             [
              0.8888888888888888,
              "#fdca26"
             ],
             [
              1,
              "#f0f921"
             ]
            ],
            "type": "heatmapgl"
           }
          ],
          "histogram": [
           {
            "marker": {
             "pattern": {
              "fillmode": "overlay",
              "size": 10,
              "solidity": 0.2
             }
            },
            "type": "histogram"
           }
          ],
          "histogram2d": [
           {
            "colorbar": {
             "outlinewidth": 0,
             "ticks": ""
            },
            "colorscale": [
             [
              0,
              "#0d0887"
             ],
             [
              0.1111111111111111,
              "#46039f"
             ],
             [
              0.2222222222222222,
              "#7201a8"
             ],
             [
              0.3333333333333333,
              "#9c179e"
             ],
             [
              0.4444444444444444,
              "#bd3786"
             ],
             [
              0.5555555555555556,
              "#d8576b"
             ],
             [
              0.6666666666666666,
              "#ed7953"
             ],
             [
              0.7777777777777778,
              "#fb9f3a"
             ],
             [
              0.8888888888888888,
              "#fdca26"
             ],
             [
              1,
              "#f0f921"
             ]
            ],
            "type": "histogram2d"
           }
          ],
          "histogram2dcontour": [
           {
            "colorbar": {
             "outlinewidth": 0,
             "ticks": ""
            },
            "colorscale": [
             [
              0,
              "#0d0887"
             ],
             [
              0.1111111111111111,
              "#46039f"
             ],
             [
              0.2222222222222222,
              "#7201a8"
             ],
             [
              0.3333333333333333,
              "#9c179e"
             ],
             [
              0.4444444444444444,
              "#bd3786"
             ],
             [
              0.5555555555555556,
              "#d8576b"
             ],
             [
              0.6666666666666666,
              "#ed7953"
             ],
             [
              0.7777777777777778,
              "#fb9f3a"
             ],
             [
              0.8888888888888888,
              "#fdca26"
             ],
             [
              1,
              "#f0f921"
             ]
            ],
            "type": "histogram2dcontour"
           }
          ],
          "mesh3d": [
           {
            "colorbar": {
             "outlinewidth": 0,
             "ticks": ""
            },
            "type": "mesh3d"
           }
          ],
          "parcoords": [
           {
            "line": {
             "colorbar": {
              "outlinewidth": 0,
              "ticks": ""
             }
            },
            "type": "parcoords"
           }
          ],
          "pie": [
           {
            "automargin": true,
            "type": "pie"
           }
          ],
          "scatter": [
           {
            "fillpattern": {
             "fillmode": "overlay",
             "size": 10,
             "solidity": 0.2
            },
            "type": "scatter"
           }
          ],
          "scatter3d": [
           {
            "line": {
             "colorbar": {
              "outlinewidth": 0,
              "ticks": ""
             }
            },
            "marker": {
             "colorbar": {
              "outlinewidth": 0,
              "ticks": ""
             }
            },
            "type": "scatter3d"
           }
          ],
          "scattercarpet": [
           {
            "marker": {
             "colorbar": {
              "outlinewidth": 0,
              "ticks": ""
             }
            },
            "type": "scattercarpet"
           }
          ],
          "scattergeo": [
           {
            "marker": {
             "colorbar": {
              "outlinewidth": 0,
              "ticks": ""
             }
            },
            "type": "scattergeo"
           }
          ],
          "scattergl": [
           {
            "marker": {
             "colorbar": {
              "outlinewidth": 0,
              "ticks": ""
             }
            },
            "type": "scattergl"
           }
          ],
          "scattermapbox": [
           {
            "marker": {
             "colorbar": {
              "outlinewidth": 0,
              "ticks": ""
             }
            },
            "type": "scattermapbox"
           }
          ],
          "scatterpolar": [
           {
            "marker": {
             "colorbar": {
              "outlinewidth": 0,
              "ticks": ""
             }
            },
            "type": "scatterpolar"
           }
          ],
          "scatterpolargl": [
           {
            "marker": {
             "colorbar": {
              "outlinewidth": 0,
              "ticks": ""
             }
            },
            "type": "scatterpolargl"
           }
          ],
          "scatterternary": [
           {
            "marker": {
             "colorbar": {
              "outlinewidth": 0,
              "ticks": ""
             }
            },
            "type": "scatterternary"
           }
          ],
          "surface": [
           {
            "colorbar": {
             "outlinewidth": 0,
             "ticks": ""
            },
            "colorscale": [
             [
              0,
              "#0d0887"
             ],
             [
              0.1111111111111111,
              "#46039f"
             ],
             [
              0.2222222222222222,
              "#7201a8"
             ],
             [
              0.3333333333333333,
              "#9c179e"
             ],
             [
              0.4444444444444444,
              "#bd3786"
             ],
             [
              0.5555555555555556,
              "#d8576b"
             ],
             [
              0.6666666666666666,
              "#ed7953"
             ],
             [
              0.7777777777777778,
              "#fb9f3a"
             ],
             [
              0.8888888888888888,
              "#fdca26"
             ],
             [
              1,
              "#f0f921"
             ]
            ],
            "type": "surface"
           }
          ],
          "table": [
           {
            "cells": {
             "fill": {
              "color": "#EBF0F8"
             },
             "line": {
              "color": "white"
             }
            },
            "header": {
             "fill": {
              "color": "#C8D4E3"
             },
             "line": {
              "color": "white"
             }
            },
            "type": "table"
           }
          ]
         },
         "layout": {
          "annotationdefaults": {
           "arrowcolor": "#2a3f5f",
           "arrowhead": 0,
           "arrowwidth": 1
          },
          "autotypenumbers": "strict",
          "coloraxis": {
           "colorbar": {
            "outlinewidth": 0,
            "ticks": ""
           }
          },
          "colorscale": {
           "diverging": [
            [
             0,
             "#8e0152"
            ],
            [
             0.1,
             "#c51b7d"
            ],
            [
             0.2,
             "#de77ae"
            ],
            [
             0.3,
             "#f1b6da"
            ],
            [
             0.4,
             "#fde0ef"
            ],
            [
             0.5,
             "#f7f7f7"
            ],
            [
             0.6,
             "#e6f5d0"
            ],
            [
             0.7,
             "#b8e186"
            ],
            [
             0.8,
             "#7fbc41"
            ],
            [
             0.9,
             "#4d9221"
            ],
            [
             1,
             "#276419"
            ]
           ],
           "sequential": [
            [
             0,
             "#0d0887"
            ],
            [
             0.1111111111111111,
             "#46039f"
            ],
            [
             0.2222222222222222,
             "#7201a8"
            ],
            [
             0.3333333333333333,
             "#9c179e"
            ],
            [
             0.4444444444444444,
             "#bd3786"
            ],
            [
             0.5555555555555556,
             "#d8576b"
            ],
            [
             0.6666666666666666,
             "#ed7953"
            ],
            [
             0.7777777777777778,
             "#fb9f3a"
            ],
            [
             0.8888888888888888,
             "#fdca26"
            ],
            [
             1,
             "#f0f921"
            ]
           ],
           "sequentialminus": [
            [
             0,
             "#0d0887"
            ],
            [
             0.1111111111111111,
             "#46039f"
            ],
            [
             0.2222222222222222,
             "#7201a8"
            ],
            [
             0.3333333333333333,
             "#9c179e"
            ],
            [
             0.4444444444444444,
             "#bd3786"
            ],
            [
             0.5555555555555556,
             "#d8576b"
            ],
            [
             0.6666666666666666,
             "#ed7953"
            ],
            [
             0.7777777777777778,
             "#fb9f3a"
            ],
            [
             0.8888888888888888,
             "#fdca26"
            ],
            [
             1,
             "#f0f921"
            ]
           ]
          },
          "colorway": [
           "#636efa",
           "#EF553B",
           "#00cc96",
           "#ab63fa",
           "#FFA15A",
           "#19d3f3",
           "#FF6692",
           "#B6E880",
           "#FF97FF",
           "#FECB52"
          ],
          "font": {
           "color": "#2a3f5f"
          },
          "geo": {
           "bgcolor": "white",
           "lakecolor": "white",
           "landcolor": "#E5ECF6",
           "showlakes": true,
           "showland": true,
           "subunitcolor": "white"
          },
          "hoverlabel": {
           "align": "left"
          },
          "hovermode": "closest",
          "mapbox": {
           "style": "light"
          },
          "paper_bgcolor": "white",
          "plot_bgcolor": "#E5ECF6",
          "polar": {
           "angularaxis": {
            "gridcolor": "white",
            "linecolor": "white",
            "ticks": ""
           },
           "bgcolor": "#E5ECF6",
           "radialaxis": {
            "gridcolor": "white",
            "linecolor": "white",
            "ticks": ""
           }
          },
          "scene": {
           "xaxis": {
            "backgroundcolor": "#E5ECF6",
            "gridcolor": "white",
            "gridwidth": 2,
            "linecolor": "white",
            "showbackground": true,
            "ticks": "",
            "zerolinecolor": "white"
           },
           "yaxis": {
            "backgroundcolor": "#E5ECF6",
            "gridcolor": "white",
            "gridwidth": 2,
            "linecolor": "white",
            "showbackground": true,
            "ticks": "",
            "zerolinecolor": "white"
           },
           "zaxis": {
            "backgroundcolor": "#E5ECF6",
            "gridcolor": "white",
            "gridwidth": 2,
            "linecolor": "white",
            "showbackground": true,
            "ticks": "",
            "zerolinecolor": "white"
           }
          },
          "shapedefaults": {
           "line": {
            "color": "#2a3f5f"
           }
          },
          "ternary": {
           "aaxis": {
            "gridcolor": "white",
            "linecolor": "white",
            "ticks": ""
           },
           "baxis": {
            "gridcolor": "white",
            "linecolor": "white",
            "ticks": ""
           },
           "bgcolor": "#E5ECF6",
           "caxis": {
            "gridcolor": "white",
            "linecolor": "white",
            "ticks": ""
           }
          },
          "title": {
           "x": 0.05
          },
          "xaxis": {
           "automargin": true,
           "gridcolor": "white",
           "linecolor": "white",
           "ticks": "",
           "title": {
            "standoff": 15
           },
           "zerolinecolor": "white",
           "zerolinewidth": 2
          },
          "yaxis": {
           "automargin": true,
           "gridcolor": "white",
           "linecolor": "white",
           "ticks": "",
           "title": {
            "standoff": 15
           },
           "zerolinecolor": "white",
           "zerolinewidth": 2
          }
         }
        },
        "title": {
         "text": "Experiments/1_anonymize_parties"
        },
        "xaxis": {
         "anchor": "y",
         "domain": [
          0,
          1
         ],
         "title": {
          "text": "Party"
         }
        },
        "yaxis": {
         "anchor": "x",
         "domain": [
          0,
          1
         ],
         "title": {
          "text": "answer_relevancy"
         }
        }
       }
      }
     },
     "metadata": {},
     "output_type": "display_data"
    }
   ],
   "source": [
    "metric_id = 0\n",
    "df_plot = pd.DataFrame()\n",
    "for file_name in metrics_files:\n",
    "    df = pd.read_csv(file_name, header=[0, 1], index_col=[0, 1])\n",
    "    metrics = list(set(df.columns.get_level_values(0)))\n",
    "    experiment_run = \"_\".join(os.path.basename(file_name).split(\"_\")[1:]).split(\".\")[0]\n",
    "    df_plot[experiment_run] = df[metrics[metric_id]].mean(axis=0)\n",
    "\n",
    "\n",
    "df = pd.DataFrame(df_plot).reset_index().rename(columns={\"index\": \"party\"})\n",
    "df_melted = df.melt(id_vars=[\"party\"], var_name=\"category\", value_name=\"value\")\n",
    "print(df_melted.groupby(\"category\")[\"value\"].mean())\n",
    "px.bar(\n",
    "    df_melted,\n",
    "    x=\"party\",\n",
    "    y=\"value\",\n",
    "    color=\"category\",\n",
    "    barmode=\"group\",\n",
    "    labels={\"value\": metrics[metric_id], \"party\": \"Party\"},\n",
    "    title=f\"{experiment}\",\n",
    ")"
   ]
  },
  {
   "cell_type": "code",
   "execution_count": 160,
   "metadata": {},
   "outputs": [
    {
     "name": "stdout",
     "output_type": "stream",
     "text": [
      "category\n",
      "1b_parties_anonymous    0.613239\n",
      "Name: value, dtype: float64\n"
     ]
    },
    {
     "data": {
      "application/vnd.plotly.v1+json": {
       "config": {
        "plotlyServerURL": "https://plot.ly"
       },
       "data": [
        {
         "alignmentgroup": "True",
         "hovertemplate": "category=1b_parties_anonymous<br>Party=%{x}<br>faithfulness=%{y}<extra></extra>",
         "legendgroup": "1b_parties_anonymous",
         "marker": {
          "color": "#636efa",
          "pattern": {
           "shape": ""
          }
         },
         "name": "1b_parties_anonymous",
         "offsetgroup": "1b_parties_anonymous",
         "orientation": "v",
         "showlegend": true,
         "textposition": "auto",
         "type": "bar",
         "x": [
          "afd",
          "cdu",
          "fdp",
          "gruene",
          "linke",
          "spd"
         ],
         "xaxis": "x",
         "y": [
          0.462952380952381,
          0.6000000000000001,
          0.605072463768116,
          0.653615520282187,
          0.7456140350877193,
          0.6121794871794871
         ],
         "yaxis": "y"
        }
       ],
       "layout": {
        "barmode": "group",
        "legend": {
         "title": {
          "text": "category"
         },
         "tracegroupgap": 0
        },
        "template": {
         "data": {
          "bar": [
           {
            "error_x": {
             "color": "#2a3f5f"
            },
            "error_y": {
             "color": "#2a3f5f"
            },
            "marker": {
             "line": {
              "color": "#E5ECF6",
              "width": 0.5
             },
             "pattern": {
              "fillmode": "overlay",
              "size": 10,
              "solidity": 0.2
             }
            },
            "type": "bar"
           }
          ],
          "barpolar": [
           {
            "marker": {
             "line": {
              "color": "#E5ECF6",
              "width": 0.5
             },
             "pattern": {
              "fillmode": "overlay",
              "size": 10,
              "solidity": 0.2
             }
            },
            "type": "barpolar"
           }
          ],
          "carpet": [
           {
            "aaxis": {
             "endlinecolor": "#2a3f5f",
             "gridcolor": "white",
             "linecolor": "white",
             "minorgridcolor": "white",
             "startlinecolor": "#2a3f5f"
            },
            "baxis": {
             "endlinecolor": "#2a3f5f",
             "gridcolor": "white",
             "linecolor": "white",
             "minorgridcolor": "white",
             "startlinecolor": "#2a3f5f"
            },
            "type": "carpet"
           }
          ],
          "choropleth": [
           {
            "colorbar": {
             "outlinewidth": 0,
             "ticks": ""
            },
            "type": "choropleth"
           }
          ],
          "contour": [
           {
            "colorbar": {
             "outlinewidth": 0,
             "ticks": ""
            },
            "colorscale": [
             [
              0,
              "#0d0887"
             ],
             [
              0.1111111111111111,
              "#46039f"
             ],
             [
              0.2222222222222222,
              "#7201a8"
             ],
             [
              0.3333333333333333,
              "#9c179e"
             ],
             [
              0.4444444444444444,
              "#bd3786"
             ],
             [
              0.5555555555555556,
              "#d8576b"
             ],
             [
              0.6666666666666666,
              "#ed7953"
             ],
             [
              0.7777777777777778,
              "#fb9f3a"
             ],
             [
              0.8888888888888888,
              "#fdca26"
             ],
             [
              1,
              "#f0f921"
             ]
            ],
            "type": "contour"
           }
          ],
          "contourcarpet": [
           {
            "colorbar": {
             "outlinewidth": 0,
             "ticks": ""
            },
            "type": "contourcarpet"
           }
          ],
          "heatmap": [
           {
            "colorbar": {
             "outlinewidth": 0,
             "ticks": ""
            },
            "colorscale": [
             [
              0,
              "#0d0887"
             ],
             [
              0.1111111111111111,
              "#46039f"
             ],
             [
              0.2222222222222222,
              "#7201a8"
             ],
             [
              0.3333333333333333,
              "#9c179e"
             ],
             [
              0.4444444444444444,
              "#bd3786"
             ],
             [
              0.5555555555555556,
              "#d8576b"
             ],
             [
              0.6666666666666666,
              "#ed7953"
             ],
             [
              0.7777777777777778,
              "#fb9f3a"
             ],
             [
              0.8888888888888888,
              "#fdca26"
             ],
             [
              1,
              "#f0f921"
             ]
            ],
            "type": "heatmap"
           }
          ],
          "heatmapgl": [
           {
            "colorbar": {
             "outlinewidth": 0,
             "ticks": ""
            },
            "colorscale": [
             [
              0,
              "#0d0887"
             ],
             [
              0.1111111111111111,
              "#46039f"
             ],
             [
              0.2222222222222222,
              "#7201a8"
             ],
             [
              0.3333333333333333,
              "#9c179e"
             ],
             [
              0.4444444444444444,
              "#bd3786"
             ],
             [
              0.5555555555555556,
              "#d8576b"
             ],
             [
              0.6666666666666666,
              "#ed7953"
             ],
             [
              0.7777777777777778,
              "#fb9f3a"
             ],
             [
              0.8888888888888888,
              "#fdca26"
             ],
             [
              1,
              "#f0f921"
             ]
            ],
            "type": "heatmapgl"
           }
          ],
          "histogram": [
           {
            "marker": {
             "pattern": {
              "fillmode": "overlay",
              "size": 10,
              "solidity": 0.2
             }
            },
            "type": "histogram"
           }
          ],
          "histogram2d": [
           {
            "colorbar": {
             "outlinewidth": 0,
             "ticks": ""
            },
            "colorscale": [
             [
              0,
              "#0d0887"
             ],
             [
              0.1111111111111111,
              "#46039f"
             ],
             [
              0.2222222222222222,
              "#7201a8"
             ],
             [
              0.3333333333333333,
              "#9c179e"
             ],
             [
              0.4444444444444444,
              "#bd3786"
             ],
             [
              0.5555555555555556,
              "#d8576b"
             ],
             [
              0.6666666666666666,
              "#ed7953"
             ],
             [
              0.7777777777777778,
              "#fb9f3a"
             ],
             [
              0.8888888888888888,
              "#fdca26"
             ],
             [
              1,
              "#f0f921"
             ]
            ],
            "type": "histogram2d"
           }
          ],
          "histogram2dcontour": [
           {
            "colorbar": {
             "outlinewidth": 0,
             "ticks": ""
            },
            "colorscale": [
             [
              0,
              "#0d0887"
             ],
             [
              0.1111111111111111,
              "#46039f"
             ],
             [
              0.2222222222222222,
              "#7201a8"
             ],
             [
              0.3333333333333333,
              "#9c179e"
             ],
             [
              0.4444444444444444,
              "#bd3786"
             ],
             [
              0.5555555555555556,
              "#d8576b"
             ],
             [
              0.6666666666666666,
              "#ed7953"
             ],
             [
              0.7777777777777778,
              "#fb9f3a"
             ],
             [
              0.8888888888888888,
              "#fdca26"
             ],
             [
              1,
              "#f0f921"
             ]
            ],
            "type": "histogram2dcontour"
           }
          ],
          "mesh3d": [
           {
            "colorbar": {
             "outlinewidth": 0,
             "ticks": ""
            },
            "type": "mesh3d"
           }
          ],
          "parcoords": [
           {
            "line": {
             "colorbar": {
              "outlinewidth": 0,
              "ticks": ""
             }
            },
            "type": "parcoords"
           }
          ],
          "pie": [
           {
            "automargin": true,
            "type": "pie"
           }
          ],
          "scatter": [
           {
            "fillpattern": {
             "fillmode": "overlay",
             "size": 10,
             "solidity": 0.2
            },
            "type": "scatter"
           }
          ],
          "scatter3d": [
           {
            "line": {
             "colorbar": {
              "outlinewidth": 0,
              "ticks": ""
             }
            },
            "marker": {
             "colorbar": {
              "outlinewidth": 0,
              "ticks": ""
             }
            },
            "type": "scatter3d"
           }
          ],
          "scattercarpet": [
           {
            "marker": {
             "colorbar": {
              "outlinewidth": 0,
              "ticks": ""
             }
            },
            "type": "scattercarpet"
           }
          ],
          "scattergeo": [
           {
            "marker": {
             "colorbar": {
              "outlinewidth": 0,
              "ticks": ""
             }
            },
            "type": "scattergeo"
           }
          ],
          "scattergl": [
           {
            "marker": {
             "colorbar": {
              "outlinewidth": 0,
              "ticks": ""
             }
            },
            "type": "scattergl"
           }
          ],
          "scattermapbox": [
           {
            "marker": {
             "colorbar": {
              "outlinewidth": 0,
              "ticks": ""
             }
            },
            "type": "scattermapbox"
           }
          ],
          "scatterpolar": [
           {
            "marker": {
             "colorbar": {
              "outlinewidth": 0,
              "ticks": ""
             }
            },
            "type": "scatterpolar"
           }
          ],
          "scatterpolargl": [
           {
            "marker": {
             "colorbar": {
              "outlinewidth": 0,
              "ticks": ""
             }
            },
            "type": "scatterpolargl"
           }
          ],
          "scatterternary": [
           {
            "marker": {
             "colorbar": {
              "outlinewidth": 0,
              "ticks": ""
             }
            },
            "type": "scatterternary"
           }
          ],
          "surface": [
           {
            "colorbar": {
             "outlinewidth": 0,
             "ticks": ""
            },
            "colorscale": [
             [
              0,
              "#0d0887"
             ],
             [
              0.1111111111111111,
              "#46039f"
             ],
             [
              0.2222222222222222,
              "#7201a8"
             ],
             [
              0.3333333333333333,
              "#9c179e"
             ],
             [
              0.4444444444444444,
              "#bd3786"
             ],
             [
              0.5555555555555556,
              "#d8576b"
             ],
             [
              0.6666666666666666,
              "#ed7953"
             ],
             [
              0.7777777777777778,
              "#fb9f3a"
             ],
             [
              0.8888888888888888,
              "#fdca26"
             ],
             [
              1,
              "#f0f921"
             ]
            ],
            "type": "surface"
           }
          ],
          "table": [
           {
            "cells": {
             "fill": {
              "color": "#EBF0F8"
             },
             "line": {
              "color": "white"
             }
            },
            "header": {
             "fill": {
              "color": "#C8D4E3"
             },
             "line": {
              "color": "white"
             }
            },
            "type": "table"
           }
          ]
         },
         "layout": {
          "annotationdefaults": {
           "arrowcolor": "#2a3f5f",
           "arrowhead": 0,
           "arrowwidth": 1
          },
          "autotypenumbers": "strict",
          "coloraxis": {
           "colorbar": {
            "outlinewidth": 0,
            "ticks": ""
           }
          },
          "colorscale": {
           "diverging": [
            [
             0,
             "#8e0152"
            ],
            [
             0.1,
             "#c51b7d"
            ],
            [
             0.2,
             "#de77ae"
            ],
            [
             0.3,
             "#f1b6da"
            ],
            [
             0.4,
             "#fde0ef"
            ],
            [
             0.5,
             "#f7f7f7"
            ],
            [
             0.6,
             "#e6f5d0"
            ],
            [
             0.7,
             "#b8e186"
            ],
            [
             0.8,
             "#7fbc41"
            ],
            [
             0.9,
             "#4d9221"
            ],
            [
             1,
             "#276419"
            ]
           ],
           "sequential": [
            [
             0,
             "#0d0887"
            ],
            [
             0.1111111111111111,
             "#46039f"
            ],
            [
             0.2222222222222222,
             "#7201a8"
            ],
            [
             0.3333333333333333,
             "#9c179e"
            ],
            [
             0.4444444444444444,
             "#bd3786"
            ],
            [
             0.5555555555555556,
             "#d8576b"
            ],
            [
             0.6666666666666666,
             "#ed7953"
            ],
            [
             0.7777777777777778,
             "#fb9f3a"
            ],
            [
             0.8888888888888888,
             "#fdca26"
            ],
            [
             1,
             "#f0f921"
            ]
           ],
           "sequentialminus": [
            [
             0,
             "#0d0887"
            ],
            [
             0.1111111111111111,
             "#46039f"
            ],
            [
             0.2222222222222222,
             "#7201a8"
            ],
            [
             0.3333333333333333,
             "#9c179e"
            ],
            [
             0.4444444444444444,
             "#bd3786"
            ],
            [
             0.5555555555555556,
             "#d8576b"
            ],
            [
             0.6666666666666666,
             "#ed7953"
            ],
            [
             0.7777777777777778,
             "#fb9f3a"
            ],
            [
             0.8888888888888888,
             "#fdca26"
            ],
            [
             1,
             "#f0f921"
            ]
           ]
          },
          "colorway": [
           "#636efa",
           "#EF553B",
           "#00cc96",
           "#ab63fa",
           "#FFA15A",
           "#19d3f3",
           "#FF6692",
           "#B6E880",
           "#FF97FF",
           "#FECB52"
          ],
          "font": {
           "color": "#2a3f5f"
          },
          "geo": {
           "bgcolor": "white",
           "lakecolor": "white",
           "landcolor": "#E5ECF6",
           "showlakes": true,
           "showland": true,
           "subunitcolor": "white"
          },
          "hoverlabel": {
           "align": "left"
          },
          "hovermode": "closest",
          "mapbox": {
           "style": "light"
          },
          "paper_bgcolor": "white",
          "plot_bgcolor": "#E5ECF6",
          "polar": {
           "angularaxis": {
            "gridcolor": "white",
            "linecolor": "white",
            "ticks": ""
           },
           "bgcolor": "#E5ECF6",
           "radialaxis": {
            "gridcolor": "white",
            "linecolor": "white",
            "ticks": ""
           }
          },
          "scene": {
           "xaxis": {
            "backgroundcolor": "#E5ECF6",
            "gridcolor": "white",
            "gridwidth": 2,
            "linecolor": "white",
            "showbackground": true,
            "ticks": "",
            "zerolinecolor": "white"
           },
           "yaxis": {
            "backgroundcolor": "#E5ECF6",
            "gridcolor": "white",
            "gridwidth": 2,
            "linecolor": "white",
            "showbackground": true,
            "ticks": "",
            "zerolinecolor": "white"
           },
           "zaxis": {
            "backgroundcolor": "#E5ECF6",
            "gridcolor": "white",
            "gridwidth": 2,
            "linecolor": "white",
            "showbackground": true,
            "ticks": "",
            "zerolinecolor": "white"
           }
          },
          "shapedefaults": {
           "line": {
            "color": "#2a3f5f"
           }
          },
          "ternary": {
           "aaxis": {
            "gridcolor": "white",
            "linecolor": "white",
            "ticks": ""
           },
           "baxis": {
            "gridcolor": "white",
            "linecolor": "white",
            "ticks": ""
           },
           "bgcolor": "#E5ECF6",
           "caxis": {
            "gridcolor": "white",
            "linecolor": "white",
            "ticks": ""
           }
          },
          "title": {
           "x": 0.05
          },
          "xaxis": {
           "automargin": true,
           "gridcolor": "white",
           "linecolor": "white",
           "ticks": "",
           "title": {
            "standoff": 15
           },
           "zerolinecolor": "white",
           "zerolinewidth": 2
          },
          "yaxis": {
           "automargin": true,
           "gridcolor": "white",
           "linecolor": "white",
           "ticks": "",
           "title": {
            "standoff": 15
           },
           "zerolinecolor": "white",
           "zerolinewidth": 2
          }
         }
        },
        "title": {
         "text": "Experiments/1_anonymize_parties"
        },
        "xaxis": {
         "anchor": "y",
         "domain": [
          0,
          1
         ],
         "title": {
          "text": "Party"
         }
        },
        "yaxis": {
         "anchor": "x",
         "domain": [
          0,
          1
         ],
         "title": {
          "text": "faithfulness"
         }
        }
       }
      }
     },
     "metadata": {},
     "output_type": "display_data"
    }
   ],
   "source": [
    "metric_id = 1\n",
    "df_plot = pd.DataFrame()\n",
    "for file_name in metrics_files:\n",
    "    df = pd.read_csv(file_name, header=[0, 1], index_col=[0, 1])\n",
    "    metrics = list(set(df.columns.get_level_values(0)))\n",
    "    experiment_run = \"_\".join(os.path.basename(file_name).split(\"_\")[1:]).split(\".\")[0]\n",
    "    df_plot[experiment_run] = df[metrics[metric_id]].mean(axis=0)\n",
    "\n",
    "\n",
    "df = pd.DataFrame(df_plot).reset_index().rename(columns={\"index\": \"party\"})\n",
    "df_melted = df.melt(id_vars=[\"party\"], var_name=\"category\", value_name=\"value\")\n",
    "print(df_melted.groupby(\"category\")[\"value\"].mean())\n",
    "px.bar(\n",
    "    df_melted,\n",
    "    x=\"party\",\n",
    "    y=\"value\",\n",
    "    color=\"category\",\n",
    "    barmode=\"group\",\n",
    "    labels={\"value\": metrics[metric_id], \"party\": \"Party\"},\n",
    "    title=f\"{experiment}\",\n",
    ")"
   ]
  },
  {
   "cell_type": "code",
   "execution_count": 161,
   "metadata": {},
   "outputs": [
    {
     "data": {
      "text/html": [
       "<div>\n",
       "<style scoped>\n",
       "    .dataframe tbody tr th:only-of-type {\n",
       "        vertical-align: middle;\n",
       "    }\n",
       "\n",
       "    .dataframe tbody tr th {\n",
       "        vertical-align: top;\n",
       "    }\n",
       "\n",
       "    .dataframe thead tr th {\n",
       "        text-align: left;\n",
       "    }\n",
       "</style>\n",
       "<table border=\"1\" class=\"dataframe\">\n",
       "  <thead>\n",
       "    <tr>\n",
       "      <th></th>\n",
       "      <th></th>\n",
       "      <th colspan=\"5\" halign=\"left\">answer_relevancy</th>\n",
       "      <th colspan=\"6\" halign=\"left\">faithfulness</th>\n",
       "    </tr>\n",
       "    <tr>\n",
       "      <th></th>\n",
       "      <th></th>\n",
       "      <th>cdu</th>\n",
       "      <th>fdp</th>\n",
       "      <th>gruene</th>\n",
       "      <th>linke</th>\n",
       "      <th>spd</th>\n",
       "      <th>afd</th>\n",
       "      <th>cdu</th>\n",
       "      <th>fdp</th>\n",
       "      <th>gruene</th>\n",
       "      <th>linke</th>\n",
       "      <th>spd</th>\n",
       "    </tr>\n",
       "  </thead>\n",
       "  <tbody>\n",
       "    <tr>\n",
       "      <th>Sind die Parteien dafür, weiterhin Energie aus Kohle und Atomkraft zu nutzen?</th>\n",
       "      <th>0.878413</th>\n",
       "      <td>0.000000</td>\n",
       "      <td>0.839673</td>\n",
       "      <td>0.900071</td>\n",
       "      <td>0.829546</td>\n",
       "      <td>0.929800</td>\n",
       "      <td>0.666667</td>\n",
       "      <td>NaN</td>\n",
       "      <td>0.500000</td>\n",
       "      <td>1.000000</td>\n",
       "      <td>NaN</td>\n",
       "      <td>NaN</td>\n",
       "    </tr>\n",
       "    <tr>\n",
       "      <th>Sollen Männer mit Männern und Frauen mit Frauen heiraten dürfen?</th>\n",
       "      <th>0.000000</th>\n",
       "      <td>0.854971</td>\n",
       "      <td>0.853502</td>\n",
       "      <td>0.768145</td>\n",
       "      <td>0.866334</td>\n",
       "      <td>0.857921</td>\n",
       "      <td>NaN</td>\n",
       "      <td>NaN</td>\n",
       "      <td>0.000000</td>\n",
       "      <td>0.500000</td>\n",
       "      <td>0.666667</td>\n",
       "      <td>1.000000</td>\n",
       "    </tr>\n",
       "    <tr>\n",
       "      <th>Sollen mehr Länder in die EU kommen, wie zum Beispiel Länder aus dem Balkan oder die Türkei? Was denken die deutschen Parteien?</th>\n",
       "      <th>0.868932</th>\n",
       "      <td>0.886831</td>\n",
       "      <td>0.857812</td>\n",
       "      <td>0.870518</td>\n",
       "      <td>0.000000</td>\n",
       "      <td>0.841904</td>\n",
       "      <td>0.000000</td>\n",
       "      <td>1.000000</td>\n",
       "      <td>0.000000</td>\n",
       "      <td>0.000000</td>\n",
       "      <td>NaN</td>\n",
       "      <td>1.000000</td>\n",
       "    </tr>\n",
       "    <tr>\n",
       "      <th>Sollen wir in Europa mehr für den Schutz unserer Umwelt tun?</th>\n",
       "      <th>0.000000</th>\n",
       "      <td>0.792130</td>\n",
       "      <td>0.846313</td>\n",
       "      <td>0.855613</td>\n",
       "      <td>0.795717</td>\n",
       "      <td>0.869162</td>\n",
       "      <td>NaN</td>\n",
       "      <td>1.000000</td>\n",
       "      <td>0.800000</td>\n",
       "      <td>0.600000</td>\n",
       "      <td>0.000000</td>\n",
       "      <td>0.000000</td>\n",
       "    </tr>\n",
       "    <tr>\n",
       "      <th>Was denken die Parteien darüber, mehr Geld für die Armee auszugeben, um Europa sicher zu halten?</th>\n",
       "      <th>0.801587</th>\n",
       "      <td>0.871495</td>\n",
       "      <td>0.864332</td>\n",
       "      <td>0.844414</td>\n",
       "      <td>0.848322</td>\n",
       "      <td>0.894478</td>\n",
       "      <td>0.000000</td>\n",
       "      <td>1.000000</td>\n",
       "      <td>1.000000</td>\n",
       "      <td>NaN</td>\n",
       "      <td>1.000000</td>\n",
       "      <td>0.500000</td>\n",
       "    </tr>\n",
       "    <tr>\n",
       "      <th>Was denken die Parteien darüber, wenn Geflüchtete Gesetze brechen und Deutschland verlassen sollen?</th>\n",
       "      <th>0.874381</th>\n",
       "      <td>0.820559</td>\n",
       "      <td>0.833367</td>\n",
       "      <td>0.886407</td>\n",
       "      <td>0.869735</td>\n",
       "      <td>0.000000</td>\n",
       "      <td>1.000000</td>\n",
       "      <td>0.000000</td>\n",
       "      <td>0.000000</td>\n",
       "      <td>1.000000</td>\n",
       "      <td>0.000000</td>\n",
       "      <td>0.666667</td>\n",
       "    </tr>\n",
       "    <tr>\n",
       "      <th>Was denken die Parteien darüber, wie Europa mit China Geschäfte macht und dabei darauf achtet, dass niemand unfair behandelt wird?</th>\n",
       "      <th>0.873926</th>\n",
       "      <td>0.832709</td>\n",
       "      <td>0.884322</td>\n",
       "      <td>0.884936</td>\n",
       "      <td>0.820385</td>\n",
       "      <td>0.870856</td>\n",
       "      <td>0.000000</td>\n",
       "      <td>1.000000</td>\n",
       "      <td>1.000000</td>\n",
       "      <td>1.000000</td>\n",
       "      <td>1.000000</td>\n",
       "      <td>0.000000</td>\n",
       "    </tr>\n",
       "    <tr>\n",
       "      <th>Was denken die Parteien darüber, wie Europa mit anderen Ländern Handel treibt, und dass es dabei gerecht und gut für die Umwelt sein soll?</th>\n",
       "      <th>0.882502</th>\n",
       "      <td>0.820766</td>\n",
       "      <td>0.837436</td>\n",
       "      <td>0.877092</td>\n",
       "      <td>0.821535</td>\n",
       "      <td>0.875281</td>\n",
       "      <td>0.500000</td>\n",
       "      <td>0.000000</td>\n",
       "      <td>0.000000</td>\n",
       "      <td>0.000000</td>\n",
       "      <td>1.000000</td>\n",
       "      <td>1.000000</td>\n",
       "    </tr>\n",
       "    <tr>\n",
       "      <th>Was haben die Parteien für Ideen, um jungen Menschen zu helfen, die keine Arbeit haben?</th>\n",
       "      <th>0.829871</th>\n",
       "      <td>0.813432</td>\n",
       "      <td>0.840770</td>\n",
       "      <td>0.845797</td>\n",
       "      <td>0.826292</td>\n",
       "      <td>0.827228</td>\n",
       "      <td>0.000000</td>\n",
       "      <td>1.000000</td>\n",
       "      <td>1.000000</td>\n",
       "      <td>0.000000</td>\n",
       "      <td>1.000000</td>\n",
       "      <td>0.000000</td>\n",
       "    </tr>\n",
       "    <tr>\n",
       "      <th>Was ist die Meinung der Parteien dazu, wie Menschen, die aus anderen Ländern fliehen, in Europa verteilt werden sollen?</th>\n",
       "      <th>0.879291</th>\n",
       "      <td>0.861676</td>\n",
       "      <td>0.886524</td>\n",
       "      <td>0.833686</td>\n",
       "      <td>0.826297</td>\n",
       "      <td>0.835398</td>\n",
       "      <td>1.000000</td>\n",
       "      <td>0.200000</td>\n",
       "      <td>1.000000</td>\n",
       "      <td>0.666667</td>\n",
       "      <td>1.000000</td>\n",
       "      <td>0.500000</td>\n",
       "    </tr>\n",
       "    <tr>\n",
       "      <th>Was meinen die Parteien, wie viel die Regeln aus Europa Deutschland beeinflussen dürfen?</th>\n",
       "      <th>0.845925</th>\n",
       "      <td>0.859414</td>\n",
       "      <td>0.851288</td>\n",
       "      <td>0.845794</td>\n",
       "      <td>0.842221</td>\n",
       "      <td>0.843259</td>\n",
       "      <td>0.800000</td>\n",
       "      <td>1.000000</td>\n",
       "      <td>0.600000</td>\n",
       "      <td>0.500000</td>\n",
       "      <td>NaN</td>\n",
       "      <td>0.750000</td>\n",
       "    </tr>\n",
       "    <tr>\n",
       "      <th>Was sagen die Parteien zu Kameras und Technik, die dabei helfen, Verbrechen zu stoppen, ohne dass unsere Privatsphäre gestört wird?</th>\n",
       "      <th>0.826664</th>\n",
       "      <td>0.000000</td>\n",
       "      <td>0.849931</td>\n",
       "      <td>0.845828</td>\n",
       "      <td>0.000000</td>\n",
       "      <td>0.833890</td>\n",
       "      <td>1.000000</td>\n",
       "      <td>NaN</td>\n",
       "      <td>NaN</td>\n",
       "      <td>1.000000</td>\n",
       "      <td>NaN</td>\n",
       "      <td>1.000000</td>\n",
       "    </tr>\n",
       "    <tr>\n",
       "      <th>Was sagen die Parteien, wie wir Transgender-Menschen helfen und dafür sorgen können, dass alle fair behandelt werden?</th>\n",
       "      <th>0.829255</th>\n",
       "      <td>0.839947</td>\n",
       "      <td>0.828579</td>\n",
       "      <td>0.783746</td>\n",
       "      <td>0.809851</td>\n",
       "      <td>0.811118</td>\n",
       "      <td>NaN</td>\n",
       "      <td>1.000000</td>\n",
       "      <td>0.666667</td>\n",
       "      <td>1.000000</td>\n",
       "      <td>1.000000</td>\n",
       "      <td>1.000000</td>\n",
       "    </tr>\n",
       "    <tr>\n",
       "      <th>Was sind die Ideen der Parteien, um Europa in Dingen wie Computern und neuen Erfindungen besser zu machen?</th>\n",
       "      <th>0.865675</th>\n",
       "      <td>0.849869</td>\n",
       "      <td>0.859940</td>\n",
       "      <td>0.865281</td>\n",
       "      <td>0.832807</td>\n",
       "      <td>0.856496</td>\n",
       "      <td>0.000000</td>\n",
       "      <td>1.000000</td>\n",
       "      <td>0.833333</td>\n",
       "      <td>1.000000</td>\n",
       "      <td>NaN</td>\n",
       "      <td>1.000000</td>\n",
       "    </tr>\n",
       "    <tr>\n",
       "      <th>Was wollen die Parteien tun, damit es Tieren auf den Bauernhöfen und bei der Herstellung von Essen besser geht?</th>\n",
       "      <th>0.860412</th>\n",
       "      <td>0.916002</td>\n",
       "      <td>0.861993</td>\n",
       "      <td>0.863968</td>\n",
       "      <td>0.000000</td>\n",
       "      <td>0.862189</td>\n",
       "      <td>0.000000</td>\n",
       "      <td>0.000000</td>\n",
       "      <td>0.600000</td>\n",
       "      <td>0.000000</td>\n",
       "      <td>NaN</td>\n",
       "      <td>0.000000</td>\n",
       "    </tr>\n",
       "    <tr>\n",
       "      <th>Was wollen die Parteien tun, um die christliche Religion in Europa zu unterstützen?</th>\n",
       "      <th>0.834172</th>\n",
       "      <td>0.887055</td>\n",
       "      <td>0.000000</td>\n",
       "      <td>0.858132</td>\n",
       "      <td>0.000000</td>\n",
       "      <td>0.832171</td>\n",
       "      <td>0.000000</td>\n",
       "      <td>NaN</td>\n",
       "      <td>1.000000</td>\n",
       "      <td>1.000000</td>\n",
       "      <td>NaN</td>\n",
       "      <td>0.500000</td>\n",
       "    </tr>\n",
       "    <tr>\n",
       "      <th>Welche Ideen haben die Parteien, damit alle sich sicher fühlen können?</th>\n",
       "      <th>0.854213</th>\n",
       "      <td>0.861659</td>\n",
       "      <td>0.858176</td>\n",
       "      <td>0.859133</td>\n",
       "      <td>0.000000</td>\n",
       "      <td>0.864105</td>\n",
       "      <td>1.000000</td>\n",
       "      <td>0.000000</td>\n",
       "      <td>0.000000</td>\n",
       "      <td>1.000000</td>\n",
       "      <td>NaN</td>\n",
       "      <td>1.000000</td>\n",
       "    </tr>\n",
       "    <tr>\n",
       "      <th>Wie denken die Parteien darüber, dass Europa zusammenarbeitet, um weniger dreckige Energie zu nutzen und mehr saubere Energie?</th>\n",
       "      <th>0.822367</th>\n",
       "      <td>0.821991</td>\n",
       "      <td>0.000000</td>\n",
       "      <td>0.833080</td>\n",
       "      <td>0.864743</td>\n",
       "      <td>0.861225</td>\n",
       "      <td>1.000000</td>\n",
       "      <td>1.000000</td>\n",
       "      <td>NaN</td>\n",
       "      <td>0.750000</td>\n",
       "      <td>0.500000</td>\n",
       "      <td>1.000000</td>\n",
       "    </tr>\n",
       "    <tr>\n",
       "      <th>Wie finden die Parteien, dass wir Fische fangen sollten, damit das Meer und die Tiere geschützt werden?</th>\n",
       "      <th>0.884943</th>\n",
       "      <td>0.845443</td>\n",
       "      <td>0.000000</td>\n",
       "      <td>0.909958</td>\n",
       "      <td>0.897339</td>\n",
       "      <td>0.876343</td>\n",
       "      <td>1.000000</td>\n",
       "      <td>0.666667</td>\n",
       "      <td>NaN</td>\n",
       "      <td>1.000000</td>\n",
       "      <td>1.000000</td>\n",
       "      <td>0.333333</td>\n",
       "    </tr>\n",
       "    <tr>\n",
       "      <th>Wie möchten die Parteien Verbrechen stoppen, ohne dass sich Menschen unfair behandelt fühlen?</th>\n",
       "      <th>0.845259</th>\n",
       "      <td>0.838935</td>\n",
       "      <td>0.831793</td>\n",
       "      <td>0.843094</td>\n",
       "      <td>0.846335</td>\n",
       "      <td>0.846311</td>\n",
       "      <td>1.000000</td>\n",
       "      <td>1.000000</td>\n",
       "      <td>0.666667</td>\n",
       "      <td>0.666667</td>\n",
       "      <td>1.000000</td>\n",
       "      <td>1.000000</td>\n",
       "    </tr>\n",
       "    <tr>\n",
       "      <th>Wie möchten die Parteien sicherstellen, dass Europas Armee stark ist und wir trotzdem gut mit anderen Ländern wie den USA zusammenarbeiten?</th>\n",
       "      <th>0.850516</th>\n",
       "      <td>0.838078</td>\n",
       "      <td>0.882123</td>\n",
       "      <td>0.869405</td>\n",
       "      <td>0.853658</td>\n",
       "      <td>0.899847</td>\n",
       "      <td>0.857143</td>\n",
       "      <td>1.000000</td>\n",
       "      <td>1.000000</td>\n",
       "      <td>1.000000</td>\n",
       "      <td>0.500000</td>\n",
       "      <td>1.000000</td>\n",
       "    </tr>\n",
       "    <tr>\n",
       "      <th>Wie möchten die Parteien unsere Geschichte und Kulturen in Europa bewahren und zeigen?</th>\n",
       "      <th>0.831328</th>\n",
       "      <td>0.829969</td>\n",
       "      <td>0.841756</td>\n",
       "      <td>0.841829</td>\n",
       "      <td>0.833182</td>\n",
       "      <td>0.000000</td>\n",
       "      <td>0.000000</td>\n",
       "      <td>1.000000</td>\n",
       "      <td>0.000000</td>\n",
       "      <td>0.714286</td>\n",
       "      <td>0.500000</td>\n",
       "      <td>NaN</td>\n",
       "    </tr>\n",
       "    <tr>\n",
       "      <th>Wie schnell sollen wir in Europa aufhören, dreckige Energie zu nutzen, und was sind die Pläne der Parteien dafür?</th>\n",
       "      <th>0.872768</th>\n",
       "      <td>0.000000</td>\n",
       "      <td>0.000000</td>\n",
       "      <td>0.870098</td>\n",
       "      <td>0.865925</td>\n",
       "      <td>0.850473</td>\n",
       "      <td>0.000000</td>\n",
       "      <td>NaN</td>\n",
       "      <td>NaN</td>\n",
       "      <td>0.250000</td>\n",
       "      <td>1.000000</td>\n",
       "      <td>0.666667</td>\n",
       "    </tr>\n",
       "    <tr>\n",
       "      <th>Wie wollen die Parteien den Bauern helfen, so zu arbeiten, dass es gut für die Natur ist und sie trotzdem Geld verdienen können?</th>\n",
       "      <th>0.839478</th>\n",
       "      <td>0.876501</td>\n",
       "      <td>0.875196</td>\n",
       "      <td>0.875053</td>\n",
       "      <td>0.869049</td>\n",
       "      <td>0.910741</td>\n",
       "      <td>0.000000</td>\n",
       "      <td>0.000000</td>\n",
       "      <td>1.000000</td>\n",
       "      <td>1.000000</td>\n",
       "      <td>1.000000</td>\n",
       "      <td>0.000000</td>\n",
       "    </tr>\n",
       "    <tr>\n",
       "      <th>Wie wollen die Parteien kleinen Bauernhöfen helfen und gleichzeitig darauf achten, dass sie die Natur nicht kaputt machen?</th>\n",
       "      <th>0.862590</th>\n",
       "      <td>0.905788</td>\n",
       "      <td>0.857066</td>\n",
       "      <td>0.840616</td>\n",
       "      <td>0.887693</td>\n",
       "      <td>0.871405</td>\n",
       "      <td>0.000000</td>\n",
       "      <td>0.333333</td>\n",
       "      <td>0.750000</td>\n",
       "      <td>0.000000</td>\n",
       "      <td>1.000000</td>\n",
       "      <td>0.000000</td>\n",
       "    </tr>\n",
       "    <tr>\n",
       "      <th>Wie wollen die Parteien sicherstellen, dass es Tieren beim Züchten und Transportieren gut geht?</th>\n",
       "      <th>0.840166</th>\n",
       "      <td>0.000000</td>\n",
       "      <td>0.000000</td>\n",
       "      <td>0.885000</td>\n",
       "      <td>0.888357</td>\n",
       "      <td>0.814254</td>\n",
       "      <td>1.000000</td>\n",
       "      <td>NaN</td>\n",
       "      <td>NaN</td>\n",
       "      <td>1.000000</td>\n",
       "      <td>1.000000</td>\n",
       "      <td>1.000000</td>\n",
       "    </tr>\n",
       "    <tr>\n",
       "      <th>Wie wollen die Parteien sicherstellen, dass wir im Meer nicht zu viele Fische fangen und die Unterwasserwelt schützen?</th>\n",
       "      <th>0.847177</th>\n",
       "      <td>0.833835</td>\n",
       "      <td>0.854233</td>\n",
       "      <td>0.887970</td>\n",
       "      <td>0.000000</td>\n",
       "      <td>0.880341</td>\n",
       "      <td>0.000000</td>\n",
       "      <td>0.000000</td>\n",
       "      <td>0.500000</td>\n",
       "      <td>0.000000</td>\n",
       "      <td>NaN</td>\n",
       "      <td>0.000000</td>\n",
       "    </tr>\n",
       "    <tr>\n",
       "      <th>Wie wollen die Parteien unsere privaten Informationen schützen, damit die EU nicht zu viel über uns weiß?</th>\n",
       "      <th>0.823265</th>\n",
       "      <td>0.837548</td>\n",
       "      <td>0.901967</td>\n",
       "      <td>0.827753</td>\n",
       "      <td>0.877029</td>\n",
       "      <td>0.844229</td>\n",
       "      <td>0.750000</td>\n",
       "      <td>0.000000</td>\n",
       "      <td>1.000000</td>\n",
       "      <td>1.000000</td>\n",
       "      <td>0.000000</td>\n",
       "      <td>1.000000</td>\n",
       "    </tr>\n",
       "  </tbody>\n",
       "</table>\n",
       "</div>"
      ],
      "text/plain": [
       "                                                            answer_relevancy  \\\n",
       "                                                                         cdu   \n",
       "Sind die Parteien dafür, weiterhin Energie aus ... 0.878413         0.000000   \n",
       "Sollen Männer mit Männern und Frauen mit Frauen... 0.000000         0.854971   \n",
       "Sollen mehr Länder in die EU kommen, wie zum Be... 0.868932         0.886831   \n",
       "Sollen wir in Europa mehr für den Schutz unsere... 0.000000         0.792130   \n",
       "Was denken die Parteien darüber, mehr Geld für ... 0.801587         0.871495   \n",
       "Was denken die Parteien darüber, wenn Geflüchte... 0.874381         0.820559   \n",
       "Was denken die Parteien darüber, wie Europa mit... 0.873926         0.832709   \n",
       "Was denken die Parteien darüber, wie Europa mit... 0.882502         0.820766   \n",
       "Was haben die Parteien für Ideen, um jungen Men... 0.829871         0.813432   \n",
       "Was ist die Meinung der Parteien dazu, wie Mens... 0.879291         0.861676   \n",
       "Was meinen die Parteien, wie viel die Regeln au... 0.845925         0.859414   \n",
       "Was sagen die Parteien zu Kameras und Technik, ... 0.826664         0.000000   \n",
       "Was sagen die Parteien, wie wir Transgender-Men... 0.829255         0.839947   \n",
       "Was sind die Ideen der Parteien, um Europa in D... 0.865675         0.849869   \n",
       "Was wollen die Parteien tun, damit es Tieren au... 0.860412         0.916002   \n",
       "Was wollen die Parteien tun, um die christliche... 0.834172         0.887055   \n",
       "Welche Ideen haben die Parteien, damit alle sic... 0.854213         0.861659   \n",
       "Wie denken die Parteien darüber, dass Europa zu... 0.822367         0.821991   \n",
       "Wie finden die Parteien, dass wir Fische fangen... 0.884943         0.845443   \n",
       "Wie möchten die Parteien Verbrechen stoppen, oh... 0.845259         0.838935   \n",
       "Wie möchten die Parteien sicherstellen, dass Eu... 0.850516         0.838078   \n",
       "Wie möchten die Parteien unsere Geschichte und ... 0.831328         0.829969   \n",
       "Wie schnell sollen wir in Europa aufhören, drec... 0.872768         0.000000   \n",
       "Wie wollen die Parteien den Bauern helfen, so z... 0.839478         0.876501   \n",
       "Wie wollen die Parteien kleinen Bauernhöfen hel... 0.862590         0.905788   \n",
       "Wie wollen die Parteien sicherstellen, dass es ... 0.840166         0.000000   \n",
       "Wie wollen die Parteien sicherstellen, dass wir... 0.847177         0.833835   \n",
       "Wie wollen die Parteien unsere privaten Informa... 0.823265         0.837548   \n",
       "\n",
       "                                                                       \\\n",
       "                                                                  fdp   \n",
       "Sind die Parteien dafür, weiterhin Energie aus ... 0.878413  0.839673   \n",
       "Sollen Männer mit Männern und Frauen mit Frauen... 0.000000  0.853502   \n",
       "Sollen mehr Länder in die EU kommen, wie zum Be... 0.868932  0.857812   \n",
       "Sollen wir in Europa mehr für den Schutz unsere... 0.000000  0.846313   \n",
       "Was denken die Parteien darüber, mehr Geld für ... 0.801587  0.864332   \n",
       "Was denken die Parteien darüber, wenn Geflüchte... 0.874381  0.833367   \n",
       "Was denken die Parteien darüber, wie Europa mit... 0.873926  0.884322   \n",
       "Was denken die Parteien darüber, wie Europa mit... 0.882502  0.837436   \n",
       "Was haben die Parteien für Ideen, um jungen Men... 0.829871  0.840770   \n",
       "Was ist die Meinung der Parteien dazu, wie Mens... 0.879291  0.886524   \n",
       "Was meinen die Parteien, wie viel die Regeln au... 0.845925  0.851288   \n",
       "Was sagen die Parteien zu Kameras und Technik, ... 0.826664  0.849931   \n",
       "Was sagen die Parteien, wie wir Transgender-Men... 0.829255  0.828579   \n",
       "Was sind die Ideen der Parteien, um Europa in D... 0.865675  0.859940   \n",
       "Was wollen die Parteien tun, damit es Tieren au... 0.860412  0.861993   \n",
       "Was wollen die Parteien tun, um die christliche... 0.834172  0.000000   \n",
       "Welche Ideen haben die Parteien, damit alle sic... 0.854213  0.858176   \n",
       "Wie denken die Parteien darüber, dass Europa zu... 0.822367  0.000000   \n",
       "Wie finden die Parteien, dass wir Fische fangen... 0.884943  0.000000   \n",
       "Wie möchten die Parteien Verbrechen stoppen, oh... 0.845259  0.831793   \n",
       "Wie möchten die Parteien sicherstellen, dass Eu... 0.850516  0.882123   \n",
       "Wie möchten die Parteien unsere Geschichte und ... 0.831328  0.841756   \n",
       "Wie schnell sollen wir in Europa aufhören, drec... 0.872768  0.000000   \n",
       "Wie wollen die Parteien den Bauern helfen, so z... 0.839478  0.875196   \n",
       "Wie wollen die Parteien kleinen Bauernhöfen hel... 0.862590  0.857066   \n",
       "Wie wollen die Parteien sicherstellen, dass es ... 0.840166  0.000000   \n",
       "Wie wollen die Parteien sicherstellen, dass wir... 0.847177  0.854233   \n",
       "Wie wollen die Parteien unsere privaten Informa... 0.823265  0.901967   \n",
       "\n",
       "                                                                       \\\n",
       "                                                               gruene   \n",
       "Sind die Parteien dafür, weiterhin Energie aus ... 0.878413  0.900071   \n",
       "Sollen Männer mit Männern und Frauen mit Frauen... 0.000000  0.768145   \n",
       "Sollen mehr Länder in die EU kommen, wie zum Be... 0.868932  0.870518   \n",
       "Sollen wir in Europa mehr für den Schutz unsere... 0.000000  0.855613   \n",
       "Was denken die Parteien darüber, mehr Geld für ... 0.801587  0.844414   \n",
       "Was denken die Parteien darüber, wenn Geflüchte... 0.874381  0.886407   \n",
       "Was denken die Parteien darüber, wie Europa mit... 0.873926  0.884936   \n",
       "Was denken die Parteien darüber, wie Europa mit... 0.882502  0.877092   \n",
       "Was haben die Parteien für Ideen, um jungen Men... 0.829871  0.845797   \n",
       "Was ist die Meinung der Parteien dazu, wie Mens... 0.879291  0.833686   \n",
       "Was meinen die Parteien, wie viel die Regeln au... 0.845925  0.845794   \n",
       "Was sagen die Parteien zu Kameras und Technik, ... 0.826664  0.845828   \n",
       "Was sagen die Parteien, wie wir Transgender-Men... 0.829255  0.783746   \n",
       "Was sind die Ideen der Parteien, um Europa in D... 0.865675  0.865281   \n",
       "Was wollen die Parteien tun, damit es Tieren au... 0.860412  0.863968   \n",
       "Was wollen die Parteien tun, um die christliche... 0.834172  0.858132   \n",
       "Welche Ideen haben die Parteien, damit alle sic... 0.854213  0.859133   \n",
       "Wie denken die Parteien darüber, dass Europa zu... 0.822367  0.833080   \n",
       "Wie finden die Parteien, dass wir Fische fangen... 0.884943  0.909958   \n",
       "Wie möchten die Parteien Verbrechen stoppen, oh... 0.845259  0.843094   \n",
       "Wie möchten die Parteien sicherstellen, dass Eu... 0.850516  0.869405   \n",
       "Wie möchten die Parteien unsere Geschichte und ... 0.831328  0.841829   \n",
       "Wie schnell sollen wir in Europa aufhören, drec... 0.872768  0.870098   \n",
       "Wie wollen die Parteien den Bauern helfen, so z... 0.839478  0.875053   \n",
       "Wie wollen die Parteien kleinen Bauernhöfen hel... 0.862590  0.840616   \n",
       "Wie wollen die Parteien sicherstellen, dass es ... 0.840166  0.885000   \n",
       "Wie wollen die Parteien sicherstellen, dass wir... 0.847177  0.887970   \n",
       "Wie wollen die Parteien unsere privaten Informa... 0.823265  0.827753   \n",
       "\n",
       "                                                                       \\\n",
       "                                                                linke   \n",
       "Sind die Parteien dafür, weiterhin Energie aus ... 0.878413  0.829546   \n",
       "Sollen Männer mit Männern und Frauen mit Frauen... 0.000000  0.866334   \n",
       "Sollen mehr Länder in die EU kommen, wie zum Be... 0.868932  0.000000   \n",
       "Sollen wir in Europa mehr für den Schutz unsere... 0.000000  0.795717   \n",
       "Was denken die Parteien darüber, mehr Geld für ... 0.801587  0.848322   \n",
       "Was denken die Parteien darüber, wenn Geflüchte... 0.874381  0.869735   \n",
       "Was denken die Parteien darüber, wie Europa mit... 0.873926  0.820385   \n",
       "Was denken die Parteien darüber, wie Europa mit... 0.882502  0.821535   \n",
       "Was haben die Parteien für Ideen, um jungen Men... 0.829871  0.826292   \n",
       "Was ist die Meinung der Parteien dazu, wie Mens... 0.879291  0.826297   \n",
       "Was meinen die Parteien, wie viel die Regeln au... 0.845925  0.842221   \n",
       "Was sagen die Parteien zu Kameras und Technik, ... 0.826664  0.000000   \n",
       "Was sagen die Parteien, wie wir Transgender-Men... 0.829255  0.809851   \n",
       "Was sind die Ideen der Parteien, um Europa in D... 0.865675  0.832807   \n",
       "Was wollen die Parteien tun, damit es Tieren au... 0.860412  0.000000   \n",
       "Was wollen die Parteien tun, um die christliche... 0.834172  0.000000   \n",
       "Welche Ideen haben die Parteien, damit alle sic... 0.854213  0.000000   \n",
       "Wie denken die Parteien darüber, dass Europa zu... 0.822367  0.864743   \n",
       "Wie finden die Parteien, dass wir Fische fangen... 0.884943  0.897339   \n",
       "Wie möchten die Parteien Verbrechen stoppen, oh... 0.845259  0.846335   \n",
       "Wie möchten die Parteien sicherstellen, dass Eu... 0.850516  0.853658   \n",
       "Wie möchten die Parteien unsere Geschichte und ... 0.831328  0.833182   \n",
       "Wie schnell sollen wir in Europa aufhören, drec... 0.872768  0.865925   \n",
       "Wie wollen die Parteien den Bauern helfen, so z... 0.839478  0.869049   \n",
       "Wie wollen die Parteien kleinen Bauernhöfen hel... 0.862590  0.887693   \n",
       "Wie wollen die Parteien sicherstellen, dass es ... 0.840166  0.888357   \n",
       "Wie wollen die Parteien sicherstellen, dass wir... 0.847177  0.000000   \n",
       "Wie wollen die Parteien unsere privaten Informa... 0.823265  0.877029   \n",
       "\n",
       "                                                                       \\\n",
       "                                                                  spd   \n",
       "Sind die Parteien dafür, weiterhin Energie aus ... 0.878413  0.929800   \n",
       "Sollen Männer mit Männern und Frauen mit Frauen... 0.000000  0.857921   \n",
       "Sollen mehr Länder in die EU kommen, wie zum Be... 0.868932  0.841904   \n",
       "Sollen wir in Europa mehr für den Schutz unsere... 0.000000  0.869162   \n",
       "Was denken die Parteien darüber, mehr Geld für ... 0.801587  0.894478   \n",
       "Was denken die Parteien darüber, wenn Geflüchte... 0.874381  0.000000   \n",
       "Was denken die Parteien darüber, wie Europa mit... 0.873926  0.870856   \n",
       "Was denken die Parteien darüber, wie Europa mit... 0.882502  0.875281   \n",
       "Was haben die Parteien für Ideen, um jungen Men... 0.829871  0.827228   \n",
       "Was ist die Meinung der Parteien dazu, wie Mens... 0.879291  0.835398   \n",
       "Was meinen die Parteien, wie viel die Regeln au... 0.845925  0.843259   \n",
       "Was sagen die Parteien zu Kameras und Technik, ... 0.826664  0.833890   \n",
       "Was sagen die Parteien, wie wir Transgender-Men... 0.829255  0.811118   \n",
       "Was sind die Ideen der Parteien, um Europa in D... 0.865675  0.856496   \n",
       "Was wollen die Parteien tun, damit es Tieren au... 0.860412  0.862189   \n",
       "Was wollen die Parteien tun, um die christliche... 0.834172  0.832171   \n",
       "Welche Ideen haben die Parteien, damit alle sic... 0.854213  0.864105   \n",
       "Wie denken die Parteien darüber, dass Europa zu... 0.822367  0.861225   \n",
       "Wie finden die Parteien, dass wir Fische fangen... 0.884943  0.876343   \n",
       "Wie möchten die Parteien Verbrechen stoppen, oh... 0.845259  0.846311   \n",
       "Wie möchten die Parteien sicherstellen, dass Eu... 0.850516  0.899847   \n",
       "Wie möchten die Parteien unsere Geschichte und ... 0.831328  0.000000   \n",
       "Wie schnell sollen wir in Europa aufhören, drec... 0.872768  0.850473   \n",
       "Wie wollen die Parteien den Bauern helfen, so z... 0.839478  0.910741   \n",
       "Wie wollen die Parteien kleinen Bauernhöfen hel... 0.862590  0.871405   \n",
       "Wie wollen die Parteien sicherstellen, dass es ... 0.840166  0.814254   \n",
       "Wie wollen die Parteien sicherstellen, dass wir... 0.847177  0.880341   \n",
       "Wie wollen die Parteien unsere privaten Informa... 0.823265  0.844229   \n",
       "\n",
       "                                                            faithfulness  \\\n",
       "                                                                     afd   \n",
       "Sind die Parteien dafür, weiterhin Energie aus ... 0.878413     0.666667   \n",
       "Sollen Männer mit Männern und Frauen mit Frauen... 0.000000          NaN   \n",
       "Sollen mehr Länder in die EU kommen, wie zum Be... 0.868932     0.000000   \n",
       "Sollen wir in Europa mehr für den Schutz unsere... 0.000000          NaN   \n",
       "Was denken die Parteien darüber, mehr Geld für ... 0.801587     0.000000   \n",
       "Was denken die Parteien darüber, wenn Geflüchte... 0.874381     1.000000   \n",
       "Was denken die Parteien darüber, wie Europa mit... 0.873926     0.000000   \n",
       "Was denken die Parteien darüber, wie Europa mit... 0.882502     0.500000   \n",
       "Was haben die Parteien für Ideen, um jungen Men... 0.829871     0.000000   \n",
       "Was ist die Meinung der Parteien dazu, wie Mens... 0.879291     1.000000   \n",
       "Was meinen die Parteien, wie viel die Regeln au... 0.845925     0.800000   \n",
       "Was sagen die Parteien zu Kameras und Technik, ... 0.826664     1.000000   \n",
       "Was sagen die Parteien, wie wir Transgender-Men... 0.829255          NaN   \n",
       "Was sind die Ideen der Parteien, um Europa in D... 0.865675     0.000000   \n",
       "Was wollen die Parteien tun, damit es Tieren au... 0.860412     0.000000   \n",
       "Was wollen die Parteien tun, um die christliche... 0.834172     0.000000   \n",
       "Welche Ideen haben die Parteien, damit alle sic... 0.854213     1.000000   \n",
       "Wie denken die Parteien darüber, dass Europa zu... 0.822367     1.000000   \n",
       "Wie finden die Parteien, dass wir Fische fangen... 0.884943     1.000000   \n",
       "Wie möchten die Parteien Verbrechen stoppen, oh... 0.845259     1.000000   \n",
       "Wie möchten die Parteien sicherstellen, dass Eu... 0.850516     0.857143   \n",
       "Wie möchten die Parteien unsere Geschichte und ... 0.831328     0.000000   \n",
       "Wie schnell sollen wir in Europa aufhören, drec... 0.872768     0.000000   \n",
       "Wie wollen die Parteien den Bauern helfen, so z... 0.839478     0.000000   \n",
       "Wie wollen die Parteien kleinen Bauernhöfen hel... 0.862590     0.000000   \n",
       "Wie wollen die Parteien sicherstellen, dass es ... 0.840166     1.000000   \n",
       "Wie wollen die Parteien sicherstellen, dass wir... 0.847177     0.000000   \n",
       "Wie wollen die Parteien unsere privaten Informa... 0.823265     0.750000   \n",
       "\n",
       "                                                                       \\\n",
       "                                                                  cdu   \n",
       "Sind die Parteien dafür, weiterhin Energie aus ... 0.878413       NaN   \n",
       "Sollen Männer mit Männern und Frauen mit Frauen... 0.000000       NaN   \n",
       "Sollen mehr Länder in die EU kommen, wie zum Be... 0.868932  1.000000   \n",
       "Sollen wir in Europa mehr für den Schutz unsere... 0.000000  1.000000   \n",
       "Was denken die Parteien darüber, mehr Geld für ... 0.801587  1.000000   \n",
       "Was denken die Parteien darüber, wenn Geflüchte... 0.874381  0.000000   \n",
       "Was denken die Parteien darüber, wie Europa mit... 0.873926  1.000000   \n",
       "Was denken die Parteien darüber, wie Europa mit... 0.882502  0.000000   \n",
       "Was haben die Parteien für Ideen, um jungen Men... 0.829871  1.000000   \n",
       "Was ist die Meinung der Parteien dazu, wie Mens... 0.879291  0.200000   \n",
       "Was meinen die Parteien, wie viel die Regeln au... 0.845925  1.000000   \n",
       "Was sagen die Parteien zu Kameras und Technik, ... 0.826664       NaN   \n",
       "Was sagen die Parteien, wie wir Transgender-Men... 0.829255  1.000000   \n",
       "Was sind die Ideen der Parteien, um Europa in D... 0.865675  1.000000   \n",
       "Was wollen die Parteien tun, damit es Tieren au... 0.860412  0.000000   \n",
       "Was wollen die Parteien tun, um die christliche... 0.834172       NaN   \n",
       "Welche Ideen haben die Parteien, damit alle sic... 0.854213  0.000000   \n",
       "Wie denken die Parteien darüber, dass Europa zu... 0.822367  1.000000   \n",
       "Wie finden die Parteien, dass wir Fische fangen... 0.884943  0.666667   \n",
       "Wie möchten die Parteien Verbrechen stoppen, oh... 0.845259  1.000000   \n",
       "Wie möchten die Parteien sicherstellen, dass Eu... 0.850516  1.000000   \n",
       "Wie möchten die Parteien unsere Geschichte und ... 0.831328  1.000000   \n",
       "Wie schnell sollen wir in Europa aufhören, drec... 0.872768       NaN   \n",
       "Wie wollen die Parteien den Bauern helfen, so z... 0.839478  0.000000   \n",
       "Wie wollen die Parteien kleinen Bauernhöfen hel... 0.862590  0.333333   \n",
       "Wie wollen die Parteien sicherstellen, dass es ... 0.840166       NaN   \n",
       "Wie wollen die Parteien sicherstellen, dass wir... 0.847177  0.000000   \n",
       "Wie wollen die Parteien unsere privaten Informa... 0.823265  0.000000   \n",
       "\n",
       "                                                                       \\\n",
       "                                                                  fdp   \n",
       "Sind die Parteien dafür, weiterhin Energie aus ... 0.878413  0.500000   \n",
       "Sollen Männer mit Männern und Frauen mit Frauen... 0.000000  0.000000   \n",
       "Sollen mehr Länder in die EU kommen, wie zum Be... 0.868932  0.000000   \n",
       "Sollen wir in Europa mehr für den Schutz unsere... 0.000000  0.800000   \n",
       "Was denken die Parteien darüber, mehr Geld für ... 0.801587  1.000000   \n",
       "Was denken die Parteien darüber, wenn Geflüchte... 0.874381  0.000000   \n",
       "Was denken die Parteien darüber, wie Europa mit... 0.873926  1.000000   \n",
       "Was denken die Parteien darüber, wie Europa mit... 0.882502  0.000000   \n",
       "Was haben die Parteien für Ideen, um jungen Men... 0.829871  1.000000   \n",
       "Was ist die Meinung der Parteien dazu, wie Mens... 0.879291  1.000000   \n",
       "Was meinen die Parteien, wie viel die Regeln au... 0.845925  0.600000   \n",
       "Was sagen die Parteien zu Kameras und Technik, ... 0.826664       NaN   \n",
       "Was sagen die Parteien, wie wir Transgender-Men... 0.829255  0.666667   \n",
       "Was sind die Ideen der Parteien, um Europa in D... 0.865675  0.833333   \n",
       "Was wollen die Parteien tun, damit es Tieren au... 0.860412  0.600000   \n",
       "Was wollen die Parteien tun, um die christliche... 0.834172  1.000000   \n",
       "Welche Ideen haben die Parteien, damit alle sic... 0.854213  0.000000   \n",
       "Wie denken die Parteien darüber, dass Europa zu... 0.822367       NaN   \n",
       "Wie finden die Parteien, dass wir Fische fangen... 0.884943       NaN   \n",
       "Wie möchten die Parteien Verbrechen stoppen, oh... 0.845259  0.666667   \n",
       "Wie möchten die Parteien sicherstellen, dass Eu... 0.850516  1.000000   \n",
       "Wie möchten die Parteien unsere Geschichte und ... 0.831328  0.000000   \n",
       "Wie schnell sollen wir in Europa aufhören, drec... 0.872768       NaN   \n",
       "Wie wollen die Parteien den Bauern helfen, so z... 0.839478  1.000000   \n",
       "Wie wollen die Parteien kleinen Bauernhöfen hel... 0.862590  0.750000   \n",
       "Wie wollen die Parteien sicherstellen, dass es ... 0.840166       NaN   \n",
       "Wie wollen die Parteien sicherstellen, dass wir... 0.847177  0.500000   \n",
       "Wie wollen die Parteien unsere privaten Informa... 0.823265  1.000000   \n",
       "\n",
       "                                                                       \\\n",
       "                                                               gruene   \n",
       "Sind die Parteien dafür, weiterhin Energie aus ... 0.878413  1.000000   \n",
       "Sollen Männer mit Männern und Frauen mit Frauen... 0.000000  0.500000   \n",
       "Sollen mehr Länder in die EU kommen, wie zum Be... 0.868932  0.000000   \n",
       "Sollen wir in Europa mehr für den Schutz unsere... 0.000000  0.600000   \n",
       "Was denken die Parteien darüber, mehr Geld für ... 0.801587       NaN   \n",
       "Was denken die Parteien darüber, wenn Geflüchte... 0.874381  1.000000   \n",
       "Was denken die Parteien darüber, wie Europa mit... 0.873926  1.000000   \n",
       "Was denken die Parteien darüber, wie Europa mit... 0.882502  0.000000   \n",
       "Was haben die Parteien für Ideen, um jungen Men... 0.829871  0.000000   \n",
       "Was ist die Meinung der Parteien dazu, wie Mens... 0.879291  0.666667   \n",
       "Was meinen die Parteien, wie viel die Regeln au... 0.845925  0.500000   \n",
       "Was sagen die Parteien zu Kameras und Technik, ... 0.826664  1.000000   \n",
       "Was sagen die Parteien, wie wir Transgender-Men... 0.829255  1.000000   \n",
       "Was sind die Ideen der Parteien, um Europa in D... 0.865675  1.000000   \n",
       "Was wollen die Parteien tun, damit es Tieren au... 0.860412  0.000000   \n",
       "Was wollen die Parteien tun, um die christliche... 0.834172  1.000000   \n",
       "Welche Ideen haben die Parteien, damit alle sic... 0.854213  1.000000   \n",
       "Wie denken die Parteien darüber, dass Europa zu... 0.822367  0.750000   \n",
       "Wie finden die Parteien, dass wir Fische fangen... 0.884943  1.000000   \n",
       "Wie möchten die Parteien Verbrechen stoppen, oh... 0.845259  0.666667   \n",
       "Wie möchten die Parteien sicherstellen, dass Eu... 0.850516  1.000000   \n",
       "Wie möchten die Parteien unsere Geschichte und ... 0.831328  0.714286   \n",
       "Wie schnell sollen wir in Europa aufhören, drec... 0.872768  0.250000   \n",
       "Wie wollen die Parteien den Bauern helfen, so z... 0.839478  1.000000   \n",
       "Wie wollen die Parteien kleinen Bauernhöfen hel... 0.862590  0.000000   \n",
       "Wie wollen die Parteien sicherstellen, dass es ... 0.840166  1.000000   \n",
       "Wie wollen die Parteien sicherstellen, dass wir... 0.847177  0.000000   \n",
       "Wie wollen die Parteien unsere privaten Informa... 0.823265  1.000000   \n",
       "\n",
       "                                                                       \\\n",
       "                                                                linke   \n",
       "Sind die Parteien dafür, weiterhin Energie aus ... 0.878413       NaN   \n",
       "Sollen Männer mit Männern und Frauen mit Frauen... 0.000000  0.666667   \n",
       "Sollen mehr Länder in die EU kommen, wie zum Be... 0.868932       NaN   \n",
       "Sollen wir in Europa mehr für den Schutz unsere... 0.000000  0.000000   \n",
       "Was denken die Parteien darüber, mehr Geld für ... 0.801587  1.000000   \n",
       "Was denken die Parteien darüber, wenn Geflüchte... 0.874381  0.000000   \n",
       "Was denken die Parteien darüber, wie Europa mit... 0.873926  1.000000   \n",
       "Was denken die Parteien darüber, wie Europa mit... 0.882502  1.000000   \n",
       "Was haben die Parteien für Ideen, um jungen Men... 0.829871  1.000000   \n",
       "Was ist die Meinung der Parteien dazu, wie Mens... 0.879291  1.000000   \n",
       "Was meinen die Parteien, wie viel die Regeln au... 0.845925       NaN   \n",
       "Was sagen die Parteien zu Kameras und Technik, ... 0.826664       NaN   \n",
       "Was sagen die Parteien, wie wir Transgender-Men... 0.829255  1.000000   \n",
       "Was sind die Ideen der Parteien, um Europa in D... 0.865675       NaN   \n",
       "Was wollen die Parteien tun, damit es Tieren au... 0.860412       NaN   \n",
       "Was wollen die Parteien tun, um die christliche... 0.834172       NaN   \n",
       "Welche Ideen haben die Parteien, damit alle sic... 0.854213       NaN   \n",
       "Wie denken die Parteien darüber, dass Europa zu... 0.822367  0.500000   \n",
       "Wie finden die Parteien, dass wir Fische fangen... 0.884943  1.000000   \n",
       "Wie möchten die Parteien Verbrechen stoppen, oh... 0.845259  1.000000   \n",
       "Wie möchten die Parteien sicherstellen, dass Eu... 0.850516  0.500000   \n",
       "Wie möchten die Parteien unsere Geschichte und ... 0.831328  0.500000   \n",
       "Wie schnell sollen wir in Europa aufhören, drec... 0.872768  1.000000   \n",
       "Wie wollen die Parteien den Bauern helfen, so z... 0.839478  1.000000   \n",
       "Wie wollen die Parteien kleinen Bauernhöfen hel... 0.862590  1.000000   \n",
       "Wie wollen die Parteien sicherstellen, dass es ... 0.840166  1.000000   \n",
       "Wie wollen die Parteien sicherstellen, dass wir... 0.847177       NaN   \n",
       "Wie wollen die Parteien unsere privaten Informa... 0.823265  0.000000   \n",
       "\n",
       "                                                                       \n",
       "                                                                  spd  \n",
       "Sind die Parteien dafür, weiterhin Energie aus ... 0.878413       NaN  \n",
       "Sollen Männer mit Männern und Frauen mit Frauen... 0.000000  1.000000  \n",
       "Sollen mehr Länder in die EU kommen, wie zum Be... 0.868932  1.000000  \n",
       "Sollen wir in Europa mehr für den Schutz unsere... 0.000000  0.000000  \n",
       "Was denken die Parteien darüber, mehr Geld für ... 0.801587  0.500000  \n",
       "Was denken die Parteien darüber, wenn Geflüchte... 0.874381  0.666667  \n",
       "Was denken die Parteien darüber, wie Europa mit... 0.873926  0.000000  \n",
       "Was denken die Parteien darüber, wie Europa mit... 0.882502  1.000000  \n",
       "Was haben die Parteien für Ideen, um jungen Men... 0.829871  0.000000  \n",
       "Was ist die Meinung der Parteien dazu, wie Mens... 0.879291  0.500000  \n",
       "Was meinen die Parteien, wie viel die Regeln au... 0.845925  0.750000  \n",
       "Was sagen die Parteien zu Kameras und Technik, ... 0.826664  1.000000  \n",
       "Was sagen die Parteien, wie wir Transgender-Men... 0.829255  1.000000  \n",
       "Was sind die Ideen der Parteien, um Europa in D... 0.865675  1.000000  \n",
       "Was wollen die Parteien tun, damit es Tieren au... 0.860412  0.000000  \n",
       "Was wollen die Parteien tun, um die christliche... 0.834172  0.500000  \n",
       "Welche Ideen haben die Parteien, damit alle sic... 0.854213  1.000000  \n",
       "Wie denken die Parteien darüber, dass Europa zu... 0.822367  1.000000  \n",
       "Wie finden die Parteien, dass wir Fische fangen... 0.884943  0.333333  \n",
       "Wie möchten die Parteien Verbrechen stoppen, oh... 0.845259  1.000000  \n",
       "Wie möchten die Parteien sicherstellen, dass Eu... 0.850516  1.000000  \n",
       "Wie möchten die Parteien unsere Geschichte und ... 0.831328       NaN  \n",
       "Wie schnell sollen wir in Europa aufhören, drec... 0.872768  0.666667  \n",
       "Wie wollen die Parteien den Bauern helfen, so z... 0.839478  0.000000  \n",
       "Wie wollen die Parteien kleinen Bauernhöfen hel... 0.862590  0.000000  \n",
       "Wie wollen die Parteien sicherstellen, dass es ... 0.840166  1.000000  \n",
       "Wie wollen die Parteien sicherstellen, dass wir... 0.847177  0.000000  \n",
       "Wie wollen die Parteien unsere privaten Informa... 0.823265  1.000000  "
      ]
     },
     "execution_count": 161,
     "metadata": {},
     "output_type": "execute_result"
    }
   ],
   "source": [
    "d[f = pd.read_csv(file_name, header=[0, 1], index_col=[0, 1])\n",
    "df"
   ]
  },
  {
   "cell_type": "code",
   "execution_count": null,
   "metadata": {},
   "outputs": [],
   "source": []
  }
 ],
 "metadata": {
  "kernelspec": {
   "display_name": "bundestag",
   "language": "python",
   "name": "python3"
  },
  "language_info": {
   "codemirror_mode": {
    "name": "ipython",
    "version": 3
   },
   "file_extension": ".py",
   "mimetype": "text/x-python",
   "name": "python",
   "nbconvert_exporter": "python",
   "pygments_lexer": "ipython3",
   "version": "3.11.7"
  }
 },
 "nbformat": 4,
 "nbformat_minor": 2
}
