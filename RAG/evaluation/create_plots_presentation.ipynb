import pandas as pd
import numpy as np
import os
import glob
import plotly.express as px
from datasets import load_from_disk

print(os.listdir("Experiments"))
experiment = "Experiments/4_embedding_model"
metrics_files = glob.glob(os.path.join(experiment, "metrics_*.csv"))
metrics_files.sort()
metrics_files