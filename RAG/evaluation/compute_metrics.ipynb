{
 "cells": [
  {
   "cell_type": "code",
   "execution_count": 1,
   "metadata": {},
   "outputs": [
    {
     "name": "stderr",
     "output_type": "stream",
     "text": [
      "/Users/Joshua/opt/anaconda3/envs/politik-nlp/lib/python3.10/site-packages/tqdm/auto.py:21: TqdmWarning: IProgress not found. Please update jupyter and ipywidgets. See https://ipywidgets.readthedocs.io/en/stable/user_install.html\n",
      "  from .autonotebook import tqdm as notebook_tqdm\n"
     ]
    }
   ],
   "source": [
    "import sys\n",
    "import os\n",
    "import glob\n",
    "from tqdm.auto import tqdm\n",
    "import pandas as pd\n",
    "import numpy as np\n",
    "import plotly.express as px\n",
    "import datetime\n",
    "\n",
    "sys.path.append(os.path.abspath(\"..\"))\n",
    "\n",
    "DATABASE_DIR_MANIFESTOS = \"../../data/manifestos/chroma/openai\"\n",
    "DATABASE_DIR_DEBATES = \"../../data/debates/chroma/openai\"\n",
    "TEST_DATA_DIR = \"../../data/questions\"\n",
    "TEST_METRICS_DIR = \"../../data/metrics\""
   ]
  },
  {
   "cell_type": "code",
   "execution_count": 2,
   "metadata": {},
   "outputs": [],
   "source": [
    "# Load test questions\n",
    "df_test_simple = pd.read_csv(os.path.join(\n",
    "    TEST_DATA_DIR, \"simple_questions.csv\"))\n",
    "\n",
    "df_test_complex = pd.read_csv(os.path.join(\n",
    "    TEST_DATA_DIR, \"complex_questions.csv\"))"
   ]
  },
  {
   "cell_type": "code",
   "execution_count": 3,
   "metadata": {},
   "outputs": [],
   "source": [
    "from database.vector_database import VectorDatabase\n",
    "from models.embedding import ManifestoBertaEmbeddings\n",
    "from langchain_openai import OpenAIEmbeddings\n",
    "from evaluation import Evaluator"
   ]
  },
  {
   "cell_type": "code",
   "execution_count": 4,
   "metadata": {},
   "outputs": [
    {
     "name": "stdout",
     "output_type": "stream",
     "text": [
      "reloaded database\n",
      "reloaded database\n"
     ]
    }
   ],
   "source": [
    "# Load databases\n",
    "\n",
    "embedding_model = OpenAIEmbeddings()\n",
    "\n",
    "db_manifestos = VectorDatabase(\n",
    "    embedding_model=embedding_model,\n",
    "    database_directory=DATABASE_DIR_MANIFESTOS,\n",
    "    source_type=\"manifestos\",\n",
    ")\n",
    "\n",
    "db_debates = VectorDatabase(\n",
    "    embedding_model=embedding_model,\n",
    "    database_directory=DATABASE_DIR_DEBATES,\n",
    "    source_type=\"debates\",\n",
    ")"
   ]
  },
  {
   "cell_type": "markdown",
   "metadata": {},
   "source": [
    "# Evaluate context relevancy"
   ]
  },
  {
   "cell_type": "code",
   "execution_count": 6,
   "metadata": {},
   "outputs": [
    {
     "data": {
      "application/vnd.jupyter.widget-view+json": {
       "model_id": "3eec2f72a55b40d4b2be655d316f6903",
       "version_major": 2,
       "version_minor": 0
      },
      "text/plain": [
       "  0%|          | 0/22 [00:00<?, ?it/s]"
      ]
     },
     "metadata": {},
     "output_type": "display_data"
    },
    {
     "data": {
      "application/vnd.jupyter.widget-view+json": {
       "model_id": "3e82196785a1482780f67cf8a8cd784f",
       "version_major": 2,
       "version_minor": 0
      },
      "text/plain": [
       "  0%|          | 0/22 [00:00<?, ?it/s]"
      ]
     },
     "metadata": {},
     "output_type": "display_data"
    }
   ],
   "source": [
    "evaluator = Evaluator()\n",
    "model_name = \"manifestoberta\"\n",
    "questions = df_test_simple[\"EINFACHE FRAGEN\"]\n",
    "k = 5\n",
    "sources = [\"gruene\", \"spd\", \"cdu\", \"afd\", \"fdp\", \"linke\"]\n",
    "\n",
    "for db in [db_manifestos, db_debates]:\n",
    "\n",
    "    context_relevancy_dict = {key: [] for key in sources}\n",
    "\n",
    "    # Loop over all simple questions\n",
    "    for question in tqdm(questions):\n",
    "        # Retrieve and evaluate context for each party\n",
    "        for party in sources:\n",
    "            context_docs = db.database.similarity_search(\n",
    "                query=question, k=5, filter={\"party\": party}\n",
    "            )\n",
    "\n",
    "            result = evaluator.context_relevancy(question, context_docs)\n",
    "            context_relevancy_dict[party].append(result)\n",
    "\n",
    "    # Save results\n",
    "    context_relevancy_df = pd.DataFrame(context_relevancy_dict)\n",
    "    context_relevancy_df[\"Frage\"] = list(questions)\n",
    "\n",
    "    date = str(datetime.date.today())\n",
    "    save_folder = os.path.join(TEST_METRICS_DIR, f\"{date}_{model_name}\")\n",
    "    if not os.path.exists(save_folder):\n",
    "        os.mkdir(save_folder)\n",
    "\n",
    "    context_relevancy_df.to_csv(\n",
    "        os.path.join(save_folder, f\"context_relevancy_{db.source_type}.csv\")\n",
    "    )"
   ]
  },
  {
   "cell_type": "code",
   "execution_count": 9,
   "metadata": {},
   "outputs": [],
   "source": [
    "context_relevancy_df.to_csv(os.path.join(save_folder, f\"context_relevancy_{db.source_type}.csv\"))"
   ]
  },
  {
   "cell_type": "code",
   "execution_count": 52,
   "metadata": {},
   "outputs": [
    {
     "name": "stdout",
     "output_type": "stream",
     "text": [
      "manifestos.csv\n",
      "Overall: 0.7545454545454545\n",
      "gruene    0.809091\n",
      "spd       0.836364\n",
      "cdu       0.663636\n",
      "afd       0.663636\n",
      "fdp       0.709091\n",
      "linke     0.845455\n",
      "dtype: float64\n",
      "\n",
      "debates.csv\n",
      "Overall: 0.7560606060606062\n",
      "gruene    0.800000\n",
      "spd       0.827273\n",
      "cdu       0.654545\n",
      "afd       0.690909\n",
      "fdp       0.718182\n",
      "linke     0.845455\n",
      "dtype: float64\n",
      "\n"
     ]
    }
   ],
   "source": [
    "import glob\n",
    "\n",
    "for file in os.listdir(save_folder):\n",
    "    df = pd.read_csv(os.path.join(save_folder, file))\n",
    "    df = df.drop(columns=[\"Frage\", \"Unnamed: 0\"]).mean(axis=0)\n",
    "    print(file.split(\"_\")[-1])\n",
    "    print(f\"Overall: {df.mean()}\")\n",
    "    print(df)\n",
    "    print()"
   ]
  },
  {
   "cell_type": "code",
   "execution_count": 43,
   "metadata": {},
   "outputs": [
    {
     "data": {
      "text/plain": [
       "'debates.csv'"
      ]
     },
     "execution_count": 43,
     "metadata": {},
     "output_type": "execute_result"
    }
   ],
   "source": []
  },
  {
   "cell_type": "code",
   "execution_count": 36,
   "metadata": {},
   "outputs": [
    {
     "data": {
      "text/plain": [
       "Unnamed: 0    10.500000\n",
       "gruene         0.800000\n",
       "spd            0.827273\n",
       "cdu            0.654545\n",
       "afd            0.690909\n",
       "fdp            0.718182\n",
       "linke          0.845455\n",
       "dtype: float64"
      ]
     },
     "execution_count": 36,
     "metadata": {},
     "output_type": "execute_result"
    }
   ],
   "source": [
    "df"
   ]
  },
  {
   "cell_type": "code",
   "execution_count": null,
   "metadata": {},
   "outputs": [],
   "source": []
  }
 ],
 "metadata": {
  "kernelspec": {
   "display_name": "bundestag",
   "language": "python",
   "name": "python3"
  },
  "language_info": {
   "codemirror_mode": {
    "name": "ipython",
    "version": 3
   },
   "file_extension": ".py",
   "mimetype": "text/x-python",
   "name": "python",
   "nbconvert_exporter": "python",
   "pygments_lexer": "ipython3",
   "version": "3.10.13"
  }
 },
 "nbformat": 4,
 "nbformat_minor": 2
}
