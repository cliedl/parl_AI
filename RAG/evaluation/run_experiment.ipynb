{
 "cells": [
  {
   "cell_type": "code",
   "execution_count": 16,
   "metadata": {},
   "outputs": [],
   "source": [
    "import sys\n",
    "import os\n",
    "\n",
    "sys.path.append(\"..\")\n",
    "\n",
    "DATABASE_DIR_MANIFESTOS = \"../../data/manifestos/chroma/openai\"\n",
    "DATABASE_DIR_DEBATES = \"../../data/debates/chroma/openai\"\n",
    "TEST_DATA_PATH = \"../../streamlit_app/example_prompts.csv\""
   ]
  },
  {
   "cell_type": "markdown",
   "metadata": {},
   "source": [
    "# Here we define the experimental run! This is important for the filenames, etc!"
   ]
  },
  {
   "cell_type": "code",
   "execution_count": 17,
   "metadata": {},
   "outputs": [],
   "source": [
    "experiment_name = \"2_llm\"\n",
    "experiment_run_name = \"2b_mixtral8x7b\""
   ]
  },
  {
   "cell_type": "code",
   "execution_count": 18,
   "metadata": {},
   "outputs": [],
   "source": [
    "import numpy as np\n",
    "import pandas as pd\n",
    "from tqdm.auto import tqdm\n",
    "\n",
    "\n",
    "from database.vector_database import VectorDatabase\n",
    "from models.embedding import ManifestoBertaEmbeddings\n",
    "from langchain_openai import ChatOpenAI, OpenAIEmbeddings\n",
    "from langchain_mistralai.chat_models import ChatMistralAI\n",
    "from langchain_anthropic import ChatAnthropic\n",
    "from langchain_google_genai import ChatGoogleGenerativeAI\n",
    "\n",
    "\n",
    "from datasets import Dataset, DatasetDict, load_from_disk"
   ]
  },
  {
   "cell_type": "code",
   "execution_count": 19,
   "metadata": {},
   "outputs": [],
   "source": [
    "def format_response(response):\n",
    "    q = response[next(iter(response))][\"question\"]\n",
    "    c = {party: response[party][\"context\"] for party in response.keys()}\n",
    "    d = {\n",
    "        source: {party: response[party][\"docs\"][source]\n",
    "                 for party in response.keys()}\n",
    "        for source in response[list(response.keys())[0]][\"docs\"].keys()\n",
    "    }\n",
    "    a = {party: response[party][\"answer\"] for party in response.keys()}\n",
    "    response = {\"question\": q, \"context\": c, \"docs\": d, \"answer\": a}\n",
    "    return response"
   ]
  },
  {
   "cell_type": "markdown",
   "metadata": {},
   "source": [
    "# Create chain"
   ]
  },
  {
   "cell_type": "code",
   "execution_count": 20,
   "metadata": {},
   "outputs": [
    {
     "name": "stdout",
     "output_type": "stream",
     "text": [
      "reloaded database\n",
      "reloaded database\n"
     ]
    }
   ],
   "source": [
    "from models.generation import generate_chain\n",
    "\n",
    "# Select an embedding_model\n",
    "########################################################################\n",
    "# embedding_model = ManifestoBertaEmbeddings()\n",
    "embedding_model = OpenAIEmbeddings(model=\"text-embedding-3-large\")\n",
    "\n",
    "\n",
    "# Select an LLM\n",
    "#########################################################################\n",
    "# LARGE_LANGUAGE_MODEL = ChatOpenAI(\n",
    "#     model_name=\"gpt-3.5-turbo\", max_tokens=300, temperature=0\n",
    "# )\n",
    "\n",
    "LARGE_LANGUAGE_MODEL = ChatMistralAI(\n",
    "    name=\"open-mixtral-8x7b\", max_tokens=300, temperature=0\n",
    ")\n",
    "\n",
    "# LARGE_LANGUAGE_MODEL = ChatAnthropic(\n",
    "#     model_name=\"claude-3-haiku-20240307\", max_tokens=300, temperature=0\n",
    "# )\n",
    "\n",
    "\n",
    "db_manifestos = VectorDatabase(\n",
    "    data_path=\"../data/manifestos\",\n",
    "    embedding_model=embedding_model,\n",
    "    database_directory=DATABASE_DIR_MANIFESTOS,\n",
    "    source_type=\"manifestos\",\n",
    ")\n",
    "\n",
    "db_debates = VectorDatabase(\n",
    "    data_path=\"../data/debates\",\n",
    "    embedding_model=embedding_model,\n",
    "    database_directory=DATABASE_DIR_DEBATES,\n",
    "    source_type=\"debates\",\n",
    ")\n",
    "\n",
    "chain = generate_chain(\n",
    "    [db_manifestos, db_debates],\n",
    "    llm=LARGE_LANGUAGE_MODEL,\n",
    "    language=\"Deutsch\",\n",
    "    k=3,\n",
    ")"
   ]
  },
  {
   "cell_type": "markdown",
   "metadata": {},
   "source": [
    "# Create dataset with question, context, and answer for chain"
   ]
  },
  {
   "cell_type": "code",
   "execution_count": 22,
   "metadata": {},
   "outputs": [
    {
     "data": {
      "application/vnd.jupyter.widget-view+json": {
       "model_id": "d2fba92c16ac4e45b5cc03bcafe2b837",
       "version_major": 2,
       "version_minor": 0
      },
      "text/plain": [
       "  0%|          | 0/24 [00:00<?, ?it/s]"
      ]
     },
     "metadata": {},
     "output_type": "display_data"
    },
    {
     "name": "stdout",
     "output_type": "stream",
     "text": [
      "Sollen die Militärausgaben erhöht werden?\n",
      "Sollte es ein Selbstbestimmungsrecht für Trans-Personen geben?\n",
      "Sollen wir in Europa mehr für den Natur- und Artenschutz tun?\n",
      "Wie soll die Landwirtschaft unterstützt werden? \n",
      "Wie soll Europa Handel mit anderen Ländern treiben? (z.B. Handelsabkommen)\n",
      "Wie sollen Flüchtlinge in Europa verteilt werden? \n",
      "Wie stehen die Parteien zur gleichgeschlechtlichen Ehe?\n",
      "Wie sollten wir Fischfang betreiben damit das Meer und die Tiere geschützt werden?\n",
      "Was wollen die Parteien tun um das Tierwohl in der Viehhaltung zu verbessern? \n",
      "Wie sollte die Zusammenarbeit mit den USA aussehen?\n",
      "Wie können wir Jungendarbeitslosigkeit reduzieren? \n",
      "Wie sehen die Pläne zum Erreichen der Klimaneutralität aus?\n",
      "Wie soll das Verhältnis zu China aussehen im Bezug auf Protektionismus?\n",
      "Wie sollen Kameras und Technik dabei helfen Verbrechen zu stoppen ohne dass unsere Privatsphäre gestört wird?\n",
      "Sollten mehr Länder der EU beitreten?\n",
      "Wie sollen europäische high-tech Innovationen gefördert werden?\n",
      "Wie kann Europa weniger dreckige Energie nutzen und mehr saubere Energie?\n",
      "Wie möchten die Parteien unsere Geschichte und Kulturen in Europa bewahren und zeigen?\n",
      "Sollen Geflüchtete ausgewiesen werden wenn sie sich strafbar machen?\n",
      "Was wollen die Parteien tun um christliche Werte in Europa zu unterstützen?\n",
      "Soll Atomkraft weiterhin genutzt werden? \n",
      "Wie viel Einfluss soll Europa auf unser Leben in Deutschland haben?\n",
      "Wie soll die Privatsspähre geschützt werden? \n",
      "Was denken die Parteien darüber was für Rentnern in Europa getan werden sollte?\n"
     ]
    },
    {
     "data": {
      "application/vnd.jupyter.widget-view+json": {
       "model_id": "b3c4d5467307436397c0f52ffc6c8bd4",
       "version_major": 2,
       "version_minor": 0
      },
      "text/plain": [
       "Saving the dataset (0/1 shards):   0%|          | 0/24 [00:00<?, ? examples/s]"
      ]
     },
     "metadata": {},
     "output_type": "display_data"
    },
    {
     "data": {
      "application/vnd.jupyter.widget-view+json": {
       "model_id": "95891b81698e4fbf8d2cb822491d9390",
       "version_major": 2,
       "version_minor": 0
      },
      "text/plain": [
       "Saving the dataset (0/1 shards):   0%|          | 0/24 [00:00<?, ? examples/s]"
      ]
     },
     "metadata": {},
     "output_type": "display_data"
    },
    {
     "data": {
      "application/vnd.jupyter.widget-view+json": {
       "model_id": "1e03cd80c92a48c18a2b3f4734180367",
       "version_major": 2,
       "version_minor": 0
      },
      "text/plain": [
       "Saving the dataset (0/1 shards):   0%|          | 0/24 [00:00<?, ? examples/s]"
      ]
     },
     "metadata": {},
     "output_type": "display_data"
    },
    {
     "data": {
      "application/vnd.jupyter.widget-view+json": {
       "model_id": "f4183717a8ec4d1cb68a2dca8187641e",
       "version_major": 2,
       "version_minor": 0
      },
      "text/plain": [
       "Saving the dataset (0/1 shards):   0%|          | 0/24 [00:00<?, ? examples/s]"
      ]
     },
     "metadata": {},
     "output_type": "display_data"
    },
    {
     "data": {
      "application/vnd.jupyter.widget-view+json": {
       "model_id": "1a991a60909d4e3fac53646d51a0940f",
       "version_major": 2,
       "version_minor": 0
      },
      "text/plain": [
       "Saving the dataset (0/1 shards):   0%|          | 0/24 [00:00<?, ? examples/s]"
      ]
     },
     "metadata": {},
     "output_type": "display_data"
    },
    {
     "data": {
      "application/vnd.jupyter.widget-view+json": {
       "model_id": "5b8c966d7e974c3791b1d018db6273fe",
       "version_major": 2,
       "version_minor": 0
      },
      "text/plain": [
       "Saving the dataset (0/1 shards):   0%|          | 0/24 [00:00<?, ? examples/s]"
      ]
     },
     "metadata": {},
     "output_type": "display_data"
    }
   ],
   "source": [
    "recreate_dataset = True\n",
    "if recreate_dataset:\n",
    "    # Create dataset with question, context and answer\n",
    "\n",
    "    # Load all test questions\n",
    "    # df_test_simple = pd.read_csv(os.path.join(TEST_DATA_DIR, \"simple_questions.csv\"))\n",
    "    # df_test_complex = pd.read_csv(os.path.join(TEST_DATA_DIR, \"complex_questions.csv\"))\n",
    "    df_test = pd.read_csv(TEST_DATA_PATH, delimiter=\";\")\n",
    "\n",
    "    # Here we select, which parties we want to evaluate\n",
    "    parties = [\"afd\", \"spd\", \"linke\", \"gruene\", \"fdp\", \"cdu\"]\n",
    "\n",
    "    # Here we select the questions that should be evaluated\n",
    "    questions = df_test[\"Deutsch\"]\n",
    "\n",
    "    # Dictionary to save results\n",
    "    dataset_dict = {\n",
    "        party: {\"question\": [], \"contexts\": [], \"answer\": []} for party in parties\n",
    "    }\n",
    "\n",
    "    # Loop through all questions and get chain answer\n",
    "    for question in tqdm(questions):\n",
    "        print(question)\n",
    "        response = chain.invoke(question)\n",
    "        response = format_response(response)\n",
    "\n",
    "        # for pary in parties:\n",
    "        for party in parties:\n",
    "            contexts = [\n",
    "                doc.page_content for doc in response[\"docs\"][\"manifestos\"][party]\n",
    "            ]\n",
    "            answer = response[\"answer\"][party]\n",
    "\n",
    "            dataset_dict[party][\"question\"].append(question)\n",
    "            dataset_dict[party][\"contexts\"].append(contexts)\n",
    "            dataset_dict[party][\"answer\"].append(answer)\n",
    "\n",
    "    dataset = DatasetDict(\n",
    "        {party: Dataset.from_dict(dataset_dict[party]) for party in parties}\n",
    "    )\n",
    "\n",
    "    # Save\n",
    "    dataset.save_to_disk(\n",
    "        f\"Experiments/{experiment_name}/dataset_{experiment_run_name}\")"
   ]
  },
  {
   "cell_type": "code",
   "execution_count": 23,
   "metadata": {},
   "outputs": [],
   "source": [
    "dataset = load_from_disk(f\"Experiments/{experiment_name}/dataset_{experiment_run_name}\")"
   ]
  },
  {
   "cell_type": "markdown",
   "metadata": {},
   "source": [
    "# Import Ragas and translate prompts to German"
   ]
  },
  {
   "cell_type": "code",
   "execution_count": 24,
   "metadata": {},
   "outputs": [],
   "source": [
    "import ragas\n",
    "from ragas.metrics import faithfulness, answer_relevancy, context_relevancy\n",
    "\n",
    "\n",
    "# llm used for adaptation\n",
    "openai_model_adaption = ChatOpenAI(model_name=\"gpt-4\")\n",
    "ragas.adapt(\n",
    "    metrics=[faithfulness, answer_relevancy, context_relevancy],\n",
    "    language=\"german\",\n",
    "    llm=openai_model_adaption,\n",
    ")"
   ]
  },
  {
   "cell_type": "markdown",
   "metadata": {},
   "source": [
    "# Compute metrics with ragas"
   ]
  },
  {
   "cell_type": "code",
   "execution_count": 25,
   "metadata": {},
   "outputs": [
    {
     "data": {
      "application/vnd.jupyter.widget-view+json": {
       "model_id": "1c6c112eb9124859866b4ddb84f8821e",
       "version_major": 2,
       "version_minor": 0
      },
      "text/plain": [
       "  0%|          | 0/24 [00:00<?, ?it/s]"
      ]
     },
     "metadata": {},
     "output_type": "display_data"
    },
    {
     "name": "stdout",
     "output_type": "stream",
     "text": [
      "Question: Sollen die Militärausgaben erhöht werden?\n",
      "Evaluating party: afd\n"
     ]
    },
    {
     "data": {
      "application/vnd.jupyter.widget-view+json": {
       "model_id": "bdf0f85048b948409e85272ac40341c4",
       "version_major": 2,
       "version_minor": 0
      },
      "text/plain": [
       "Evaluating:   0%|          | 0/2 [00:00<?, ?it/s]"
      ]
     },
     "metadata": {},
     "output_type": "display_data"
    },
    {
     "name": "stdout",
     "output_type": "stream",
     "text": [
      "Evaluating party: spd\n"
     ]
    },
    {
     "data": {
      "application/vnd.jupyter.widget-view+json": {
       "model_id": "498a28aada2c4734b4cb448f9e53c2f8",
       "version_major": 2,
       "version_minor": 0
      },
      "text/plain": [
       "Evaluating:   0%|          | 0/2 [00:00<?, ?it/s]"
      ]
     },
     "metadata": {},
     "output_type": "display_data"
    },
    {
     "name": "stdout",
     "output_type": "stream",
     "text": [
      "Evaluating party: linke\n"
     ]
    },
    {
     "data": {
      "application/vnd.jupyter.widget-view+json": {
       "model_id": "8b0d1cb3b3b14c6cbab43b7966ebbc02",
       "version_major": 2,
       "version_minor": 0
      },
      "text/plain": [
       "Evaluating:   0%|          | 0/2 [00:00<?, ?it/s]"
      ]
     },
     "metadata": {},
     "output_type": "display_data"
    },
    {
     "name": "stdout",
     "output_type": "stream",
     "text": [
      "Evaluating party: gruene\n"
     ]
    },
    {
     "data": {
      "application/vnd.jupyter.widget-view+json": {
       "model_id": "8b8c6c856d5a45858d897be43dbc9a55",
       "version_major": 2,
       "version_minor": 0
      },
      "text/plain": [
       "Evaluating:   0%|          | 0/2 [00:00<?, ?it/s]"
      ]
     },
     "metadata": {},
     "output_type": "display_data"
    },
    {
     "name": "stdout",
     "output_type": "stream",
     "text": [
      "Evaluating party: fdp\n"
     ]
    },
    {
     "data": {
      "application/vnd.jupyter.widget-view+json": {
       "model_id": "1d4927defbdf454a93f229570617c0b4",
       "version_major": 2,
       "version_minor": 0
      },
      "text/plain": [
       "Evaluating:   0%|          | 0/2 [00:00<?, ?it/s]"
      ]
     },
     "metadata": {},
     "output_type": "display_data"
    },
    {
     "name": "stdout",
     "output_type": "stream",
     "text": [
      "Evaluating party: cdu\n"
     ]
    },
    {
     "data": {
      "application/vnd.jupyter.widget-view+json": {
       "model_id": "f404045b58dd4680b92bc7bee9d21ecf",
       "version_major": 2,
       "version_minor": 0
      },
      "text/plain": [
       "Evaluating:   0%|          | 0/2 [00:00<?, ?it/s]"
      ]
     },
     "metadata": {},
     "output_type": "display_data"
    },
    {
     "name": "stdout",
     "output_type": "stream",
     "text": [
      "{'afd': {'faithfulness': 0.7500, 'answer_relevancy': 0.8317}, 'spd': {'faithfulness': 0.7500, 'answer_relevancy': 0.8528}, 'linke': {'faithfulness': 1.0000, 'answer_relevancy': 0.8607}, 'gruene': {'faithfulness': 0.8333, 'answer_relevancy': 0.0000}, 'fdp': {'faithfulness': 0.8000, 'answer_relevancy': 0.0000}, 'cdu': {'faithfulness': 0.8000, 'answer_relevancy': 0.8277}}\n",
      "Question: Sollte es ein Selbstbestimmungsrecht für Trans-Personen geben?\n",
      "Evaluating party: afd\n"
     ]
    },
    {
     "data": {
      "application/vnd.jupyter.widget-view+json": {
       "model_id": "9d69577992d04bd18827ac33e2a8b9f0",
       "version_major": 2,
       "version_minor": 0
      },
      "text/plain": [
       "Evaluating:   0%|          | 0/2 [00:00<?, ?it/s]"
      ]
     },
     "metadata": {},
     "output_type": "display_data"
    },
    {
     "name": "stdout",
     "output_type": "stream",
     "text": [
      "Evaluating party: spd\n"
     ]
    },
    {
     "data": {
      "application/vnd.jupyter.widget-view+json": {
       "model_id": "dbf0a31415614374b8646fd2222067ec",
       "version_major": 2,
       "version_minor": 0
      },
      "text/plain": [
       "Evaluating:   0%|          | 0/2 [00:00<?, ?it/s]"
      ]
     },
     "metadata": {},
     "output_type": "display_data"
    },
    {
     "name": "stdout",
     "output_type": "stream",
     "text": [
      "Evaluating party: linke\n"
     ]
    },
    {
     "data": {
      "application/vnd.jupyter.widget-view+json": {
       "model_id": "7e7f6818ba8d4fa9b5607b2024519b97",
       "version_major": 2,
       "version_minor": 0
      },
      "text/plain": [
       "Evaluating:   0%|          | 0/2 [00:00<?, ?it/s]"
      ]
     },
     "metadata": {},
     "output_type": "display_data"
    },
    {
     "name": "stdout",
     "output_type": "stream",
     "text": [
      "Evaluating party: gruene\n"
     ]
    },
    {
     "data": {
      "application/vnd.jupyter.widget-view+json": {
       "model_id": "02a2d7d8e24a4fbebab2ec87b38a8769",
       "version_major": 2,
       "version_minor": 0
      },
      "text/plain": [
       "Evaluating:   0%|          | 0/2 [00:00<?, ?it/s]"
      ]
     },
     "metadata": {},
     "output_type": "display_data"
    },
    {
     "name": "stdout",
     "output_type": "stream",
     "text": [
      "Evaluating party: fdp\n"
     ]
    },
    {
     "data": {
      "application/vnd.jupyter.widget-view+json": {
       "model_id": "728ec8e8d1e8451d9dfd690d8640a049",
       "version_major": 2,
       "version_minor": 0
      },
      "text/plain": [
       "Evaluating:   0%|          | 0/2 [00:00<?, ?it/s]"
      ]
     },
     "metadata": {},
     "output_type": "display_data"
    },
    {
     "name": "stderr",
     "output_type": "stream",
     "text": [
      "/Users/christianliedl/anaconda3/envs/bundestag/lib/python3.11/site-packages/ragas/evaluation.py:276: RuntimeWarning: Mean of empty slice\n",
      "  value = np.nanmean(self.scores[cn])\n"
     ]
    },
    {
     "name": "stdout",
     "output_type": "stream",
     "text": [
      "Evaluating party: cdu\n"
     ]
    },
    {
     "data": {
      "application/vnd.jupyter.widget-view+json": {
       "model_id": "b4d90f49f66841e3bb12f5d578439041",
       "version_major": 2,
       "version_minor": 0
      },
      "text/plain": [
       "Evaluating:   0%|          | 0/2 [00:00<?, ?it/s]"
      ]
     },
     "metadata": {},
     "output_type": "display_data"
    },
    {
     "name": "stderr",
     "output_type": "stream",
     "text": [
      "/Users/christianliedl/anaconda3/envs/bundestag/lib/python3.11/site-packages/ragas/evaluation.py:276: RuntimeWarning: Mean of empty slice\n",
      "  value = np.nanmean(self.scores[cn])\n"
     ]
    },
    {
     "name": "stdout",
     "output_type": "stream",
     "text": [
      "{'afd': {'faithfulness': 0.5000, 'answer_relevancy': 0.0000}, 'spd': {'faithfulness': 1.0000, 'answer_relevancy': 0.0000}, 'linke': {'faithfulness': 1.0000, 'answer_relevancy': 0.8762}, 'gruene': {'faithfulness': 0.0000, 'answer_relevancy': 0.8022}, 'fdp': {'faithfulness': nan, 'answer_relevancy': 0.0000}, 'cdu': {'faithfulness': nan, 'answer_relevancy': 0.0000}}\n",
      "Question: Sollen wir in Europa mehr für den Natur- und Artenschutz tun?\n",
      "Evaluating party: afd\n"
     ]
    },
    {
     "data": {
      "application/vnd.jupyter.widget-view+json": {
       "model_id": "79f7e6f1b2d349eea9eda200725f9a0d",
       "version_major": 2,
       "version_minor": 0
      },
      "text/plain": [
       "Evaluating:   0%|          | 0/2 [00:00<?, ?it/s]"
      ]
     },
     "metadata": {},
     "output_type": "display_data"
    },
    {
     "name": "stdout",
     "output_type": "stream",
     "text": [
      "Evaluating party: spd\n"
     ]
    },
    {
     "data": {
      "application/vnd.jupyter.widget-view+json": {
       "model_id": "cd5293bda6fb43eb89f470fc276f51a7",
       "version_major": 2,
       "version_minor": 0
      },
      "text/plain": [
       "Evaluating:   0%|          | 0/2 [00:00<?, ?it/s]"
      ]
     },
     "metadata": {},
     "output_type": "display_data"
    },
    {
     "name": "stdout",
     "output_type": "stream",
     "text": [
      "Evaluating party: linke\n"
     ]
    },
    {
     "data": {
      "application/vnd.jupyter.widget-view+json": {
       "model_id": "34589b4508bb48429934c835ea91b3a3",
       "version_major": 2,
       "version_minor": 0
      },
      "text/plain": [
       "Evaluating:   0%|          | 0/2 [00:00<?, ?it/s]"
      ]
     },
     "metadata": {},
     "output_type": "display_data"
    },
    {
     "name": "stdout",
     "output_type": "stream",
     "text": [
      "Evaluating party: gruene\n"
     ]
    },
    {
     "data": {
      "application/vnd.jupyter.widget-view+json": {
       "model_id": "6f41d38f253c47a4b119a2f364d20dfb",
       "version_major": 2,
       "version_minor": 0
      },
      "text/plain": [
       "Evaluating:   0%|          | 0/2 [00:00<?, ?it/s]"
      ]
     },
     "metadata": {},
     "output_type": "display_data"
    },
    {
     "name": "stdout",
     "output_type": "stream",
     "text": [
      "Evaluating party: fdp\n"
     ]
    },
    {
     "data": {
      "application/vnd.jupyter.widget-view+json": {
       "model_id": "cd44d7cfb8074f5a9f4067be5e2e934e",
       "version_major": 2,
       "version_minor": 0
      },
      "text/plain": [
       "Evaluating:   0%|          | 0/2 [00:00<?, ?it/s]"
      ]
     },
     "metadata": {},
     "output_type": "display_data"
    },
    {
     "name": "stderr",
     "output_type": "stream",
     "text": [
      "/Users/christianliedl/anaconda3/envs/bundestag/lib/python3.11/site-packages/ragas/evaluation.py:276: RuntimeWarning: Mean of empty slice\n",
      "  value = np.nanmean(self.scores[cn])\n"
     ]
    },
    {
     "name": "stdout",
     "output_type": "stream",
     "text": [
      "Evaluating party: cdu\n"
     ]
    },
    {
     "data": {
      "application/vnd.jupyter.widget-view+json": {
       "model_id": "a864c7155b9a4140a67eff942612273a",
       "version_major": 2,
       "version_minor": 0
      },
      "text/plain": [
       "Evaluating:   0%|          | 0/2 [00:00<?, ?it/s]"
      ]
     },
     "metadata": {},
     "output_type": "display_data"
    },
    {
     "name": "stdout",
     "output_type": "stream",
     "text": [
      "{'afd': {'faithfulness': 0.5000, 'answer_relevancy': 0.9049}, 'spd': {'faithfulness': 1.0000, 'answer_relevancy': 0.9115}, 'linke': {'faithfulness': 1.0000, 'answer_relevancy': 0.8687}, 'gruene': {'faithfulness': 0.6667, 'answer_relevancy': 0.8959}, 'fdp': {'faithfulness': nan, 'answer_relevancy': 0.8887}, 'cdu': {'faithfulness': 0.1667, 'answer_relevancy': 0.8780}}\n",
      "Question: Wie soll die Landwirtschaft unterstützt werden? \n",
      "Evaluating party: afd\n"
     ]
    },
    {
     "data": {
      "application/vnd.jupyter.widget-view+json": {
       "model_id": "cf97166e964541518037a1a327cbf114",
       "version_major": 2,
       "version_minor": 0
      },
      "text/plain": [
       "Evaluating:   0%|          | 0/2 [00:00<?, ?it/s]"
      ]
     },
     "metadata": {},
     "output_type": "display_data"
    },
    {
     "name": "stdout",
     "output_type": "stream",
     "text": [
      "Evaluating party: spd\n"
     ]
    },
    {
     "data": {
      "application/vnd.jupyter.widget-view+json": {
       "model_id": "9f2dec224f3f4e4681529b81ffa2da23",
       "version_major": 2,
       "version_minor": 0
      },
      "text/plain": [
       "Evaluating:   0%|          | 0/2 [00:00<?, ?it/s]"
      ]
     },
     "metadata": {},
     "output_type": "display_data"
    },
    {
     "name": "stdout",
     "output_type": "stream",
     "text": [
      "Evaluating party: linke\n"
     ]
    },
    {
     "data": {
      "application/vnd.jupyter.widget-view+json": {
       "model_id": "53dbfa9197084719819632d0c846aa6a",
       "version_major": 2,
       "version_minor": 0
      },
      "text/plain": [
       "Evaluating:   0%|          | 0/2 [00:00<?, ?it/s]"
      ]
     },
     "metadata": {},
     "output_type": "display_data"
    },
    {
     "name": "stdout",
     "output_type": "stream",
     "text": [
      "Evaluating party: gruene\n"
     ]
    },
    {
     "data": {
      "application/vnd.jupyter.widget-view+json": {
       "model_id": "b4ed403330954e7d86301a3695d9b652",
       "version_major": 2,
       "version_minor": 0
      },
      "text/plain": [
       "Evaluating:   0%|          | 0/2 [00:00<?, ?it/s]"
      ]
     },
     "metadata": {},
     "output_type": "display_data"
    },
    {
     "name": "stdout",
     "output_type": "stream",
     "text": [
      "Evaluating party: fdp\n"
     ]
    },
    {
     "data": {
      "application/vnd.jupyter.widget-view+json": {
       "model_id": "3c6feed5e1794a11bcafeaab9ab6cdd6",
       "version_major": 2,
       "version_minor": 0
      },
      "text/plain": [
       "Evaluating:   0%|          | 0/2 [00:00<?, ?it/s]"
      ]
     },
     "metadata": {},
     "output_type": "display_data"
    },
    {
     "name": "stdout",
     "output_type": "stream",
     "text": [
      "Evaluating party: cdu\n"
     ]
    },
    {
     "data": {
      "application/vnd.jupyter.widget-view+json": {
       "model_id": "e77b78e9e97545d7b71414c71f5955b4",
       "version_major": 2,
       "version_minor": 0
      },
      "text/plain": [
       "Evaluating:   0%|          | 0/2 [00:00<?, ?it/s]"
      ]
     },
     "metadata": {},
     "output_type": "display_data"
    },
    {
     "name": "stdout",
     "output_type": "stream",
     "text": [
      "{'afd': {'faithfulness': 1.0000, 'answer_relevancy': 0.8690}, 'spd': {'faithfulness': 1.0000, 'answer_relevancy': 0.9052}, 'linke': {'faithfulness': 0.5714, 'answer_relevancy': 0.0000}, 'gruene': {'faithfulness': 1.0000, 'answer_relevancy': 0.8971}, 'fdp': {'faithfulness': 0.6667, 'answer_relevancy': 0.8963}, 'cdu': {'faithfulness': 1.0000, 'answer_relevancy': 0.9078}}\n",
      "Question: Wie soll Europa Handel mit anderen Ländern treiben? (z.B. Handelsabkommen)\n",
      "Evaluating party: afd\n"
     ]
    },
    {
     "data": {
      "application/vnd.jupyter.widget-view+json": {
       "model_id": "dfdbe816c152431185c9585d8d89a442",
       "version_major": 2,
       "version_minor": 0
      },
      "text/plain": [
       "Evaluating:   0%|          | 0/2 [00:00<?, ?it/s]"
      ]
     },
     "metadata": {},
     "output_type": "display_data"
    },
    {
     "name": "stdout",
     "output_type": "stream",
     "text": [
      "Evaluating party: spd\n"
     ]
    },
    {
     "data": {
      "application/vnd.jupyter.widget-view+json": {
       "model_id": "ed832fdfd49646dea5efaf2bccc05ee3",
       "version_major": 2,
       "version_minor": 0
      },
      "text/plain": [
       "Evaluating:   0%|          | 0/2 [00:00<?, ?it/s]"
      ]
     },
     "metadata": {},
     "output_type": "display_data"
    },
    {
     "name": "stdout",
     "output_type": "stream",
     "text": [
      "Evaluating party: linke\n"
     ]
    },
    {
     "data": {
      "application/vnd.jupyter.widget-view+json": {
       "model_id": "b4b162590f9042f2916baeac9cf00213",
       "version_major": 2,
       "version_minor": 0
      },
      "text/plain": [
       "Evaluating:   0%|          | 0/2 [00:00<?, ?it/s]"
      ]
     },
     "metadata": {},
     "output_type": "display_data"
    },
    {
     "name": "stdout",
     "output_type": "stream",
     "text": [
      "Evaluating party: gruene\n"
     ]
    },
    {
     "data": {
      "application/vnd.jupyter.widget-view+json": {
       "model_id": "94093fd0e308457c89eba45e21899d99",
       "version_major": 2,
       "version_minor": 0
      },
      "text/plain": [
       "Evaluating:   0%|          | 0/2 [00:00<?, ?it/s]"
      ]
     },
     "metadata": {},
     "output_type": "display_data"
    },
    {
     "name": "stdout",
     "output_type": "stream",
     "text": [
      "Evaluating party: fdp\n"
     ]
    },
    {
     "data": {
      "application/vnd.jupyter.widget-view+json": {
       "model_id": "c8302ff7c78046679b7f394506a20db6",
       "version_major": 2,
       "version_minor": 0
      },
      "text/plain": [
       "Evaluating:   0%|          | 0/2 [00:00<?, ?it/s]"
      ]
     },
     "metadata": {},
     "output_type": "display_data"
    },
    {
     "name": "stdout",
     "output_type": "stream",
     "text": [
      "Evaluating party: cdu\n"
     ]
    },
    {
     "data": {
      "application/vnd.jupyter.widget-view+json": {
       "model_id": "9d0965b449e3415fa5056b4991ad0838",
       "version_major": 2,
       "version_minor": 0
      },
      "text/plain": [
       "Evaluating:   0%|          | 0/2 [00:00<?, ?it/s]"
      ]
     },
     "metadata": {},
     "output_type": "display_data"
    },
    {
     "name": "stdout",
     "output_type": "stream",
     "text": [
      "{'afd': {'faithfulness': 0.7000, 'answer_relevancy': 0.8724}, 'spd': {'faithfulness': 0.3750, 'answer_relevancy': 0.8863}, 'linke': {'faithfulness': 1.0000, 'answer_relevancy': 0.7945}, 'gruene': {'faithfulness': 1.0000, 'answer_relevancy': 0.8812}, 'fdp': {'faithfulness': 1.0000, 'answer_relevancy': 0.8464}, 'cdu': {'faithfulness': 1.0000, 'answer_relevancy': 0.8815}}\n",
      "Question: Wie sollen Flüchtlinge in Europa verteilt werden? \n",
      "Evaluating party: afd\n"
     ]
    },
    {
     "data": {
      "application/vnd.jupyter.widget-view+json": {
       "model_id": "9e0af34f8cfd4c07be7ca7ac7095b0bd",
       "version_major": 2,
       "version_minor": 0
      },
      "text/plain": [
       "Evaluating:   0%|          | 0/2 [00:00<?, ?it/s]"
      ]
     },
     "metadata": {},
     "output_type": "display_data"
    },
    {
     "name": "stdout",
     "output_type": "stream",
     "text": [
      "Evaluating party: spd\n"
     ]
    },
    {
     "data": {
      "application/vnd.jupyter.widget-view+json": {
       "model_id": "e255b2639ac84d708d29d1d05cf6e8ff",
       "version_major": 2,
       "version_minor": 0
      },
      "text/plain": [
       "Evaluating:   0%|          | 0/2 [00:00<?, ?it/s]"
      ]
     },
     "metadata": {},
     "output_type": "display_data"
    },
    {
     "name": "stdout",
     "output_type": "stream",
     "text": [
      "Evaluating party: linke\n"
     ]
    },
    {
     "data": {
      "application/vnd.jupyter.widget-view+json": {
       "model_id": "6d15715f5a5a4f7a91ef2f4005a7e94b",
       "version_major": 2,
       "version_minor": 0
      },
      "text/plain": [
       "Evaluating:   0%|          | 0/2 [00:00<?, ?it/s]"
      ]
     },
     "metadata": {},
     "output_type": "display_data"
    },
    {
     "name": "stdout",
     "output_type": "stream",
     "text": [
      "Evaluating party: gruene\n"
     ]
    },
    {
     "data": {
      "application/vnd.jupyter.widget-view+json": {
       "model_id": "a312b65f1ca044918bab549cccf134e7",
       "version_major": 2,
       "version_minor": 0
      },
      "text/plain": [
       "Evaluating:   0%|          | 0/2 [00:00<?, ?it/s]"
      ]
     },
     "metadata": {},
     "output_type": "display_data"
    },
    {
     "name": "stdout",
     "output_type": "stream",
     "text": [
      "Evaluating party: fdp\n"
     ]
    },
    {
     "data": {
      "application/vnd.jupyter.widget-view+json": {
       "model_id": "a835d6b71aff4b5180c4b3876d403308",
       "version_major": 2,
       "version_minor": 0
      },
      "text/plain": [
       "Evaluating:   0%|          | 0/2 [00:00<?, ?it/s]"
      ]
     },
     "metadata": {},
     "output_type": "display_data"
    },
    {
     "name": "stdout",
     "output_type": "stream",
     "text": [
      "Evaluating party: cdu\n"
     ]
    },
    {
     "data": {
      "application/vnd.jupyter.widget-view+json": {
       "model_id": "5ee454033f764929bb0656d0238ebd76",
       "version_major": 2,
       "version_minor": 0
      },
      "text/plain": [
       "Evaluating:   0%|          | 0/2 [00:00<?, ?it/s]"
      ]
     },
     "metadata": {},
     "output_type": "display_data"
    },
    {
     "name": "stdout",
     "output_type": "stream",
     "text": [
      "{'afd': {'faithfulness': 0.4286, 'answer_relevancy': 0.9218}, 'spd': {'faithfulness': 0.4000, 'answer_relevancy': 0.8956}, 'linke': {'faithfulness': 1.0000, 'answer_relevancy': 0.8767}, 'gruene': {'faithfulness': 1.0000, 'answer_relevancy': 0.8995}, 'fdp': {'faithfulness': 0.4000, 'answer_relevancy': 0.9287}, 'cdu': {'faithfulness': 0.8000, 'answer_relevancy': 0.8864}}\n",
      "Question: Wie stehen die Parteien zur gleichgeschlechtlichen Ehe?\n",
      "Evaluating party: afd\n"
     ]
    },
    {
     "data": {
      "application/vnd.jupyter.widget-view+json": {
       "model_id": "5db2e0cd8cf14d6fa1880ba47e29e31b",
       "version_major": 2,
       "version_minor": 0
      },
      "text/plain": [
       "Evaluating:   0%|          | 0/2 [00:00<?, ?it/s]"
      ]
     },
     "metadata": {},
     "output_type": "display_data"
    },
    {
     "name": "stderr",
     "output_type": "stream",
     "text": [
      "/Users/christianliedl/anaconda3/envs/bundestag/lib/python3.11/site-packages/ragas/evaluation.py:276: RuntimeWarning: Mean of empty slice\n",
      "  value = np.nanmean(self.scores[cn])\n"
     ]
    },
    {
     "name": "stdout",
     "output_type": "stream",
     "text": [
      "Evaluating party: spd\n"
     ]
    },
    {
     "data": {
      "application/vnd.jupyter.widget-view+json": {
       "model_id": "4a2df87aa0e44c75817904784be9e590",
       "version_major": 2,
       "version_minor": 0
      },
      "text/plain": [
       "Evaluating:   0%|          | 0/2 [00:00<?, ?it/s]"
      ]
     },
     "metadata": {},
     "output_type": "display_data"
    },
    {
     "name": "stdout",
     "output_type": "stream",
     "text": [
      "Evaluating party: linke\n"
     ]
    },
    {
     "data": {
      "application/vnd.jupyter.widget-view+json": {
       "model_id": "d3e41a7bd88749658af9a8e70473e8d3",
       "version_major": 2,
       "version_minor": 0
      },
      "text/plain": [
       "Evaluating:   0%|          | 0/2 [00:00<?, ?it/s]"
      ]
     },
     "metadata": {},
     "output_type": "display_data"
    },
    {
     "name": "stdout",
     "output_type": "stream",
     "text": [
      "Evaluating party: gruene\n"
     ]
    },
    {
     "data": {
      "application/vnd.jupyter.widget-view+json": {
       "model_id": "58eef4d717984592a10401b1fdd43e58",
       "version_major": 2,
       "version_minor": 0
      },
      "text/plain": [
       "Evaluating:   0%|          | 0/2 [00:00<?, ?it/s]"
      ]
     },
     "metadata": {},
     "output_type": "display_data"
    },
    {
     "name": "stdout",
     "output_type": "stream",
     "text": [
      "Evaluating party: fdp\n"
     ]
    },
    {
     "data": {
      "application/vnd.jupyter.widget-view+json": {
       "model_id": "74c6f5373fbb4a9bbb92346f9f4441c8",
       "version_major": 2,
       "version_minor": 0
      },
      "text/plain": [
       "Evaluating:   0%|          | 0/2 [00:00<?, ?it/s]"
      ]
     },
     "metadata": {},
     "output_type": "display_data"
    },
    {
     "name": "stdout",
     "output_type": "stream",
     "text": [
      "Evaluating party: cdu\n"
     ]
    },
    {
     "data": {
      "application/vnd.jupyter.widget-view+json": {
       "model_id": "9a96e3756e9a4ab797d9cccd471f06da",
       "version_major": 2,
       "version_minor": 0
      },
      "text/plain": [
       "Evaluating:   0%|          | 0/2 [00:00<?, ?it/s]"
      ]
     },
     "metadata": {},
     "output_type": "display_data"
    },
    {
     "name": "stdout",
     "output_type": "stream",
     "text": [
      "{'afd': {'faithfulness': nan, 'answer_relevancy': 0.0000}, 'spd': {'faithfulness': 1.0000, 'answer_relevancy': 0.9023}, 'linke': {'faithfulness': 0.8000, 'answer_relevancy': 0.0000}, 'gruene': {'faithfulness': 1.0000, 'answer_relevancy': 0.8555}, 'fdp': {'faithfulness': 1.0000, 'answer_relevancy': 0.8555}, 'cdu': {'faithfulness': 0.0000, 'answer_relevancy': 0.0000}}\n",
      "Question: Wie sollten wir Fischfang betreiben damit das Meer und die Tiere geschützt werden?\n",
      "Evaluating party: afd\n"
     ]
    },
    {
     "data": {
      "application/vnd.jupyter.widget-view+json": {
       "model_id": "e6ddb573cb734930b0a362799cf590d7",
       "version_major": 2,
       "version_minor": 0
      },
      "text/plain": [
       "Evaluating:   0%|          | 0/2 [00:00<?, ?it/s]"
      ]
     },
     "metadata": {},
     "output_type": "display_data"
    },
    {
     "name": "stdout",
     "output_type": "stream",
     "text": [
      "Evaluating party: spd\n"
     ]
    },
    {
     "data": {
      "application/vnd.jupyter.widget-view+json": {
       "model_id": "a5b7e4bd64284f74831f1b2a8684f424",
       "version_major": 2,
       "version_minor": 0
      },
      "text/plain": [
       "Evaluating:   0%|          | 0/2 [00:00<?, ?it/s]"
      ]
     },
     "metadata": {},
     "output_type": "display_data"
    },
    {
     "name": "stdout",
     "output_type": "stream",
     "text": [
      "Evaluating party: linke\n"
     ]
    },
    {
     "data": {
      "application/vnd.jupyter.widget-view+json": {
       "model_id": "1958e1d37d35420a837d42b9729c6c9e",
       "version_major": 2,
       "version_minor": 0
      },
      "text/plain": [
       "Evaluating:   0%|          | 0/2 [00:00<?, ?it/s]"
      ]
     },
     "metadata": {},
     "output_type": "display_data"
    },
    {
     "name": "stderr",
     "output_type": "stream",
     "text": [
      "/Users/christianliedl/anaconda3/envs/bundestag/lib/python3.11/site-packages/ragas/evaluation.py:276: RuntimeWarning: Mean of empty slice\n",
      "  value = np.nanmean(self.scores[cn])\n"
     ]
    },
    {
     "name": "stdout",
     "output_type": "stream",
     "text": [
      "Evaluating party: gruene\n"
     ]
    },
    {
     "data": {
      "application/vnd.jupyter.widget-view+json": {
       "model_id": "e8da7a18e8544a959f1825f15254963d",
       "version_major": 2,
       "version_minor": 0
      },
      "text/plain": [
       "Evaluating:   0%|          | 0/2 [00:00<?, ?it/s]"
      ]
     },
     "metadata": {},
     "output_type": "display_data"
    },
    {
     "name": "stdout",
     "output_type": "stream",
     "text": [
      "Evaluating party: fdp\n"
     ]
    },
    {
     "data": {
      "application/vnd.jupyter.widget-view+json": {
       "model_id": "d55e29832be84f5bb437e6180a223fc6",
       "version_major": 2,
       "version_minor": 0
      },
      "text/plain": [
       "Evaluating:   0%|          | 0/2 [00:00<?, ?it/s]"
      ]
     },
     "metadata": {},
     "output_type": "display_data"
    },
    {
     "name": "stdout",
     "output_type": "stream",
     "text": [
      "Evaluating party: cdu\n"
     ]
    },
    {
     "data": {
      "application/vnd.jupyter.widget-view+json": {
       "model_id": "ada0a8841f3b4f7ca115caec836ded5f",
       "version_major": 2,
       "version_minor": 0
      },
      "text/plain": [
       "Evaluating:   0%|          | 0/2 [00:00<?, ?it/s]"
      ]
     },
     "metadata": {},
     "output_type": "display_data"
    },
    {
     "name": "stdout",
     "output_type": "stream",
     "text": [
      "{'afd': {'faithfulness': 0.4000, 'answer_relevancy': 0.9195}, 'spd': {'faithfulness': 1.0000, 'answer_relevancy': 0.8790}, 'linke': {'faithfulness': nan, 'answer_relevancy': 0.9181}, 'gruene': {'faithfulness': 1.0000, 'answer_relevancy': 0.9031}, 'fdp': {'faithfulness': 1.0000, 'answer_relevancy': 0.8874}, 'cdu': {'faithfulness': 0.0000, 'answer_relevancy': 0.8979}}\n",
      "Question: Was wollen die Parteien tun um das Tierwohl in der Viehhaltung zu verbessern? \n",
      "Evaluating party: afd\n"
     ]
    },
    {
     "data": {
      "application/vnd.jupyter.widget-view+json": {
       "model_id": "f4ea01af23344072bf609e3c203c64c7",
       "version_major": 2,
       "version_minor": 0
      },
      "text/plain": [
       "Evaluating:   0%|          | 0/2 [00:00<?, ?it/s]"
      ]
     },
     "metadata": {},
     "output_type": "display_data"
    },
    {
     "name": "stderr",
     "output_type": "stream",
     "text": [
      "/Users/christianliedl/anaconda3/envs/bundestag/lib/python3.11/site-packages/ragas/evaluation.py:276: RuntimeWarning: Mean of empty slice\n",
      "  value = np.nanmean(self.scores[cn])\n"
     ]
    },
    {
     "name": "stdout",
     "output_type": "stream",
     "text": [
      "Evaluating party: spd\n"
     ]
    },
    {
     "data": {
      "application/vnd.jupyter.widget-view+json": {
       "model_id": "fb691ce45d564c20ab1a3d651b2e1cb6",
       "version_major": 2,
       "version_minor": 0
      },
      "text/plain": [
       "Evaluating:   0%|          | 0/2 [00:00<?, ?it/s]"
      ]
     },
     "metadata": {},
     "output_type": "display_data"
    },
    {
     "name": "stdout",
     "output_type": "stream",
     "text": [
      "Evaluating party: linke\n"
     ]
    },
    {
     "data": {
      "application/vnd.jupyter.widget-view+json": {
       "model_id": "d23cbd2720d044feb7e2f3c2aef43d31",
       "version_major": 2,
       "version_minor": 0
      },
      "text/plain": [
       "Evaluating:   0%|          | 0/2 [00:00<?, ?it/s]"
      ]
     },
     "metadata": {},
     "output_type": "display_data"
    },
    {
     "name": "stdout",
     "output_type": "stream",
     "text": [
      "Evaluating party: gruene\n"
     ]
    },
    {
     "data": {
      "application/vnd.jupyter.widget-view+json": {
       "model_id": "7ac5974ad80d478ba0b8317a568def74",
       "version_major": 2,
       "version_minor": 0
      },
      "text/plain": [
       "Evaluating:   0%|          | 0/2 [00:00<?, ?it/s]"
      ]
     },
     "metadata": {},
     "output_type": "display_data"
    },
    {
     "name": "stdout",
     "output_type": "stream",
     "text": [
      "Evaluating party: fdp\n"
     ]
    },
    {
     "data": {
      "application/vnd.jupyter.widget-view+json": {
       "model_id": "23081d49ddc642aab066327e44fbd158",
       "version_major": 2,
       "version_minor": 0
      },
      "text/plain": [
       "Evaluating:   0%|          | 0/2 [00:00<?, ?it/s]"
      ]
     },
     "metadata": {},
     "output_type": "display_data"
    },
    {
     "name": "stderr",
     "output_type": "stream",
     "text": [
      "/Users/christianliedl/anaconda3/envs/bundestag/lib/python3.11/site-packages/ragas/evaluation.py:276: RuntimeWarning: Mean of empty slice\n",
      "  value = np.nanmean(self.scores[cn])\n"
     ]
    },
    {
     "name": "stdout",
     "output_type": "stream",
     "text": [
      "Evaluating party: cdu\n"
     ]
    },
    {
     "data": {
      "application/vnd.jupyter.widget-view+json": {
       "model_id": "3f16ada700a848908947f2568115951c",
       "version_major": 2,
       "version_minor": 0
      },
      "text/plain": [
       "Evaluating:   0%|          | 0/2 [00:00<?, ?it/s]"
      ]
     },
     "metadata": {},
     "output_type": "display_data"
    },
    {
     "name": "stdout",
     "output_type": "stream",
     "text": [
      "{'afd': {'faithfulness': nan, 'answer_relevancy': 0.8925}, 'spd': {'faithfulness': 1.0000, 'answer_relevancy': 0.8664}, 'linke': {'faithfulness': 0.7143, 'answer_relevancy': 0.9094}, 'gruene': {'faithfulness': 1.0000, 'answer_relevancy': 0.8983}, 'fdp': {'faithfulness': nan, 'answer_relevancy': 0.0000}, 'cdu': {'faithfulness': 0.0000, 'answer_relevancy': 0.9550}}\n",
      "Question: Wie sollte die Zusammenarbeit mit den USA aussehen?\n",
      "Evaluating party: afd\n"
     ]
    },
    {
     "data": {
      "application/vnd.jupyter.widget-view+json": {
       "model_id": "a78ed9b44bc64e1988633839d3a82571",
       "version_major": 2,
       "version_minor": 0
      },
      "text/plain": [
       "Evaluating:   0%|          | 0/2 [00:00<?, ?it/s]"
      ]
     },
     "metadata": {},
     "output_type": "display_data"
    },
    {
     "name": "stdout",
     "output_type": "stream",
     "text": [
      "Evaluating party: spd\n"
     ]
    },
    {
     "data": {
      "application/vnd.jupyter.widget-view+json": {
       "model_id": "78b627d6e99b4231a823f548b4554bbe",
       "version_major": 2,
       "version_minor": 0
      },
      "text/plain": [
       "Evaluating:   0%|          | 0/2 [00:00<?, ?it/s]"
      ]
     },
     "metadata": {},
     "output_type": "display_data"
    },
    {
     "name": "stdout",
     "output_type": "stream",
     "text": [
      "Evaluating party: linke\n"
     ]
    },
    {
     "data": {
      "application/vnd.jupyter.widget-view+json": {
       "model_id": "a5c34be506c5418a93c9378795c4e384",
       "version_major": 2,
       "version_minor": 0
      },
      "text/plain": [
       "Evaluating:   0%|          | 0/2 [00:00<?, ?it/s]"
      ]
     },
     "metadata": {},
     "output_type": "display_data"
    },
    {
     "name": "stdout",
     "output_type": "stream",
     "text": [
      "Evaluating party: gruene\n"
     ]
    },
    {
     "data": {
      "application/vnd.jupyter.widget-view+json": {
       "model_id": "c2265abc9dbb4f7c966fa909666d1e14",
       "version_major": 2,
       "version_minor": 0
      },
      "text/plain": [
       "Evaluating:   0%|          | 0/2 [00:00<?, ?it/s]"
      ]
     },
     "metadata": {},
     "output_type": "display_data"
    },
    {
     "name": "stdout",
     "output_type": "stream",
     "text": [
      "Evaluating party: fdp\n"
     ]
    },
    {
     "data": {
      "application/vnd.jupyter.widget-view+json": {
       "model_id": "9e340d8b75424a428198850e735818ab",
       "version_major": 2,
       "version_minor": 0
      },
      "text/plain": [
       "Evaluating:   0%|          | 0/2 [00:00<?, ?it/s]"
      ]
     },
     "metadata": {},
     "output_type": "display_data"
    },
    {
     "name": "stdout",
     "output_type": "stream",
     "text": [
      "Evaluating party: cdu\n"
     ]
    },
    {
     "data": {
      "application/vnd.jupyter.widget-view+json": {
       "model_id": "0f7062ef516c471f9b81e4a3f2938f6b",
       "version_major": 2,
       "version_minor": 0
      },
      "text/plain": [
       "Evaluating:   0%|          | 0/2 [00:00<?, ?it/s]"
      ]
     },
     "metadata": {},
     "output_type": "display_data"
    },
    {
     "name": "stdout",
     "output_type": "stream",
     "text": [
      "{'afd': {'faithfulness': 0.8333, 'answer_relevancy': 0.9136}, 'spd': {'faithfulness': 1.0000, 'answer_relevancy': 0.9106}, 'linke': {'faithfulness': 0.2000, 'answer_relevancy': 0.9167}, 'gruene': {'faithfulness': 0.9000, 'answer_relevancy': 0.0000}, 'fdp': {'faithfulness': 0.5000, 'answer_relevancy': 0.9008}, 'cdu': {'faithfulness': 0.5714, 'answer_relevancy': 0.9211}}\n",
      "Question: Wie können wir Jungendarbeitslosigkeit reduzieren? \n",
      "Evaluating party: afd\n"
     ]
    },
    {
     "data": {
      "application/vnd.jupyter.widget-view+json": {
       "model_id": "2fcd6917f9fe4c3ab01b99ed1ac7cf00",
       "version_major": 2,
       "version_minor": 0
      },
      "text/plain": [
       "Evaluating:   0%|          | 0/2 [00:00<?, ?it/s]"
      ]
     },
     "metadata": {},
     "output_type": "display_data"
    },
    {
     "name": "stdout",
     "output_type": "stream",
     "text": [
      "Evaluating party: spd\n"
     ]
    },
    {
     "data": {
      "application/vnd.jupyter.widget-view+json": {
       "model_id": "fbc8758249ae4ae7b5f1699b0a221407",
       "version_major": 2,
       "version_minor": 0
      },
      "text/plain": [
       "Evaluating:   0%|          | 0/2 [00:00<?, ?it/s]"
      ]
     },
     "metadata": {},
     "output_type": "display_data"
    },
    {
     "name": "stdout",
     "output_type": "stream",
     "text": [
      "Evaluating party: linke\n"
     ]
    },
    {
     "data": {
      "application/vnd.jupyter.widget-view+json": {
       "model_id": "8fc3a17c5df74814ba2f07b0bc5a9060",
       "version_major": 2,
       "version_minor": 0
      },
      "text/plain": [
       "Evaluating:   0%|          | 0/2 [00:00<?, ?it/s]"
      ]
     },
     "metadata": {},
     "output_type": "display_data"
    },
    {
     "name": "stdout",
     "output_type": "stream",
     "text": [
      "Evaluating party: gruene\n"
     ]
    },
    {
     "data": {
      "application/vnd.jupyter.widget-view+json": {
       "model_id": "73ad73baccdc49fcabf53645b1bb8229",
       "version_major": 2,
       "version_minor": 0
      },
      "text/plain": [
       "Evaluating:   0%|          | 0/2 [00:00<?, ?it/s]"
      ]
     },
     "metadata": {},
     "output_type": "display_data"
    },
    {
     "name": "stdout",
     "output_type": "stream",
     "text": [
      "Evaluating party: fdp\n"
     ]
    },
    {
     "data": {
      "application/vnd.jupyter.widget-view+json": {
       "model_id": "96af83c23c684e7aaa2b1b34ddf45595",
       "version_major": 2,
       "version_minor": 0
      },
      "text/plain": [
       "Evaluating:   0%|          | 0/2 [00:00<?, ?it/s]"
      ]
     },
     "metadata": {},
     "output_type": "display_data"
    },
    {
     "name": "stdout",
     "output_type": "stream",
     "text": [
      "Evaluating party: cdu\n"
     ]
    },
    {
     "data": {
      "application/vnd.jupyter.widget-view+json": {
       "model_id": "eacb3f1eab8a4af7b0696613128092f9",
       "version_major": 2,
       "version_minor": 0
      },
      "text/plain": [
       "Evaluating:   0%|          | 0/2 [00:00<?, ?it/s]"
      ]
     },
     "metadata": {},
     "output_type": "display_data"
    },
    {
     "name": "stdout",
     "output_type": "stream",
     "text": [
      "{'afd': {'faithfulness': 0.0000, 'answer_relevancy': 0.8335}, 'spd': {'faithfulness': 1.0000, 'answer_relevancy': 0.8534}, 'linke': {'faithfulness': 0.7143, 'answer_relevancy': 0.8875}, 'gruene': {'faithfulness': 0.8333, 'answer_relevancy': 0.8949}, 'fdp': {'faithfulness': 0.0000, 'answer_relevancy': 0.9241}, 'cdu': {'faithfulness': 0.0000, 'answer_relevancy': 0.8502}}\n",
      "Question: Wie sehen die Pläne zum Erreichen der Klimaneutralität aus?\n",
      "Evaluating party: afd\n"
     ]
    },
    {
     "data": {
      "application/vnd.jupyter.widget-view+json": {
       "model_id": "a396e489b7654a3c908544604dac2f7d",
       "version_major": 2,
       "version_minor": 0
      },
      "text/plain": [
       "Evaluating:   0%|          | 0/2 [00:00<?, ?it/s]"
      ]
     },
     "metadata": {},
     "output_type": "display_data"
    },
    {
     "name": "stdout",
     "output_type": "stream",
     "text": [
      "Evaluating party: spd\n"
     ]
    },
    {
     "data": {
      "application/vnd.jupyter.widget-view+json": {
       "model_id": "620fd6d5a5004fe3baaa7e1b4da938c1",
       "version_major": 2,
       "version_minor": 0
      },
      "text/plain": [
       "Evaluating:   0%|          | 0/2 [00:00<?, ?it/s]"
      ]
     },
     "metadata": {},
     "output_type": "display_data"
    },
    {
     "name": "stdout",
     "output_type": "stream",
     "text": [
      "Evaluating party: linke\n"
     ]
    },
    {
     "data": {
      "application/vnd.jupyter.widget-view+json": {
       "model_id": "5c66b3f44e564d1499029a429aced313",
       "version_major": 2,
       "version_minor": 0
      },
      "text/plain": [
       "Evaluating:   0%|          | 0/2 [00:00<?, ?it/s]"
      ]
     },
     "metadata": {},
     "output_type": "display_data"
    },
    {
     "name": "stdout",
     "output_type": "stream",
     "text": [
      "Evaluating party: gruene\n"
     ]
    },
    {
     "data": {
      "application/vnd.jupyter.widget-view+json": {
       "model_id": "f5522476c22649e4b91c0a5e5031fffd",
       "version_major": 2,
       "version_minor": 0
      },
      "text/plain": [
       "Evaluating:   0%|          | 0/2 [00:00<?, ?it/s]"
      ]
     },
     "metadata": {},
     "output_type": "display_data"
    },
    {
     "name": "stderr",
     "output_type": "stream",
     "text": [
      "/Users/christianliedl/anaconda3/envs/bundestag/lib/python3.11/site-packages/ragas/evaluation.py:276: RuntimeWarning: Mean of empty slice\n",
      "  value = np.nanmean(self.scores[cn])\n"
     ]
    },
    {
     "name": "stdout",
     "output_type": "stream",
     "text": [
      "Evaluating party: fdp\n"
     ]
    },
    {
     "data": {
      "application/vnd.jupyter.widget-view+json": {
       "model_id": "ecee8fe7ad2c470cb917cce8982f6936",
       "version_major": 2,
       "version_minor": 0
      },
      "text/plain": [
       "Evaluating:   0%|          | 0/2 [00:00<?, ?it/s]"
      ]
     },
     "metadata": {},
     "output_type": "display_data"
    },
    {
     "name": "stdout",
     "output_type": "stream",
     "text": [
      "Evaluating party: cdu\n"
     ]
    },
    {
     "data": {
      "application/vnd.jupyter.widget-view+json": {
       "model_id": "19e25a9b1d654f7a829a44418575018f",
       "version_major": 2,
       "version_minor": 0
      },
      "text/plain": [
       "Evaluating:   0%|          | 0/2 [00:00<?, ?it/s]"
      ]
     },
     "metadata": {},
     "output_type": "display_data"
    },
    {
     "name": "stdout",
     "output_type": "stream",
     "text": [
      "{'afd': {'faithfulness': 0.5000, 'answer_relevancy': 0.8808}, 'spd': {'faithfulness': 1.0000, 'answer_relevancy': 0.8786}, 'linke': {'faithfulness': 1.0000, 'answer_relevancy': 0.9008}, 'gruene': {'faithfulness': nan, 'answer_relevancy': 0.9519}, 'fdp': {'faithfulness': 0.6000, 'answer_relevancy': 0.8632}, 'cdu': {'faithfulness': 1.0000, 'answer_relevancy': 0.9089}}\n",
      "Question: Wie soll das Verhältnis zu China aussehen im Bezug auf Protektionismus?\n",
      "Evaluating party: afd\n"
     ]
    },
    {
     "data": {
      "application/vnd.jupyter.widget-view+json": {
       "model_id": "811e591d728f4ba9b091570a73442d11",
       "version_major": 2,
       "version_minor": 0
      },
      "text/plain": [
       "Evaluating:   0%|          | 0/2 [00:00<?, ?it/s]"
      ]
     },
     "metadata": {},
     "output_type": "display_data"
    },
    {
     "name": "stdout",
     "output_type": "stream",
     "text": [
      "Evaluating party: spd\n"
     ]
    },
    {
     "data": {
      "application/vnd.jupyter.widget-view+json": {
       "model_id": "a3f6e16d9180455d9da2d536902b62ab",
       "version_major": 2,
       "version_minor": 0
      },
      "text/plain": [
       "Evaluating:   0%|          | 0/2 [00:00<?, ?it/s]"
      ]
     },
     "metadata": {},
     "output_type": "display_data"
    },
    {
     "name": "stdout",
     "output_type": "stream",
     "text": [
      "Evaluating party: linke\n"
     ]
    },
    {
     "data": {
      "application/vnd.jupyter.widget-view+json": {
       "model_id": "4aa6ef88286547dbbe37100211b3608d",
       "version_major": 2,
       "version_minor": 0
      },
      "text/plain": [
       "Evaluating:   0%|          | 0/2 [00:00<?, ?it/s]"
      ]
     },
     "metadata": {},
     "output_type": "display_data"
    },
    {
     "name": "stdout",
     "output_type": "stream",
     "text": [
      "Evaluating party: gruene\n"
     ]
    },
    {
     "data": {
      "application/vnd.jupyter.widget-view+json": {
       "model_id": "fb5daf903419446698cb0d84d036cb82",
       "version_major": 2,
       "version_minor": 0
      },
      "text/plain": [
       "Evaluating:   0%|          | 0/2 [00:00<?, ?it/s]"
      ]
     },
     "metadata": {},
     "output_type": "display_data"
    },
    {
     "name": "stdout",
     "output_type": "stream",
     "text": [
      "Evaluating party: fdp\n"
     ]
    },
    {
     "data": {
      "application/vnd.jupyter.widget-view+json": {
       "model_id": "4c69273472dc4765b87db8d842b99699",
       "version_major": 2,
       "version_minor": 0
      },
      "text/plain": [
       "Evaluating:   0%|          | 0/2 [00:00<?, ?it/s]"
      ]
     },
     "metadata": {},
     "output_type": "display_data"
    },
    {
     "name": "stdout",
     "output_type": "stream",
     "text": [
      "Evaluating party: cdu\n"
     ]
    },
    {
     "data": {
      "application/vnd.jupyter.widget-view+json": {
       "model_id": "a51c12503dc64be6951289b2063dadc7",
       "version_major": 2,
       "version_minor": 0
      },
      "text/plain": [
       "Evaluating:   0%|          | 0/2 [00:00<?, ?it/s]"
      ]
     },
     "metadata": {},
     "output_type": "display_data"
    },
    {
     "name": "stdout",
     "output_type": "stream",
     "text": [
      "{'afd': {'faithfulness': 0.8333, 'answer_relevancy': 0.9124}, 'spd': {'faithfulness': 1.0000, 'answer_relevancy': 0.8903}, 'linke': {'faithfulness': 0.2000, 'answer_relevancy': 0.8848}, 'gruene': {'faithfulness': 1.0000, 'answer_relevancy': 0.0000}, 'fdp': {'faithfulness': 1.0000, 'answer_relevancy': 0.8878}, 'cdu': {'faithfulness': 1.0000, 'answer_relevancy': 0.8933}}\n",
      "Question: Wie sollen Kameras und Technik dabei helfen Verbrechen zu stoppen ohne dass unsere Privatsphäre gestört wird?\n",
      "Evaluating party: afd\n"
     ]
    },
    {
     "data": {
      "application/vnd.jupyter.widget-view+json": {
       "model_id": "e346b61c70f14f7faf590d441b2e1c0f",
       "version_major": 2,
       "version_minor": 0
      },
      "text/plain": [
       "Evaluating:   0%|          | 0/2 [00:00<?, ?it/s]"
      ]
     },
     "metadata": {},
     "output_type": "display_data"
    },
    {
     "name": "stdout",
     "output_type": "stream",
     "text": [
      "Evaluating party: spd\n"
     ]
    },
    {
     "data": {
      "application/vnd.jupyter.widget-view+json": {
       "model_id": "5fd2639b7062407bbfd4ad33cdaaf098",
       "version_major": 2,
       "version_minor": 0
      },
      "text/plain": [
       "Evaluating:   0%|          | 0/2 [00:00<?, ?it/s]"
      ]
     },
     "metadata": {},
     "output_type": "display_data"
    },
    {
     "name": "stdout",
     "output_type": "stream",
     "text": [
      "Evaluating party: linke\n"
     ]
    },
    {
     "data": {
      "application/vnd.jupyter.widget-view+json": {
       "model_id": "84433216374b4a76bbf7241939bdb70f",
       "version_major": 2,
       "version_minor": 0
      },
      "text/plain": [
       "Evaluating:   0%|          | 0/2 [00:00<?, ?it/s]"
      ]
     },
     "metadata": {},
     "output_type": "display_data"
    },
    {
     "name": "stdout",
     "output_type": "stream",
     "text": [
      "Evaluating party: gruene\n"
     ]
    },
    {
     "data": {
      "application/vnd.jupyter.widget-view+json": {
       "model_id": "b2ab1fdcb1ea47d3917eb457fc952b46",
       "version_major": 2,
       "version_minor": 0
      },
      "text/plain": [
       "Evaluating:   0%|          | 0/2 [00:00<?, ?it/s]"
      ]
     },
     "metadata": {},
     "output_type": "display_data"
    },
    {
     "name": "stderr",
     "output_type": "stream",
     "text": [
      "/Users/christianliedl/anaconda3/envs/bundestag/lib/python3.11/site-packages/ragas/evaluation.py:276: RuntimeWarning: Mean of empty slice\n",
      "  value = np.nanmean(self.scores[cn])\n"
     ]
    },
    {
     "name": "stdout",
     "output_type": "stream",
     "text": [
      "Evaluating party: fdp\n"
     ]
    },
    {
     "data": {
      "application/vnd.jupyter.widget-view+json": {
       "model_id": "2b58499f0cdc46aba1fcfbc071a33aac",
       "version_major": 2,
       "version_minor": 0
      },
      "text/plain": [
       "Evaluating:   0%|          | 0/2 [00:00<?, ?it/s]"
      ]
     },
     "metadata": {},
     "output_type": "display_data"
    },
    {
     "name": "stdout",
     "output_type": "stream",
     "text": [
      "Evaluating party: cdu\n"
     ]
    },
    {
     "data": {
      "application/vnd.jupyter.widget-view+json": {
       "model_id": "c0908c84e5c94d5295b2bbfbda43adb2",
       "version_major": 2,
       "version_minor": 0
      },
      "text/plain": [
       "Evaluating:   0%|          | 0/2 [00:00<?, ?it/s]"
      ]
     },
     "metadata": {},
     "output_type": "display_data"
    },
    {
     "name": "stdout",
     "output_type": "stream",
     "text": [
      "{'afd': {'faithfulness': 0.6667, 'answer_relevancy': 0.8088}, 'spd': {'faithfulness': 0.3333, 'answer_relevancy': 0.8020}, 'linke': {'faithfulness': 1.0000, 'answer_relevancy': 0.8191}, 'gruene': {'faithfulness': nan, 'answer_relevancy': 0.7829}, 'fdp': {'faithfulness': 0.2500, 'answer_relevancy': 0.0000}, 'cdu': {'faithfulness': 0.0000, 'answer_relevancy': 0.0000}}\n",
      "Question: Sollten mehr Länder der EU beitreten?\n",
      "Evaluating party: afd\n"
     ]
    },
    {
     "data": {
      "application/vnd.jupyter.widget-view+json": {
       "model_id": "5e103b0693b8405d9f83a887b64cc8fc",
       "version_major": 2,
       "version_minor": 0
      },
      "text/plain": [
       "Evaluating:   0%|          | 0/2 [00:00<?, ?it/s]"
      ]
     },
     "metadata": {},
     "output_type": "display_data"
    },
    {
     "name": "stdout",
     "output_type": "stream",
     "text": [
      "Evaluating party: spd\n"
     ]
    },
    {
     "data": {
      "application/vnd.jupyter.widget-view+json": {
       "model_id": "39183516263842a5bcd6e62646e3c8f3",
       "version_major": 2,
       "version_minor": 0
      },
      "text/plain": [
       "Evaluating:   0%|          | 0/2 [00:00<?, ?it/s]"
      ]
     },
     "metadata": {},
     "output_type": "display_data"
    },
    {
     "name": "stdout",
     "output_type": "stream",
     "text": [
      "Evaluating party: linke\n"
     ]
    },
    {
     "data": {
      "application/vnd.jupyter.widget-view+json": {
       "model_id": "ac85382bd11c4989983d2c5a19f469e1",
       "version_major": 2,
       "version_minor": 0
      },
      "text/plain": [
       "Evaluating:   0%|          | 0/2 [00:00<?, ?it/s]"
      ]
     },
     "metadata": {},
     "output_type": "display_data"
    },
    {
     "name": "stdout",
     "output_type": "stream",
     "text": [
      "Evaluating party: gruene\n"
     ]
    },
    {
     "data": {
      "application/vnd.jupyter.widget-view+json": {
       "model_id": "b9cf6d8067e549f39fb3d7953f433af1",
       "version_major": 2,
       "version_minor": 0
      },
      "text/plain": [
       "Evaluating:   0%|          | 0/2 [00:00<?, ?it/s]"
      ]
     },
     "metadata": {},
     "output_type": "display_data"
    },
    {
     "name": "stderr",
     "output_type": "stream",
     "text": [
      "/Users/christianliedl/anaconda3/envs/bundestag/lib/python3.11/site-packages/ragas/evaluation.py:276: RuntimeWarning: Mean of empty slice\n",
      "  value = np.nanmean(self.scores[cn])\n"
     ]
    },
    {
     "name": "stdout",
     "output_type": "stream",
     "text": [
      "Evaluating party: fdp\n"
     ]
    },
    {
     "data": {
      "application/vnd.jupyter.widget-view+json": {
       "model_id": "a83ed5a553a44fabbcd454676f46e8e3",
       "version_major": 2,
       "version_minor": 0
      },
      "text/plain": [
       "Evaluating:   0%|          | 0/2 [00:00<?, ?it/s]"
      ]
     },
     "metadata": {},
     "output_type": "display_data"
    },
    {
     "name": "stdout",
     "output_type": "stream",
     "text": [
      "Evaluating party: cdu\n"
     ]
    },
    {
     "data": {
      "application/vnd.jupyter.widget-view+json": {
       "model_id": "6acbd31e4a2d42e0a7ff9bf461cedde9",
       "version_major": 2,
       "version_minor": 0
      },
      "text/plain": [
       "Evaluating:   0%|          | 0/2 [00:00<?, ?it/s]"
      ]
     },
     "metadata": {},
     "output_type": "display_data"
    },
    {
     "name": "stdout",
     "output_type": "stream",
     "text": [
      "{'afd': {'faithfulness': 0.0000, 'answer_relevancy': 0.8456}, 'spd': {'faithfulness': 1.0000, 'answer_relevancy': 0.8637}, 'linke': {'faithfulness': 0.7500, 'answer_relevancy': 0.8534}, 'gruene': {'faithfulness': nan, 'answer_relevancy': 0.8830}, 'fdp': {'faithfulness': 1.0000, 'answer_relevancy': 0.8589}, 'cdu': {'faithfulness': 0.0000, 'answer_relevancy': 0.8294}}\n",
      "Question: Wie sollen europäische high-tech Innovationen gefördert werden?\n",
      "Evaluating party: afd\n"
     ]
    },
    {
     "data": {
      "application/vnd.jupyter.widget-view+json": {
       "model_id": "aa2ebb8b192b4a43ac855a3fec9f7e06",
       "version_major": 2,
       "version_minor": 0
      },
      "text/plain": [
       "Evaluating:   0%|          | 0/2 [00:00<?, ?it/s]"
      ]
     },
     "metadata": {},
     "output_type": "display_data"
    },
    {
     "name": "stdout",
     "output_type": "stream",
     "text": [
      "Evaluating party: spd\n"
     ]
    },
    {
     "data": {
      "application/vnd.jupyter.widget-view+json": {
       "model_id": "664c4e3eddf24034bc3492e7aaa2e932",
       "version_major": 2,
       "version_minor": 0
      },
      "text/plain": [
       "Evaluating:   0%|          | 0/2 [00:00<?, ?it/s]"
      ]
     },
     "metadata": {},
     "output_type": "display_data"
    },
    {
     "name": "stderr",
     "output_type": "stream",
     "text": [
      "/Users/christianliedl/anaconda3/envs/bundestag/lib/python3.11/site-packages/ragas/evaluation.py:276: RuntimeWarning: Mean of empty slice\n",
      "  value = np.nanmean(self.scores[cn])\n"
     ]
    },
    {
     "name": "stdout",
     "output_type": "stream",
     "text": [
      "Evaluating party: linke\n"
     ]
    },
    {
     "data": {
      "application/vnd.jupyter.widget-view+json": {
       "model_id": "1b66d2dafd094e6189e39c5be38abe4d",
       "version_major": 2,
       "version_minor": 0
      },
      "text/plain": [
       "Evaluating:   0%|          | 0/2 [00:00<?, ?it/s]"
      ]
     },
     "metadata": {},
     "output_type": "display_data"
    },
    {
     "name": "stdout",
     "output_type": "stream",
     "text": [
      "Evaluating party: gruene\n"
     ]
    },
    {
     "data": {
      "application/vnd.jupyter.widget-view+json": {
       "model_id": "72623a99afd74a498835d9bf1f6a5464",
       "version_major": 2,
       "version_minor": 0
      },
      "text/plain": [
       "Evaluating:   0%|          | 0/2 [00:00<?, ?it/s]"
      ]
     },
     "metadata": {},
     "output_type": "display_data"
    },
    {
     "name": "stdout",
     "output_type": "stream",
     "text": [
      "Evaluating party: fdp\n"
     ]
    },
    {
     "data": {
      "application/vnd.jupyter.widget-view+json": {
       "model_id": "8786154b9f5e4eb6b4cd95dbf68bfb6f",
       "version_major": 2,
       "version_minor": 0
      },
      "text/plain": [
       "Evaluating:   0%|          | 0/2 [00:00<?, ?it/s]"
      ]
     },
     "metadata": {},
     "output_type": "display_data"
    },
    {
     "name": "stdout",
     "output_type": "stream",
     "text": [
      "Evaluating party: cdu\n"
     ]
    },
    {
     "data": {
      "application/vnd.jupyter.widget-view+json": {
       "model_id": "ad249fba39c0403287ff8c3800e448f9",
       "version_major": 2,
       "version_minor": 0
      },
      "text/plain": [
       "Evaluating:   0%|          | 0/2 [00:00<?, ?it/s]"
      ]
     },
     "metadata": {},
     "output_type": "display_data"
    },
    {
     "name": "stdout",
     "output_type": "stream",
     "text": [
      "{'afd': {'faithfulness': 0.0000, 'answer_relevancy': 0.0000}, 'spd': {'faithfulness': nan, 'answer_relevancy': 0.9440}, 'linke': {'faithfulness': 1.0000, 'answer_relevancy': 0.9489}, 'gruene': {'faithfulness': 1.0000, 'answer_relevancy': 0.9269}, 'fdp': {'faithfulness': 1.0000, 'answer_relevancy': 0.9388}, 'cdu': {'faithfulness': 0.8000, 'answer_relevancy': 0.9690}}\n",
      "Question: Wie kann Europa weniger dreckige Energie nutzen und mehr saubere Energie?\n",
      "Evaluating party: afd\n"
     ]
    },
    {
     "data": {
      "application/vnd.jupyter.widget-view+json": {
       "model_id": "e471503312884c0996d093c68ef4f460",
       "version_major": 2,
       "version_minor": 0
      },
      "text/plain": [
       "Evaluating:   0%|          | 0/2 [00:00<?, ?it/s]"
      ]
     },
     "metadata": {},
     "output_type": "display_data"
    },
    {
     "name": "stdout",
     "output_type": "stream",
     "text": [
      "Evaluating party: spd\n"
     ]
    },
    {
     "data": {
      "application/vnd.jupyter.widget-view+json": {
       "model_id": "d66e6b2519884132afbac7b564ff633d",
       "version_major": 2,
       "version_minor": 0
      },
      "text/plain": [
       "Evaluating:   0%|          | 0/2 [00:00<?, ?it/s]"
      ]
     },
     "metadata": {},
     "output_type": "display_data"
    },
    {
     "name": "stdout",
     "output_type": "stream",
     "text": [
      "Evaluating party: linke\n"
     ]
    },
    {
     "data": {
      "application/vnd.jupyter.widget-view+json": {
       "model_id": "f314573a8fba460190ac2713498b2863",
       "version_major": 2,
       "version_minor": 0
      },
      "text/plain": [
       "Evaluating:   0%|          | 0/2 [00:00<?, ?it/s]"
      ]
     },
     "metadata": {},
     "output_type": "display_data"
    },
    {
     "name": "stdout",
     "output_type": "stream",
     "text": [
      "Evaluating party: gruene\n"
     ]
    },
    {
     "data": {
      "application/vnd.jupyter.widget-view+json": {
       "model_id": "1e3c90c3a395412c9510a6d20395a341",
       "version_major": 2,
       "version_minor": 0
      },
      "text/plain": [
       "Evaluating:   0%|          | 0/2 [00:00<?, ?it/s]"
      ]
     },
     "metadata": {},
     "output_type": "display_data"
    },
    {
     "name": "stdout",
     "output_type": "stream",
     "text": [
      "Evaluating party: fdp\n"
     ]
    },
    {
     "data": {
      "application/vnd.jupyter.widget-view+json": {
       "model_id": "4165b2770ec944b8b4de4448b43e721f",
       "version_major": 2,
       "version_minor": 0
      },
      "text/plain": [
       "Evaluating:   0%|          | 0/2 [00:00<?, ?it/s]"
      ]
     },
     "metadata": {},
     "output_type": "display_data"
    },
    {
     "name": "stdout",
     "output_type": "stream",
     "text": [
      "Evaluating party: cdu\n"
     ]
    },
    {
     "data": {
      "application/vnd.jupyter.widget-view+json": {
       "model_id": "74f422c8e4b24ef5a565c4d647ddde51",
       "version_major": 2,
       "version_minor": 0
      },
      "text/plain": [
       "Evaluating:   0%|          | 0/2 [00:00<?, ?it/s]"
      ]
     },
     "metadata": {},
     "output_type": "display_data"
    },
    {
     "name": "stdout",
     "output_type": "stream",
     "text": [
      "{'afd': {'faithfulness': 0.5714, 'answer_relevancy': 0.8214}, 'spd': {'faithfulness': 1.0000, 'answer_relevancy': 0.8305}, 'linke': {'faithfulness': 0.8333, 'answer_relevancy': 0.7910}, 'gruene': {'faithfulness': 0.8750, 'answer_relevancy': 0.7910}, 'fdp': {'faithfulness': 1.0000, 'answer_relevancy': 0.8561}, 'cdu': {'faithfulness': 1.0000, 'answer_relevancy': 0.7910}}\n",
      "Question: Wie möchten die Parteien unsere Geschichte und Kulturen in Europa bewahren und zeigen?\n",
      "Evaluating party: afd\n"
     ]
    },
    {
     "data": {
      "application/vnd.jupyter.widget-view+json": {
       "model_id": "e4396ea3ea8b426fb6060d991b8d6dff",
       "version_major": 2,
       "version_minor": 0
      },
      "text/plain": [
       "Evaluating:   0%|          | 0/2 [00:00<?, ?it/s]"
      ]
     },
     "metadata": {},
     "output_type": "display_data"
    },
    {
     "name": "stdout",
     "output_type": "stream",
     "text": [
      "Evaluating party: spd\n"
     ]
    },
    {
     "data": {
      "application/vnd.jupyter.widget-view+json": {
       "model_id": "264dd653cdc0496bb2ebfbff0211433c",
       "version_major": 2,
       "version_minor": 0
      },
      "text/plain": [
       "Evaluating:   0%|          | 0/2 [00:00<?, ?it/s]"
      ]
     },
     "metadata": {},
     "output_type": "display_data"
    },
    {
     "name": "stdout",
     "output_type": "stream",
     "text": [
      "Evaluating party: linke\n"
     ]
    },
    {
     "data": {
      "application/vnd.jupyter.widget-view+json": {
       "model_id": "a9e9a1f7fb82449e8740deff629f4553",
       "version_major": 2,
       "version_minor": 0
      },
      "text/plain": [
       "Evaluating:   0%|          | 0/2 [00:00<?, ?it/s]"
      ]
     },
     "metadata": {},
     "output_type": "display_data"
    },
    {
     "name": "stdout",
     "output_type": "stream",
     "text": [
      "Evaluating party: gruene\n"
     ]
    },
    {
     "data": {
      "application/vnd.jupyter.widget-view+json": {
       "model_id": "b92bcc260af84aa9b9a6b465e5268b32",
       "version_major": 2,
       "version_minor": 0
      },
      "text/plain": [
       "Evaluating:   0%|          | 0/2 [00:00<?, ?it/s]"
      ]
     },
     "metadata": {},
     "output_type": "display_data"
    },
    {
     "name": "stdout",
     "output_type": "stream",
     "text": [
      "Evaluating party: fdp\n"
     ]
    },
    {
     "data": {
      "application/vnd.jupyter.widget-view+json": {
       "model_id": "8c64a28d467c4debaeb3357ff882ddf9",
       "version_major": 2,
       "version_minor": 0
      },
      "text/plain": [
       "Evaluating:   0%|          | 0/2 [00:00<?, ?it/s]"
      ]
     },
     "metadata": {},
     "output_type": "display_data"
    },
    {
     "name": "stderr",
     "output_type": "stream",
     "text": [
      "/Users/christianliedl/anaconda3/envs/bundestag/lib/python3.11/site-packages/ragas/evaluation.py:276: RuntimeWarning: Mean of empty slice\n",
      "  value = np.nanmean(self.scores[cn])\n"
     ]
    },
    {
     "name": "stdout",
     "output_type": "stream",
     "text": [
      "Evaluating party: cdu\n"
     ]
    },
    {
     "data": {
      "application/vnd.jupyter.widget-view+json": {
       "model_id": "0f2942f7929943a7909c2e6cefa033b7",
       "version_major": 2,
       "version_minor": 0
      },
      "text/plain": [
       "Evaluating:   0%|          | 0/2 [00:00<?, ?it/s]"
      ]
     },
     "metadata": {},
     "output_type": "display_data"
    },
    {
     "name": "stdout",
     "output_type": "stream",
     "text": [
      "{'afd': {'faithfulness': 1.0000, 'answer_relevancy': 0.8729}, 'spd': {'faithfulness': 0.2500, 'answer_relevancy': 0.0000}, 'linke': {'faithfulness': 1.0000, 'answer_relevancy': 0.9074}, 'gruene': {'faithfulness': 0.6250, 'answer_relevancy': 0.8766}, 'fdp': {'faithfulness': nan, 'answer_relevancy': 0.0000}, 'cdu': {'faithfulness': 0.0000, 'answer_relevancy': 0.9083}}\n",
      "Question: Sollen Geflüchtete ausgewiesen werden wenn sie sich strafbar machen?\n",
      "Evaluating party: afd\n"
     ]
    },
    {
     "data": {
      "application/vnd.jupyter.widget-view+json": {
       "model_id": "40d7774edcbf48b89002ff355e3bf2cf",
       "version_major": 2,
       "version_minor": 0
      },
      "text/plain": [
       "Evaluating:   0%|          | 0/2 [00:00<?, ?it/s]"
      ]
     },
     "metadata": {},
     "output_type": "display_data"
    },
    {
     "name": "stdout",
     "output_type": "stream",
     "text": [
      "Evaluating party: spd\n"
     ]
    },
    {
     "data": {
      "application/vnd.jupyter.widget-view+json": {
       "model_id": "e53ca6c772fc4122ad2011a777b6487c",
       "version_major": 2,
       "version_minor": 0
      },
      "text/plain": [
       "Evaluating:   0%|          | 0/2 [00:00<?, ?it/s]"
      ]
     },
     "metadata": {},
     "output_type": "display_data"
    }
   ],
   "source": [
    "from ragas.run_config import RunConfig\n",
    "\n",
    "# Configuration for ragas.evaluate\n",
    "run_config = RunConfig()\n",
    "run_config.max_retries = 3\n",
    "run_config.max_timeout = 60  # in s\n",
    "run_config.max_wait = 20  # in s\n",
    "\n",
    "num_questions = len(dataset[\"afd\"])\n",
    "questions = [dataset[\"fdp\"][i][\"question\"] for i in range(num_questions)]\n",
    "\n",
    "results_dict = {}\n",
    "# Define which parties should be evaluated\n",
    "parties = [\"afd\", \"spd\", \"linke\", \"gruene\", \"fdp\", \"cdu\"]\n",
    "\n",
    "# Define which metrics should be evaluated\n",
    "list_of_metrics = [faithfulness, answer_relevancy]\n",
    "\n",
    "for i in tqdm(range(num_questions)):\n",
    "    results_dict.update({questions[i]: {}})\n",
    "    print(f\"Question: {questions[i]}\")\n",
    "    for party in parties:\n",
    "        print(f\"Evaluating party: {party}\")\n",
    "        ragas_score = ragas.evaluate(\n",
    "            dataset[party].select([i]), metrics=list_of_metrics, run_config=run_config\n",
    "        )\n",
    "        results_dict[questions[i]].update({party: ragas_score})\n",
    "    print(results_dict[questions[i]])"
   ]
  },
  {
   "cell_type": "code",
   "execution_count": 16,
   "metadata": {},
   "outputs": [
    {
     "data": {
      "text/plain": [
       "24"
      ]
     },
     "execution_count": 16,
     "metadata": {},
     "output_type": "execute_result"
    }
   ],
   "source": []
  },
  {
   "cell_type": "code",
   "execution_count": 29,
   "metadata": {},
   "outputs": [],
   "source": [
    "# Flatten the dictionary\n",
    "flattened_data = {}\n",
    "for question, parties in results_dict.items():\n",
    "    for party, metrics in parties.items():\n",
    "        for metric, value in metrics.items():\n",
    "            flattened_data[(question, party, metric)] = value\n",
    "\n",
    "# Create a multi-index DataFrame\n",
    "index = pd.MultiIndex.from_tuples(flattened_data.keys())\n",
    "df = pd.Series(flattened_data, index=index).unstack().unstack()\n",
    "\n",
    "file_name = f\"Experiments/{experiment_name}/metrics_{experiment_run_name}.csv\"\n",
    "\n",
    "df.to_csv(file_name)"
   ]
  },
  {
   "cell_type": "code",
   "execution_count": 30,
   "metadata": {},
   "outputs": [
    {
     "data": {
      "text/html": [
       "<div>\n",
       "<style scoped>\n",
       "    .dataframe tbody tr th:only-of-type {\n",
       "        vertical-align: middle;\n",
       "    }\n",
       "\n",
       "    .dataframe tbody tr th {\n",
       "        vertical-align: top;\n",
       "    }\n",
       "\n",
       "    .dataframe thead tr th {\n",
       "        text-align: left;\n",
       "    }\n",
       "</style>\n",
       "<table border=\"1\" class=\"dataframe\">\n",
       "  <thead>\n",
       "    <tr>\n",
       "      <th></th>\n",
       "      <th></th>\n",
       "      <th colspan=\"5\" halign=\"left\">answer_relevancy</th>\n",
       "      <th colspan=\"6\" halign=\"left\">faithfulness</th>\n",
       "    </tr>\n",
       "    <tr>\n",
       "      <th></th>\n",
       "      <th></th>\n",
       "      <th>cdu</th>\n",
       "      <th>fdp</th>\n",
       "      <th>gruene</th>\n",
       "      <th>linke</th>\n",
       "      <th>spd</th>\n",
       "      <th>afd</th>\n",
       "      <th>cdu</th>\n",
       "      <th>fdp</th>\n",
       "      <th>gruene</th>\n",
       "      <th>linke</th>\n",
       "      <th>spd</th>\n",
       "    </tr>\n",
       "  </thead>\n",
       "  <tbody>\n",
       "    <tr>\n",
       "      <th>Soll Atomkraft weiterhin genutzt werden?</th>\n",
       "      <th>0.909923</th>\n",
       "      <td>0.892304</td>\n",
       "      <td>0.000000</td>\n",
       "      <td>0.906210</td>\n",
       "      <td>0.916723</td>\n",
       "      <td>0.921107</td>\n",
       "      <td>0.00</td>\n",
       "      <td>0.000000</td>\n",
       "      <td>0.000000</td>\n",
       "      <td>0.400000</td>\n",
       "      <td>1.000000</td>\n",
       "      <td>0.750000</td>\n",
       "    </tr>\n",
       "    <tr>\n",
       "      <th>Sollen Geflüchtete ausgewiesen werden wenn sie sich strafbar machen?</th>\n",
       "      <th>0.882801</th>\n",
       "      <td>0.000000</td>\n",
       "      <td>0.000000</td>\n",
       "      <td>0.804816</td>\n",
       "      <td>0.834492</td>\n",
       "      <td>0.000000</td>\n",
       "      <td>0.80</td>\n",
       "      <td>0.285714</td>\n",
       "      <td>0.750000</td>\n",
       "      <td>1.000000</td>\n",
       "      <td>0.857143</td>\n",
       "      <td>0.666667</td>\n",
       "    </tr>\n",
       "    <tr>\n",
       "      <th>Sollen die Militärausgaben erhöht werden?</th>\n",
       "      <th>0.831757</th>\n",
       "      <td>0.814040</td>\n",
       "      <td>0.000000</td>\n",
       "      <td>0.000000</td>\n",
       "      <td>0.845158</td>\n",
       "      <td>0.852843</td>\n",
       "      <td>0.75</td>\n",
       "      <td>0.800000</td>\n",
       "      <td>0.833333</td>\n",
       "      <td>0.833333</td>\n",
       "      <td>0.250000</td>\n",
       "      <td>0.750000</td>\n",
       "    </tr>\n",
       "    <tr>\n",
       "      <th>Sollen wir in Europa mehr für den Natur- und Artenschutz tun?</th>\n",
       "      <th>0.912383</th>\n",
       "      <td>0.884228</td>\n",
       "      <td>0.878255</td>\n",
       "      <td>0.895960</td>\n",
       "      <td>0.868656</td>\n",
       "      <td>0.911455</td>\n",
       "      <td>0.40</td>\n",
       "      <td>0.000000</td>\n",
       "      <td>1.000000</td>\n",
       "      <td>0.714286</td>\n",
       "      <td>1.000000</td>\n",
       "      <td>1.000000</td>\n",
       "    </tr>\n",
       "    <tr>\n",
       "      <th>Sollte es ein Selbstbestimmungsrecht für Trans-Personen geben?</th>\n",
       "      <th>0.000000</th>\n",
       "      <td>0.000000</td>\n",
       "      <td>0.000000</td>\n",
       "      <td>0.802226</td>\n",
       "      <td>0.877838</td>\n",
       "      <td>0.000000</td>\n",
       "      <td>0.50</td>\n",
       "      <td>NaN</td>\n",
       "      <td>NaN</td>\n",
       "      <td>0.000000</td>\n",
       "      <td>1.000000</td>\n",
       "      <td>0.800000</td>\n",
       "    </tr>\n",
       "  </tbody>\n",
       "</table>\n",
       "</div>"
      ],
      "text/plain": [
       "                                                            answer_relevancy  \\\n",
       "                                                                         cdu   \n",
       "Soll Atomkraft weiterhin genutzt werden?           0.909923         0.892304   \n",
       "Sollen Geflüchtete ausgewiesen werden wenn sie ... 0.882801         0.000000   \n",
       "Sollen die Militärausgaben erhöht werden?          0.831757         0.814040   \n",
       "Sollen wir in Europa mehr für den Natur- und Ar... 0.912383         0.884228   \n",
       "Sollte es ein Selbstbestimmungsrecht für Trans-... 0.000000         0.000000   \n",
       "\n",
       "                                                                       \\\n",
       "                                                                  fdp   \n",
       "Soll Atomkraft weiterhin genutzt werden?           0.909923  0.000000   \n",
       "Sollen Geflüchtete ausgewiesen werden wenn sie ... 0.882801  0.000000   \n",
       "Sollen die Militärausgaben erhöht werden?          0.831757  0.000000   \n",
       "Sollen wir in Europa mehr für den Natur- und Ar... 0.912383  0.878255   \n",
       "Sollte es ein Selbstbestimmungsrecht für Trans-... 0.000000  0.000000   \n",
       "\n",
       "                                                                       \\\n",
       "                                                               gruene   \n",
       "Soll Atomkraft weiterhin genutzt werden?           0.909923  0.906210   \n",
       "Sollen Geflüchtete ausgewiesen werden wenn sie ... 0.882801  0.804816   \n",
       "Sollen die Militärausgaben erhöht werden?          0.831757  0.000000   \n",
       "Sollen wir in Europa mehr für den Natur- und Ar... 0.912383  0.895960   \n",
       "Sollte es ein Selbstbestimmungsrecht für Trans-... 0.000000  0.802226   \n",
       "\n",
       "                                                                       \\\n",
       "                                                                linke   \n",
       "Soll Atomkraft weiterhin genutzt werden?           0.909923  0.916723   \n",
       "Sollen Geflüchtete ausgewiesen werden wenn sie ... 0.882801  0.834492   \n",
       "Sollen die Militärausgaben erhöht werden?          0.831757  0.845158   \n",
       "Sollen wir in Europa mehr für den Natur- und Ar... 0.912383  0.868656   \n",
       "Sollte es ein Selbstbestimmungsrecht für Trans-... 0.000000  0.877838   \n",
       "\n",
       "                                                                       \\\n",
       "                                                                  spd   \n",
       "Soll Atomkraft weiterhin genutzt werden?           0.909923  0.921107   \n",
       "Sollen Geflüchtete ausgewiesen werden wenn sie ... 0.882801  0.000000   \n",
       "Sollen die Militärausgaben erhöht werden?          0.831757  0.852843   \n",
       "Sollen wir in Europa mehr für den Natur- und Ar... 0.912383  0.911455   \n",
       "Sollte es ein Selbstbestimmungsrecht für Trans-... 0.000000  0.000000   \n",
       "\n",
       "                                                            faithfulness  \\\n",
       "                                                                     afd   \n",
       "Soll Atomkraft weiterhin genutzt werden?           0.909923         0.00   \n",
       "Sollen Geflüchtete ausgewiesen werden wenn sie ... 0.882801         0.80   \n",
       "Sollen die Militärausgaben erhöht werden?          0.831757         0.75   \n",
       "Sollen wir in Europa mehr für den Natur- und Ar... 0.912383         0.40   \n",
       "Sollte es ein Selbstbestimmungsrecht für Trans-... 0.000000         0.50   \n",
       "\n",
       "                                                                       \\\n",
       "                                                                  cdu   \n",
       "Soll Atomkraft weiterhin genutzt werden?           0.909923  0.000000   \n",
       "Sollen Geflüchtete ausgewiesen werden wenn sie ... 0.882801  0.285714   \n",
       "Sollen die Militärausgaben erhöht werden?          0.831757  0.800000   \n",
       "Sollen wir in Europa mehr für den Natur- und Ar... 0.912383  0.000000   \n",
       "Sollte es ein Selbstbestimmungsrecht für Trans-... 0.000000       NaN   \n",
       "\n",
       "                                                                       \\\n",
       "                                                                  fdp   \n",
       "Soll Atomkraft weiterhin genutzt werden?           0.909923  0.000000   \n",
       "Sollen Geflüchtete ausgewiesen werden wenn sie ... 0.882801  0.750000   \n",
       "Sollen die Militärausgaben erhöht werden?          0.831757  0.833333   \n",
       "Sollen wir in Europa mehr für den Natur- und Ar... 0.912383  1.000000   \n",
       "Sollte es ein Selbstbestimmungsrecht für Trans-... 0.000000       NaN   \n",
       "\n",
       "                                                                       \\\n",
       "                                                               gruene   \n",
       "Soll Atomkraft weiterhin genutzt werden?           0.909923  0.400000   \n",
       "Sollen Geflüchtete ausgewiesen werden wenn sie ... 0.882801  1.000000   \n",
       "Sollen die Militärausgaben erhöht werden?          0.831757  0.833333   \n",
       "Sollen wir in Europa mehr für den Natur- und Ar... 0.912383  0.714286   \n",
       "Sollte es ein Selbstbestimmungsrecht für Trans-... 0.000000  0.000000   \n",
       "\n",
       "                                                                       \\\n",
       "                                                                linke   \n",
       "Soll Atomkraft weiterhin genutzt werden?           0.909923  1.000000   \n",
       "Sollen Geflüchtete ausgewiesen werden wenn sie ... 0.882801  0.857143   \n",
       "Sollen die Militärausgaben erhöht werden?          0.831757  0.250000   \n",
       "Sollen wir in Europa mehr für den Natur- und Ar... 0.912383  1.000000   \n",
       "Sollte es ein Selbstbestimmungsrecht für Trans-... 0.000000  1.000000   \n",
       "\n",
       "                                                                       \n",
       "                                                                  spd  \n",
       "Soll Atomkraft weiterhin genutzt werden?           0.909923  0.750000  \n",
       "Sollen Geflüchtete ausgewiesen werden wenn sie ... 0.882801  0.666667  \n",
       "Sollen die Militärausgaben erhöht werden?          0.831757  0.750000  \n",
       "Sollen wir in Europa mehr für den Natur- und Ar... 0.912383  1.000000  \n",
       "Sollte es ein Selbstbestimmungsrecht für Trans-... 0.000000  0.800000  "
      ]
     },
     "execution_count": 30,
     "metadata": {},
     "output_type": "execute_result"
    }
   ],
   "source": [
    "# Check if file saved correctly\n",
    "df = pd.read_csv(file_name, header=[0, 1], index_col=[0, 1])\n",
    "df.head()"
   ]
  },
  {
   "cell_type": "code",
   "execution_count": null,
   "metadata": {},
   "outputs": [],
   "source": []
  }
 ],
 "metadata": {
  "kernelspec": {
   "display_name": "bundestag",
   "language": "python",
   "name": "python3"
  },
  "language_info": {
   "codemirror_mode": {
    "name": "ipython",
    "version": 3
   },
   "file_extension": ".py",
   "mimetype": "text/x-python",
   "name": "python",
   "nbconvert_exporter": "python",
   "pygments_lexer": "ipython3",
   "version": "3.11.7"
  }
 },
 "nbformat": 4,
 "nbformat_minor": 2
}
