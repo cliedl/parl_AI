{
 "cells": [
  {
   "cell_type": "code",
   "execution_count": 3,
   "metadata": {},
   "outputs": [],
   "source": [
    "import sys\n",
    "import os\n",
    "\n",
    "sys.path.append(\"..\")\n",
    "\n",
    "DATABASE_DIR_MANIFESTOS = \"../../data/manifestos/chroma/openai\"\n",
    "DATABASE_DIR_DEBATES = \"../../data/manifestos/chroma/openai\"\n",
    "TEST_DATA_DIR = \"../../data/questions\""
   ]
  },
  {
   "cell_type": "markdown",
   "metadata": {},
   "source": [
    "# Here we define the experimental run! This is important for the filenames, etc!"
   ]
  },
  {
   "cell_type": "code",
   "execution_count": 4,
   "metadata": {},
   "outputs": [],
   "source": [
    "experiment_name = \"1_anonymize_parties\"\n",
    "experiment_run_name = \"1a_parties_not_anonymous\""
   ]
  },
  {
   "cell_type": "code",
   "execution_count": 3,
   "metadata": {},
   "outputs": [],
   "source": [
    "# Function to deanonymize parties\n",
    "def rename_party(party: str, mode: str = \"anonymize\"):\n",
    "    \"\"\"\n",
    "    Anonymizes or de-anonymizes party names.\n",
    "\n",
    "    arguments:\n",
    "    - party (str): party name\n",
    "    - mode (str): \"anonymize\" or \"deanonymize\"\n",
    "\n",
    "    returns:\n",
    "    - party (str): anonymized party name\n",
    "    \"\"\"\n",
    "\n",
    "    party_dict = {\n",
    "        \"cdu\": \"partei_a\",\n",
    "        \"spd\": \"partei_b\",\n",
    "        \"gruene\": \"partei_c\",\n",
    "        \"linke\": \"partei_d\",\n",
    "        \"fdp\": \"partei_e\",\n",
    "        \"afd\": \"partei_f\",\n",
    "    }\n",
    "\n",
    "    if mode == \"anonymize\":\n",
    "        return party_dict[party.lower()]\n",
    "    elif mode == \"deanonymize\":\n",
    "        for key, value in party_dict.items():\n",
    "            if value == party.lower():\n",
    "                return key\n",
    "    else:\n",
    "        raise ValueError(\"mode must be 'anonymize' or 'deanonymize'\")"
   ]
  },
  {
   "cell_type": "code",
   "execution_count": 4,
   "metadata": {},
   "outputs": [],
   "source": [
    "import numpy as np\n",
    "import pandas as pd\n",
    "from tqdm.auto import tqdm\n",
    "\n",
    "\n",
    "from database.vector_database import VectorDatabase\n",
    "from models.embedding import ManifestoBertaEmbeddings\n",
    "from langchain_openai import ChatOpenAI, OpenAIEmbeddings\n",
    "from langchain_mistralai.chat_models import ChatMistralAI\n",
    "\n",
    "\n",
    "from datasets import Dataset, DatasetDict, load_from_disk"
   ]
  },
  {
   "cell_type": "markdown",
   "metadata": {},
   "source": [
    "# Create chain"
   ]
  },
  {
   "cell_type": "code",
   "execution_count": 5,
   "metadata": {},
   "outputs": [
    {
     "name": "stdout",
     "output_type": "stream",
     "text": [
      "reloaded database\n"
     ]
    }
   ],
   "source": [
    "from models.generation import generate_chain_with_balanced_retrieval\n",
    "\n",
    "# embedding_model = ManifestoBertaEmbeddings()\n",
    "embedding_model = OpenAIEmbeddings(model=\"text-embedding-3-large\")\n",
    "\n",
    "LARGE_LANGUAGE_MODEL = ChatOpenAI(\n",
    "    model_name=\"gpt-3.5-turbo\", max_tokens=2000, temperature=0\n",
    ")\n",
    "\n",
    "# LARGE_LANGUAGE_MODEL = ChatMistralAI(\n",
    "#     name=\"open-mixtral-8x7b\", max_tokens=2000, temperature=0\n",
    "# )\n",
    "\n",
    "db_manifestos = VectorDatabase(\n",
    "    data_path=\"../data/manifestos\",\n",
    "    embedding_model=embedding_model,\n",
    "    database_directory=DATABASE_DIR_MANIFESTOS,\n",
    "    source_type=\"manifestos\",\n",
    ")\n",
    "\n",
    "chain = generate_chain_with_balanced_retrieval(\n",
    "    [db_manifestos],\n",
    "    llm=LARGE_LANGUAGE_MODEL,\n",
    "    return_context=True,\n",
    "    language=\"Deutsch\",\n",
    "    k=5,\n",
    ")"
   ]
  },
  {
   "cell_type": "markdown",
   "metadata": {},
   "source": [
    "# Create dataset with question, context, and answer for chain"
   ]
  },
  {
   "cell_type": "code",
   "execution_count": 6,
   "metadata": {},
   "outputs": [],
   "source": [
    "recreate_dataset = False\n",
    "if recreate_dataset:\n",
    "    # Create dataset with question, context and answer\n",
    "\n",
    "    # Load all test questions\n",
    "    df_test_simple = pd.read_csv(os.path.join(TEST_DATA_DIR, \"simple_questions.csv\"))\n",
    "    df_test_complex = pd.read_csv(os.path.join(TEST_DATA_DIR, \"complex_questions.csv\"))\n",
    "\n",
    "    # Here we select, which parties we want to evaluate\n",
    "    parties = [\"afd\", \"spd\", \"linke\", \"gruene\", \"fdp\", \"cdu\"]\n",
    "\n",
    "    # Here we select the questions that should be evaluated\n",
    "    questions = df_test_simple[\"EINFACHE FRAGEN\"]\n",
    "\n",
    "    # Dictionary to save results\n",
    "    dataset_dict = {\n",
    "        party: {\"question\": [], \"contexts\": [], \"answer\": []} for party in parties\n",
    "    }\n",
    "\n",
    "    # Loop through all questions and get chain answer\n",
    "    for question in tqdm(questions):\n",
    "\n",
    "        max_retries = 4\n",
    "        retry_count = 0\n",
    "        while retry_count <= max_retries:\n",
    "            try:\n",
    "                response = chain.invoke(question)\n",
    "                assert set(response[\"answer\"].keys()) == set(parties)\n",
    "                break\n",
    "            except:\n",
    "                retry_count += 1\n",
    "                print(f\"Exception occurred, retry_count = {retry_count}\")\n",
    "\n",
    "            # response[\"answer\"] = {rename_party(party, mode = \"deanonymize\"): response[\"answer\"][party] for party in response[\"answer\"].keys()}\n",
    "            # response[\"answer\"] = {rename_party(party, mode = \"deanonymize\"): response[\"answer\"][party] for party in response[\"answer\"].keys()}\n",
    "\n",
    "        # for pary in parties:\n",
    "        for party in parties:\n",
    "            contexts = [\n",
    "                doc.page_content for doc in response[\"docs\"][\"manifestos\"][party]\n",
    "            ]\n",
    "            answer = response[\"answer\"][party]\n",
    "\n",
    "            dataset_dict[party][\"question\"].append(question)\n",
    "            dataset_dict[party][\"contexts\"].append(contexts)\n",
    "            dataset_dict[party][\"answer\"].append(answer)\n",
    "\n",
    "    dataset = DatasetDict(\n",
    "        {party: Dataset.from_dict(dataset_dict[party]) for party in parties}\n",
    "    )\n",
    "\n",
    "    # Save\n",
    "    dataset.save_to_disk(f\"Experiments/{experiment_name}/dataset_{experiment_run_name}\")"
   ]
  },
  {
   "cell_type": "code",
   "execution_count": 14,
   "metadata": {},
   "outputs": [],
   "source": [
    "response = chain.invoke(question)"
   ]
  },
  {
   "cell_type": "code",
   "execution_count": 18,
   "metadata": {},
   "outputs": [
    {
     "data": {
      "text/plain": [
       "'Ausschnitte aus den Wahlprogrammen zur Europawahl 2024:\\nAusschnitt aus dem Wahlprogramm zur Europawahl 2024 von der Partei GRUENE:\\nDer anlasslosen Verarbeitung von umfassenden \\nFluggastdaten und der Ausweitung entsprechen-\\nder Systeme auf andere Sektoren treten wir klar \\nentgegen. Auch in der EU wird Spyware eingesetzt, \\ndie tief in die Privatsphäre eindringt. Den Einsatz \\nvon Spyware wollen wir strenger regulieren und \\ndie parlamentarische Kontrolle stärken. Gegen \\neine missbräuchliche Nutzung, zum Beispiel zur \\nÜberwachung von Journalist*innen oder Staatsan-\\nwält*innen, muss stärker vorgegangen werden.\\n\\nNicht alle Menschen haben die Möglichkeit, die \\ndigitalen Dienste voll zu nutzen. Auch wenn die \\nDigitalisierung in schnellen Schritten voranschrei-\\ntet, setzen wir uns dafür ein, dass Dienstleistungen, \\ndie für eine Teilhabe an der Gesellschaft not-\\n\\n111\\n\\nEuropawahlprogramm 2024BÜNDNIS 90 / DIE GRÜNEN \\x0cwendig sind, wie zum Beispiel die von Ärzt*innen, \\nBehörden, Banken oder des öffentlichen Personen-\\nnahverkehrs (ÖPNV) auch ohne zusätzliche Kosten \\nanalog zugänglich bleiben�\\n\\nAusschnitt aus dem Wahlprogramm zur Europawahl 2024 von der Partei GRUENE:\\nWir wollen die EU in ihrer Fähigkeit stärken, die \\nRechte und Freiheiten derer zu schützen, die hier \\nleben. Unser Credo: Wir schützen unsere Freiheit \\nam besten, wenn wir sie ausbauen. Wir wollen die \\neuropäische Demokratie stärken, damit die besten \\nIdeen in einen fairen Wettstreit um die Zukunft \\nunseres Kontinents treten können. Wir wollen die \\nRechtsstaatlichkeit ausbauen, die allen Bürger*in-\\nnen Sicherheit und gleiche Rechte bietet. Wir \\nwollen eine EU, die für ihre Bürger*innen arbeitet. \\nWir wollen, dass diese über das Europäische Parla-\\nment noch klarer den Kurs mitbestimmen können. \\n\\nUnd wir wollen, dass die EU auch im Inneren, etwa \\ngegenüber Regierungen wie der ungarischen von \\nViktor Orbán, die nötige Durchsetzungskraft be-\\nweist: Wer gegen die Grundwerte der EU verstößt, \\nsollte nicht gleichzeitig uneingeschränkt von ihren \\nPrivilegien profitieren können.\\n\\nAusschnitt aus dem Wahlprogramm zur Europawahl 2024 von der Partei GRUENE:\\nWir wollen dabei durch effektiven Datenschutz, \\numfassende IT-Sicherheit und einen persönlichen \\nZugang zu den Daten, die über sie gespeichert \\nsind, die Rechte der Patient*innen stärken. Das \\nist grundlegend für das Vertrauen der Menschen \\nin die Verarbeitung von Gesundheitsdaten. Dabei \\nkönnen eine grundsätzliche Transparenz bei der \\nDatenverwaltung und technische Lösungen wie \\nein digitaler Einwilligungsassistent unterstützen. \\nDenn die Informationen zur eigenen Gesundheit \\ngehören zu den sensibelsten und persönlichsten \\nDaten überhaupt.Um das Innovationspotenzial \\nfür eine bessere Gesundheitsversorgung zu heben \\nund gleichzeitig keine Daten gegen den Willen der \\nPatient*innen weiterzugeben, setzen wir bei pseu-\\ndonymisierten Gesundheitsdaten auf die Möglich-\\nkeit des Widerspruchs (Opt-Out) und den Fokus auf \\n\\n54\\n\\nAusschnitt aus dem Wahlprogramm zur Europawahl 2024 von der Partei GRUENE:\\nWir wollen, dass Europa bei der Verfügbarkeit von \\nDaten einen entscheidenden Schritt vorangeht, \\nda diese kritisch für unsere Wettbewerbsfähigkeit \\nsind. Das betrifft die Entwicklung von KI, den Erfolg \\neuropäischer KI-Modelle und unsere Innovations-\\nfähigkeit insgesamt. Dafür wollen wir nicht perso-\\nnenbezogene Daten rechtebasiert besser nutzbar \\nund leichter zugänglich machen. Für den leichteren \\nZugang zu personenbezogenen Daten prüfen wir \\nVerfahren zur Anonymisierung, Pseudonymisierung \\nund die Möglichkeiten synthetischer Datengene-\\nrierung. Wir haben dazu beigetragen, dass dieses \\nPrinzip bei der Gesetzgebung zur Nutzung und \\ndem verbesserten Austausch von Daten zwischen \\nUnternehmen im Rahmen der Datenstrategie um-\\ngesetzt wurde. Wir setzen uns deshalb dafür ein, \\ndass die öffentliche Verwaltung ihre Daten in ma-\\nschinenlesbaren Formaten veröffentlicht. Projekte \\nwie die Smart City Barcelona können ein Vorbild \\nsein, wie Daten verfügbar gemacht und Forschung\\n\\nAusschnitt aus dem Wahlprogramm zur Europawahl 2024 von der Partei GRUENE:\\nWir fordern effektive und rechtsstaatliche Nach-\\nrichtendienste, mit denen wir die Sicherheit der \\nEU besser gewährleisten können. Bislang wird ihre \\nArbeit oft dadurch behindert, dass Informationen \\nund Erkenntnisse nicht ausreichend in den bereits \\nbestehenden europäischen Strukturen geteilt wer-\\nden können. Deshalb wollen wir für eine bessere \\nZusammenarbeit der europäischen Nachrichten-\\ndienste eine Europäische Nachrichtendienstagen-\\ntur (ENA) gründen, die die bereits bestehenden \\nsowohl zivilen als auch militärischen europäischen \\nnachrichtendienstlichen Strukturen auf klarer \\nrechtsstaatlicher Basis weiterentwickelt.\\n\\nSie soll in den Mitgliedstaaten gesammeltes Wis-\\nsen, unter Einhaltung strenger rechtlicher Vorga-\\n\\n109\\n\\nAusschnitt aus dem Wahlprogramm zur Europawahl 2024 von der Partei AFD:\\nQ Digitalisierung\\n\\nDie  Freiheit  der  Bürger  im  Internet  wird  von  Jahr  zu  Jahr  durch  meist  politisch  oder  ideologisch  begründete  Ein-\\ngriffe von Reichweiteneinschränkungen bis hin zum Ausschluss aus Diensten (Deplatforming) immer weiter einge-\\nschränkt. Dies widerspricht unserem Verständnis von Freiheit. Vielmehr muss der Staat sich wieder auf den Sinn \\nund Zweck des Internets besinnen: nämlich Menschen und Informationen zu verbinden. Die Digitalisierungsverord-\\nnungen der EU lehnen wir ab, da sie immer auch Überwachung oder Zensur zum Inhalt haben. Sie bedrohen die \\nFreiheit der Bürger und die Wettbewerbsfähigkeit der EU-Länder. Überbürokratisierung kostet Milliarden und ver-\\nhindert Unternehmensgründungen und die Entwicklung neuer digitaler Techniken. Genannt seien DSGVO, Upload-\\n\\nFilter und das Leistungsschutzrecht. Die Mitgliedsländer der EU sind weitgehend von externer Hard- und Software \\n\\n\\tQ Für einen bürgerfreundlichen Datenschutz\\n\\nAusschnitt aus dem Wahlprogramm zur Europawahl 2024 von der Partei AFD:\\ndarf in Deutschland nach Vorstellung der AfD nur durch eine Volksabstimmung getroffen werden.\\n\\nFreiheit und Selbstbestimmung der Mitgliedstaaten\\n\\nEine Einschränkung der Souveränität jedes europäischen Staates durch Belange der neu zu schaffenden \\nGemeinschaft wird ausgeschlossen, ebenso die Etablierung von Gemeinschaftsnormen, die über den na-\\ntionalen Verfassungen stehen. Grundsätzlich soll Vertragsfreiheit für jeden Staat und jeden einzelnen Po-\\nlitikbereich auf völkerrechtlicher Basis mit einem geregelten Austrittsrecht gelten. So wird sichergestellt, \\n\\nEin vorrangiges Ziel der AfD im existierenden EU-Parlament besteht darin, in der bevorstehenden Wahlperiode \\nParteien aus allen Ländern für das Zukunftsprojekt einer neuen europäischen Wirtschafts- und Interessen-\\ngemeinschaft zu gewinnen. Zusammen mit ihnen wollen wir unsere Vorstellungen konkretisieren.\\n\\nSolange  die  Fehlkonstruktion  EU  fortbesteht,  werden  wir  uns  dafür  einsetzen,  weitere  Einschränkungen  der\\n\\nAusschnitt aus dem Wahlprogramm zur Europawahl 2024 von der Partei AFD:\\ndurch  die  Rechtsprechung  des  Europäischen  Gerichtshofes  (EuGH)  soll  den  Bürgern  vorgeschrieben  werden, \\n\\nwie  sie  mit  eminent  wichtigen  Gesundheitsfragen  umgehen  und  welche  Einschränkungen  der  persönlichen \\nEntscheidungsfreiheit sie hinzunehmen haben. Wir fordern eine EU-rechtliche Klarstellung, dass die Gesund-\\nheitspolitik im Zuständigkeitsbereich der nationalen Parlamente verbleibt. Ebenso lehnen wir auch die Verlage-\\nrung von Kompetenzen an die WHO entschieden ab.\\n\\n\\tQ Krankenhäuser nicht weiter privatisieren\\n\\nabhängig.  So  kommt  es  auch  bei  der  Hardware  zu  Problemen  hinsichtlich  der  Sicherheit  und  Freiheit  der  Bürger \\n\\nIn den letzten Jahrzehnten ist ein sich stetig verstärkender Trend zur Privatisierung von Krankenhäusern zu\\n\\nAusschnitt aus dem Wahlprogramm zur Europawahl 2024 von der Partei AFD:\\nBürokratie erfolgt intensiv und unkontrollierbar schamlos, zuweilen werden Rechtsakte der EU direkt von \\n\\nIntegrationsprozesse verhindert, muss vermieden werden. \\n\\nDie Zuwanderung in Länder der EU muss strikten Regeln unterworfen und massiv beschränkt werden. Eine \\nrechtliche  und  gesellschaftliche  Ungleichbehandlung  von  Männern  und  Frauen  kann  in  unseren  freiheitli-\\nchen  demokratischen  Staaten  nicht  toleriert  werden.  Kinderehen,  Vielehen  (Polygamie),  Zwangsehen  nach \\nislamischem  Recht  sind  mit  unserer  Rechtsordnung  nicht  vereinbar.  Dies  gilt  auch  für  rituelle  Genitalver-\\nstümmelungen.  Das  geltende  Strafrecht  ist  dabei  konsequent  durchzusetzen.  Nach  französischem  Vorbild \\n\\nden  Lobbyisten  verfasst.  Die  nach  unzähligen  Skandalen  getroffenen  Maßnahmen  zur  Regulierung  des \\n\\nsoll die Vollverschleierung von Frauen in der Öffentlichkeit verboten werden.\\n\\nAusschnitt aus dem Wahlprogramm zur Europawahl 2024 von der Partei AFD:\\ntreffen dürfen.\\n\\n\\tQ Innere Sicherheit und Justiz sind nationale Aufgaben\\n\\nDie EU maßt sich seit Jahren Zuständigkeiten an, die nach den EU-Verträgen den Nationalstaaten vorbehalten \\n\\nsind, darunter auch in den Bereichen Polizei und Justiz. So wurde neben den bestehenden Behörden Europol \\n\\nund Eurojust die Europäische Staatsanwaltschaft eingerichtet.\\n\\nDass es auch anders geht, zeigt beispielsweise die effektive polizeiliche Zusammenarbeit zwischen Deutsch-\\nland und der Schweiz auf der Grundlage des Deutsch-Schweizerischen Polizeivertrages. Deshalb setzen wir \\nauf  eine  wesentliche  und  praxisgerechte  Erleichterung  des  gesamten  Rechtshilfeverkehrs  durch  zwischen-\\n\\n14\\n\\n15\\n\\n\\x0cstaatliche Abkommen. Ansonsten besteht die Gefahr einer weiteren Verlagerung hoheitlicher Kompetenzen \\nvon den Nationalstaaten auf die EU-Ebene. Wir treten dem ebenso entgegen wie der Schaffung supranatio-\\nnaler Behörden.\\n\\nAusschnitt aus dem Wahlprogramm zur Europawahl 2024 von der Partei FDP:\\nWir Freie Demokraten sehen einen funktionierenden europäischen Datenschutz mit Datensouveräni-\\ntät und informationeller Selbstbestimmung der Bürgerinnen und Bürger als Grundlage für eine faire \\n\\n11 \\n\\n \\n \\n\\x0cund funktionierende Datenökonomie. Wir wollen die Datenschutz-Grundverordnung der EU (DSGVO) \\nentbürokratisieren und weiterentwickeln. \\n\\nWir wollen die Verwaltung in den Mitgliedstaaten digitalisieren. Dazu wollen wir eine Europäische \\nDigitale Identität stärken und die Mitgliedstaaten verpflichten, bestimmte Verwaltungsdienstleistun-\\ngen digital, schnell und unbürokratisch zu ermöglichen.\\n\\nAusschnitt aus dem Wahlprogramm zur Europawahl 2024 von der Partei FDP:\\nMeinungs- und Kunstfreiheit gilt auch im Netz. Deshalb wollen wir die Pflicht zum Einsatz von Uplo-\\nadfiltern abschaffen. \\n\\nWir wollen einen Raum der Datenfreiheit und der Datensicherheit schaffen. Wir werden uns dafür \\neinsetzen,  dass europäische  Forschungsmittel  gezielt zur  Erforschung  von Datenschutztechnologien \\nund -infrastruktur verwendet werden. Ziel sollte ein weitestgehend autarkes Europa mit eigenen auch \\nprivaten Cloud-Anbietern und europäischen Datenschutzstandards sein. Wir wollen die grundrechts-\\nwidrige Fluggastdatenspeicherung abschaffen, um die Daten von Reisenden in der Europäischen Union \\nzu schützen. \\n\\nFür uns sind der Schutz der Privatsphäre und das Recht auf Verschlüsselung sowie die Anonymität in \\ndigitalen Räumen unabdingbar. Netzsperren, Chatkontrolle, Vorratsdatenspeicherung und anlassloses \\nAusspionieren der Bürgerinnen und Bürger lehnen wir kategorisch ab. Stattdessen müssen wir in die \\nAusstattung der Polizei und von Europol investieren.\\n\\nAusschnitt aus dem Wahlprogramm zur Europawahl 2024 von der Partei FDP:\\nWir wollen ein Europa der Vielfalt. Der Schutz von Minderheiten ist innerhalb einer demokratischen \\nGemeinschaft Voraussetzung und Anliegen des Rechtsstaats. Nationale Minderheiten innerhalb der \\nEU haben ein Recht, ihre Kultur und ihre Sprache pflegen und weitergeben zu können. Menschen an-\\nderer Hautfarbe oder mit Migrationshintergrund dürfen keiner Diskriminierung ausgesetzt sein. All-\\ntagsdiskriminierung und erst recht eine systematische Ausgrenzung von Minderheiten haben in Eu-\\nropa keinen Platz. Wir fordern, dass Demonstrationen von LSBTIQ unionsweit ungehindert und sicher \\nstattfinden  können.  Einschränkungen,  über  das Leben  von LSBTIQ  sachlich  aufzuklären,  darf  es  nir-\\ngends in der EU geben. Wir fordern, dass innerhalb der EU geschlossene gleichgeschlechtliche Ehen \\nund festgestellte Elternschaften mit allen Rechten und Pflichten in den europäischen Mitgliedstaaten \\nanerkannt werden. Reproduktive Rechte wie Eizellspende und altruistische Leihmutterschaft müssen,\\n\\nAusschnitt aus dem Wahlprogramm zur Europawahl 2024 von der Partei FDP:\\nDazu fordern wir einen „Bureaucracy Reduction Act“. Wir wollen die Wirtschaft von mindestens 50 \\nProzent der Bürokratielasten befreien. Für jede neue Belastung durch EU-Regulierung müssen im Ge-\\ngenzug gemäß der „One in, two out“-Regel konsequent in doppeltem Umfang bestehende Belastun-\\ngen abgeschafft werden. Bürokratie auf EU-Ebene ist noch immer eine Blackbox. Es fehlt an einer Kon-\\n\\n5\\n\\nAusschnitt aus dem Wahlprogramm zur Europawahl 2024 von der Partei FDP:\\nschen  Pflichten,  das  heißt  die  Erfüllung  der  Meldepflicht  gegenüber  dem  jeweiligen  Land  und  den \\nNachweis  der  Sozialversicherungszugehörigkeit  (A1-Bescheinigung)  wollen  wir  auf  schutzwürdige \\nSachverhalte begrenzen und insbesondere alle kurzen beruflichen Reisen und Entsendungen von der \\nRichtlinie ausnehmen. Wir wollen selbstbestimmte  Arbeitsmodelle,  insbesondere  Remote-Work  im \\nEU-Ausland, rechtssicher ermöglichen. Ansprüche aus nationalen Pflichtrentensystemen lassen sich in \\nder EU kombinieren. Dabei wollen wir durch eine EU-weite Plattform, die die verschiedenen Renten-\\nansprüche berechnet, mehr Transparenz schaffen. So stärken wir die Flexibilität und Mobilität von Be-\\nschäftigten und Selbstständigen. Wir möchten faire Arbeitsbedingungen für Plattformarbeiter schaf-\\nfen, statt Selbstständige zu gängeln, und setzen uns für eine umfassende Korrektur der EU-Plattform-\\narbeiterrichtlinie ein. Die EU-Arbeitszeitrichtlinie wollen wir flexibilisieren.\\n\\nAusschnitt aus dem Wahlprogramm zur Europawahl 2024 von der Partei LINKE:\\n\\uf0a7  Bei der DSGVO und sektorbezogener Datenregulierung wollen wir die weitere \\n\\nKommerzialisierung von Daten verhindern.  \\n\\n\\uf0a7  Die EU muss Druck auf Irland machen, damit Milliardenstrafen gegen Facebook \\n\\nwegen der Datenschutzverstöße verhängt werden. \\n\\n\\uf0a7  Aus den Enthüllungen von Edward Snowden vor zehn Jahren wurden keine Lehren \\ngezogen: Der Datenaustausch mit den USA verstößt gegen den europäischen Da-\\ntenschutz und muss beendet werden. \\n\\n\\uf0a7  Wir fordern die seit Langem geplante E-Privacy-Verordnung. Private elektronische \\nKommunikation muss stärker geschützt werden. Massenhaftes Scannen privater \\nKommunikation lehnen wir ab, ebenso eine Chatkontrolle. \\n\\n|93\\n\\nAusschnitt aus dem Wahlprogramm zur Europawahl 2024 von der Partei LINKE:\\nJede Aktion im Internet verrät den Konzernen unsere Vorlieben und macht uns (bes-\\nser) vorhersehbar und kontrollierbar. Mit ihrer Datenstrategie will die EU Massen \\nzusätzlicher Daten für Forschung und IT-Entwicklung nutzbar machen und einen \\n„Binnenmarkt für Daten“ fördern. Dazu gehören neben den Daten vernetzter Haus-\\nhaltsgeräte auch Gesundheitsdaten im Europäischen Gesundheitsdatenraum, Mobili-\\ntätsdaten und Daten aus öffentlichen Verwaltungen. Diese Daten sind oft hochsensibel \\nund berühren grundlegend den Schutz der Persönlichkeit. In den Händen von Arbeit-\\ngebern oder Versicherungen können sie die Existenz von Menschen gefährden. In der \\nHand von Medienkonzernen oder Überwachungsbehörden ermöglichen sie (schon \\njetzt) Manipulation und gefährden Demokratie, Meinungsfreiheit und Versammlungs-\\nfreiheit. Das Sammeln, Aufbewahren und Verwenden dieser Daten muss deshalb im \\nSinne der Persönlichkeitsrechte und des Gemeinwohls streng begrenzt und kontrolliert\\n\\nAusschnitt aus dem Wahlprogramm zur Europawahl 2024 von der Partei LINKE:\\nWir verteidigen die Grundrechte und wollen die Demokratie ausweiten. Wir wollen von \\nden riesigen, milliardenteuren Datenhalden zu einem System gegenseitiger Rechtshilfe \\nzurückkehren, bei dem die Polizeibehörden im Einzelfall personenbezogene Daten bei \\nanderen Behörden abfragen können. \\n\\nDie EU-Kommission erklärt regelmäßig, dass sie gegen Rassismus und Hassrede \\nvorgehen will, präsentiert aber kaum konkrete Maßnahmen. In Deutschland trifft \\nunrechtmäßige Polizeigewalt vor allem arme Menschen, die überdurchschnittlich \\nAngehörige nichtweißer Minderheiten und besonderem Verdacht ausgesetzt sind \\n(Racial Profiling). Rassistische und unverhältnismäßige Polizeiarbeit spielt eine wichtige \\nRolle dabei, herkunftspezifische Ungleichheit in Europa aufrechtzuerhalten. \\n\\n\\uf0a7  Maßnahmen, die allein oder weitgehend an das äußere Erscheinungsbild von\\n\\nAusschnitt aus dem Wahlprogramm zur Europawahl 2024 von der Partei LINKE:\\n\\uf0a7  Die Linke fordert gemeinsam mit deutschen und europäischen Datenschutz- und \\n\\nPatient*innen-Organisationen, dass die EU-Verordnung so überarbeitet wird, dass \\ndie ärztliche Schweigepflicht, individuelle Persönlichkeitsrechte wie der Schutz der \\nPrivatsphäre und das Recht auf informationelle Selbstbestimmung geschützt sind. \\n\\n\\uf0a7  Die Linke lehnt jede kommerzielle Nutzung der EU-Gesundheitsdaten ab. Die in\\n\\nAusschnitt aus dem Wahlprogramm zur Europawahl 2024 von der Partei LINKE:\\nUnter den Schlagworten „Bekämpfung grenzüberschreitender Kriminalität“ bezie-\\nhungsweise der „irregulären“ Migration hat die EU in den vergangenen Jahrzehnten die \\nZusammenarbeit der Sicherheitsbehörden massiv ausgebaut. Sie beruht auf umfas-\\nsenden Datenbanken, die besonders eine Bevölkerungsgruppe betreffen: Mig-\\nrant*innen. Mit der „Interoperabilitätsverordnung“ werden diese Datenbanken umfas-\\nsend über ein gemeinsames Abfrageportal miteinander verknüpft: EURODAC zur \\nErfassung von Asylsuchenden, VIS zur Erfassung von Visumantragsteller*innen, das im \\nAufbau befindliche Entry/Exit-System (EES) zur Erfassung aller Einreisen von Dritt-\\nstaatsangehörigen und ihrer Aufenthaltstitel, das European Travellers Identifcation and \\nAuthorization System (ETIAS) zur Erfassung aller Drittstaatsangehörigen, die von der \\nVisumpflicht befreit sind. Von ihnen allen werden biometrische Daten gespeichert, \\nanhand derer die Datenbanken durchsucht werden können. Hinzu kommt das Schen-\\n\\nAusschnitt aus dem Wahlprogramm zur Europawahl 2024 von der Partei CDU:\\nrung wie nötig. Wir wollen Datensilos aufbrechen, Datenteilen erleichtern und Daten-\\n\\nräume schaffen. Das Internet machen wir zu einem sichereren, transparenteren und fai-\\n\\nreren Marktplatz. \\n\\nDatenschutz einfacher und innovationsfreundlicher machen. Die Privatsphäre der \\n\\nBürger ist und bleibt ein hohes Gut. Aber das Datenschutzrecht ist zu kompliziert in  \\n\\nEuropa. Daten sind der Rohstoff des 21. Jahrhunderts. Wir wollen daher ein deutlich ein-\\n\\nfacheres und einheitlicheres Datenschutzrecht, das auch überall in der EU gleich ange-\\n\\nwandt wird. Dazu braucht es eine Reform der Datenschutzgrundverordnung. Dabei gilt \\n\\n11 \\n\\n \\n \\n \\n \\n \\n\\x0cdas Prinzip: Sorgfaltsplichten gehören in sensible Bereiche. Wir begrüßen, dass die EU \\n\\nDatenräume wie zum Beispiel den europäischen Gesundheitsdatenraum ermöglichen \\n\\nwill. Unter Wahrung des Datenschutzrechts soll in diesen Datenräumen das Teilen von \\n\\nDaten erleichtert werden.\\n\\nAusschnitt aus dem Wahlprogramm zur Europawahl 2024 von der Partei CDU:\\nder besser vor sexuellem Kindesmissbrauch schützen. Verbrechen dieser Art sind ab-\\n\\nscheulich. Alle Instrumente des Rechtsstaats zum Schutz der Kinder müssen konsequent \\n\\ngenutzt werden. Wir treten für die Speicherung von IP-Adressen bei allen schweren \\n\\nStraftaten insbesondere im Kampf gegen Kindesmissbrauch nach den Vorgaben des \\n\\nEuGH ein. Auch am digitalen Tatort müssen die Spuren gesichert werden. Außerdem \\n\\nwollen wir Kinder im Netz besser vor Cybermobbing und Grooming bewahren. Dafür soll \\n\\nCybermobbing in ganz Europa als Straftat behandelt werden. Eine generelle Chatkon-\\n\\ntrolle lehnen wir ab. \\n\\nBessere Warnung vor neuen Betrugsmaschen. Wir wollen den Mehrwert von Europol \\n\\nfür die Bürger steigern: Kriminelle verwenden überall dieselben Tricks wie Schockan-\\n\\nrufe, Enkeltricks, WhatsApp-Betrug oder alle Formen von Betrügereien vor allem im \\n\\nNetz. Wir wollen, dass Europol diese Betrugsmaschen europaweit auswertet und z. B. per\\n\\nAusschnitt aus dem Wahlprogramm zur Europawahl 2024 von der Partei CDU:\\nbeit in Deutschland vorliegen. Den Verkauf von Visa und EU-Pässen durch Mitgliedstaa-\\n\\nten wollen wir hingegen stoppen. \\n\\nAußengrenzen schützen, Frontex stärken. Wir brauchen eine bessere Überwachung \\n\\nder EU-Außengrenzen und - wo immer es nötig ist - auch baulichen Grenzschutz. Denn \\n\\nüber die Einreise in die EU haben staatliche Behörden zu entscheiden und nicht krimi-\\n\\nnelle Netzwerke von Schleusern. Die europäische Grenzschutzagentur Frontex muss \\n\\neine echte Grenzpolizei und Küstenwache mit hoheitlichen Befugnissen und mit 30.000 \\n\\nGrenzschützern werden, die irreguläre Migration wirksam aufhalten kann. Bis der  \\n\\nAußengrenzschutz funktioniert, müssen Grenzkontrollen an den Binnengrenzen mög-\\n\\nlich bleiben. Die im Herbst 2023 eingeführten Grenzkontrollen zu Polen, Tschechien und \\n\\nder Schweiz sowie die seit Jahren praktizierten Kontrollen zu Österreich zeigen, dass \\n\\nBinnengrenzkontrollen bei gleichzeitig beibehaltener Freizügigkeit zu einem Rückgang\\n\\nAusschnitt aus dem Wahlprogramm zur Europawahl 2024 von der Partei CDU:\\nschließen und sich in nationalen Egoismus zurückziehen. Beides lehnen wir ab. Wir sind \\n\\nstolz auf unsere Wurzeln und blicken optimistisch in die Zukunft. Wir wollen den Bürge-\\n\\nrinnen und Bürgern nicht vorschreiben, woran sie zu glauben oder was sie zu fürchten ha-\\n\\nben. Stattdessen hören wir ihnen zu, respektieren sie und setzen uns für sie ein. Wir sind \\n\\nBrückenbauer. Die EVP hat unsere Soziale Marktwirtschaft erfunden, die wirtschaftliche \\n\\nFreiheit mit sozialer Verantwortung in Einklang bringt. Die EVP steht für eine starke De-\\n\\nmokratie auf der Grundlage der Rechtsstaatlichkeit. In unserem Europa entscheiden die \\n\\nBürgerinnen und Bürger. \\n\\nWir glauben an unseren European Way of Life. Freiheit ist entscheidend, aber Freiheit \\n\\nohne Sicherheit gibt es nicht. Unsere Bürger erwarten ein Europa, in dem sie in allen Le-\\n\\nbensbereichen sicher leben können. Sie wollen sichere Arbeitsplätze, die ein gutes Leben\\n\\nAusschnitt aus dem Wahlprogramm zur Europawahl 2024 von der Partei CDU:\\nDynamik nicht ausbremsen. \\n\\nBelastungsstopp für neue Regelungen ausrufen. Die Überregulierung der Wirtschaft \\n\\nwollen wir durch einen sofortigen Belastungsstopp für neue und laufende EU-Initiativen \\n\\nbeenden. Die komplexe EU-Gesetzgebung wollen wir konsolidieren, die Berichtsplichten \\n\\nfür Unternehmen zusammenfassen und überlüssige EU-Regeln wie z. B. zu Whistleblo-\\n\\nwern abschaffen. Zudem wollen wir einen unabhängigen europäischen Normenkontroll-\\n\\nrat schaffen, der die Bürokratiekosten misst und auch die Erfahrung in den Mitgliedstaa-\\n\\nten mit der Anwendung des EU-Rechts berücksichtigt. Wir wollen das „1 in, 2 out“-Prin-\\n\\nzip durchsetzen – für jede neue belastende Regelung müssen zwei alte abgeschafft wer-\\n\\nden – und so Bürokratie spürbar abbauen. Wir brauchen einen EU-\\n\\n9 \\n\\n \\n \\n \\n \\n \\n \\n\\x0cWettbewerbsfähigkeits-Check und einen Aktionsplan zur Reduzierung der regulatori-\\n\\nschen Belastung. Neue Regeln dürfen nur 1:1 ins nationale Recht umgesetzt werden.\\n\\nAusschnitt aus dem Wahlprogramm zur Europawahl 2024 von der Partei SPD:\\nprivate oder staatliche Stellen lehnen wir ab. Der anlasslosen Speicherung von Daten genauso wie der \\n\\nanlasslosen Kontrolle digitaler Kommunikation stellen wir uns ebenso entschieden entgegen.\\n\\nWir wollen, dass die Bürgerinnen und Bürger in einer digitalen Union die Kontrolle über ihre Daten haben. \\n\\nDigitale Profilbildung gefährdet Privatsphäre und Demokratie, kann zu Diskriminierungen sowie \\n\\nIrreführung und Manipulation für Werbezwecke und politische Beeinflussung führen. Die Datenschutz-\\n\\nGrundverordnung (DSGVO) bedeutete einen Quantensprung in der Datenschutzpolitik und zeigt die \\n\\nherausragende Leistungsfähigkeit europäischer Lösungen. Sie hat sich weltweit zu einem Modell \\n\\nentwickelt, dem viele Staaten folgen. Zugleich hat sich beim Vollzug der DSGVO aber auch gezeigt, dass \\n\\nStand: 28.1.2024\\n\\n12 / 39\\n\\n\\x0ceinige Regeln über das Ziel hinausschießen und die Bürger und Bürger sowie kleine Vereine mit\\n\\nAusschnitt aus dem Wahlprogramm zur Europawahl 2024 von der Partei SPD:\\nEin altersgerechtes Europa\\n\\nAktives und gesundes Altern wirkt sich positiv auf die Gesellschaft, den Arbeitsmarkt, die Sozialsysteme \\n\\nund die Produktivität aus. Wir setzen uns deshalb gegen Altersdiskriminierung ein und wollen Menschen \\ndabei helfen, ihr Leben so lange wie möglich selbstständig zu führen und sich gesellschaftlich beteiligen \\n\\nzu können.\\n\\n5. Sicherheit und Freiheit schützen\\n\\nRespekt heißt auch, ohne Angst vor Kriminalität zu leben und ohne Angst verschieden sein zu dürfen. Alle \\nEuropäerinnen und Europäer sollen sich in der EU sicher fühlen und die Freiheit haben, sich unabhängig \\nzu informieren und sich eine eigene Meinung zu bilden. Wir wollen dafür die Unabhängigkeit von Medien \\n\\nschützen und effektiver gegen Desinformation vorgehen. Kriminalität findet oft grenzüberschreitend statt, \\n\\ndeswegen müssen unsere nationalen Polizei- und Sicherheitsbehörden noch besser kooperieren. Wir\\n\\nAusschnitt aus dem Wahlprogramm zur Europawahl 2024 von der Partei SPD:\\nMitgliedsstaaten zu stärken und den staatlichen Einfluss zurückzudrängen, wo er missbraucht wird. \\n\\nRegierungen dürfen keinen Einfluss auf die Berichterstattung öffentlich-rechtlicher wie privater Medien \\n\\nhaben oder Druck auf Journalistinnen und Journalisten ausüben. Dafür entwickeln wir gemeinschaftliche \\n\\nInstrumente zum Schutz der Unabhängigkeit der Medien weiter und stellen sicher, dass Nichtregierungs- \\n\\nund zivilgesellschaftliche Organisationen überall dort direkt unterstützt werden, wo Demokratie und \\n\\nRechtsstaatlichkeit besonders unter Druck stehen. Dafür streben wir einen Sonderfonds für Demokratie \\n\\nund Rechtsstaatlichkeit an.\\n\\nGrenzüberschreitende Zusammenarbeit der Sicherheitsbehörden stärken\\n\\nWir wollen eine verstärkte grenzüberschreitende Zusammenarbeit der Polizeien und Sicherheitsbehörden \\n\\nin der Europäischen Union. Dazu gehört insbesondere auch die Stärkung von Europol bei der\\n\\nAusschnitt aus dem Wahlprogramm zur Europawahl 2024 von der Partei SPD:\\nEuropäischen Parlaments darf sie keine Notzuständigkeiten ausüben.\\n\\nEuropäischen Verbraucherschutz stärken\\n\\nDie Abschaffung der Roaming-Gebühren, einheitliche Ladekabel und hohe Standards für Verbraucher- und \\n\\nUmweltschutz sind nur einige Beispiele, die Ausdruck für die Macht von 450 Millionen Verbraucherinnen \\n\\nund Verbrauchern in Europa sind. Als Bürgerinnen und Bürger müssen wir in der Lage sein, fundierte \\n\\nEntscheidungen zu treffen, um aktiv zur Bewältigung des Klimawandels beitragen zu können und ein faires \\n\\nMiteinander zu gewährleisten. Deswegen wollen wir die Manipulationsmöglichkeiten im Internet \\n\\nbegrenzen, mit denen Verbraucherinnen und Verbraucher viel zu oft zu Entscheidungen verleitet werden, \\n\\ndie sie anschließend bereuen (Dark Patterns. Auch Investitionsentscheidungen werden oft über falsche \\n\\nAnreize durch Vermittlungen fehlgeleitet. Daher setzen wir uns für ein Provisionsverbot für die Vermittlung \\n\\nvon Finanzdienstleistungen ein.\\n\\nAusschnitt aus dem Wahlprogramm zur Europawahl 2024 von der Partei SPD:\\nKonferenz zur Zukunft Europas als innovative und partizipatorische Form der Bürgerinnen- und \\n\\nBürgerbeteiligung hat klar den Wunsch nach einer handlungsfähigeren Europäischen Union gezeigt. Wir \\n\\nsetzen uns dafür ein, dass diese Vorschläge auch Geltung in der europäischen Gesetzgebung finden. \\n\\nInsbesondere wollen wir dem Vorschlag folgen, das Einstimmigkeitsprinzip dort abzuschaffen, wo es \\n\\nbereits heute im Rahmen der bestehenden Verträge möglich ist. Für die Umsetzung einiger \\n\\nweitergehender Vorschläge der Bürgerinnen und Bürger ist eine Änderung der EU-Verträge notwendig, da \\n\\nsie entweder Politikbereiche betreffen, in denen die EU noch keine Kompetenzen besitzt oder eine \\n\\nÄnderung der institutionellen Architektur der EU notwendig wäre. Daher werben wir bei unseren \\n\\neuropäischen Partnern für die Einsetzung eines europäischen Konvents.\\n\\nDurch Transparenz Vertrauen schaffen\\n\\nWir wollen sicherstellen, dass Entscheidungen im Sinne des Gemeinwohls getroffen werden, um das\\n\\n'"
      ]
     },
     "execution_count": 18,
     "metadata": {},
     "output_type": "execute_result"
    }
   ],
   "source": [
    "response[\"context\"]"
   ]
  },
  {
   "cell_type": "code",
   "execution_count": 7,
   "metadata": {},
   "outputs": [],
   "source": [
    "dataset = load_from_disk(\n",
    "    f\"Experiments/{experiment_name}/dataset_{experiment_run_name}\")"
   ]
  },
  {
   "cell_type": "markdown",
   "metadata": {},
   "source": [
    "# Import Ragas and translate prompts to German"
   ]
  },
  {
   "cell_type": "code",
   "execution_count": 8,
   "metadata": {},
   "outputs": [],
   "source": [
    "import ragas\n",
    "from ragas.metrics import faithfulness, answer_relevancy, context_relevancy\n",
    "\n",
    "\n",
    "# llm used for adaptation\n",
    "openai_model_adaption = ChatOpenAI(model_name=\"gpt-4\")\n",
    "ragas.adapt(\n",
    "    metrics=[faithfulness, answer_relevancy, context_relevancy],\n",
    "    language=\"german\",\n",
    "    llm=openai_model_adaption,\n",
    ")"
   ]
  },
  {
   "cell_type": "markdown",
   "metadata": {},
   "source": [
    "# Compute metrics with ragas"
   ]
  },
  {
   "cell_type": "code",
   "execution_count": 10,
   "metadata": {},
   "outputs": [
    {
     "data": {
      "application/vnd.jupyter.widget-view+json": {
       "model_id": "7c7f3c3aea79462d9f9a8e8f25264ff4",
       "version_major": 2,
       "version_minor": 0
      },
      "text/plain": [
       "  0%|          | 0/28 [00:00<?, ?it/s]"
      ]
     },
     "metadata": {},
     "output_type": "display_data"
    },
    {
     "name": "stdout",
     "output_type": "stream",
     "text": [
      "Question: Was denken die Parteien darüber, mehr Geld für die Armee auszugeben, um Europa sicher zu halten?\n",
      "Evaluating party: afd\n"
     ]
    },
    {
     "data": {
      "application/vnd.jupyter.widget-view+json": {
       "model_id": "057b88378e054b5b830c6546e6016ab6",
       "version_major": 2,
       "version_minor": 0
      },
      "text/plain": [
       "Evaluating:   0%|          | 0/2 [00:00<?, ?it/s]"
      ]
     },
     "metadata": {},
     "output_type": "display_data"
    },
    {
     "name": "stdout",
     "output_type": "stream",
     "text": [
      "Evaluating party: spd\n"
     ]
    },
    {
     "data": {
      "application/vnd.jupyter.widget-view+json": {
       "model_id": "a5e93a49a2fc4ec39a7473d661ef0cb1",
       "version_major": 2,
       "version_minor": 0
      },
      "text/plain": [
       "Evaluating:   0%|          | 0/2 [00:00<?, ?it/s]"
      ]
     },
     "metadata": {},
     "output_type": "display_data"
    },
    {
     "name": "stdout",
     "output_type": "stream",
     "text": [
      "Evaluating party: linke\n"
     ]
    },
    {
     "data": {
      "application/vnd.jupyter.widget-view+json": {
       "model_id": "49ba55e5ddeb41a3a82c99e7d62fb254",
       "version_major": 2,
       "version_minor": 0
      },
      "text/plain": [
       "Evaluating:   0%|          | 0/2 [00:00<?, ?it/s]"
      ]
     },
     "metadata": {},
     "output_type": "display_data"
    },
    {
     "name": "stdout",
     "output_type": "stream",
     "text": [
      "Evaluating party: gruene\n"
     ]
    },
    {
     "data": {
      "application/vnd.jupyter.widget-view+json": {
       "model_id": "c83916f333ae47d083aa5e92047eb3c2",
       "version_major": 2,
       "version_minor": 0
      },
      "text/plain": [
       "Evaluating:   0%|          | 0/2 [00:00<?, ?it/s]"
      ]
     },
     "metadata": {},
     "output_type": "display_data"
    },
    {
     "name": "stdout",
     "output_type": "stream",
     "text": [
      "Evaluating party: fdp\n"
     ]
    },
    {
     "data": {
      "application/vnd.jupyter.widget-view+json": {
       "model_id": "64cbc4be760f4a24b8d6b09035232af3",
       "version_major": 2,
       "version_minor": 0
      },
      "text/plain": [
       "Evaluating:   0%|          | 0/2 [00:00<?, ?it/s]"
      ]
     },
     "metadata": {},
     "output_type": "display_data"
    },
    {
     "name": "stdout",
     "output_type": "stream",
     "text": [
      "Evaluating party: cdu\n"
     ]
    },
    {
     "data": {
      "application/vnd.jupyter.widget-view+json": {
       "model_id": "5ca1b2cde7f042aca94244e82ca4675b",
       "version_major": 2,
       "version_minor": 0
      },
      "text/plain": [
       "Evaluating:   0%|          | 0/2 [00:00<?, ?it/s]"
      ]
     },
     "metadata": {},
     "output_type": "display_data"
    },
    {
     "name": "stdout",
     "output_type": "stream",
     "text": [
      "{'afd': {'faithfulness': 1.0000, 'answer_relevancy': 0.8610}, 'spd': {'faithfulness': 1.0000, 'answer_relevancy': 0.8688}, 'linke': {'faithfulness': 1.0000, 'answer_relevancy': 0.8176}, 'gruene': {'faithfulness': 1.0000, 'answer_relevancy': 0.8755}, 'fdp': {'faithfulness': 1.0000, 'answer_relevancy': 0.8765}, 'cdu': {'faithfulness': 1.0000, 'answer_relevancy': 0.8443}}\n",
      "Question: Was sagen die Parteien, wie wir Transgender-Menschen helfen und dafür sorgen können, dass alle fair behandelt werden?\n",
      "Evaluating party: afd\n"
     ]
    },
    {
     "data": {
      "application/vnd.jupyter.widget-view+json": {
       "model_id": "58978960d9384b1a82b73e2ee5f0fb03",
       "version_major": 2,
       "version_minor": 0
      },
      "text/plain": [
       "Evaluating:   0%|          | 0/2 [00:00<?, ?it/s]"
      ]
     },
     "metadata": {},
     "output_type": "display_data"
    },
    {
     "name": "stderr",
     "output_type": "stream",
     "text": [
      "/Users/christianliedl/anaconda3/envs/bundestag/lib/python3.11/site-packages/ragas/evaluation.py:276: RuntimeWarning: Mean of empty slice\n",
      "  value = np.nanmean(self.scores[cn])\n"
     ]
    },
    {
     "name": "stdout",
     "output_type": "stream",
     "text": [
      "Evaluating party: spd\n"
     ]
    },
    {
     "data": {
      "application/vnd.jupyter.widget-view+json": {
       "model_id": "314a2c4073394976b3765d434d4c8c29",
       "version_major": 2,
       "version_minor": 0
      },
      "text/plain": [
       "Evaluating:   0%|          | 0/2 [00:00<?, ?it/s]"
      ]
     },
     "metadata": {},
     "output_type": "display_data"
    },
    {
     "name": "stdout",
     "output_type": "stream",
     "text": [
      "Evaluating party: linke\n"
     ]
    },
    {
     "data": {
      "application/vnd.jupyter.widget-view+json": {
       "model_id": "29fc523925364f2f82890d7ed3c424f1",
       "version_major": 2,
       "version_minor": 0
      },
      "text/plain": [
       "Evaluating:   0%|          | 0/2 [00:00<?, ?it/s]"
      ]
     },
     "metadata": {},
     "output_type": "display_data"
    },
    {
     "name": "stderr",
     "output_type": "stream",
     "text": [
      "/Users/christianliedl/anaconda3/envs/bundestag/lib/python3.11/site-packages/ragas/evaluation.py:276: RuntimeWarning: Mean of empty slice\n",
      "  value = np.nanmean(self.scores[cn])\n"
     ]
    },
    {
     "name": "stdout",
     "output_type": "stream",
     "text": [
      "Evaluating party: gruene\n"
     ]
    },
    {
     "data": {
      "application/vnd.jupyter.widget-view+json": {
       "model_id": "dcd5e4eb8f5c43f9b6319ec7f1f458bb",
       "version_major": 2,
       "version_minor": 0
      },
      "text/plain": [
       "Evaluating:   0%|          | 0/2 [00:00<?, ?it/s]"
      ]
     },
     "metadata": {},
     "output_type": "display_data"
    },
    {
     "name": "stdout",
     "output_type": "stream",
     "text": [
      "Evaluating party: fdp\n"
     ]
    },
    {
     "data": {
      "application/vnd.jupyter.widget-view+json": {
       "model_id": "3f607351fd5348bcb42e77d0f67d0c72",
       "version_major": 2,
       "version_minor": 0
      },
      "text/plain": [
       "Evaluating:   0%|          | 0/2 [00:00<?, ?it/s]"
      ]
     },
     "metadata": {},
     "output_type": "display_data"
    },
    {
     "name": "stdout",
     "output_type": "stream",
     "text": [
      "Evaluating party: cdu\n"
     ]
    },
    {
     "data": {
      "application/vnd.jupyter.widget-view+json": {
       "model_id": "f0729126f1934a82ac9d6fe0a333c92f",
       "version_major": 2,
       "version_minor": 0
      },
      "text/plain": [
       "Evaluating:   0%|          | 0/2 [00:00<?, ?it/s]"
      ]
     },
     "metadata": {},
     "output_type": "display_data"
    },
    {
     "name": "stdout",
     "output_type": "stream",
     "text": [
      "{'afd': {'faithfulness': nan, 'answer_relevancy': 0.0000}, 'spd': {'faithfulness': 1.0000, 'answer_relevancy': 0.8327}, 'linke': {'faithfulness': nan, 'answer_relevancy': 0.8123}, 'gruene': {'faithfulness': 0.8000, 'answer_relevancy': 0.8254}, 'fdp': {'faithfulness': 0.2000, 'answer_relevancy': 0.8229}, 'cdu': {'faithfulness': 0.0000, 'answer_relevancy': 0.8210}}\n",
      "Question: Sollen wir in Europa mehr für den Schutz unserer Umwelt tun?\n",
      "Evaluating party: afd\n"
     ]
    },
    {
     "data": {
      "application/vnd.jupyter.widget-view+json": {
       "model_id": "912fa54b053f4a1e8af7dfeb84aa38fc",
       "version_major": 2,
       "version_minor": 0
      },
      "text/plain": [
       "Evaluating:   0%|          | 0/2 [00:00<?, ?it/s]"
      ]
     },
     "metadata": {},
     "output_type": "display_data"
    },
    {
     "name": "stderr",
     "output_type": "stream",
     "text": [
      "/Users/christianliedl/anaconda3/envs/bundestag/lib/python3.11/site-packages/ragas/evaluation.py:276: RuntimeWarning: Mean of empty slice\n",
      "  value = np.nanmean(self.scores[cn])\n"
     ]
    },
    {
     "name": "stdout",
     "output_type": "stream",
     "text": [
      "Evaluating party: spd\n"
     ]
    },
    {
     "data": {
      "application/vnd.jupyter.widget-view+json": {
       "model_id": "3c19538c55a3420c885387daf2f4d561",
       "version_major": 2,
       "version_minor": 0
      },
      "text/plain": [
       "Evaluating:   0%|          | 0/2 [00:00<?, ?it/s]"
      ]
     },
     "metadata": {},
     "output_type": "display_data"
    },
    {
     "name": "stdout",
     "output_type": "stream",
     "text": [
      "Evaluating party: linke\n"
     ]
    },
    {
     "data": {
      "application/vnd.jupyter.widget-view+json": {
       "model_id": "e06668a9411242c98c5c71a8a7ce62c1",
       "version_major": 2,
       "version_minor": 0
      },
      "text/plain": [
       "Evaluating:   0%|          | 0/2 [00:00<?, ?it/s]"
      ]
     },
     "metadata": {},
     "output_type": "display_data"
    },
    {
     "name": "stdout",
     "output_type": "stream",
     "text": [
      "Evaluating party: gruene\n"
     ]
    },
    {
     "data": {
      "application/vnd.jupyter.widget-view+json": {
       "model_id": "a082704fed974ba7a90861a0b7675bbf",
       "version_major": 2,
       "version_minor": 0
      },
      "text/plain": [
       "Evaluating:   0%|          | 0/2 [00:00<?, ?it/s]"
      ]
     },
     "metadata": {},
     "output_type": "display_data"
    },
    {
     "name": "stdout",
     "output_type": "stream",
     "text": [
      "Evaluating party: fdp\n"
     ]
    },
    {
     "data": {
      "application/vnd.jupyter.widget-view+json": {
       "model_id": "2b66e7791662481ebb607f57ee087b43",
       "version_major": 2,
       "version_minor": 0
      },
      "text/plain": [
       "Evaluating:   0%|          | 0/2 [00:00<?, ?it/s]"
      ]
     },
     "metadata": {},
     "output_type": "display_data"
    },
    {
     "name": "stdout",
     "output_type": "stream",
     "text": [
      "Evaluating party: cdu\n"
     ]
    },
    {
     "data": {
      "application/vnd.jupyter.widget-view+json": {
       "model_id": "7d48646d88f24d56baf450c3b33c2015",
       "version_major": 2,
       "version_minor": 0
      },
      "text/plain": [
       "Evaluating:   0%|          | 0/2 [00:00<?, ?it/s]"
      ]
     },
     "metadata": {},
     "output_type": "display_data"
    },
    {
     "name": "stdout",
     "output_type": "stream",
     "text": [
      "{'afd': {'faithfulness': nan, 'answer_relevancy': 0.0000}, 'spd': {'faithfulness': 1.0000, 'answer_relevancy': 0.8306}, 'linke': {'faithfulness': 0.7143, 'answer_relevancy': 0.8453}, 'gruene': {'faithfulness': 0.7500, 'answer_relevancy': 0.8311}, 'fdp': {'faithfulness': 1.0000, 'answer_relevancy': 0.8537}, 'cdu': {'faithfulness': 1.0000, 'answer_relevancy': 0.8020}}\n",
      "Question: Wie wollen die Parteien den Bauern helfen, so zu arbeiten, dass es gut für die Natur ist und sie trotzdem Geld verdienen können?\n",
      "Evaluating party: afd\n"
     ]
    },
    {
     "data": {
      "application/vnd.jupyter.widget-view+json": {
       "model_id": "2987e9cd45d3423bb3c1e0171969e4e8",
       "version_major": 2,
       "version_minor": 0
      },
      "text/plain": [
       "Evaluating:   0%|          | 0/2 [00:00<?, ?it/s]"
      ]
     },
     "metadata": {},
     "output_type": "display_data"
    },
    {
     "name": "stdout",
     "output_type": "stream",
     "text": [
      "Evaluating party: spd\n"
     ]
    },
    {
     "data": {
      "application/vnd.jupyter.widget-view+json": {
       "model_id": "f79729a3fd294206ad8e0b062937e5ff",
       "version_major": 2,
       "version_minor": 0
      },
      "text/plain": [
       "Evaluating:   0%|          | 0/2 [00:00<?, ?it/s]"
      ]
     },
     "metadata": {},
     "output_type": "display_data"
    },
    {
     "name": "stdout",
     "output_type": "stream",
     "text": [
      "Evaluating party: linke\n"
     ]
    },
    {
     "data": {
      "application/vnd.jupyter.widget-view+json": {
       "model_id": "c8f472cc371b4c108325fcaba44a35a8",
       "version_major": 2,
       "version_minor": 0
      },
      "text/plain": [
       "Evaluating:   0%|          | 0/2 [00:00<?, ?it/s]"
      ]
     },
     "metadata": {},
     "output_type": "display_data"
    },
    {
     "name": "stdout",
     "output_type": "stream",
     "text": [
      "Evaluating party: gruene\n"
     ]
    },
    {
     "data": {
      "application/vnd.jupyter.widget-view+json": {
       "model_id": "0098237c14814cbaa3c9d6d2a13137a5",
       "version_major": 2,
       "version_minor": 0
      },
      "text/plain": [
       "Evaluating:   0%|          | 0/2 [00:00<?, ?it/s]"
      ]
     },
     "metadata": {},
     "output_type": "display_data"
    },
    {
     "name": "stdout",
     "output_type": "stream",
     "text": [
      "Evaluating party: fdp\n"
     ]
    },
    {
     "data": {
      "application/vnd.jupyter.widget-view+json": {
       "model_id": "5a13c48c5b2f4cc181a37b1d77c5bfb0",
       "version_major": 2,
       "version_minor": 0
      },
      "text/plain": [
       "Evaluating:   0%|          | 0/2 [00:00<?, ?it/s]"
      ]
     },
     "metadata": {},
     "output_type": "display_data"
    },
    {
     "name": "stdout",
     "output_type": "stream",
     "text": [
      "Evaluating party: cdu\n"
     ]
    },
    {
     "data": {
      "application/vnd.jupyter.widget-view+json": {
       "model_id": "08c4e5b46a784818819fab22c8b76340",
       "version_major": 2,
       "version_minor": 0
      },
      "text/plain": [
       "Evaluating:   0%|          | 0/2 [00:00<?, ?it/s]"
      ]
     },
     "metadata": {},
     "output_type": "display_data"
    },
    {
     "name": "stderr",
     "output_type": "stream",
     "text": [
      "/Users/christianliedl/anaconda3/envs/bundestag/lib/python3.11/site-packages/ragas/evaluation.py:276: RuntimeWarning: Mean of empty slice\n",
      "  value = np.nanmean(self.scores[cn])\n"
     ]
    },
    {
     "name": "stdout",
     "output_type": "stream",
     "text": [
      "{'afd': {'faithfulness': 0.7500, 'answer_relevancy': 0.8658}, 'spd': {'faithfulness': 1.0000, 'answer_relevancy': 0.8712}, 'linke': {'faithfulness': 1.0000, 'answer_relevancy': 0.8770}, 'gruene': {'faithfulness': 0.5000, 'answer_relevancy': 0.8888}, 'fdp': {'faithfulness': 1.0000, 'answer_relevancy': 0.8778}, 'cdu': {'faithfulness': nan, 'answer_relevancy': 0.0000}}\n",
      "Question: Was denken die Parteien darüber, wie Europa mit anderen Ländern Handel treibt, und dass es dabei gerecht und gut für die Umwelt sein soll?\n",
      "Evaluating party: afd\n"
     ]
    },
    {
     "data": {
      "application/vnd.jupyter.widget-view+json": {
       "model_id": "6feac5d5a2f14554a0b460eb4f0e9928",
       "version_major": 2,
       "version_minor": 0
      },
      "text/plain": [
       "Evaluating:   0%|          | 0/2 [00:00<?, ?it/s]"
      ]
     },
     "metadata": {},
     "output_type": "display_data"
    },
    {
     "name": "stderr",
     "output_type": "stream",
     "text": [
      "/Users/christianliedl/anaconda3/envs/bundestag/lib/python3.11/site-packages/ragas/evaluation.py:276: RuntimeWarning: Mean of empty slice\n",
      "  value = np.nanmean(self.scores[cn])\n"
     ]
    },
    {
     "name": "stdout",
     "output_type": "stream",
     "text": [
      "Evaluating party: spd\n"
     ]
    },
    {
     "data": {
      "application/vnd.jupyter.widget-view+json": {
       "model_id": "5f18f662d4b54b94b111953550449b3f",
       "version_major": 2,
       "version_minor": 0
      },
      "text/plain": [
       "Evaluating:   0%|          | 0/2 [00:00<?, ?it/s]"
      ]
     },
     "metadata": {},
     "output_type": "display_data"
    },
    {
     "name": "stdout",
     "output_type": "stream",
     "text": [
      "Evaluating party: linke\n"
     ]
    },
    {
     "data": {
      "application/vnd.jupyter.widget-view+json": {
       "model_id": "4341aa488c824cd6823a4faccde1e30e",
       "version_major": 2,
       "version_minor": 0
      },
      "text/plain": [
       "Evaluating:   0%|          | 0/2 [00:00<?, ?it/s]"
      ]
     },
     "metadata": {},
     "output_type": "display_data"
    },
    {
     "name": "stdout",
     "output_type": "stream",
     "text": [
      "Evaluating party: gruene\n"
     ]
    },
    {
     "data": {
      "application/vnd.jupyter.widget-view+json": {
       "model_id": "e1a0a8f0902b4aa2bc3fa89b8a9f06cc",
       "version_major": 2,
       "version_minor": 0
      },
      "text/plain": [
       "Evaluating:   0%|          | 0/2 [00:00<?, ?it/s]"
      ]
     },
     "metadata": {},
     "output_type": "display_data"
    },
    {
     "name": "stdout",
     "output_type": "stream",
     "text": [
      "Evaluating party: fdp\n"
     ]
    },
    {
     "data": {
      "application/vnd.jupyter.widget-view+json": {
       "model_id": "c9c175f7e73f401992fe3fdadad9ba89",
       "version_major": 2,
       "version_minor": 0
      },
      "text/plain": [
       "Evaluating:   0%|          | 0/2 [00:00<?, ?it/s]"
      ]
     },
     "metadata": {},
     "output_type": "display_data"
    },
    {
     "name": "stdout",
     "output_type": "stream",
     "text": [
      "Evaluating party: cdu\n"
     ]
    },
    {
     "data": {
      "application/vnd.jupyter.widget-view+json": {
       "model_id": "7b6eb08055bb4e86a0d4cbb8647ab220",
       "version_major": 2,
       "version_minor": 0
      },
      "text/plain": [
       "Evaluating:   0%|          | 0/2 [00:00<?, ?it/s]"
      ]
     },
     "metadata": {},
     "output_type": "display_data"
    },
    {
     "name": "stdout",
     "output_type": "stream",
     "text": [
      "{'afd': {'faithfulness': nan, 'answer_relevancy': 0.8132}, 'spd': {'faithfulness': 1.0000, 'answer_relevancy': 0.8744}, 'linke': {'faithfulness': 1.0000, 'answer_relevancy': 0.8632}, 'gruene': {'faithfulness': 1.0000, 'answer_relevancy': 0.8602}, 'fdp': {'faithfulness': 0.8000, 'answer_relevancy': 0.8436}, 'cdu': {'faithfulness': 0.0000, 'answer_relevancy': 0.8650}}\n",
      "Question: Wie möchten die Parteien Verbrechen stoppen, ohne dass sich Menschen unfair behandelt fühlen?\n",
      "Evaluating party: afd\n"
     ]
    },
    {
     "data": {
      "application/vnd.jupyter.widget-view+json": {
       "model_id": "099ce6388d4646688b85642e5acec603",
       "version_major": 2,
       "version_minor": 0
      },
      "text/plain": [
       "Evaluating:   0%|          | 0/2 [00:00<?, ?it/s]"
      ]
     },
     "metadata": {},
     "output_type": "display_data"
    },
    {
     "name": "stderr",
     "output_type": "stream",
     "text": [
      "/Users/christianliedl/anaconda3/envs/bundestag/lib/python3.11/site-packages/ragas/evaluation.py:276: RuntimeWarning: Mean of empty slice\n",
      "  value = np.nanmean(self.scores[cn])\n"
     ]
    },
    {
     "name": "stdout",
     "output_type": "stream",
     "text": [
      "Evaluating party: spd\n"
     ]
    },
    {
     "data": {
      "application/vnd.jupyter.widget-view+json": {
       "model_id": "ab6c569414724c34953292f7a6968de9",
       "version_major": 2,
       "version_minor": 0
      },
      "text/plain": [
       "Evaluating:   0%|          | 0/2 [00:00<?, ?it/s]"
      ]
     },
     "metadata": {},
     "output_type": "display_data"
    },
    {
     "name": "stdout",
     "output_type": "stream",
     "text": [
      "Evaluating party: linke\n"
     ]
    },
    {
     "data": {
      "application/vnd.jupyter.widget-view+json": {
       "model_id": "f291f24048f8447495d1b32cf5fdb09a",
       "version_major": 2,
       "version_minor": 0
      },
      "text/plain": [
       "Evaluating:   0%|          | 0/2 [00:00<?, ?it/s]"
      ]
     },
     "metadata": {},
     "output_type": "display_data"
    },
    {
     "name": "stdout",
     "output_type": "stream",
     "text": [
      "Evaluating party: gruene\n"
     ]
    },
    {
     "data": {
      "application/vnd.jupyter.widget-view+json": {
       "model_id": "cac48844672643589b7e718e5acd800b",
       "version_major": 2,
       "version_minor": 0
      },
      "text/plain": [
       "Evaluating:   0%|          | 0/2 [00:00<?, ?it/s]"
      ]
     },
     "metadata": {},
     "output_type": "display_data"
    },
    {
     "name": "stdout",
     "output_type": "stream",
     "text": [
      "Evaluating party: fdp\n"
     ]
    },
    {
     "data": {
      "application/vnd.jupyter.widget-view+json": {
       "model_id": "1bbccd1d528844b9b51a58041190f1c0",
       "version_major": 2,
       "version_minor": 0
      },
      "text/plain": [
       "Evaluating:   0%|          | 0/2 [00:00<?, ?it/s]"
      ]
     },
     "metadata": {},
     "output_type": "display_data"
    },
    {
     "name": "stdout",
     "output_type": "stream",
     "text": [
      "Evaluating party: cdu\n"
     ]
    },
    {
     "data": {
      "application/vnd.jupyter.widget-view+json": {
       "model_id": "c11a717f4e554112ba401c4bfdee3e82",
       "version_major": 2,
       "version_minor": 0
      },
      "text/plain": [
       "Evaluating:   0%|          | 0/2 [00:00<?, ?it/s]"
      ]
     },
     "metadata": {},
     "output_type": "display_data"
    },
    {
     "name": "stdout",
     "output_type": "stream",
     "text": [
      "{'afd': {'faithfulness': nan, 'answer_relevancy': 0.8113}, 'spd': {'faithfulness': 1.0000, 'answer_relevancy': 0.8302}, 'linke': {'faithfulness': 1.0000, 'answer_relevancy': 0.8169}, 'gruene': {'faithfulness': 0.8000, 'answer_relevancy': 0.8464}, 'fdp': {'faithfulness': 1.0000, 'answer_relevancy': 0.8243}, 'cdu': {'faithfulness': 0.0000, 'answer_relevancy': 0.8279}}\n",
      "Question: Was ist die Meinung der Parteien dazu, wie Menschen, die aus anderen Ländern fliehen, in Europa verteilt werden sollen?\n",
      "Evaluating party: afd\n"
     ]
    },
    {
     "data": {
      "application/vnd.jupyter.widget-view+json": {
       "model_id": "65fd2e8d9731473a9112a76ee97ddd1c",
       "version_major": 2,
       "version_minor": 0
      },
      "text/plain": [
       "Evaluating:   0%|          | 0/2 [00:00<?, ?it/s]"
      ]
     },
     "metadata": {},
     "output_type": "display_data"
    },
    {
     "name": "stderr",
     "output_type": "stream",
     "text": [
      "/Users/christianliedl/anaconda3/envs/bundestag/lib/python3.11/site-packages/ragas/evaluation.py:276: RuntimeWarning: Mean of empty slice\n",
      "  value = np.nanmean(self.scores[cn])\n"
     ]
    },
    {
     "name": "stdout",
     "output_type": "stream",
     "text": [
      "Evaluating party: spd\n"
     ]
    },
    {
     "data": {
      "application/vnd.jupyter.widget-view+json": {
       "model_id": "3314fe3082ae475480ec258158924f49",
       "version_major": 2,
       "version_minor": 0
      },
      "text/plain": [
       "Evaluating:   0%|          | 0/2 [00:00<?, ?it/s]"
      ]
     },
     "metadata": {},
     "output_type": "display_data"
    },
    {
     "name": "stdout",
     "output_type": "stream",
     "text": [
      "Evaluating party: linke\n"
     ]
    },
    {
     "data": {
      "application/vnd.jupyter.widget-view+json": {
       "model_id": "d434ec2be58544bca77e63152256bd2f",
       "version_major": 2,
       "version_minor": 0
      },
      "text/plain": [
       "Evaluating:   0%|          | 0/2 [00:00<?, ?it/s]"
      ]
     },
     "metadata": {},
     "output_type": "display_data"
    },
    {
     "name": "stdout",
     "output_type": "stream",
     "text": [
      "Evaluating party: gruene\n"
     ]
    },
    {
     "data": {
      "application/vnd.jupyter.widget-view+json": {
       "model_id": "5949bcd72f234b8a88dff2b1b09b5697",
       "version_major": 2,
       "version_minor": 0
      },
      "text/plain": [
       "Evaluating:   0%|          | 0/2 [00:00<?, ?it/s]"
      ]
     },
     "metadata": {},
     "output_type": "display_data"
    },
    {
     "name": "stdout",
     "output_type": "stream",
     "text": [
      "Evaluating party: fdp\n"
     ]
    },
    {
     "data": {
      "application/vnd.jupyter.widget-view+json": {
       "model_id": "54381c8836a643f5b5dcb15b7b1cdf1f",
       "version_major": 2,
       "version_minor": 0
      },
      "text/plain": [
       "Evaluating:   0%|          | 0/2 [00:00<?, ?it/s]"
      ]
     },
     "metadata": {},
     "output_type": "display_data"
    },
    {
     "name": "stdout",
     "output_type": "stream",
     "text": [
      "Evaluating party: cdu\n"
     ]
    },
    {
     "data": {
      "application/vnd.jupyter.widget-view+json": {
       "model_id": "b2760953527d41b28c176b23b50d90e4",
       "version_major": 2,
       "version_minor": 0
      },
      "text/plain": [
       "Evaluating:   0%|          | 0/2 [00:00<?, ?it/s]"
      ]
     },
     "metadata": {},
     "output_type": "display_data"
    },
    {
     "name": "stdout",
     "output_type": "stream",
     "text": [
      "{'afd': {'faithfulness': nan, 'answer_relevancy': 0.0000}, 'spd': {'faithfulness': 0.6667, 'answer_relevancy': 0.8195}, 'linke': {'faithfulness': 0.7500, 'answer_relevancy': 0.8649}, 'gruene': {'faithfulness': 1.0000, 'answer_relevancy': 0.8641}, 'fdp': {'faithfulness': 0.2500, 'answer_relevancy': 0.8546}, 'cdu': {'faithfulness': 0.0000, 'answer_relevancy': 0.8867}}\n",
      "Question: Sollen Männer mit Männern und Frauen mit Frauen heiraten dürfen? \n",
      "Evaluating party: afd\n"
     ]
    },
    {
     "data": {
      "application/vnd.jupyter.widget-view+json": {
       "model_id": "2179feda8db54971935828c42347c335",
       "version_major": 2,
       "version_minor": 0
      },
      "text/plain": [
       "Evaluating:   0%|          | 0/2 [00:00<?, ?it/s]"
      ]
     },
     "metadata": {},
     "output_type": "display_data"
    },
    {
     "name": "stderr",
     "output_type": "stream",
     "text": [
      "/Users/christianliedl/anaconda3/envs/bundestag/lib/python3.11/site-packages/ragas/evaluation.py:276: RuntimeWarning: Mean of empty slice\n",
      "  value = np.nanmean(self.scores[cn])\n"
     ]
    },
    {
     "name": "stdout",
     "output_type": "stream",
     "text": [
      "Evaluating party: spd\n"
     ]
    },
    {
     "data": {
      "application/vnd.jupyter.widget-view+json": {
       "model_id": "a4c44ccf927a41cfac33d6d1b4ac7184",
       "version_major": 2,
       "version_minor": 0
      },
      "text/plain": [
       "Evaluating:   0%|          | 0/2 [00:00<?, ?it/s]"
      ]
     },
     "metadata": {},
     "output_type": "display_data"
    },
    {
     "name": "stdout",
     "output_type": "stream",
     "text": [
      "Evaluating party: linke\n"
     ]
    },
    {
     "data": {
      "application/vnd.jupyter.widget-view+json": {
       "model_id": "9190f28e031d48d6bfffb019a4e8c2f7",
       "version_major": 2,
       "version_minor": 0
      },
      "text/plain": [
       "Evaluating:   0%|          | 0/2 [00:00<?, ?it/s]"
      ]
     },
     "metadata": {},
     "output_type": "display_data"
    },
    {
     "name": "stdout",
     "output_type": "stream",
     "text": [
      "Evaluating party: gruene\n"
     ]
    },
    {
     "data": {
      "application/vnd.jupyter.widget-view+json": {
       "model_id": "7037e99e560a4bc39aa655d6b67161c1",
       "version_major": 2,
       "version_minor": 0
      },
      "text/plain": [
       "Evaluating:   0%|          | 0/2 [00:00<?, ?it/s]"
      ]
     },
     "metadata": {},
     "output_type": "display_data"
    },
    {
     "name": "stdout",
     "output_type": "stream",
     "text": [
      "Evaluating party: fdp\n"
     ]
    },
    {
     "data": {
      "application/vnd.jupyter.widget-view+json": {
       "model_id": "1bf80f617dd3464282dda3acc232855e",
       "version_major": 2,
       "version_minor": 0
      },
      "text/plain": [
       "Evaluating:   0%|          | 0/2 [00:00<?, ?it/s]"
      ]
     },
     "metadata": {},
     "output_type": "display_data"
    },
    {
     "name": "stdout",
     "output_type": "stream",
     "text": [
      "Evaluating party: cdu\n"
     ]
    },
    {
     "data": {
      "application/vnd.jupyter.widget-view+json": {
       "model_id": "508a801821f74c17b9994a0934541a3e",
       "version_major": 2,
       "version_minor": 0
      },
      "text/plain": [
       "Evaluating:   0%|          | 0/2 [00:00<?, ?it/s]"
      ]
     },
     "metadata": {},
     "output_type": "display_data"
    },
    {
     "name": "stderr",
     "output_type": "stream",
     "text": [
      "/Users/christianliedl/anaconda3/envs/bundestag/lib/python3.11/site-packages/ragas/evaluation.py:276: RuntimeWarning: Mean of empty slice\n",
      "  value = np.nanmean(self.scores[cn])\n"
     ]
    },
    {
     "name": "stdout",
     "output_type": "stream",
     "text": [
      "{'afd': {'faithfulness': nan, 'answer_relevancy': 0.0000}, 'spd': {'faithfulness': 1.0000, 'answer_relevancy': 0.8700}, 'linke': {'faithfulness': 0.3333, 'answer_relevancy': 0.8501}, 'gruene': {'faithfulness': 1.0000, 'answer_relevancy': 0.7952}, 'fdp': {'faithfulness': 1.0000, 'answer_relevancy': 0.9057}, 'cdu': {'faithfulness': nan, 'answer_relevancy': 0.0000}}\n",
      "Question: Wie finden die Parteien, dass wir Fische fangen sollten, damit das Meer und die Tiere geschützt werden?\n",
      "Evaluating party: afd\n"
     ]
    },
    {
     "data": {
      "application/vnd.jupyter.widget-view+json": {
       "model_id": "bdca00b20e6b44658690234be4cd50c1",
       "version_major": 2,
       "version_minor": 0
      },
      "text/plain": [
       "Evaluating:   0%|          | 0/2 [00:00<?, ?it/s]"
      ]
     },
     "metadata": {},
     "output_type": "display_data"
    },
    {
     "name": "stderr",
     "output_type": "stream",
     "text": [
      "/Users/christianliedl/anaconda3/envs/bundestag/lib/python3.11/site-packages/ragas/evaluation.py:276: RuntimeWarning: Mean of empty slice\n",
      "  value = np.nanmean(self.scores[cn])\n"
     ]
    },
    {
     "name": "stdout",
     "output_type": "stream",
     "text": [
      "Evaluating party: spd\n"
     ]
    },
    {
     "data": {
      "application/vnd.jupyter.widget-view+json": {
       "model_id": "6e914b5563f54986a4ced5fdf4df77ea",
       "version_major": 2,
       "version_minor": 0
      },
      "text/plain": [
       "Evaluating:   0%|          | 0/2 [00:00<?, ?it/s]"
      ]
     },
     "metadata": {},
     "output_type": "display_data"
    },
    {
     "name": "stdout",
     "output_type": "stream",
     "text": [
      "Evaluating party: linke\n"
     ]
    },
    {
     "data": {
      "application/vnd.jupyter.widget-view+json": {
       "model_id": "1ff5e3cd3386436a85dc3a957338e7d2",
       "version_major": 2,
       "version_minor": 0
      },
      "text/plain": [
       "Evaluating:   0%|          | 0/2 [00:00<?, ?it/s]"
      ]
     },
     "metadata": {},
     "output_type": "display_data"
    },
    {
     "name": "stdout",
     "output_type": "stream",
     "text": [
      "Evaluating party: gruene\n"
     ]
    },
    {
     "data": {
      "application/vnd.jupyter.widget-view+json": {
       "model_id": "8e90b23200cf4697b15db96b49077680",
       "version_major": 2,
       "version_minor": 0
      },
      "text/plain": [
       "Evaluating:   0%|          | 0/2 [00:00<?, ?it/s]"
      ]
     },
     "metadata": {},
     "output_type": "display_data"
    },
    {
     "name": "stdout",
     "output_type": "stream",
     "text": [
      "Evaluating party: fdp\n"
     ]
    },
    {
     "data": {
      "application/vnd.jupyter.widget-view+json": {
       "model_id": "e2a2b733b67349e1847e6ad202dabc74",
       "version_major": 2,
       "version_minor": 0
      },
      "text/plain": [
       "Evaluating:   0%|          | 0/2 [00:00<?, ?it/s]"
      ]
     },
     "metadata": {},
     "output_type": "display_data"
    },
    {
     "name": "stdout",
     "output_type": "stream",
     "text": [
      "Evaluating party: cdu\n"
     ]
    },
    {
     "data": {
      "application/vnd.jupyter.widget-view+json": {
       "model_id": "8219b6a86b1042c9a73916638a0115b8",
       "version_major": 2,
       "version_minor": 0
      },
      "text/plain": [
       "Evaluating:   0%|          | 0/2 [00:00<?, ?it/s]"
      ]
     },
     "metadata": {},
     "output_type": "display_data"
    },
    {
     "name": "stderr",
     "output_type": "stream",
     "text": [
      "/Users/christianliedl/anaconda3/envs/bundestag/lib/python3.11/site-packages/ragas/evaluation.py:276: RuntimeWarning: Mean of empty slice\n",
      "  value = np.nanmean(self.scores[cn])\n"
     ]
    },
    {
     "name": "stdout",
     "output_type": "stream",
     "text": [
      "{'afd': {'faithfulness': nan, 'answer_relevancy': 0.8022}, 'spd': {'faithfulness': 1.0000, 'answer_relevancy': 0.8739}, 'linke': {'faithfulness': 1.0000, 'answer_relevancy': 0.8999}, 'gruene': {'faithfulness': 0.4000, 'answer_relevancy': 0.9040}, 'fdp': {'faithfulness': 0.6667, 'answer_relevancy': 0.8824}, 'cdu': {'faithfulness': nan, 'answer_relevancy': 0.0000}}\n",
      "Question: Was wollen die Parteien tun, damit es Tieren auf den Bauernhöfen und bei der Herstellung von Essen besser geht?\n",
      "Evaluating party: afd\n"
     ]
    },
    {
     "data": {
      "application/vnd.jupyter.widget-view+json": {
       "model_id": "44ee312f4686480aa73443877547110a",
       "version_major": 2,
       "version_minor": 0
      },
      "text/plain": [
       "Evaluating:   0%|          | 0/2 [00:00<?, ?it/s]"
      ]
     },
     "metadata": {},
     "output_type": "display_data"
    },
    {
     "name": "stdout",
     "output_type": "stream",
     "text": [
      "Evaluating party: spd\n"
     ]
    },
    {
     "data": {
      "application/vnd.jupyter.widget-view+json": {
       "model_id": "7f7335a9d21a469488cb4d8bc2f2908b",
       "version_major": 2,
       "version_minor": 0
      },
      "text/plain": [
       "Evaluating:   0%|          | 0/2 [00:00<?, ?it/s]"
      ]
     },
     "metadata": {},
     "output_type": "display_data"
    },
    {
     "name": "stdout",
     "output_type": "stream",
     "text": [
      "Evaluating party: linke\n"
     ]
    },
    {
     "data": {
      "application/vnd.jupyter.widget-view+json": {
       "model_id": "9ba495c000b449a9a9b08519e90cc670",
       "version_major": 2,
       "version_minor": 0
      },
      "text/plain": [
       "Evaluating:   0%|          | 0/2 [00:00<?, ?it/s]"
      ]
     },
     "metadata": {},
     "output_type": "display_data"
    },
    {
     "name": "stdout",
     "output_type": "stream",
     "text": [
      "Evaluating party: gruene\n"
     ]
    },
    {
     "data": {
      "application/vnd.jupyter.widget-view+json": {
       "model_id": "513e92c6d45b446ca8d864ae9945a673",
       "version_major": 2,
       "version_minor": 0
      },
      "text/plain": [
       "Evaluating:   0%|          | 0/2 [00:00<?, ?it/s]"
      ]
     },
     "metadata": {},
     "output_type": "display_data"
    },
    {
     "name": "stdout",
     "output_type": "stream",
     "text": [
      "Evaluating party: fdp\n"
     ]
    },
    {
     "data": {
      "application/vnd.jupyter.widget-view+json": {
       "model_id": "01e7ff7e9b214004836f983a305a0b17",
       "version_major": 2,
       "version_minor": 0
      },
      "text/plain": [
       "Evaluating:   0%|          | 0/2 [00:00<?, ?it/s]"
      ]
     },
     "metadata": {},
     "output_type": "display_data"
    },
    {
     "name": "stdout",
     "output_type": "stream",
     "text": [
      "Evaluating party: cdu\n"
     ]
    },
    {
     "data": {
      "application/vnd.jupyter.widget-view+json": {
       "model_id": "32096bef741d4001bc4643a20497fbfd",
       "version_major": 2,
       "version_minor": 0
      },
      "text/plain": [
       "Evaluating:   0%|          | 0/2 [00:00<?, ?it/s]"
      ]
     },
     "metadata": {},
     "output_type": "display_data"
    },
    {
     "name": "stdout",
     "output_type": "stream",
     "text": [
      "{'afd': {'faithfulness': 1.0000, 'answer_relevancy': 0.8869}, 'spd': {'faithfulness': 1.0000, 'answer_relevancy': 0.9018}, 'linke': {'faithfulness': 1.0000, 'answer_relevancy': 0.8344}, 'gruene': {'faithfulness': 1.0000, 'answer_relevancy': 0.8999}, 'fdp': {'faithfulness': 1.0000, 'answer_relevancy': 0.8932}, 'cdu': {'faithfulness': 1.0000, 'answer_relevancy': 0.8926}}\n",
      "Question: Wie möchten die Parteien sicherstellen, dass Europas Armee stark ist und wir trotzdem gut mit anderen Ländern wie den USA zusammenarbeiten?\n",
      "Evaluating party: afd\n"
     ]
    },
    {
     "data": {
      "application/vnd.jupyter.widget-view+json": {
       "model_id": "8f2c197e08114675a3a3484fc9106eb0",
       "version_major": 2,
       "version_minor": 0
      },
      "text/plain": [
       "Evaluating:   0%|          | 0/2 [00:00<?, ?it/s]"
      ]
     },
     "metadata": {},
     "output_type": "display_data"
    },
    {
     "name": "stderr",
     "output_type": "stream",
     "text": [
      "/Users/christianliedl/anaconda3/envs/bundestag/lib/python3.11/site-packages/ragas/evaluation.py:276: RuntimeWarning: Mean of empty slice\n",
      "  value = np.nanmean(self.scores[cn])\n"
     ]
    },
    {
     "name": "stdout",
     "output_type": "stream",
     "text": [
      "Evaluating party: spd\n"
     ]
    },
    {
     "data": {
      "application/vnd.jupyter.widget-view+json": {
       "model_id": "ca82eed9cf8c4747a9919584651ff98d",
       "version_major": 2,
       "version_minor": 0
      },
      "text/plain": [
       "Evaluating:   0%|          | 0/2 [00:00<?, ?it/s]"
      ]
     },
     "metadata": {},
     "output_type": "display_data"
    },
    {
     "name": "stdout",
     "output_type": "stream",
     "text": [
      "Evaluating party: linke\n"
     ]
    },
    {
     "data": {
      "application/vnd.jupyter.widget-view+json": {
       "model_id": "548b4be1b99d4b3da7bad3a1087b95c2",
       "version_major": 2,
       "version_minor": 0
      },
      "text/plain": [
       "Evaluating:   0%|          | 0/2 [00:00<?, ?it/s]"
      ]
     },
     "metadata": {},
     "output_type": "display_data"
    },
    {
     "name": "stdout",
     "output_type": "stream",
     "text": [
      "Evaluating party: gruene\n"
     ]
    },
    {
     "data": {
      "application/vnd.jupyter.widget-view+json": {
       "model_id": "ebe32fd0738544019cf1162851ee7db9",
       "version_major": 2,
       "version_minor": 0
      },
      "text/plain": [
       "Evaluating:   0%|          | 0/2 [00:00<?, ?it/s]"
      ]
     },
     "metadata": {},
     "output_type": "display_data"
    },
    {
     "name": "stdout",
     "output_type": "stream",
     "text": [
      "Evaluating party: fdp\n"
     ]
    },
    {
     "data": {
      "application/vnd.jupyter.widget-view+json": {
       "model_id": "0d9803e50a444675b3447513620f0891",
       "version_major": 2,
       "version_minor": 0
      },
      "text/plain": [
       "Evaluating:   0%|          | 0/2 [00:00<?, ?it/s]"
      ]
     },
     "metadata": {},
     "output_type": "display_data"
    },
    {
     "name": "stdout",
     "output_type": "stream",
     "text": [
      "Evaluating party: cdu\n"
     ]
    },
    {
     "data": {
      "application/vnd.jupyter.widget-view+json": {
       "model_id": "e85ece98289148c4823756a071f21799",
       "version_major": 2,
       "version_minor": 0
      },
      "text/plain": [
       "Evaluating:   0%|          | 0/2 [00:00<?, ?it/s]"
      ]
     },
     "metadata": {},
     "output_type": "display_data"
    },
    {
     "name": "stdout",
     "output_type": "stream",
     "text": [
      "{'afd': {'faithfulness': nan, 'answer_relevancy': 0.0000}, 'spd': {'faithfulness': 1.0000, 'answer_relevancy': 0.8521}, 'linke': {'faithfulness': 1.0000, 'answer_relevancy': 0.8533}, 'gruene': {'faithfulness': 1.0000, 'answer_relevancy': 0.8680}, 'fdp': {'faithfulness': 1.0000, 'answer_relevancy': 0.8826}, 'cdu': {'faithfulness': 0.6667, 'answer_relevancy': 0.8188}}\n",
      "Question: Was haben die Parteien für Ideen, um jungen Menschen zu helfen, die keine Arbeit haben?\n",
      "Evaluating party: afd\n"
     ]
    },
    {
     "data": {
      "application/vnd.jupyter.widget-view+json": {
       "model_id": "128a3d241eb341b18f8767fb12ba3eab",
       "version_major": 2,
       "version_minor": 0
      },
      "text/plain": [
       "Evaluating:   0%|          | 0/2 [00:00<?, ?it/s]"
      ]
     },
     "metadata": {},
     "output_type": "display_data"
    },
    {
     "name": "stdout",
     "output_type": "stream",
     "text": [
      "Evaluating party: spd\n"
     ]
    },
    {
     "data": {
      "application/vnd.jupyter.widget-view+json": {
       "model_id": "fab3eb375cf14d43a9e4878dd3d79d77",
       "version_major": 2,
       "version_minor": 0
      },
      "text/plain": [
       "Evaluating:   0%|          | 0/2 [00:00<?, ?it/s]"
      ]
     },
     "metadata": {},
     "output_type": "display_data"
    },
    {
     "name": "stdout",
     "output_type": "stream",
     "text": [
      "Evaluating party: linke\n"
     ]
    },
    {
     "data": {
      "application/vnd.jupyter.widget-view+json": {
       "model_id": "1e535494264145b19ff8781c38bfcc68",
       "version_major": 2,
       "version_minor": 0
      },
      "text/plain": [
       "Evaluating:   0%|          | 0/2 [00:00<?, ?it/s]"
      ]
     },
     "metadata": {},
     "output_type": "display_data"
    },
    {
     "name": "stdout",
     "output_type": "stream",
     "text": [
      "Evaluating party: gruene\n"
     ]
    },
    {
     "data": {
      "application/vnd.jupyter.widget-view+json": {
       "model_id": "7eff03d3fcd948a7b41784b356d43853",
       "version_major": 2,
       "version_minor": 0
      },
      "text/plain": [
       "Evaluating:   0%|          | 0/2 [00:00<?, ?it/s]"
      ]
     },
     "metadata": {},
     "output_type": "display_data"
    },
    {
     "name": "stdout",
     "output_type": "stream",
     "text": [
      "Evaluating party: fdp\n"
     ]
    },
    {
     "data": {
      "application/vnd.jupyter.widget-view+json": {
       "model_id": "dbbd57ab9b1e4c3693d714cd10773547",
       "version_major": 2,
       "version_minor": 0
      },
      "text/plain": [
       "Evaluating:   0%|          | 0/2 [00:00<?, ?it/s]"
      ]
     },
     "metadata": {},
     "output_type": "display_data"
    },
    {
     "name": "stderr",
     "output_type": "stream",
     "text": [
      "/Users/christianliedl/anaconda3/envs/bundestag/lib/python3.11/site-packages/ragas/evaluation.py:276: RuntimeWarning: Mean of empty slice\n",
      "  value = np.nanmean(self.scores[cn])\n"
     ]
    },
    {
     "name": "stdout",
     "output_type": "stream",
     "text": [
      "Evaluating party: cdu\n"
     ]
    },
    {
     "data": {
      "application/vnd.jupyter.widget-view+json": {
       "model_id": "0b5e0d2c70ce4e9ca64632fca4f8d389",
       "version_major": 2,
       "version_minor": 0
      },
      "text/plain": [
       "Evaluating:   0%|          | 0/2 [00:00<?, ?it/s]"
      ]
     },
     "metadata": {},
     "output_type": "display_data"
    },
    {
     "name": "stdout",
     "output_type": "stream",
     "text": [
      "{'afd': {'faithfulness': 1.0000, 'answer_relevancy': 0.8377}, 'spd': {'faithfulness': 1.0000, 'answer_relevancy': 0.8352}, 'linke': {'faithfulness': 1.0000, 'answer_relevancy': 0.8520}, 'gruene': {'faithfulness': 1.0000, 'answer_relevancy': 0.9060}, 'fdp': {'faithfulness': nan, 'answer_relevancy': 0.8320}, 'cdu': {'faithfulness': 0.0000, 'answer_relevancy': 0.8507}}\n",
      "Question: Wie schnell sollen wir in Europa aufhören, dreckige Energie zu nutzen, und was sind die Pläne der Parteien dafür?\n",
      "Evaluating party: afd\n"
     ]
    },
    {
     "data": {
      "application/vnd.jupyter.widget-view+json": {
       "model_id": "ac0a05ea8e0f42578e3973d13d86fda3",
       "version_major": 2,
       "version_minor": 0
      },
      "text/plain": [
       "Evaluating:   0%|          | 0/2 [00:00<?, ?it/s]"
      ]
     },
     "metadata": {},
     "output_type": "display_data"
    },
    {
     "name": "stdout",
     "output_type": "stream",
     "text": [
      "Evaluating party: spd\n"
     ]
    },
    {
     "data": {
      "application/vnd.jupyter.widget-view+json": {
       "model_id": "9944668fdd70455cacfdc5bd5ff2d6ff",
       "version_major": 2,
       "version_minor": 0
      },
      "text/plain": [
       "Evaluating:   0%|          | 0/2 [00:00<?, ?it/s]"
      ]
     },
     "metadata": {},
     "output_type": "display_data"
    },
    {
     "name": "stdout",
     "output_type": "stream",
     "text": [
      "Evaluating party: linke\n"
     ]
    },
    {
     "data": {
      "application/vnd.jupyter.widget-view+json": {
       "model_id": "0a26491d595e48e480a1450844b75be4",
       "version_major": 2,
       "version_minor": 0
      },
      "text/plain": [
       "Evaluating:   0%|          | 0/2 [00:00<?, ?it/s]"
      ]
     },
     "metadata": {},
     "output_type": "display_data"
    },
    {
     "name": "stderr",
     "output_type": "stream",
     "text": [
      "/Users/christianliedl/anaconda3/envs/bundestag/lib/python3.11/site-packages/ragas/evaluation.py:276: RuntimeWarning: Mean of empty slice\n",
      "  value = np.nanmean(self.scores[cn])\n"
     ]
    },
    {
     "name": "stdout",
     "output_type": "stream",
     "text": [
      "Evaluating party: gruene\n"
     ]
    },
    {
     "data": {
      "application/vnd.jupyter.widget-view+json": {
       "model_id": "3a928656c4fa416690ec4e2b6b1ed7e6",
       "version_major": 2,
       "version_minor": 0
      },
      "text/plain": [
       "Evaluating:   0%|          | 0/2 [00:00<?, ?it/s]"
      ]
     },
     "metadata": {},
     "output_type": "display_data"
    },
    {
     "name": "stdout",
     "output_type": "stream",
     "text": [
      "Evaluating party: fdp\n"
     ]
    },
    {
     "data": {
      "application/vnd.jupyter.widget-view+json": {
       "model_id": "8630dfdc4b7a446994d682d7f64f9e2c",
       "version_major": 2,
       "version_minor": 0
      },
      "text/plain": [
       "Evaluating:   0%|          | 0/2 [00:00<?, ?it/s]"
      ]
     },
     "metadata": {},
     "output_type": "display_data"
    },
    {
     "name": "stdout",
     "output_type": "stream",
     "text": [
      "Evaluating party: cdu\n"
     ]
    },
    {
     "data": {
      "application/vnd.jupyter.widget-view+json": {
       "model_id": "1b0376cb5cb74615b421abdae2500fb6",
       "version_major": 2,
       "version_minor": 0
      },
      "text/plain": [
       "Evaluating:   0%|          | 0/2 [00:00<?, ?it/s]"
      ]
     },
     "metadata": {},
     "output_type": "display_data"
    },
    {
     "name": "stdout",
     "output_type": "stream",
     "text": [
      "{'afd': {'faithfulness': 0.5000, 'answer_relevancy': 0.8429}, 'spd': {'faithfulness': 1.0000, 'answer_relevancy': 0.8817}, 'linke': {'faithfulness': nan, 'answer_relevancy': 0.8312}, 'gruene': {'faithfulness': 0.3333, 'answer_relevancy': 0.8306}, 'fdp': {'faithfulness': 1.0000, 'answer_relevancy': 0.8574}, 'cdu': {'faithfulness': 0.3333, 'answer_relevancy': 0.8460}}\n",
      "Question: Wie wollen die Parteien kleinen Bauernhöfen helfen und gleichzeitig darauf achten, dass sie die Natur nicht kaputt machen?\n",
      "Evaluating party: afd\n"
     ]
    },
    {
     "data": {
      "application/vnd.jupyter.widget-view+json": {
       "model_id": "c6e3d11978794cb4a03902d5d793a22b",
       "version_major": 2,
       "version_minor": 0
      },
      "text/plain": [
       "Evaluating:   0%|          | 0/2 [00:00<?, ?it/s]"
      ]
     },
     "metadata": {},
     "output_type": "display_data"
    },
    {
     "name": "stdout",
     "output_type": "stream",
     "text": [
      "Evaluating party: spd\n"
     ]
    },
    {
     "data": {
      "application/vnd.jupyter.widget-view+json": {
       "model_id": "5d552330d5184083a82eac0e337eb796",
       "version_major": 2,
       "version_minor": 0
      },
      "text/plain": [
       "Evaluating:   0%|          | 0/2 [00:00<?, ?it/s]"
      ]
     },
     "metadata": {},
     "output_type": "display_data"
    },
    {
     "name": "stdout",
     "output_type": "stream",
     "text": [
      "Evaluating party: linke\n"
     ]
    },
    {
     "data": {
      "application/vnd.jupyter.widget-view+json": {
       "model_id": "f4f3ed13ca384d4e9edbbbb5f854cbe7",
       "version_major": 2,
       "version_minor": 0
      },
      "text/plain": [
       "Evaluating:   0%|          | 0/2 [00:00<?, ?it/s]"
      ]
     },
     "metadata": {},
     "output_type": "display_data"
    },
    {
     "name": "stdout",
     "output_type": "stream",
     "text": [
      "Evaluating party: gruene\n"
     ]
    },
    {
     "data": {
      "application/vnd.jupyter.widget-view+json": {
       "model_id": "89e7c318c25945b2b0b3532c9b4e70e7",
       "version_major": 2,
       "version_minor": 0
      },
      "text/plain": [
       "Evaluating:   0%|          | 0/2 [00:00<?, ?it/s]"
      ]
     },
     "metadata": {},
     "output_type": "display_data"
    },
    {
     "name": "stdout",
     "output_type": "stream",
     "text": [
      "Evaluating party: fdp\n"
     ]
    },
    {
     "data": {
      "application/vnd.jupyter.widget-view+json": {
       "model_id": "4d8709aa2dd644a98b5859be5a65d727",
       "version_major": 2,
       "version_minor": 0
      },
      "text/plain": [
       "Evaluating:   0%|          | 0/2 [00:00<?, ?it/s]"
      ]
     },
     "metadata": {},
     "output_type": "display_data"
    },
    {
     "name": "stdout",
     "output_type": "stream",
     "text": [
      "Evaluating party: cdu\n"
     ]
    },
    {
     "data": {
      "application/vnd.jupyter.widget-view+json": {
       "model_id": "5b23072e00fe4e5889d5f130471cf0e5",
       "version_major": 2,
       "version_minor": 0
      },
      "text/plain": [
       "Evaluating:   0%|          | 0/2 [00:00<?, ?it/s]"
      ]
     },
     "metadata": {},
     "output_type": "display_data"
    },
    {
     "name": "stdout",
     "output_type": "stream",
     "text": [
      "{'afd': {'faithfulness': 0.8000, 'answer_relevancy': 0.8720}, 'spd': {'faithfulness': 1.0000, 'answer_relevancy': 0.8778}, 'linke': {'faithfulness': 1.0000, 'answer_relevancy': 0.8748}, 'gruene': {'faithfulness': 1.0000, 'answer_relevancy': 0.8841}, 'fdp': {'faithfulness': 0.7500, 'answer_relevancy': 0.8695}, 'cdu': {'faithfulness': 0.8000, 'answer_relevancy': 0.8719}}\n",
      "Question: Was denken die Parteien darüber, wie Europa mit China Geschäfte macht und dabei darauf achtet, dass niemand unfair behandelt wird?\n",
      "Evaluating party: afd\n"
     ]
    },
    {
     "data": {
      "application/vnd.jupyter.widget-view+json": {
       "model_id": "415aec4f145c474a8e7e43dbe9ecd016",
       "version_major": 2,
       "version_minor": 0
      },
      "text/plain": [
       "Evaluating:   0%|          | 0/2 [00:00<?, ?it/s]"
      ]
     },
     "metadata": {},
     "output_type": "display_data"
    },
    {
     "name": "stdout",
     "output_type": "stream",
     "text": [
      "Evaluating party: spd\n"
     ]
    },
    {
     "data": {
      "application/vnd.jupyter.widget-view+json": {
       "model_id": "cfc2af360e5d4411924c1ccefaae2c18",
       "version_major": 2,
       "version_minor": 0
      },
      "text/plain": [
       "Evaluating:   0%|          | 0/2 [00:00<?, ?it/s]"
      ]
     },
     "metadata": {},
     "output_type": "display_data"
    },
    {
     "name": "stderr",
     "output_type": "stream",
     "text": [
      "/Users/christianliedl/anaconda3/envs/bundestag/lib/python3.11/site-packages/ragas/evaluation.py:276: RuntimeWarning: Mean of empty slice\n",
      "  value = np.nanmean(self.scores[cn])\n"
     ]
    },
    {
     "name": "stdout",
     "output_type": "stream",
     "text": [
      "Evaluating party: linke\n"
     ]
    },
    {
     "data": {
      "application/vnd.jupyter.widget-view+json": {
       "model_id": "90d77791112a453cbc4d20144f370d95",
       "version_major": 2,
       "version_minor": 0
      },
      "text/plain": [
       "Evaluating:   0%|          | 0/2 [00:00<?, ?it/s]"
      ]
     },
     "metadata": {},
     "output_type": "display_data"
    },
    {
     "name": "stdout",
     "output_type": "stream",
     "text": [
      "Evaluating party: gruene\n"
     ]
    },
    {
     "data": {
      "application/vnd.jupyter.widget-view+json": {
       "model_id": "cab17687bf344507be3514ddbd53d038",
       "version_major": 2,
       "version_minor": 0
      },
      "text/plain": [
       "Evaluating:   0%|          | 0/2 [00:00<?, ?it/s]"
      ]
     },
     "metadata": {},
     "output_type": "display_data"
    },
    {
     "name": "stdout",
     "output_type": "stream",
     "text": [
      "Evaluating party: fdp\n"
     ]
    },
    {
     "data": {
      "application/vnd.jupyter.widget-view+json": {
       "model_id": "b5ff60ad681a4c378dff6bb49a98ae61",
       "version_major": 2,
       "version_minor": 0
      },
      "text/plain": [
       "Evaluating:   0%|          | 0/2 [00:00<?, ?it/s]"
      ]
     },
     "metadata": {},
     "output_type": "display_data"
    },
    {
     "name": "stdout",
     "output_type": "stream",
     "text": [
      "Evaluating party: cdu\n"
     ]
    },
    {
     "data": {
      "application/vnd.jupyter.widget-view+json": {
       "model_id": "036c8c6b29db4c099ba0eddf9816072f",
       "version_major": 2,
       "version_minor": 0
      },
      "text/plain": [
       "Evaluating:   0%|          | 0/2 [00:00<?, ?it/s]"
      ]
     },
     "metadata": {},
     "output_type": "display_data"
    },
    {
     "name": "stdout",
     "output_type": "stream",
     "text": [
      "{'afd': {'faithfulness': 0.0000, 'answer_relevancy': 0.8143}, 'spd': {'faithfulness': nan, 'answer_relevancy': 0.8228}, 'linke': {'faithfulness': 1.0000, 'answer_relevancy': 0.8200}, 'gruene': {'faithfulness': 0.5000, 'answer_relevancy': 0.8416}, 'fdp': {'faithfulness': 1.0000, 'answer_relevancy': 0.8653}, 'cdu': {'faithfulness': 0.0000, 'answer_relevancy': 0.8824}}\n",
      "Question: Was sagen die Parteien zu Kameras und Technik, die dabei helfen, Verbrechen zu stoppen, ohne dass unsere Privatsphäre gestört wird?\n",
      "Evaluating party: afd\n"
     ]
    },
    {
     "data": {
      "application/vnd.jupyter.widget-view+json": {
       "model_id": "0cef495ab8bf4b5a80ac8e2efd06df5b",
       "version_major": 2,
       "version_minor": 0
      },
      "text/plain": [
       "Evaluating:   0%|          | 0/2 [00:00<?, ?it/s]"
      ]
     },
     "metadata": {},
     "output_type": "display_data"
    },
    {
     "name": "stdout",
     "output_type": "stream",
     "text": [
      "Evaluating party: spd\n"
     ]
    },
    {
     "data": {
      "application/vnd.jupyter.widget-view+json": {
       "model_id": "752f4daefadf4bfa849a916185313477",
       "version_major": 2,
       "version_minor": 0
      },
      "text/plain": [
       "Evaluating:   0%|          | 0/2 [00:00<?, ?it/s]"
      ]
     },
     "metadata": {},
     "output_type": "display_data"
    },
    {
     "name": "stdout",
     "output_type": "stream",
     "text": [
      "Evaluating party: linke\n"
     ]
    },
    {
     "data": {
      "application/vnd.jupyter.widget-view+json": {
       "model_id": "4898463561304c98922d577c1f86dfa8",
       "version_major": 2,
       "version_minor": 0
      },
      "text/plain": [
       "Evaluating:   0%|          | 0/2 [00:00<?, ?it/s]"
      ]
     },
     "metadata": {},
     "output_type": "display_data"
    },
    {
     "name": "stdout",
     "output_type": "stream",
     "text": [
      "Evaluating party: gruene\n"
     ]
    },
    {
     "data": {
      "application/vnd.jupyter.widget-view+json": {
       "model_id": "04c8e085d86042cb9f5a843ddfeea099",
       "version_major": 2,
       "version_minor": 0
      },
      "text/plain": [
       "Evaluating:   0%|          | 0/2 [00:00<?, ?it/s]"
      ]
     },
     "metadata": {},
     "output_type": "display_data"
    },
    {
     "name": "stdout",
     "output_type": "stream",
     "text": [
      "Evaluating party: fdp\n"
     ]
    },
    {
     "data": {
      "application/vnd.jupyter.widget-view+json": {
       "model_id": "8628e99443c3473c80ccedc99124a219",
       "version_major": 2,
       "version_minor": 0
      },
      "text/plain": [
       "Evaluating:   0%|          | 0/2 [00:00<?, ?it/s]"
      ]
     },
     "metadata": {},
     "output_type": "display_data"
    },
    {
     "name": "stdout",
     "output_type": "stream",
     "text": [
      "Evaluating party: cdu\n"
     ]
    },
    {
     "data": {
      "application/vnd.jupyter.widget-view+json": {
       "model_id": "dc871c01d6394a37a932683ea2e6b979",
       "version_major": 2,
       "version_minor": 0
      },
      "text/plain": [
       "Evaluating:   0%|          | 0/2 [00:00<?, ?it/s]"
      ]
     },
     "metadata": {},
     "output_type": "display_data"
    },
    {
     "name": "stdout",
     "output_type": "stream",
     "text": [
      "{'afd': {'faithfulness': 0.0000, 'answer_relevancy': 0.8361}, 'spd': {'faithfulness': 0.6667, 'answer_relevancy': 0.8328}, 'linke': {'faithfulness': 1.0000, 'answer_relevancy': 0.8457}, 'gruene': {'faithfulness': 1.0000, 'answer_relevancy': 0.8666}, 'fdp': {'faithfulness': 1.0000, 'answer_relevancy': 0.8574}, 'cdu': {'faithfulness': 1.0000, 'answer_relevancy': 0.8258}}\n",
      "Question: Sollen mehr Länder in die EU kommen, wie zum Beispiel Länder aus dem Balkan oder die Türkei? Was denken die deutschen Parteien?\n",
      "Evaluating party: afd\n"
     ]
    },
    {
     "data": {
      "application/vnd.jupyter.widget-view+json": {
       "model_id": "801f814999fd4d71a299912a93a3ca15",
       "version_major": 2,
       "version_minor": 0
      },
      "text/plain": [
       "Evaluating:   0%|          | 0/2 [00:00<?, ?it/s]"
      ]
     },
     "metadata": {},
     "output_type": "display_data"
    },
    {
     "name": "stdout",
     "output_type": "stream",
     "text": [
      "Evaluating party: spd\n"
     ]
    },
    {
     "data": {
      "application/vnd.jupyter.widget-view+json": {
       "model_id": "d326bcda058c42fc88a6c9a95c6a7701",
       "version_major": 2,
       "version_minor": 0
      },
      "text/plain": [
       "Evaluating:   0%|          | 0/2 [00:00<?, ?it/s]"
      ]
     },
     "metadata": {},
     "output_type": "display_data"
    },
    {
     "name": "stdout",
     "output_type": "stream",
     "text": [
      "Evaluating party: linke\n"
     ]
    },
    {
     "data": {
      "application/vnd.jupyter.widget-view+json": {
       "model_id": "89c8a73e84044667ba53122b95e2793b",
       "version_major": 2,
       "version_minor": 0
      },
      "text/plain": [
       "Evaluating:   0%|          | 0/2 [00:00<?, ?it/s]"
      ]
     },
     "metadata": {},
     "output_type": "display_data"
    },
    {
     "name": "stdout",
     "output_type": "stream",
     "text": [
      "Evaluating party: gruene\n"
     ]
    },
    {
     "data": {
      "application/vnd.jupyter.widget-view+json": {
       "model_id": "7004e8f882344c60bbed0524c6137a2e",
       "version_major": 2,
       "version_minor": 0
      },
      "text/plain": [
       "Evaluating:   0%|          | 0/2 [00:00<?, ?it/s]"
      ]
     },
     "metadata": {},
     "output_type": "display_data"
    },
    {
     "name": "stdout",
     "output_type": "stream",
     "text": [
      "Evaluating party: fdp\n"
     ]
    },
    {
     "data": {
      "application/vnd.jupyter.widget-view+json": {
       "model_id": "22bc252a884a427bb8fdf4029745e043",
       "version_major": 2,
       "version_minor": 0
      },
      "text/plain": [
       "Evaluating:   0%|          | 0/2 [00:00<?, ?it/s]"
      ]
     },
     "metadata": {},
     "output_type": "display_data"
    },
    {
     "name": "stdout",
     "output_type": "stream",
     "text": [
      "Evaluating party: cdu\n"
     ]
    },
    {
     "data": {
      "application/vnd.jupyter.widget-view+json": {
       "model_id": "8cee897248e640ae9601bd8049c078ee",
       "version_major": 2,
       "version_minor": 0
      },
      "text/plain": [
       "Evaluating:   0%|          | 0/2 [00:00<?, ?it/s]"
      ]
     },
     "metadata": {},
     "output_type": "display_data"
    },
    {
     "name": "stdout",
     "output_type": "stream",
     "text": [
      "{'afd': {'faithfulness': 0.8333, 'answer_relevancy': 0.8634}, 'spd': {'faithfulness': 1.0000, 'answer_relevancy': 0.8569}, 'linke': {'faithfulness': 1.0000, 'answer_relevancy': 0.8512}, 'gruene': {'faithfulness': 1.0000, 'answer_relevancy': 0.8887}, 'fdp': {'faithfulness': 0.5000, 'answer_relevancy': 0.8648}, 'cdu': {'faithfulness': 1.0000, 'answer_relevancy': 0.8783}}\n",
      "Question: Was sind die Ideen der Parteien, um Europa in Dingen wie Computern und neuen Erfindungen besser zu machen?\n",
      "Evaluating party: afd\n"
     ]
    },
    {
     "data": {
      "application/vnd.jupyter.widget-view+json": {
       "model_id": "131d75d2fe024a31a16acca6c0c03c24",
       "version_major": 2,
       "version_minor": 0
      },
      "text/plain": [
       "Evaluating:   0%|          | 0/2 [00:00<?, ?it/s]"
      ]
     },
     "metadata": {},
     "output_type": "display_data"
    },
    {
     "name": "stderr",
     "output_type": "stream",
     "text": [
      "/Users/christianliedl/anaconda3/envs/bundestag/lib/python3.11/site-packages/ragas/evaluation.py:276: RuntimeWarning: Mean of empty slice\n",
      "  value = np.nanmean(self.scores[cn])\n"
     ]
    },
    {
     "name": "stdout",
     "output_type": "stream",
     "text": [
      "Evaluating party: spd\n"
     ]
    },
    {
     "data": {
      "application/vnd.jupyter.widget-view+json": {
       "model_id": "ca72ea4d52494af48cf1e0b35ac0dba3",
       "version_major": 2,
       "version_minor": 0
      },
      "text/plain": [
       "Evaluating:   0%|          | 0/2 [00:00<?, ?it/s]"
      ]
     },
     "metadata": {},
     "output_type": "display_data"
    },
    {
     "name": "stdout",
     "output_type": "stream",
     "text": [
      "Evaluating party: linke\n"
     ]
    },
    {
     "data": {
      "application/vnd.jupyter.widget-view+json": {
       "model_id": "04661c59fe764af99bc3e65f63e0774e",
       "version_major": 2,
       "version_minor": 0
      },
      "text/plain": [
       "Evaluating:   0%|          | 0/2 [00:00<?, ?it/s]"
      ]
     },
     "metadata": {},
     "output_type": "display_data"
    },
    {
     "name": "stdout",
     "output_type": "stream",
     "text": [
      "Evaluating party: gruene\n"
     ]
    },
    {
     "data": {
      "application/vnd.jupyter.widget-view+json": {
       "model_id": "085bb70045f54d959618f882965c7d2c",
       "version_major": 2,
       "version_minor": 0
      },
      "text/plain": [
       "Evaluating:   0%|          | 0/2 [00:00<?, ?it/s]"
      ]
     },
     "metadata": {},
     "output_type": "display_data"
    },
    {
     "name": "stdout",
     "output_type": "stream",
     "text": [
      "Evaluating party: fdp\n"
     ]
    },
    {
     "data": {
      "application/vnd.jupyter.widget-view+json": {
       "model_id": "b9aee7a1e66a43369cb51d74c7a3aabd",
       "version_major": 2,
       "version_minor": 0
      },
      "text/plain": [
       "Evaluating:   0%|          | 0/2 [00:00<?, ?it/s]"
      ]
     },
     "metadata": {},
     "output_type": "display_data"
    },
    {
     "name": "stdout",
     "output_type": "stream",
     "text": [
      "Evaluating party: cdu\n"
     ]
    },
    {
     "data": {
      "application/vnd.jupyter.widget-view+json": {
       "model_id": "3c6fa910071b4770a13024fa4e3a4f4b",
       "version_major": 2,
       "version_minor": 0
      },
      "text/plain": [
       "Evaluating:   0%|          | 0/2 [00:00<?, ?it/s]"
      ]
     },
     "metadata": {},
     "output_type": "display_data"
    },
    {
     "name": "stdout",
     "output_type": "stream",
     "text": [
      "{'afd': {'faithfulness': nan, 'answer_relevancy': 0.0000}, 'spd': {'faithfulness': 1.0000, 'answer_relevancy': 0.8669}, 'linke': {'faithfulness': 0.7500, 'answer_relevancy': 0.8683}, 'gruene': {'faithfulness': 1.0000, 'answer_relevancy': 0.8363}, 'fdp': {'faithfulness': 1.0000, 'answer_relevancy': 0.8452}, 'cdu': {'faithfulness': 1.0000, 'answer_relevancy': 0.8539}}\n",
      "Question: Wie wollen die Parteien sicherstellen, dass wir im Meer nicht zu viele Fische fangen und die Unterwasserwelt schützen?\n",
      "Evaluating party: afd\n"
     ]
    },
    {
     "data": {
      "application/vnd.jupyter.widget-view+json": {
       "model_id": "85a5ca3b48bd4e35bf94086c434e30e1",
       "version_major": 2,
       "version_minor": 0
      },
      "text/plain": [
       "Evaluating:   0%|          | 0/2 [00:00<?, ?it/s]"
      ]
     },
     "metadata": {},
     "output_type": "display_data"
    },
    {
     "name": "stderr",
     "output_type": "stream",
     "text": [
      "/Users/christianliedl/anaconda3/envs/bundestag/lib/python3.11/site-packages/ragas/evaluation.py:276: RuntimeWarning: Mean of empty slice\n",
      "  value = np.nanmean(self.scores[cn])\n"
     ]
    },
    {
     "name": "stdout",
     "output_type": "stream",
     "text": [
      "Evaluating party: spd\n"
     ]
    },
    {
     "data": {
      "application/vnd.jupyter.widget-view+json": {
       "model_id": "f3914401c3464d6ea5fc2a74ab122bc9",
       "version_major": 2,
       "version_minor": 0
      },
      "text/plain": [
       "Evaluating:   0%|          | 0/2 [00:00<?, ?it/s]"
      ]
     },
     "metadata": {},
     "output_type": "display_data"
    },
    {
     "name": "stdout",
     "output_type": "stream",
     "text": [
      "Evaluating party: linke\n"
     ]
    },
    {
     "data": {
      "application/vnd.jupyter.widget-view+json": {
       "model_id": "2240c37ba65645afbc92002052cd78a6",
       "version_major": 2,
       "version_minor": 0
      },
      "text/plain": [
       "Evaluating:   0%|          | 0/2 [00:00<?, ?it/s]"
      ]
     },
     "metadata": {},
     "output_type": "display_data"
    },
    {
     "name": "stdout",
     "output_type": "stream",
     "text": [
      "Evaluating party: gruene\n"
     ]
    },
    {
     "data": {
      "application/vnd.jupyter.widget-view+json": {
       "model_id": "72c5633db0ca45568b278404754a2f1d",
       "version_major": 2,
       "version_minor": 0
      },
      "text/plain": [
       "Evaluating:   0%|          | 0/2 [00:00<?, ?it/s]"
      ]
     },
     "metadata": {},
     "output_type": "display_data"
    },
    {
     "name": "stdout",
     "output_type": "stream",
     "text": [
      "Evaluating party: fdp\n"
     ]
    },
    {
     "data": {
      "application/vnd.jupyter.widget-view+json": {
       "model_id": "250bde1ee7cb4d0696a96ad3abea35e5",
       "version_major": 2,
       "version_minor": 0
      },
      "text/plain": [
       "Evaluating:   0%|          | 0/2 [00:00<?, ?it/s]"
      ]
     },
     "metadata": {},
     "output_type": "display_data"
    },
    {
     "name": "stdout",
     "output_type": "stream",
     "text": [
      "Evaluating party: cdu\n"
     ]
    },
    {
     "data": {
      "application/vnd.jupyter.widget-view+json": {
       "model_id": "66209740cf784c48ae9e7665594c7a5c",
       "version_major": 2,
       "version_minor": 0
      },
      "text/plain": [
       "Evaluating:   0%|          | 0/2 [00:00<?, ?it/s]"
      ]
     },
     "metadata": {},
     "output_type": "display_data"
    },
    {
     "name": "stdout",
     "output_type": "stream",
     "text": [
      "{'afd': {'faithfulness': nan, 'answer_relevancy': 0.8087}, 'spd': {'faithfulness': 0.0000, 'answer_relevancy': 0.8868}, 'linke': {'faithfulness': 1.0000, 'answer_relevancy': 0.8915}, 'gruene': {'faithfulness': 1.0000, 'answer_relevancy': 0.8384}, 'fdp': {'faithfulness': 1.0000, 'answer_relevancy': 0.8386}, 'cdu': {'faithfulness': 0.0000, 'answer_relevancy': 0.8280}}\n",
      "Question: Wie wollen die Parteien sicherstellen, dass es Tieren beim Züchten und Transportieren gut geht?\n",
      "Evaluating party: afd\n"
     ]
    },
    {
     "data": {
      "application/vnd.jupyter.widget-view+json": {
       "model_id": "469fbe6f292b4587b5b2995186dbe7fc",
       "version_major": 2,
       "version_minor": 0
      },
      "text/plain": [
       "Evaluating:   0%|          | 0/2 [00:00<?, ?it/s]"
      ]
     },
     "metadata": {},
     "output_type": "display_data"
    },
    {
     "name": "stdout",
     "output_type": "stream",
     "text": [
      "Evaluating party: spd\n"
     ]
    },
    {
     "data": {
      "application/vnd.jupyter.widget-view+json": {
       "model_id": "56e0d047a9334c98880508fba1666328",
       "version_major": 2,
       "version_minor": 0
      },
      "text/plain": [
       "Evaluating:   0%|          | 0/2 [00:00<?, ?it/s]"
      ]
     },
     "metadata": {},
     "output_type": "display_data"
    },
    {
     "name": "stdout",
     "output_type": "stream",
     "text": [
      "Evaluating party: linke\n"
     ]
    },
    {
     "data": {
      "application/vnd.jupyter.widget-view+json": {
       "model_id": "5a7be6fa44c74043b823d0d46d6631c6",
       "version_major": 2,
       "version_minor": 0
      },
      "text/plain": [
       "Evaluating:   0%|          | 0/2 [00:00<?, ?it/s]"
      ]
     },
     "metadata": {},
     "output_type": "display_data"
    },
    {
     "name": "stdout",
     "output_type": "stream",
     "text": [
      "Evaluating party: gruene\n"
     ]
    },
    {
     "data": {
      "application/vnd.jupyter.widget-view+json": {
       "model_id": "bf2012da58f34a76b2a0d8048d1988b4",
       "version_major": 2,
       "version_minor": 0
      },
      "text/plain": [
       "Evaluating:   0%|          | 0/2 [00:00<?, ?it/s]"
      ]
     },
     "metadata": {},
     "output_type": "display_data"
    },
    {
     "name": "stdout",
     "output_type": "stream",
     "text": [
      "Evaluating party: fdp\n"
     ]
    },
    {
     "data": {
      "application/vnd.jupyter.widget-view+json": {
       "model_id": "a14462da9a554f129330b773ef68fb06",
       "version_major": 2,
       "version_minor": 0
      },
      "text/plain": [
       "Evaluating:   0%|          | 0/2 [00:00<?, ?it/s]"
      ]
     },
     "metadata": {},
     "output_type": "display_data"
    },
    {
     "name": "stdout",
     "output_type": "stream",
     "text": [
      "Evaluating party: cdu\n"
     ]
    },
    {
     "data": {
      "application/vnd.jupyter.widget-view+json": {
       "model_id": "4c3ddf0b22174af085aa2b4419408fa9",
       "version_major": 2,
       "version_minor": 0
      },
      "text/plain": [
       "Evaluating:   0%|          | 0/2 [00:00<?, ?it/s]"
      ]
     },
     "metadata": {},
     "output_type": "display_data"
    },
    {
     "name": "stdout",
     "output_type": "stream",
     "text": [
      "{'afd': {'faithfulness': 1.0000, 'answer_relevancy': 0.8656}, 'spd': {'faithfulness': 1.0000, 'answer_relevancy': 0.8407}, 'linke': {'faithfulness': 0.6000, 'answer_relevancy': 0.8780}, 'gruene': {'faithfulness': 1.0000, 'answer_relevancy': 0.8800}, 'fdp': {'faithfulness': 1.0000, 'answer_relevancy': 0.8820}, 'cdu': {'faithfulness': 0.0000, 'answer_relevancy': 0.8766}}\n",
      "Question: Wie denken die Parteien darüber, dass Europa zusammenarbeitet, um weniger dreckige Energie zu nutzen und mehr saubere Energie?\n",
      "Evaluating party: afd\n"
     ]
    },
    {
     "data": {
      "application/vnd.jupyter.widget-view+json": {
       "model_id": "1b9f71db522b4f8aa9dcd9f362652626",
       "version_major": 2,
       "version_minor": 0
      },
      "text/plain": [
       "Evaluating:   0%|          | 0/2 [00:00<?, ?it/s]"
      ]
     },
     "metadata": {},
     "output_type": "display_data"
    },
    {
     "name": "stderr",
     "output_type": "stream",
     "text": [
      "/Users/christianliedl/anaconda3/envs/bundestag/lib/python3.11/site-packages/ragas/evaluation.py:276: RuntimeWarning: Mean of empty slice\n",
      "  value = np.nanmean(self.scores[cn])\n"
     ]
    },
    {
     "name": "stdout",
     "output_type": "stream",
     "text": [
      "Evaluating party: spd\n"
     ]
    },
    {
     "data": {
      "application/vnd.jupyter.widget-view+json": {
       "model_id": "189e7d82e81645409f89e5d363b473d7",
       "version_major": 2,
       "version_minor": 0
      },
      "text/plain": [
       "Evaluating:   0%|          | 0/2 [00:00<?, ?it/s]"
      ]
     },
     "metadata": {},
     "output_type": "display_data"
    },
    {
     "name": "stdout",
     "output_type": "stream",
     "text": [
      "Evaluating party: linke\n"
     ]
    },
    {
     "data": {
      "application/vnd.jupyter.widget-view+json": {
       "model_id": "762a57f6ce174092914d8dd87ba9084b",
       "version_major": 2,
       "version_minor": 0
      },
      "text/plain": [
       "Evaluating:   0%|          | 0/2 [00:00<?, ?it/s]"
      ]
     },
     "metadata": {},
     "output_type": "display_data"
    },
    {
     "name": "stdout",
     "output_type": "stream",
     "text": [
      "Evaluating party: gruene\n"
     ]
    },
    {
     "data": {
      "application/vnd.jupyter.widget-view+json": {
       "model_id": "4a93af0d70614ecdbe3a793363290b0e",
       "version_major": 2,
       "version_minor": 0
      },
      "text/plain": [
       "Evaluating:   0%|          | 0/2 [00:00<?, ?it/s]"
      ]
     },
     "metadata": {},
     "output_type": "display_data"
    },
    {
     "name": "stdout",
     "output_type": "stream",
     "text": [
      "Evaluating party: fdp\n"
     ]
    },
    {
     "data": {
      "application/vnd.jupyter.widget-view+json": {
       "model_id": "14178ce584db4fdda3c972fd89659735",
       "version_major": 2,
       "version_minor": 0
      },
      "text/plain": [
       "Evaluating:   0%|          | 0/2 [00:00<?, ?it/s]"
      ]
     },
     "metadata": {},
     "output_type": "display_data"
    },
    {
     "name": "stdout",
     "output_type": "stream",
     "text": [
      "Evaluating party: cdu\n"
     ]
    },
    {
     "data": {
      "application/vnd.jupyter.widget-view+json": {
       "model_id": "91fbae25d2db41d29d1143e4d1d90440",
       "version_major": 2,
       "version_minor": 0
      },
      "text/plain": [
       "Evaluating:   0%|          | 0/2 [00:00<?, ?it/s]"
      ]
     },
     "metadata": {},
     "output_type": "display_data"
    },
    {
     "name": "stdout",
     "output_type": "stream",
     "text": [
      "{'afd': {'faithfulness': nan, 'answer_relevancy': 0.0000}, 'spd': {'faithfulness': 1.0000, 'answer_relevancy': 0.8601}, 'linke': {'faithfulness': 1.0000, 'answer_relevancy': 0.8594}, 'gruene': {'faithfulness': 1.0000, 'answer_relevancy': 0.8518}, 'fdp': {'faithfulness': 0.8000, 'answer_relevancy': 0.8614}, 'cdu': {'faithfulness': 0.0000, 'answer_relevancy': 0.8401}}\n",
      "Question: Wie möchten die Parteien unsere Geschichte und Kulturen in Europa bewahren und zeigen?\n",
      "Evaluating party: afd\n"
     ]
    },
    {
     "data": {
      "application/vnd.jupyter.widget-view+json": {
       "model_id": "a70769f972244690ab39a4b1548e4060",
       "version_major": 2,
       "version_minor": 0
      },
      "text/plain": [
       "Evaluating:   0%|          | 0/2 [00:00<?, ?it/s]"
      ]
     },
     "metadata": {},
     "output_type": "display_data"
    },
    {
     "name": "stderr",
     "output_type": "stream",
     "text": [
      "/Users/christianliedl/anaconda3/envs/bundestag/lib/python3.11/site-packages/ragas/evaluation.py:276: RuntimeWarning: Mean of empty slice\n",
      "  value = np.nanmean(self.scores[cn])\n"
     ]
    },
    {
     "name": "stdout",
     "output_type": "stream",
     "text": [
      "Evaluating party: spd\n"
     ]
    },
    {
     "data": {
      "application/vnd.jupyter.widget-view+json": {
       "model_id": "731f3e380fca43d3a41353aedc390cf8",
       "version_major": 2,
       "version_minor": 0
      },
      "text/plain": [
       "Evaluating:   0%|          | 0/2 [00:00<?, ?it/s]"
      ]
     },
     "metadata": {},
     "output_type": "display_data"
    },
    {
     "name": "stdout",
     "output_type": "stream",
     "text": [
      "Evaluating party: linke\n"
     ]
    },
    {
     "data": {
      "application/vnd.jupyter.widget-view+json": {
       "model_id": "7f7bdd81ae10427084810dd0133f8a43",
       "version_major": 2,
       "version_minor": 0
      },
      "text/plain": [
       "Evaluating:   0%|          | 0/2 [00:00<?, ?it/s]"
      ]
     },
     "metadata": {},
     "output_type": "display_data"
    },
    {
     "name": "stdout",
     "output_type": "stream",
     "text": [
      "Evaluating party: gruene\n"
     ]
    },
    {
     "data": {
      "application/vnd.jupyter.widget-view+json": {
       "model_id": "003ee991842140a39b7b8b72d129a2c7",
       "version_major": 2,
       "version_minor": 0
      },
      "text/plain": [
       "Evaluating:   0%|          | 0/2 [00:00<?, ?it/s]"
      ]
     },
     "metadata": {},
     "output_type": "display_data"
    },
    {
     "name": "stdout",
     "output_type": "stream",
     "text": [
      "Evaluating party: fdp\n"
     ]
    },
    {
     "data": {
      "application/vnd.jupyter.widget-view+json": {
       "model_id": "5d06a641b495486a8a21e5ece78f18b5",
       "version_major": 2,
       "version_minor": 0
      },
      "text/plain": [
       "Evaluating:   0%|          | 0/2 [00:00<?, ?it/s]"
      ]
     },
     "metadata": {},
     "output_type": "display_data"
    },
    {
     "name": "stdout",
     "output_type": "stream",
     "text": [
      "Evaluating party: cdu\n"
     ]
    },
    {
     "data": {
      "application/vnd.jupyter.widget-view+json": {
       "model_id": "f88bba7eb6424eb8a7f52d3e0add7191",
       "version_major": 2,
       "version_minor": 0
      },
      "text/plain": [
       "Evaluating:   0%|          | 0/2 [00:00<?, ?it/s]"
      ]
     },
     "metadata": {},
     "output_type": "display_data"
    },
    {
     "name": "stdout",
     "output_type": "stream",
     "text": [
      "{'afd': {'faithfulness': nan, 'answer_relevancy': 0.0000}, 'spd': {'faithfulness': 0.6667, 'answer_relevancy': 0.8253}, 'linke': {'faithfulness': 0.0000, 'answer_relevancy': 0.8090}, 'gruene': {'faithfulness': 0.7143, 'answer_relevancy': 0.8224}, 'fdp': {'faithfulness': 0.5000, 'answer_relevancy': 0.8223}, 'cdu': {'faithfulness': 1.0000, 'answer_relevancy': 0.8318}}\n",
      "Question: Was denken die Parteien darüber, wenn Geflüchtete Gesetze brechen und Deutschland verlassen sollen?\n",
      "Evaluating party: afd\n"
     ]
    },
    {
     "data": {
      "application/vnd.jupyter.widget-view+json": {
       "model_id": "01cc8a27f8fe4c3c8c2a349f3171d5ed",
       "version_major": 2,
       "version_minor": 0
      },
      "text/plain": [
       "Evaluating:   0%|          | 0/2 [00:00<?, ?it/s]"
      ]
     },
     "metadata": {},
     "output_type": "display_data"
    },
    {
     "name": "stdout",
     "output_type": "stream",
     "text": [
      "Evaluating party: spd\n"
     ]
    },
    {
     "data": {
      "application/vnd.jupyter.widget-view+json": {
       "model_id": "1c361d05971847c8934ea072bb7991db",
       "version_major": 2,
       "version_minor": 0
      },
      "text/plain": [
       "Evaluating:   0%|          | 0/2 [00:00<?, ?it/s]"
      ]
     },
     "metadata": {},
     "output_type": "display_data"
    },
    {
     "name": "stdout",
     "output_type": "stream",
     "text": [
      "Evaluating party: linke\n"
     ]
    },
    {
     "data": {
      "application/vnd.jupyter.widget-view+json": {
       "model_id": "1771523245e641fba305ffd53c26e79e",
       "version_major": 2,
       "version_minor": 0
      },
      "text/plain": [
       "Evaluating:   0%|          | 0/2 [00:00<?, ?it/s]"
      ]
     },
     "metadata": {},
     "output_type": "display_data"
    },
    {
     "name": "stdout",
     "output_type": "stream",
     "text": [
      "Evaluating party: gruene\n"
     ]
    },
    {
     "data": {
      "application/vnd.jupyter.widget-view+json": {
       "model_id": "4ae0afb59dda4c00b34b9fd95383baf6",
       "version_major": 2,
       "version_minor": 0
      },
      "text/plain": [
       "Evaluating:   0%|          | 0/2 [00:00<?, ?it/s]"
      ]
     },
     "metadata": {},
     "output_type": "display_data"
    },
    {
     "name": "stdout",
     "output_type": "stream",
     "text": [
      "Evaluating party: fdp\n"
     ]
    },
    {
     "data": {
      "application/vnd.jupyter.widget-view+json": {
       "model_id": "3d49c8340b6443b9ba2f9bec4cea3ed4",
       "version_major": 2,
       "version_minor": 0
      },
      "text/plain": [
       "Evaluating:   0%|          | 0/2 [00:00<?, ?it/s]"
      ]
     },
     "metadata": {},
     "output_type": "display_data"
    },
    {
     "name": "stdout",
     "output_type": "stream",
     "text": [
      "Evaluating party: cdu\n"
     ]
    },
    {
     "data": {
      "application/vnd.jupyter.widget-view+json": {
       "model_id": "3db516116b534ba0a23a3f54930b7467",
       "version_major": 2,
       "version_minor": 0
      },
      "text/plain": [
       "Evaluating:   0%|          | 0/2 [00:00<?, ?it/s]"
      ]
     },
     "metadata": {},
     "output_type": "display_data"
    },
    {
     "name": "stderr",
     "output_type": "stream",
     "text": [
      "/Users/christianliedl/anaconda3/envs/bundestag/lib/python3.11/site-packages/ragas/evaluation.py:276: RuntimeWarning: Mean of empty slice\n",
      "  value = np.nanmean(self.scores[cn])\n"
     ]
    },
    {
     "name": "stdout",
     "output_type": "stream",
     "text": [
      "{'afd': {'faithfulness': 1.0000, 'answer_relevancy': 0.8334}, 'spd': {'faithfulness': 0.6667, 'answer_relevancy': 0.8324}, 'linke': {'faithfulness': 0.3333, 'answer_relevancy': 0.8604}, 'gruene': {'faithfulness': 0.2500, 'answer_relevancy': 0.8375}, 'fdp': {'faithfulness': 1.0000, 'answer_relevancy': 0.8696}, 'cdu': {'faithfulness': nan, 'answer_relevancy': 0.8374}}\n",
      "Question: Was wollen die Parteien tun, um die christliche Religion in Europa zu unterstützen?\n",
      "Evaluating party: afd\n"
     ]
    },
    {
     "data": {
      "application/vnd.jupyter.widget-view+json": {
       "model_id": "b39592ecf90c4bbb837bc64284f6ed12",
       "version_major": 2,
       "version_minor": 0
      },
      "text/plain": [
       "Evaluating:   0%|          | 0/2 [00:00<?, ?it/s]"
      ]
     },
     "metadata": {},
     "output_type": "display_data"
    },
    {
     "name": "stderr",
     "output_type": "stream",
     "text": [
      "/Users/christianliedl/anaconda3/envs/bundestag/lib/python3.11/site-packages/ragas/evaluation.py:276: RuntimeWarning: Mean of empty slice\n",
      "  value = np.nanmean(self.scores[cn])\n"
     ]
    },
    {
     "name": "stdout",
     "output_type": "stream",
     "text": [
      "Evaluating party: spd\n"
     ]
    },
    {
     "data": {
      "application/vnd.jupyter.widget-view+json": {
       "model_id": "6e24a4cc3e1c4da3b2bf4b534b85ccbc",
       "version_major": 2,
       "version_minor": 0
      },
      "text/plain": [
       "Evaluating:   0%|          | 0/2 [00:00<?, ?it/s]"
      ]
     },
     "metadata": {},
     "output_type": "display_data"
    },
    {
     "name": "stdout",
     "output_type": "stream",
     "text": [
      "Evaluating party: linke\n"
     ]
    },
    {
     "data": {
      "application/vnd.jupyter.widget-view+json": {
       "model_id": "5a92b64fd37e4569962cc59bbf6b40a7",
       "version_major": 2,
       "version_minor": 0
      },
      "text/plain": [
       "Evaluating:   0%|          | 0/2 [00:00<?, ?it/s]"
      ]
     },
     "metadata": {},
     "output_type": "display_data"
    },
    {
     "name": "stdout",
     "output_type": "stream",
     "text": [
      "Evaluating party: gruene\n"
     ]
    },
    {
     "data": {
      "application/vnd.jupyter.widget-view+json": {
       "model_id": "bf99e64ce14743d3956f62923e402bc7",
       "version_major": 2,
       "version_minor": 0
      },
      "text/plain": [
       "Evaluating:   0%|          | 0/2 [00:00<?, ?it/s]"
      ]
     },
     "metadata": {},
     "output_type": "display_data"
    },
    {
     "name": "stdout",
     "output_type": "stream",
     "text": [
      "Evaluating party: fdp\n"
     ]
    },
    {
     "data": {
      "application/vnd.jupyter.widget-view+json": {
       "model_id": "97d209201b8c4fde9818ca2e6b6931fc",
       "version_major": 2,
       "version_minor": 0
      },
      "text/plain": [
       "Evaluating:   0%|          | 0/2 [00:00<?, ?it/s]"
      ]
     },
     "metadata": {},
     "output_type": "display_data"
    },
    {
     "name": "stdout",
     "output_type": "stream",
     "text": [
      "Evaluating party: cdu\n"
     ]
    },
    {
     "data": {
      "application/vnd.jupyter.widget-view+json": {
       "model_id": "e5eddb7b7dce41809bbb2d67f14a37ce",
       "version_major": 2,
       "version_minor": 0
      },
      "text/plain": [
       "Evaluating:   0%|          | 0/2 [00:00<?, ?it/s]"
      ]
     },
     "metadata": {},
     "output_type": "display_data"
    },
    {
     "name": "stdout",
     "output_type": "stream",
     "text": [
      "{'afd': {'faithfulness': nan, 'answer_relevancy': 0.8093}, 'spd': {'faithfulness': 0.5000, 'answer_relevancy': 0.8677}, 'linke': {'faithfulness': 1.0000, 'answer_relevancy': 0.8341}, 'gruene': {'faithfulness': 1.0000, 'answer_relevancy': 0.8067}, 'fdp': {'faithfulness': 1.0000, 'answer_relevancy': 0.8300}, 'cdu': {'faithfulness': 1.0000, 'answer_relevancy': 0.8213}}\n",
      "Question: Sind die Parteien dafür, weiterhin Energie aus Kohle und Atomkraft zu nutzen?\n",
      "Evaluating party: afd\n"
     ]
    },
    {
     "data": {
      "application/vnd.jupyter.widget-view+json": {
       "model_id": "78a330d6424845adb514998c352bcfb2",
       "version_major": 2,
       "version_minor": 0
      },
      "text/plain": [
       "Evaluating:   0%|          | 0/2 [00:00<?, ?it/s]"
      ]
     },
     "metadata": {},
     "output_type": "display_data"
    },
    {
     "name": "stdout",
     "output_type": "stream",
     "text": [
      "Evaluating party: spd\n"
     ]
    },
    {
     "data": {
      "application/vnd.jupyter.widget-view+json": {
       "model_id": "c09672510bac495081ccd1eb2e5b9715",
       "version_major": 2,
       "version_minor": 0
      },
      "text/plain": [
       "Evaluating:   0%|          | 0/2 [00:00<?, ?it/s]"
      ]
     },
     "metadata": {},
     "output_type": "display_data"
    },
    {
     "name": "stdout",
     "output_type": "stream",
     "text": [
      "Evaluating party: linke\n"
     ]
    },
    {
     "data": {
      "application/vnd.jupyter.widget-view+json": {
       "model_id": "c4cf3dc3b1ad403183e183408a8f1392",
       "version_major": 2,
       "version_minor": 0
      },
      "text/plain": [
       "Evaluating:   0%|          | 0/2 [00:00<?, ?it/s]"
      ]
     },
     "metadata": {},
     "output_type": "display_data"
    },
    {
     "name": "stderr",
     "output_type": "stream",
     "text": [
      "/Users/christianliedl/anaconda3/envs/bundestag/lib/python3.11/site-packages/ragas/evaluation.py:276: RuntimeWarning: Mean of empty slice\n",
      "  value = np.nanmean(self.scores[cn])\n"
     ]
    },
    {
     "name": "stdout",
     "output_type": "stream",
     "text": [
      "Evaluating party: gruene\n"
     ]
    },
    {
     "data": {
      "application/vnd.jupyter.widget-view+json": {
       "model_id": "6c85ad0a5261496fa34a84d18f38acb6",
       "version_major": 2,
       "version_minor": 0
      },
      "text/plain": [
       "Evaluating:   0%|          | 0/2 [00:00<?, ?it/s]"
      ]
     },
     "metadata": {},
     "output_type": "display_data"
    },
    {
     "name": "stdout",
     "output_type": "stream",
     "text": [
      "Evaluating party: fdp\n"
     ]
    },
    {
     "data": {
      "application/vnd.jupyter.widget-view+json": {
       "model_id": "08927de5f36d449fb75e787fdffbb29e",
       "version_major": 2,
       "version_minor": 0
      },
      "text/plain": [
       "Evaluating:   0%|          | 0/2 [00:00<?, ?it/s]"
      ]
     },
     "metadata": {},
     "output_type": "display_data"
    },
    {
     "name": "stderr",
     "output_type": "stream",
     "text": [
      "/Users/christianliedl/anaconda3/envs/bundestag/lib/python3.11/site-packages/ragas/evaluation.py:276: RuntimeWarning: Mean of empty slice\n",
      "  value = np.nanmean(self.scores[cn])\n"
     ]
    },
    {
     "name": "stdout",
     "output_type": "stream",
     "text": [
      "Evaluating party: cdu\n"
     ]
    },
    {
     "data": {
      "application/vnd.jupyter.widget-view+json": {
       "model_id": "3700b320b5c8496a9fcbd5e6d32dfba2",
       "version_major": 2,
       "version_minor": 0
      },
      "text/plain": [
       "Evaluating:   0%|          | 0/2 [00:00<?, ?it/s]"
      ]
     },
     "metadata": {},
     "output_type": "display_data"
    },
    {
     "name": "stdout",
     "output_type": "stream",
     "text": [
      "{'afd': {'faithfulness': 1.0000, 'answer_relevancy': 0.8947}, 'spd': {'faithfulness': 0.7500, 'answer_relevancy': 0.8721}, 'linke': {'faithfulness': nan, 'answer_relevancy': 0.8685}, 'gruene': {'faithfulness': 1.0000, 'answer_relevancy': 0.8898}, 'fdp': {'faithfulness': nan, 'answer_relevancy': 0.8837}, 'cdu': {'faithfulness': 1.0000, 'answer_relevancy': 0.8790}}\n",
      "Question: Was meinen die Parteien, wie viel die Regeln aus Europa Deutschland beeinflussen dürfen?\n",
      "Evaluating party: afd\n"
     ]
    },
    {
     "data": {
      "application/vnd.jupyter.widget-view+json": {
       "model_id": "5625068e5d8c425ab9aa2a73b2b132c1",
       "version_major": 2,
       "version_minor": 0
      },
      "text/plain": [
       "Evaluating:   0%|          | 0/2 [00:00<?, ?it/s]"
      ]
     },
     "metadata": {},
     "output_type": "display_data"
    },
    {
     "name": "stdout",
     "output_type": "stream",
     "text": [
      "Evaluating party: spd\n"
     ]
    },
    {
     "data": {
      "application/vnd.jupyter.widget-view+json": {
       "model_id": "27865f64521e4c5196cd7e10dfa61152",
       "version_major": 2,
       "version_minor": 0
      },
      "text/plain": [
       "Evaluating:   0%|          | 0/2 [00:00<?, ?it/s]"
      ]
     },
     "metadata": {},
     "output_type": "display_data"
    },
    {
     "name": "stdout",
     "output_type": "stream",
     "text": [
      "Evaluating party: linke\n"
     ]
    },
    {
     "data": {
      "application/vnd.jupyter.widget-view+json": {
       "model_id": "927302fb3091442c947960af1dfd69f4",
       "version_major": 2,
       "version_minor": 0
      },
      "text/plain": [
       "Evaluating:   0%|          | 0/2 [00:00<?, ?it/s]"
      ]
     },
     "metadata": {},
     "output_type": "display_data"
    },
    {
     "name": "stdout",
     "output_type": "stream",
     "text": [
      "Evaluating party: gruene\n"
     ]
    },
    {
     "data": {
      "application/vnd.jupyter.widget-view+json": {
       "model_id": "90152ab51d6941dea97aa2f9df89a2a5",
       "version_major": 2,
       "version_minor": 0
      },
      "text/plain": [
       "Evaluating:   0%|          | 0/2 [00:00<?, ?it/s]"
      ]
     },
     "metadata": {},
     "output_type": "display_data"
    },
    {
     "name": "stdout",
     "output_type": "stream",
     "text": [
      "Evaluating party: fdp\n"
     ]
    },
    {
     "data": {
      "application/vnd.jupyter.widget-view+json": {
       "model_id": "7d91f8f271e14bfd9df09c98f9d1d41e",
       "version_major": 2,
       "version_minor": 0
      },
      "text/plain": [
       "Evaluating:   0%|          | 0/2 [00:00<?, ?it/s]"
      ]
     },
     "metadata": {},
     "output_type": "display_data"
    },
    {
     "name": "stdout",
     "output_type": "stream",
     "text": [
      "Evaluating party: cdu\n"
     ]
    },
    {
     "data": {
      "application/vnd.jupyter.widget-view+json": {
       "model_id": "46687e02d6bb4c768fb98ea057b125e5",
       "version_major": 2,
       "version_minor": 0
      },
      "text/plain": [
       "Evaluating:   0%|          | 0/2 [00:00<?, ?it/s]"
      ]
     },
     "metadata": {},
     "output_type": "display_data"
    },
    {
     "name": "stdout",
     "output_type": "stream",
     "text": [
      "{'afd': {'faithfulness': 1.0000, 'answer_relevancy': 0.8365}, 'spd': {'faithfulness': 0.2000, 'answer_relevancy': 0.8722}, 'linke': {'faithfulness': 1.0000, 'answer_relevancy': 0.8413}, 'gruene': {'faithfulness': 0.3333, 'answer_relevancy': 0.8346}, 'fdp': {'faithfulness': 0.5000, 'answer_relevancy': 0.8606}, 'cdu': {'faithfulness': 1.0000, 'answer_relevancy': 0.8432}}\n",
      "Question: Welche Ideen haben die Parteien, damit alle sich sicher fühlen können?\n",
      "Evaluating party: afd\n"
     ]
    },
    {
     "data": {
      "application/vnd.jupyter.widget-view+json": {
       "model_id": "46f728231d964de7ad4224c2b210e6fb",
       "version_major": 2,
       "version_minor": 0
      },
      "text/plain": [
       "Evaluating:   0%|          | 0/2 [00:00<?, ?it/s]"
      ]
     },
     "metadata": {},
     "output_type": "display_data"
    },
    {
     "name": "stdout",
     "output_type": "stream",
     "text": [
      "Evaluating party: spd\n"
     ]
    },
    {
     "data": {
      "application/vnd.jupyter.widget-view+json": {
       "model_id": "28ccf2cc2a764d8bb75d49ead4ae72fd",
       "version_major": 2,
       "version_minor": 0
      },
      "text/plain": [
       "Evaluating:   0%|          | 0/2 [00:00<?, ?it/s]"
      ]
     },
     "metadata": {},
     "output_type": "display_data"
    },
    {
     "name": "stdout",
     "output_type": "stream",
     "text": [
      "Evaluating party: linke\n"
     ]
    },
    {
     "data": {
      "application/vnd.jupyter.widget-view+json": {
       "model_id": "d6d3c8bb5f8242169dc1e7a2d62d3e45",
       "version_major": 2,
       "version_minor": 0
      },
      "text/plain": [
       "Evaluating:   0%|          | 0/2 [00:00<?, ?it/s]"
      ]
     },
     "metadata": {},
     "output_type": "display_data"
    },
    {
     "name": "stdout",
     "output_type": "stream",
     "text": [
      "Evaluating party: gruene\n"
     ]
    },
    {
     "data": {
      "application/vnd.jupyter.widget-view+json": {
       "model_id": "06aa450bf067436e919346d13da576c0",
       "version_major": 2,
       "version_minor": 0
      },
      "text/plain": [
       "Evaluating:   0%|          | 0/2 [00:00<?, ?it/s]"
      ]
     },
     "metadata": {},
     "output_type": "display_data"
    },
    {
     "name": "stdout",
     "output_type": "stream",
     "text": [
      "Evaluating party: fdp\n"
     ]
    },
    {
     "data": {
      "application/vnd.jupyter.widget-view+json": {
       "model_id": "06a6c7e089e04055b01b971157208c74",
       "version_major": 2,
       "version_minor": 0
      },
      "text/plain": [
       "Evaluating:   0%|          | 0/2 [00:00<?, ?it/s]"
      ]
     },
     "metadata": {},
     "output_type": "display_data"
    },
    {
     "name": "stdout",
     "output_type": "stream",
     "text": [
      "Evaluating party: cdu\n"
     ]
    },
    {
     "data": {
      "application/vnd.jupyter.widget-view+json": {
       "model_id": "75c6ed6900014454acb7bf8be92a9c02",
       "version_major": 2,
       "version_minor": 0
      },
      "text/plain": [
       "Evaluating:   0%|          | 0/2 [00:00<?, ?it/s]"
      ]
     },
     "metadata": {},
     "output_type": "display_data"
    },
    {
     "name": "stdout",
     "output_type": "stream",
     "text": [
      "{'afd': {'faithfulness': 0.2500, 'answer_relevancy': 0.8299}, 'spd': {'faithfulness': 1.0000, 'answer_relevancy': 0.8568}, 'linke': {'faithfulness': 0.5000, 'answer_relevancy': 0.8479}, 'gruene': {'faithfulness': 0.0000, 'answer_relevancy': 0.8457}, 'fdp': {'faithfulness': 0.7500, 'answer_relevancy': 0.8335}, 'cdu': {'faithfulness': 0.0000, 'answer_relevancy': 0.8477}}\n",
      "Question: Wie wollen die Parteien unsere privaten Informationen schützen, damit die EU nicht zu viel über uns weiß?\n",
      "Evaluating party: afd\n"
     ]
    },
    {
     "data": {
      "application/vnd.jupyter.widget-view+json": {
       "model_id": "e916c0fc82814d8ca957264a09e72f66",
       "version_major": 2,
       "version_minor": 0
      },
      "text/plain": [
       "Evaluating:   0%|          | 0/2 [00:00<?, ?it/s]"
      ]
     },
     "metadata": {},
     "output_type": "display_data"
    },
    {
     "name": "stderr",
     "output_type": "stream",
     "text": [
      "/Users/christianliedl/anaconda3/envs/bundestag/lib/python3.11/site-packages/ragas/evaluation.py:276: RuntimeWarning: Mean of empty slice\n",
      "  value = np.nanmean(self.scores[cn])\n"
     ]
    },
    {
     "name": "stdout",
     "output_type": "stream",
     "text": [
      "Evaluating party: spd\n"
     ]
    },
    {
     "data": {
      "application/vnd.jupyter.widget-view+json": {
       "model_id": "7e75433c94734b03a32da9a3a56f40e8",
       "version_major": 2,
       "version_minor": 0
      },
      "text/plain": [
       "Evaluating:   0%|          | 0/2 [00:00<?, ?it/s]"
      ]
     },
     "metadata": {},
     "output_type": "display_data"
    },
    {
     "name": "stderr",
     "output_type": "stream",
     "text": [
      "/Users/christianliedl/anaconda3/envs/bundestag/lib/python3.11/site-packages/ragas/evaluation.py:276: RuntimeWarning: Mean of empty slice\n",
      "  value = np.nanmean(self.scores[cn])\n"
     ]
    },
    {
     "name": "stdout",
     "output_type": "stream",
     "text": [
      "Evaluating party: linke\n"
     ]
    },
    {
     "data": {
      "application/vnd.jupyter.widget-view+json": {
       "model_id": "1e625b59807c4549bbfaae3881cd3bcd",
       "version_major": 2,
       "version_minor": 0
      },
      "text/plain": [
       "Evaluating:   0%|          | 0/2 [00:00<?, ?it/s]"
      ]
     },
     "metadata": {},
     "output_type": "display_data"
    },
    {
     "name": "stdout",
     "output_type": "stream",
     "text": [
      "Evaluating party: gruene\n"
     ]
    },
    {
     "data": {
      "application/vnd.jupyter.widget-view+json": {
       "model_id": "00174917ca434682b04a167558d91103",
       "version_major": 2,
       "version_minor": 0
      },
      "text/plain": [
       "Evaluating:   0%|          | 0/2 [00:00<?, ?it/s]"
      ]
     },
     "metadata": {},
     "output_type": "display_data"
    },
    {
     "name": "stdout",
     "output_type": "stream",
     "text": [
      "Evaluating party: fdp\n"
     ]
    },
    {
     "data": {
      "application/vnd.jupyter.widget-view+json": {
       "model_id": "18903395ed964632b7006491a07c1784",
       "version_major": 2,
       "version_minor": 0
      },
      "text/plain": [
       "Evaluating:   0%|          | 0/2 [00:00<?, ?it/s]"
      ]
     },
     "metadata": {},
     "output_type": "display_data"
    },
    {
     "name": "stdout",
     "output_type": "stream",
     "text": [
      "Evaluating party: cdu\n"
     ]
    },
    {
     "data": {
      "application/vnd.jupyter.widget-view+json": {
       "model_id": "0d943dd54d904c9eb89caf91504adc05",
       "version_major": 2,
       "version_minor": 0
      },
      "text/plain": [
       "Evaluating:   0%|          | 0/2 [00:00<?, ?it/s]"
      ]
     },
     "metadata": {},
     "output_type": "display_data"
    },
    {
     "name": "stdout",
     "output_type": "stream",
     "text": [
      "{'afd': {'faithfulness': nan, 'answer_relevancy': 0.8335}, 'spd': {'faithfulness': nan, 'answer_relevancy': 0.8970}, 'linke': {'faithfulness': 1.0000, 'answer_relevancy': 0.8392}, 'gruene': {'faithfulness': 1.0000, 'answer_relevancy': 0.8603}, 'fdp': {'faithfulness': 1.0000, 'answer_relevancy': 0.8418}, 'cdu': {'faithfulness': 1.0000, 'answer_relevancy': 0.8552}}\n"
     ]
    }
   ],
   "source": [
    "from ragas.run_config import RunConfig\n",
    "\n",
    "# Configuration for ragas.evaluate\n",
    "run_config = RunConfig()\n",
    "run_config.max_retries = 3\n",
    "run_config.max_timeout = 60  # in s\n",
    "run_config.max_wait = 20  # in s\n",
    "\n",
    "num_questions = 28\n",
    "questions = [dataset[\"fdp\"][i][\"question\"] for i in range(num_questions)]\n",
    "\n",
    "results_dict = {}\n",
    "parties = [\"afd\", \"spd\", \"linke\", \"gruene\", \"fdp\", \"cdu\"]\n",
    "list_of_metrics = [faithfulness, answer_relevancy]\n",
    "\n",
    "for i in tqdm(range(num_questions)):\n",
    "    results_dict.update({questions[i]: {}})\n",
    "    print(f\"Question: {questions[i]}\")\n",
    "    for party in parties:\n",
    "        print(f\"Evaluating party: {party}\")\n",
    "        ragas_score = ragas.evaluate(\n",
    "            dataset[party].select([i]), metrics=list_of_metrics, run_config=run_config\n",
    "        )\n",
    "        results_dict[questions[i]].update({party: ragas_score})\n",
    "    print(results_dict[questions[i]])"
   ]
  },
  {
   "cell_type": "code",
   "execution_count": 11,
   "metadata": {},
   "outputs": [],
   "source": [
    "# Flatten the dictionary\n",
    "flattened_data = {}\n",
    "for question, parties in results_dict.items():\n",
    "    for party, metrics in parties.items():\n",
    "        for metric, value in metrics.items():\n",
    "            flattened_data[(question, party, metric)] = value\n",
    "\n",
    "# Create a multi-index DataFrame\n",
    "index = pd.MultiIndex.from_tuples(flattened_data.keys())\n",
    "df = pd.Series(flattened_data, index=index).unstack().unstack()\n",
    "\n",
    "file_name = f\"Experiments/{experiment_name}/metrics_{experiment_run_name}.csv\"\n",
    "\n",
    "df.to_csv(file_name)"
   ]
  },
  {
   "cell_type": "code",
   "execution_count": 12,
   "metadata": {},
   "outputs": [
    {
     "data": {
      "text/html": [
       "<div>\n",
       "<style scoped>\n",
       "    .dataframe tbody tr th:only-of-type {\n",
       "        vertical-align: middle;\n",
       "    }\n",
       "\n",
       "    .dataframe tbody tr th {\n",
       "        vertical-align: top;\n",
       "    }\n",
       "\n",
       "    .dataframe thead tr th {\n",
       "        text-align: left;\n",
       "    }\n",
       "</style>\n",
       "<table border=\"1\" class=\"dataframe\">\n",
       "  <thead>\n",
       "    <tr>\n",
       "      <th></th>\n",
       "      <th></th>\n",
       "      <th colspan=\"5\" halign=\"left\">answer_relevancy</th>\n",
       "      <th colspan=\"6\" halign=\"left\">faithfulness</th>\n",
       "    </tr>\n",
       "    <tr>\n",
       "      <th></th>\n",
       "      <th></th>\n",
       "      <th>cdu</th>\n",
       "      <th>fdp</th>\n",
       "      <th>gruene</th>\n",
       "      <th>linke</th>\n",
       "      <th>spd</th>\n",
       "      <th>afd</th>\n",
       "      <th>cdu</th>\n",
       "      <th>fdp</th>\n",
       "      <th>gruene</th>\n",
       "      <th>linke</th>\n",
       "      <th>spd</th>\n",
       "    </tr>\n",
       "  </thead>\n",
       "  <tbody>\n",
       "    <tr>\n",
       "      <th>Sind die Parteien dafür, weiterhin Energie aus Kohle und Atomkraft zu nutzen?</th>\n",
       "      <th>0.894711</th>\n",
       "      <td>0.879005</td>\n",
       "      <td>0.883684</td>\n",
       "      <td>0.889837</td>\n",
       "      <td>0.868494</td>\n",
       "      <td>0.872083</td>\n",
       "      <td>1.000000</td>\n",
       "      <td>1.0</td>\n",
       "      <td>NaN</td>\n",
       "      <td>1.00</td>\n",
       "      <td>NaN</td>\n",
       "      <td>0.75</td>\n",
       "    </tr>\n",
       "    <tr>\n",
       "      <th>Sollen Männer mit Männern und Frauen mit Frauen heiraten dürfen?</th>\n",
       "      <th>0.000000</th>\n",
       "      <td>0.000000</td>\n",
       "      <td>0.905745</td>\n",
       "      <td>0.795245</td>\n",
       "      <td>0.850066</td>\n",
       "      <td>0.869985</td>\n",
       "      <td>NaN</td>\n",
       "      <td>NaN</td>\n",
       "      <td>1.0</td>\n",
       "      <td>1.00</td>\n",
       "      <td>0.333333</td>\n",
       "      <td>1.00</td>\n",
       "    </tr>\n",
       "    <tr>\n",
       "      <th>Sollen mehr Länder in die EU kommen, wie zum Beispiel Länder aus dem Balkan oder die Türkei? Was denken die deutschen Parteien?</th>\n",
       "      <th>0.863399</th>\n",
       "      <td>0.878286</td>\n",
       "      <td>0.864773</td>\n",
       "      <td>0.888713</td>\n",
       "      <td>0.851214</td>\n",
       "      <td>0.856883</td>\n",
       "      <td>0.833333</td>\n",
       "      <td>1.0</td>\n",
       "      <td>0.5</td>\n",
       "      <td>1.00</td>\n",
       "      <td>1.000000</td>\n",
       "      <td>1.00</td>\n",
       "    </tr>\n",
       "    <tr>\n",
       "      <th>Sollen wir in Europa mehr für den Schutz unserer Umwelt tun?</th>\n",
       "      <th>0.000000</th>\n",
       "      <td>0.802025</td>\n",
       "      <td>0.853712</td>\n",
       "      <td>0.831133</td>\n",
       "      <td>0.845264</td>\n",
       "      <td>0.830632</td>\n",
       "      <td>NaN</td>\n",
       "      <td>1.0</td>\n",
       "      <td>1.0</td>\n",
       "      <td>0.75</td>\n",
       "      <td>0.714286</td>\n",
       "      <td>1.00</td>\n",
       "    </tr>\n",
       "    <tr>\n",
       "      <th>Was denken die Parteien darüber, mehr Geld für die Armee auszugeben, um Europa sicher zu halten?</th>\n",
       "      <th>0.860963</th>\n",
       "      <td>0.844335</td>\n",
       "      <td>0.876535</td>\n",
       "      <td>0.875515</td>\n",
       "      <td>0.817610</td>\n",
       "      <td>0.868815</td>\n",
       "      <td>1.000000</td>\n",
       "      <td>1.0</td>\n",
       "      <td>1.0</td>\n",
       "      <td>1.00</td>\n",
       "      <td>1.000000</td>\n",
       "      <td>1.00</td>\n",
       "    </tr>\n",
       "  </tbody>\n",
       "</table>\n",
       "</div>"
      ],
      "text/plain": [
       "                                                            answer_relevancy  \\\n",
       "                                                                         cdu   \n",
       "Sind die Parteien dafür, weiterhin Energie aus ... 0.894711         0.879005   \n",
       "Sollen Männer mit Männern und Frauen mit Frauen... 0.000000         0.000000   \n",
       "Sollen mehr Länder in die EU kommen, wie zum Be... 0.863399         0.878286   \n",
       "Sollen wir in Europa mehr für den Schutz unsere... 0.000000         0.802025   \n",
       "Was denken die Parteien darüber, mehr Geld für ... 0.860963         0.844335   \n",
       "\n",
       "                                                                       \\\n",
       "                                                                  fdp   \n",
       "Sind die Parteien dafür, weiterhin Energie aus ... 0.894711  0.883684   \n",
       "Sollen Männer mit Männern und Frauen mit Frauen... 0.000000  0.905745   \n",
       "Sollen mehr Länder in die EU kommen, wie zum Be... 0.863399  0.864773   \n",
       "Sollen wir in Europa mehr für den Schutz unsere... 0.000000  0.853712   \n",
       "Was denken die Parteien darüber, mehr Geld für ... 0.860963  0.876535   \n",
       "\n",
       "                                                                       \\\n",
       "                                                               gruene   \n",
       "Sind die Parteien dafür, weiterhin Energie aus ... 0.894711  0.889837   \n",
       "Sollen Männer mit Männern und Frauen mit Frauen... 0.000000  0.795245   \n",
       "Sollen mehr Länder in die EU kommen, wie zum Be... 0.863399  0.888713   \n",
       "Sollen wir in Europa mehr für den Schutz unsere... 0.000000  0.831133   \n",
       "Was denken die Parteien darüber, mehr Geld für ... 0.860963  0.875515   \n",
       "\n",
       "                                                                       \\\n",
       "                                                                linke   \n",
       "Sind die Parteien dafür, weiterhin Energie aus ... 0.894711  0.868494   \n",
       "Sollen Männer mit Männern und Frauen mit Frauen... 0.000000  0.850066   \n",
       "Sollen mehr Länder in die EU kommen, wie zum Be... 0.863399  0.851214   \n",
       "Sollen wir in Europa mehr für den Schutz unsere... 0.000000  0.845264   \n",
       "Was denken die Parteien darüber, mehr Geld für ... 0.860963  0.817610   \n",
       "\n",
       "                                                                       \\\n",
       "                                                                  spd   \n",
       "Sind die Parteien dafür, weiterhin Energie aus ... 0.894711  0.872083   \n",
       "Sollen Männer mit Männern und Frauen mit Frauen... 0.000000  0.869985   \n",
       "Sollen mehr Länder in die EU kommen, wie zum Be... 0.863399  0.856883   \n",
       "Sollen wir in Europa mehr für den Schutz unsere... 0.000000  0.830632   \n",
       "Was denken die Parteien darüber, mehr Geld für ... 0.860963  0.868815   \n",
       "\n",
       "                                                            faithfulness       \\\n",
       "                                                                     afd  cdu   \n",
       "Sind die Parteien dafür, weiterhin Energie aus ... 0.894711     1.000000  1.0   \n",
       "Sollen Männer mit Männern und Frauen mit Frauen... 0.000000          NaN  NaN   \n",
       "Sollen mehr Länder in die EU kommen, wie zum Be... 0.863399     0.833333  1.0   \n",
       "Sollen wir in Europa mehr für den Schutz unsere... 0.000000          NaN  1.0   \n",
       "Was denken die Parteien darüber, mehr Geld für ... 0.860963     1.000000  1.0   \n",
       "\n",
       "                                                                         \\\n",
       "                                                             fdp gruene   \n",
       "Sind die Parteien dafür, weiterhin Energie aus ... 0.894711  NaN   1.00   \n",
       "Sollen Männer mit Männern und Frauen mit Frauen... 0.000000  1.0   1.00   \n",
       "Sollen mehr Länder in die EU kommen, wie zum Be... 0.863399  0.5   1.00   \n",
       "Sollen wir in Europa mehr für den Schutz unsere... 0.000000  1.0   0.75   \n",
       "Was denken die Parteien darüber, mehr Geld für ... 0.860963  1.0   1.00   \n",
       "\n",
       "                                                                             \n",
       "                                                                linke   spd  \n",
       "Sind die Parteien dafür, weiterhin Energie aus ... 0.894711       NaN  0.75  \n",
       "Sollen Männer mit Männern und Frauen mit Frauen... 0.000000  0.333333  1.00  \n",
       "Sollen mehr Länder in die EU kommen, wie zum Be... 0.863399  1.000000  1.00  \n",
       "Sollen wir in Europa mehr für den Schutz unsere... 0.000000  0.714286  1.00  \n",
       "Was denken die Parteien darüber, mehr Geld für ... 0.860963  1.000000  1.00  "
      ]
     },
     "execution_count": 12,
     "metadata": {},
     "output_type": "execute_result"
    }
   ],
   "source": [
    "# Check if file saved correctly\n",
    "df = pd.read_csv(file_name, header=[0, 1], index_col=[0, 1])\n",
    "df.head()"
   ]
  },
  {
   "cell_type": "code",
   "execution_count": 6,
   "metadata": {},
   "outputs": [
    {
     "name": "stdout",
     "output_type": "stream",
     "text": [
      "['Experiments/1_anonymize_parties/dataset_1a_parties_not_anonymous', 'Experiments/1_anonymize_parties/dataset_1b_parties_anonymous']\n"
     ]
    }
   ],
   "source": [
    "import glob\n",
    "from datasets import load_from_disk\n",
    "\n",
    "experiment = \"Experiments/1_anonymize_parties\"\n",
    "database_file = glob.glob(os.path.join(experiment, \"dataset_*\"))\n",
    "print(database_file)\n",
    "dataset = load_from_disk(database_file[1])"
   ]
  },
  {
   "cell_type": "code",
   "execution_count": 13,
   "metadata": {},
   "outputs": [
    {
     "data": {
      "text/plain": [
       "{'question': 'Was sagen die Parteien, wie wir Transgender-Menschen helfen und dafür sorgen können, dass alle fair behandelt werden?',\n",
       " 'contexts': ['verzögern und operative Eingriffe im Sinne einer „Geschlechtsangleichung“ vorzubereiten. Die Folgen für die \\n\\nHeranwachsenden sind unumkehrbar; die lebenslangen physischen wie psychischen Schäden sind immens.\\n\\n\\tQ Den Beruf des Heilpraktikers bewahren \\n\\nDer  EuGH  hat  das  Verbot  der  Berufsausübung  von  Heilpraktikern  in  Österreich  bestätigt  und  damit  klar-\\ngestellt,  dass  die  Heilpraktikertätigkeit  für  ihn  nicht  schützenswert  ist.  Auch  in  Deutschland  gibt  es  Bestre-\\nbungen,  die  Ausübung  dieses  Berufes  stark  einzuschränken  oder  ganz  zu  verbieten.  Für  die  AfD  gehört  die \\n\\nMöglichkeit,  Leistungen  von  Heilpraktikern  in  Anspruch  zu  nehmen,  zur  Selbstbestimmung  des  Patienten \\n\\nüber seinen Körper und über seine persönliche Gesundheitsvorsorge. Jeder Patient soll eigenverantwortlich \\n\\nüber die ihn jeweils betreffenden medizinischen Maßnahmen entscheiden. Eine staatliche Bevormundung in',\n",
       "  'Q Tierschutz und Tierwohl\\n\\nWir bekennen uns zur Tierhaltung in Deutschland. Die AfD steht dabei für eine konsequente Umsetzung der \\n\\nTierschutzgesetze  im  Sinne  unserer  Verantwortung  für  Tiere  als  fühlende  Mitgeschöpfe!  Wir  wollen  in  der \\n\\nNutztierhaltung artgerechte Haltungssysteme fördern. \\n\\nEine regionale, wohnortnahe Nutztierhaltung reduziert den Bedarf an Tiertransporten. Wir setzen uns für eine \\n\\nTransportwegbeschränkung von Lebendtieren ein, die sechs Stunden nicht überschreiten darf. Zu Zwecken der \\n\\n36\\n\\n37\\n\\n\\x0cZüchtung muss der Transport von Lebendtieren zu definierten Bedingungen unter strikter veterinärmedizini-\\nscher Kontrolle durch zertifizierte Unternehmen möglich sein. \\n\\n\\tQ Gewässerschutz \\n\\nDie  sich  in  artgerechter  Haltung  entwickelnden  robusten  und  gesunden  Nutztierbestände  tragen  durch \\n\\neine  Verminderung  des  erforderlichen  Antibiotikaeinsatzes  erheblich  zur  Vermeidung  multiresistenter \\n\\nKeimbildung bei.',\n",
       "  'Arzneimittelversorgung sichern ............................................................................................................................................................  43\\n\\nAußenhandelspolitik .....................................................................................................................................................................................  31\\n\\nKeine medizinische Behandlung im Sinne des „Gender Mainstreaming“ ......................................................................  44\\n\\nEntwicklungspolitik ......................................................................................................................................................................................  32\\n\\nKeine Impfpflicht ...........................................................................................................................................................................................  44',\n",
       "  'im  Sinne  der  Aufklärung  muss  jedoch  der  mündige  Bürger  mit  eigenem  Urteilsvermögen  sein.  Wir  lehnen \\ndie Ökonomisierung und Ideologisierung von Bildung ab und fordern die Rückkehr zum humanistischen Bil-\\ndungsideal. Die Gendersprache erschwert den Spracherwerb und das sinnerfassende Lesen in ganz Europa. \\n\\nWir  lehnen  die  unnatürliche  Umgestaltung  der  Sprache  als  Mittel  zur  Durchsetzung  der  Gender-Ideologie \\n\\nab. Wir lehnen jede Form der Gendersprache ab. Das generische Maskulinum ist die korrekte, natürliche und \\n\\nideologiefreie Ausdrucks- und Schreibweise. Die Verwendung von Gendersprache in Bildungseinrichtungen \\nvon  Lehrern  wie  Schülern  ist  nicht  statthaft.  Notenabzüge  oder  andere  Benachteiligungen  für  die  Verwen-\\ndung des generischen Maskulinum lehnen wir dementsprechend entschieden ab. Die bereits in der Kita prak-\\ntizierte  Gender-Ideologie  entwertet  das  vom  Grundgesetz  geschützte  Recht  der  Eltern  auf  Erziehung  und',\n",
       "  'Mitgliedstaaten dar.\\n\\nBevor EU-Ausländer im Sozialrecht mit Deutschen gleichgestellt werden, soll bei Bedürftigkeit der jeweilige \\n\\n\\tQ Zuwanderung von Arbeitskräften\\n\\nHerkunftsstaat zuständig bleiben.\\n\\nWir setzen uns dafür ein, dass Ausländer aus EU-Staaten erst dann Sozialleistungen in Deutschland erhalten, \\n\\nwenn  sie  zehn  Jahre  im  Inland  Steuern  und  Sozialversicherungsbeiträge  gezahlt  haben  und  in  dieser  Zeit \\n\\nihren Lebensunterhalt ohne staatliche Hilfe bestritten haben. \\n\\nInnerhalb des gemeinsamen Wirtschaftsraums kann die Mobilität von Arbeitskräften wertvoll sein. Die Zu-\\nwanderung  von  Arbeitskräften  muss  sich  aber  immer  am  jeweiligen  nationalen  oder  sogar  regionalen \\nArbeitsmarkt orientieren. Andernfalls besteht die Gefahr von Lohndumping und der damit verbundenen Ver-\\ndrängung einheimischer Arbeitskräfte.\\n\\n\\tQ Keine europäische Sozialunion\\n\\nAusländische EU-Arbeitnehmer sind in den Mitgliedstaaten, in denen sie Beschäftigung finden, genauso zu'],\n",
       " 'answer': 'Wir bekennen uns zur Tierhaltung in Deutschland und setzen uns für artgerechte Haltungssysteme in der Nutztierhaltung ein. Wir wollen die regionale Erzeugung von Lebensmitteln sichern und setzen uns für eine Transportwegbeschränkung von Lebendtieren ein. Zudem wollen wir den Gewässerschutz verbessern und die Verminderung des erforderlichen Antibiotikaeinsatzes fördern.'}"
      ]
     },
     "execution_count": 13,
     "metadata": {},
     "output_type": "execute_result"
    }
   ],
   "source": [
    "dataset[\"afd\"][1]"
   ]
  },
  {
   "cell_type": "code",
   "execution_count": 20,
   "metadata": {},
   "outputs": [],
   "source": [
    "import pandas as pd\n",
    "\n",
    "df = pd.read_csv(\"../../data/debates/europarl_speeches.csv\")"
   ]
  },
  {
   "cell_type": "code",
   "execution_count": 22,
   "metadata": {},
   "outputs": [
    {
     "name": "stdout",
     "output_type": "stream",
     "text": [
      "1742\n"
     ]
    }
   ],
   "source": [
    "for i in range(len(df)):\n",
    "    if \"hammer.de\" in df.iloc[i].text:\n",
    "        print(i)"
   ]
  },
  {
   "cell_type": "code",
   "execution_count": 24,
   "metadata": {},
   "outputs": [
    {
     "data": {
      "text/plain": [
       "' – Frau Präsidentin, liebe Kolleginnen und Kollegen! Wir reden heute über die sogenannte Plattformarbeit. Dabei geht es um Menschen, die zum Beispiel für die Apps Lieferando oder MyHammer arbeiten, aber auch um Menschen, die Businessübersetzungen anbieten und komplexe IT-Lösungen. Die allermeisten von ihnen bieten das als Nebentätigkeit an. Und genau diese Menschen hat die Europäische Kommission jetzt als die neuen Arbeitssklaven des 21. Jahrhunderts erkannt. Und genau diese Menschen müssen geschützt werden – natürlich muss die Kommission neue Regeln fordern. Dumm ist nur, dass in Deutschland zum Beispiel die Bertelsmann Stiftung genau in diesem Bereich überhaupt keine Probleme sieht. Die Bertelsmann Stiftung sagt: Diese Menschen sind jünger, besser ausgebildet und verdienen auch mehr als andere. Und auch die Verbandsvorsitzenden der Plattformarbeiter sehen überhaupt keine Probleme. Ich sehe ein Problem. Ich sehe ein Problem in diesem Bericht, denn ich vermisse einen ganz wichtigen Faktor in diesem Bericht. In diesem ganzen Bericht steht nicht ein Wort über LGBTIQ und über Gender! Dabei heißt die wichtigste App, liebe Kolleginnen und Kollegen, my-hammer.de! My-hammer.de – ich kann es kaum ertragen! Und es gibt keinen Aufschrei, keine Demonstration, keine hüpfenden Teenager. My-hammer.de, dafür steht die Plattformarbeit, und trotzdem nicht ein Wort über LGBTIQ und nicht ein Wort über Gendergerechtigkeit in Ihrem Bericht. Das ist ein Skandal. Ich fordere Sie auf: Lassen Sie uns gemeinsam – unterm Regenbogen – für die LGBTIQ-Gerechtigkeit und Gendergerechtigkeit bei der Plattformarbeit sorgen!'"
      ]
     },
     "execution_count": 24,
     "metadata": {},
     "output_type": "execute_result"
    }
   ],
   "source": [
    "df.iloc[1742].text"
   ]
  },
  {
   "cell_type": "code",
   "execution_count": null,
   "metadata": {},
   "outputs": [],
   "source": []
  }
 ],
 "metadata": {
  "kernelspec": {
   "display_name": "bundestag",
   "language": "python",
   "name": "python3"
  },
  "language_info": {
   "codemirror_mode": {
    "name": "ipython",
    "version": 3
   },
   "file_extension": ".py",
   "mimetype": "text/x-python",
   "name": "python",
   "nbconvert_exporter": "python",
   "pygments_lexer": "ipython3",
   "version": "3.11.7"
  }
 },
 "nbformat": 4,
 "nbformat_minor": 2
}
