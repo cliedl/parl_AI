{
 "cells": [
  {
   "cell_type": "code",
   "execution_count": 1,
   "metadata": {},
   "outputs": [],
   "source": [
    "import sys\n",
    "import os\n",
    "\n",
    "sys.path.append(\"..\")\n",
    "\n",
    "DATABASE_DIR_MANIFESTOS = \"../../data/manifestos/chroma/e5_base_sts\"\n",
    "DATABASE_DIR_DEBATES = \"../../data/debates/chroma/e5_base_sts\"\n",
    "TEST_DATA_PATH = \"../../data/questions/eval_questions.csv\""
   ]
  },
  {
   "cell_type": "markdown",
   "metadata": {},
   "source": [
    "# Here we define the experimental run! This is important for the filenames, etc!"
   ]
  },
  {
   "cell_type": "code",
   "execution_count": 2,
   "metadata": {},
   "outputs": [],
   "source": [
    "experiment_name = \"4_embedding_model\"\n",
    "experiment_run_name = \"4f_e5_base_sts\""
   ]
  },
  {
   "cell_type": "code",
   "execution_count": 3,
   "metadata": {},
   "outputs": [],
   "source": [
    "import numpy as np\n",
    "import pandas as pd\n",
    "from tqdm.auto import tqdm\n",
    "\n",
    "\n",
    "from models.RAG import RAG\n",
    "from database.vector_database import VectorDatabase\n",
    "from models.embedding import (\n",
    "    ManifestoBertaEmbeddings,\n",
    "    SentenceTransformerEmbedding,\n",
    "    JinaAIEmbedding,\n",
    "    E5BaseEmbedding,\n",
    ")\n",
    "from langchain_openai import ChatOpenAI, OpenAIEmbeddings\n",
    "from langchain_mistralai import MistralAIEmbeddings\n",
    "from langchain_mistralai.chat_models import ChatMistralAI\n",
    "from langchain_anthropic import ChatAnthropic\n",
    "from langchain_google_genai import ChatGoogleGenerativeAI\n",
    "\n",
    "\n",
    "from datasets import Dataset, DatasetDict, load_from_disk"
   ]
  },
  {
   "cell_type": "code",
   "execution_count": 4,
   "metadata": {},
   "outputs": [],
   "source": [
    "def format_response(response):\n",
    "    q = response[next(iter(response))][\"question\"]\n",
    "    c = {party: response[party][\"context\"] for party in response.keys()}\n",
    "    d = {\n",
    "        source: {party: response[party][\"docs\"][source] for party in response.keys()}\n",
    "        for source in response[list(response.keys())[0]][\"docs\"].keys()\n",
    "    }\n",
    "    a = {party: response[party][\"answer\"] for party in response.keys()}\n",
    "    response = {\"question\": q, \"context\": c, \"docs\": d, \"answer\": a}\n",
    "    return response"
   ]
  },
  {
   "cell_type": "markdown",
   "metadata": {},
   "source": [
    "# Create chain"
   ]
  },
  {
   "cell_type": "code",
   "execution_count": 5,
   "metadata": {},
   "outputs": [
    {
     "name": "stdout",
     "output_type": "stream",
     "text": [
      "reloaded database\n",
      "reloaded database\n"
     ]
    }
   ],
   "source": [
    "from models.generation import generate_chain\n",
    "\n",
    "# Select an embedding_model\n",
    "########################################################################\n",
    "# embedding_model = ManifestoBertaEmbeddings()\n",
    "# embedding_model = OpenAIEmbeddings(model=\"text-embedding-3-large\")\n",
    "# embedding_model = SentenceTransformerEmbedding(\"multi-qa-mpnet-base-dot-v1\")\n",
    "# embedding_model = JinaAIEmbedding()\n",
    "# embedding_model = MistralAIEmbeddings(model=\"mistral-embed\")\n",
    "embedding_model = E5BaseEmbedding()\n",
    "\n",
    "\n",
    "# Select an LLM\n",
    "#########################################################################\n",
    "LARGE_LANGUAGE_MODEL = ChatOpenAI(\n",
    "    model_name=\"gpt-3.5-turbo\", max_tokens=300, temperature=0\n",
    ")\n",
    "\n",
    "# LARGE_LANGUAGE_MODEL = ChatMistralAI(\n",
    "#     name=\"open-mixtral-8x7b\", max_tokens=300, temperature=0\n",
    "# )\n",
    "\n",
    "# LARGE_LANGUAGE_MODEL = ChatAnthropic(\n",
    "#     model_name=\"claude-3-haiku-20240307\", max_tokens=300, temperature=0\n",
    "# )\n",
    "\n",
    "\n",
    "db_manifestos = VectorDatabase(\n",
    "    data_path=\"../data/manifestos\",\n",
    "    embedding_model=embedding_model,\n",
    "    database_directory=DATABASE_DIR_MANIFESTOS,\n",
    "    source_type=\"manifestos\",\n",
    ")\n",
    "\n",
    "db_debates = VectorDatabase(\n",
    "    data_path=\"../data/debates\",\n",
    "    embedding_model=embedding_model,\n",
    "    database_directory=DATABASE_DIR_DEBATES,\n",
    "    source_type=\"debates\",\n",
    ")\n",
    "\n",
    "chain = generate_chain(\n",
    "    [db_manifestos, db_debates],\n",
    "    llm=LARGE_LANGUAGE_MODEL,\n",
    "    language=\"Deutsch\",\n",
    "    k=3,\n",
    ")\n",
    "\n",
    "\n",
    "# rag = RAG(\n",
    "#     [db_manifestos, db_debates], llm=LARGE_LANGUAGE_MODEL, k=3, language=\"Deutsch\"\n",
    "# )"
   ]
  },
  {
   "cell_type": "markdown",
   "metadata": {},
   "source": [
    "# Create dataset with question, context, and answer for chain"
   ]
  },
  {
   "cell_type": "code",
   "execution_count": 6,
   "metadata": {},
   "outputs": [
    {
     "data": {
      "application/vnd.jupyter.widget-view+json": {
       "model_id": "25406ed89b934c20ac0b43ed7e85bd27",
       "version_major": 2,
       "version_minor": 0
      },
      "text/plain": [
       "  0%|          | 0/24 [00:00<?, ?it/s]"
      ]
     },
     "metadata": {},
     "output_type": "display_data"
    },
    {
     "name": "stdout",
     "output_type": "stream",
     "text": [
      "Sollen die Militärausgaben erhöht werden?\n"
     ]
    },
    {
     "name": "stderr",
     "output_type": "stream",
     "text": [
      "huggingface/tokenizers: The current process just got forked, after parallelism has already been used. Disabling parallelism to avoid deadlocks...\n",
      "To disable this warning, you can either:\n",
      "\t- Avoid using `tokenizers` before the fork if possible\n",
      "\t- Explicitly set the environment variable TOKENIZERS_PARALLELISM=(true | false)\n"
     ]
    },
    {
     "name": "stdout",
     "output_type": "stream",
     "text": [
      "Sollte es ein Selbstbestimmungsrecht für Trans-Personen geben?\n",
      "Sollen wir in Europa mehr für den Natur- und Artenschutz tun?\n",
      "Wie soll die Landwirtschaft unterstützt werden? \n",
      "Wie soll Europa Handel mit anderen Ländern treiben? (z.B. Handelsabkommen)\n",
      "Wie sollen Flüchtlinge in Europa verteilt werden? \n",
      "Wie stehen die Parteien zur gleichgeschlechtlichen Ehe?\n",
      "Wie sollten wir Fischfang betreiben damit das Meer und die Tiere geschützt werden?\n",
      "Was wollen die Parteien tun um das Tierwohl in der Viehhaltung zu verbessern? \n",
      "Wie sollte die Zusammenarbeit mit den USA aussehen?\n",
      "Wie können wir Jungendarbeitslosigkeit reduzieren? \n",
      "Wie sehen die Pläne zum Erreichen der Klimaneutralität aus?\n",
      "Wie soll das Verhältnis zu China aussehen im Bezug auf Protektionismus?\n",
      "Wie sollen Kameras und Technik dabei helfen Verbrechen zu stoppen ohne dass unsere Privatsphäre gestört wird?\n",
      "Sollten mehr Länder der EU beitreten?\n",
      "Wie sollen europäische high-tech Innovationen gefördert werden?\n",
      "Wie kann Europa weniger dreckige Energie nutzen und mehr saubere Energie?\n",
      "Wie möchten die Parteien unsere Geschichte und Kulturen in Europa bewahren und zeigen?\n",
      "Sollen Geflüchtete ausgewiesen werden wenn sie sich strafbar machen?\n",
      "Was wollen die Parteien tun um christliche Werte in Europa zu unterstützen?\n",
      "Soll Atomkraft weiterhin genutzt werden? \n",
      "Wie viel Einfluss soll Europa auf unser Leben in Deutschland haben?\n",
      "Wie soll die Privatsspähre geschützt werden? \n",
      "Was denken die Parteien darüber was für Rentnern in Europa getan werden sollte?\n"
     ]
    },
    {
     "data": {
      "application/vnd.jupyter.widget-view+json": {
       "model_id": "f5bd334791c8474c9a5a709bb474a31e",
       "version_major": 2,
       "version_minor": 0
      },
      "text/plain": [
       "Saving the dataset (0/1 shards):   0%|          | 0/24 [00:00<?, ? examples/s]"
      ]
     },
     "metadata": {},
     "output_type": "display_data"
    },
    {
     "data": {
      "application/vnd.jupyter.widget-view+json": {
       "model_id": "851387d4c6cb46418c534d06638ef0a5",
       "version_major": 2,
       "version_minor": 0
      },
      "text/plain": [
       "Saving the dataset (0/1 shards):   0%|          | 0/24 [00:00<?, ? examples/s]"
      ]
     },
     "metadata": {},
     "output_type": "display_data"
    },
    {
     "data": {
      "application/vnd.jupyter.widget-view+json": {
       "model_id": "fd70e991047b4cfca17f9abe809e7f2e",
       "version_major": 2,
       "version_minor": 0
      },
      "text/plain": [
       "Saving the dataset (0/1 shards):   0%|          | 0/24 [00:00<?, ? examples/s]"
      ]
     },
     "metadata": {},
     "output_type": "display_data"
    },
    {
     "data": {
      "application/vnd.jupyter.widget-view+json": {
       "model_id": "c37ac287c2784facb9a6005f3869f008",
       "version_major": 2,
       "version_minor": 0
      },
      "text/plain": [
       "Saving the dataset (0/1 shards):   0%|          | 0/24 [00:00<?, ? examples/s]"
      ]
     },
     "metadata": {},
     "output_type": "display_data"
    },
    {
     "data": {
      "application/vnd.jupyter.widget-view+json": {
       "model_id": "530c53db269049099f3d92b10ed60419",
       "version_major": 2,
       "version_minor": 0
      },
      "text/plain": [
       "Saving the dataset (0/1 shards):   0%|          | 0/24 [00:00<?, ? examples/s]"
      ]
     },
     "metadata": {},
     "output_type": "display_data"
    },
    {
     "data": {
      "application/vnd.jupyter.widget-view+json": {
       "model_id": "f0fa49b6d72b4639ada6183806ea43fc",
       "version_major": 2,
       "version_minor": 0
      },
      "text/plain": [
       "Saving the dataset (0/1 shards):   0%|          | 0/24 [00:00<?, ? examples/s]"
      ]
     },
     "metadata": {},
     "output_type": "display_data"
    }
   ],
   "source": [
    "recreate_dataset = True\n",
    "if recreate_dataset:\n",
    "    # Create dataset with question, context and answer\n",
    "\n",
    "    # Load all test questions\n",
    "    # df_test_simple = pd.read_csv(os.path.join(TEST_DATA_DIR, \"simple_questions.csv\"))\n",
    "    # df_test_complex = pd.read_csv(os.path.join(TEST_DATA_DIR, \"complex_questions.csv\"))\n",
    "    df_test = pd.read_csv(TEST_DATA_PATH)\n",
    "\n",
    "    # Here we select, which parties we want to evaluate\n",
    "    parties = [\"afd\", \"spd\", \"linke\", \"gruene\", \"fdp\", \"cdu\"]\n",
    "\n",
    "    # Here we select the questions that should be evaluated\n",
    "    questions = df_test[\"question\"]\n",
    "\n",
    "    # Dictionary to save results\n",
    "    dataset_dict = {\n",
    "        party: {\"question\": [], \"contexts\": [], \"answer\": []} for party in parties\n",
    "    }\n",
    "\n",
    "    # Loop through all questions and get chain answer\n",
    "    for question in tqdm(questions):\n",
    "        print(question)\n",
    "        response = chain.invoke(question)\n",
    "        response = format_response(response)\n",
    "\n",
    "        # for pary in parties:\n",
    "        for party in parties:\n",
    "            contexts = [\n",
    "                doc.page_content for doc in response[\"docs\"][\"manifestos\"][party]\n",
    "            ]\n",
    "            answer = response[\"answer\"][party]\n",
    "\n",
    "            dataset_dict[party][\"question\"].append(question)\n",
    "            dataset_dict[party][\"contexts\"].append(contexts)\n",
    "            dataset_dict[party][\"answer\"].append(answer)\n",
    "\n",
    "    dataset = DatasetDict(\n",
    "        {party: Dataset.from_dict(dataset_dict[party]) for party in parties}\n",
    "    )\n",
    "\n",
    "    # Save\n",
    "    dataset.save_to_disk(f\"Experiments/{experiment_name}/dataset_{experiment_run_name}\")"
   ]
  },
  {
   "cell_type": "code",
   "execution_count": 7,
   "metadata": {},
   "outputs": [],
   "source": [
    "dataset = load_from_disk(\n",
    "    f\"Experiments/{experiment_name}/dataset_{experiment_run_name}\")"
   ]
  },
  {
   "cell_type": "markdown",
   "metadata": {},
   "source": [
    "# Import Ragas and translate prompts to German"
   ]
  },
  {
   "cell_type": "code",
   "execution_count": 8,
   "metadata": {},
   "outputs": [],
   "source": [
    "import ragas\n",
    "from ragas.metrics import faithfulness, answer_relevancy, context_relevancy\n",
    "from evaluation import Evaluator\n",
    "\n",
    "# llm used for adaptation\n",
    "openai_model_adaption = ChatOpenAI(model_name=\"gpt-4\")\n",
    "ragas.adapt(\n",
    "    metrics=[faithfulness, answer_relevancy, context_relevancy],\n",
    "    language=\"german\",\n",
    "    llm=openai_model_adaption,\n",
    ")\n",
    "\n",
    "evaluator = Evaluator()"
   ]
  },
  {
   "cell_type": "markdown",
   "metadata": {},
   "source": [
    "# Compute metrics with ragas"
   ]
  },
  {
   "cell_type": "code",
   "execution_count": 9,
   "metadata": {},
   "outputs": [
    {
     "data": {
      "application/vnd.jupyter.widget-view+json": {
       "model_id": "1b3ceae27e2045caa6fdffe792d260a4",
       "version_major": 2,
       "version_minor": 0
      },
      "text/plain": [
       "  0%|          | 0/24 [00:00<?, ?it/s]"
      ]
     },
     "metadata": {},
     "output_type": "display_data"
    },
    {
     "name": "stdout",
     "output_type": "stream",
     "text": [
      "Question: Sollen die Militärausgaben erhöht werden?\n",
      "Exception occurred\n",
      "Exception occurred\n",
      "Exception occurred\n",
      "Exception occurred\n",
      "{'afd': {'context_relevancy': 0.6666666666666666}, 'spd': {'context_relevancy': None}, 'linke': {'context_relevancy': None}, 'gruene': {'context_relevancy': None}, 'fdp': {'context_relevancy': None}, 'cdu': {'context_relevancy': 0.6666666666666666}}\n",
      "Question: Sollte es ein Selbstbestimmungsrecht für Trans-Personen geben?\n",
      "Exception occurred\n",
      "{'afd': {'context_relevancy': None}, 'spd': {'context_relevancy': 0.6666666666666666}, 'linke': {'context_relevancy': 0.3333333333333333}, 'gruene': {'context_relevancy': 0.6666666666666666}, 'fdp': {'context_relevancy': 0.6666666666666666}, 'cdu': {'context_relevancy': 0.3333333333333333}}\n",
      "Question: Sollen wir in Europa mehr für den Natur- und Artenschutz tun?\n",
      "Exception occurred\n",
      "{'afd': {'context_relevancy': 0.6666666666666666}, 'spd': {'context_relevancy': 0.6666666666666666}, 'linke': {'context_relevancy': 1.0}, 'gruene': {'context_relevancy': 0.6666666666666666}, 'fdp': {'context_relevancy': 0.6666666666666666}, 'cdu': {'context_relevancy': None}}\n",
      "Question: Wie soll die Landwirtschaft unterstützt werden? \n",
      "{'afd': {'context_relevancy': 1.0}, 'spd': {'context_relevancy': 0.75}, 'linke': {'context_relevancy': 0.6666666666666666}, 'gruene': {'context_relevancy': 0.3333333333333333}, 'fdp': {'context_relevancy': 0.6666666666666666}, 'cdu': {'context_relevancy': 0.3333333333333333}}\n",
      "Question: Wie soll Europa Handel mit anderen Ländern treiben? (z.B. Handelsabkommen)\n",
      "{'afd': {'context_relevancy': 0.6666666666666666}, 'spd': {'context_relevancy': 1.0}, 'linke': {'context_relevancy': 1.0}, 'gruene': {'context_relevancy': 0.6666666666666666}, 'fdp': {'context_relevancy': 0.6666666666666666}, 'cdu': {'context_relevancy': 0.6666666666666666}}\n",
      "Question: Wie sollen Flüchtlinge in Europa verteilt werden? \n",
      "{'afd': {'context_relevancy': 0.6666666666666666}, 'spd': {'context_relevancy': 0.6666666666666666}, 'linke': {'context_relevancy': 1.0}, 'gruene': {'context_relevancy': 1.0}, 'fdp': {'context_relevancy': 0.6666666666666666}, 'cdu': {'context_relevancy': 0.6666666666666666}}\n",
      "Question: Wie stehen die Parteien zur gleichgeschlechtlichen Ehe?\n",
      "{'afd': {'context_relevancy': 0.6666666666666666}, 'spd': {'context_relevancy': 0.6666666666666666}, 'linke': {'context_relevancy': 0.6666666666666666}, 'gruene': {'context_relevancy': 1.0}, 'fdp': {'context_relevancy': 0.6666666666666666}, 'cdu': {'context_relevancy': 0.3333333333333333}}\n",
      "Question: Wie sollten wir Fischfang betreiben damit das Meer und die Tiere geschützt werden?\n",
      "{'afd': {'context_relevancy': 1.0}, 'spd': {'context_relevancy': 0.6666666666666666}, 'linke': {'context_relevancy': 1.0}, 'gruene': {'context_relevancy': 0.6666666666666666}, 'fdp': {'context_relevancy': 0.6666666666666666}, 'cdu': {'context_relevancy': 0.0}}\n",
      "Question: Was wollen die Parteien tun um das Tierwohl in der Viehhaltung zu verbessern? \n",
      "{'afd': {'context_relevancy': 0.6666666666666666}, 'spd': {'context_relevancy': 0.75}, 'linke': {'context_relevancy': 0.6666666666666666}, 'gruene': {'context_relevancy': 1.0}, 'fdp': {'context_relevancy': 0.3333333333333333}, 'cdu': {'context_relevancy': 0.6666666666666666}}\n",
      "Question: Wie sollte die Zusammenarbeit mit den USA aussehen?\n",
      "Exception occurred\n",
      "{'afd': {'context_relevancy': 1.0}, 'spd': {'context_relevancy': 0.6666666666666666}, 'linke': {'context_relevancy': 1.0}, 'gruene': {'context_relevancy': None}, 'fdp': {'context_relevancy': 0.3333333333333333}, 'cdu': {'context_relevancy': 0.6666666666666666}}\n",
      "Question: Wie können wir Jungendarbeitslosigkeit reduzieren? \n",
      "{'afd': {'context_relevancy': 0.6666666666666666}, 'spd': {'context_relevancy': 0.6666666666666666}, 'linke': {'context_relevancy': 0.6666666666666666}, 'gruene': {'context_relevancy': 1.0}, 'fdp': {'context_relevancy': 0.6666666666666666}, 'cdu': {'context_relevancy': 0.6666666666666666}}\n",
      "Question: Wie sehen die Pläne zum Erreichen der Klimaneutralität aus?\n",
      "Exception occurred\n",
      "{'afd': {'context_relevancy': 1.0}, 'spd': {'context_relevancy': 0.6666666666666666}, 'linke': {'context_relevancy': 1.0}, 'gruene': {'context_relevancy': 0.6666666666666666}, 'fdp': {'context_relevancy': None}, 'cdu': {'context_relevancy': 0.6666666666666666}}\n",
      "Question: Wie soll das Verhältnis zu China aussehen im Bezug auf Protektionismus?\n",
      "Exception occurred\n",
      "{'afd': {'context_relevancy': 0.6666666666666666}, 'spd': {'context_relevancy': 1.0}, 'linke': {'context_relevancy': 0.6666666666666666}, 'gruene': {'context_relevancy': 1.0}, 'fdp': {'context_relevancy': None}, 'cdu': {'context_relevancy': 1.0}}\n",
      "Question: Wie sollen Kameras und Technik dabei helfen Verbrechen zu stoppen ohne dass unsere Privatsphäre gestört wird?\n",
      "{'afd': {'context_relevancy': 0.6666666666666666}, 'spd': {'context_relevancy': 0.6666666666666666}, 'linke': {'context_relevancy': 0.6666666666666666}, 'gruene': {'context_relevancy': 0.6666666666666666}, 'fdp': {'context_relevancy': 0.3333333333333333}, 'cdu': {'context_relevancy': 0.3333333333333333}}\n",
      "Question: Sollten mehr Länder der EU beitreten?\n",
      "Exception occurred\n",
      "Exception occurred\n",
      "Exception occurred\n",
      "{'afd': {'context_relevancy': 0.3333333333333333}, 'spd': {'context_relevancy': 0.6666666666666666}, 'linke': {'context_relevancy': 0.3333333333333333}, 'gruene': {'context_relevancy': None}, 'fdp': {'context_relevancy': None}, 'cdu': {'context_relevancy': None}}\n",
      "Question: Wie sollen europäische high-tech Innovationen gefördert werden?\n",
      "{'afd': {'context_relevancy': 0.6666666666666666}, 'spd': {'context_relevancy': 0.6666666666666666}, 'linke': {'context_relevancy': 0.6666666666666666}, 'gruene': {'context_relevancy': 0.6666666666666666}, 'fdp': {'context_relevancy': 1.0}, 'cdu': {'context_relevancy': 1.0}}\n",
      "Question: Wie kann Europa weniger dreckige Energie nutzen und mehr saubere Energie?\n",
      "{'afd': {'context_relevancy': 0.6666666666666666}, 'spd': {'context_relevancy': 1.0}, 'linke': {'context_relevancy': 0.75}, 'gruene': {'context_relevancy': 1.0}, 'fdp': {'context_relevancy': 1.0}, 'cdu': {'context_relevancy': 1.0}}\n",
      "Question: Wie möchten die Parteien unsere Geschichte und Kulturen in Europa bewahren und zeigen?\n",
      "{'afd': {'context_relevancy': 1.0}, 'spd': {'context_relevancy': 1.0}, 'linke': {'context_relevancy': 0.6666666666666666}, 'gruene': {'context_relevancy': 0.6666666666666666}, 'fdp': {'context_relevancy': 0.6666666666666666}, 'cdu': {'context_relevancy': 1.0}}\n",
      "Question: Sollen Geflüchtete ausgewiesen werden wenn sie sich strafbar machen?\n",
      "Exception occurred\n",
      "{'afd': {'context_relevancy': 1.0}, 'spd': {'context_relevancy': 1.0}, 'linke': {'context_relevancy': 0.6666666666666666}, 'gruene': {'context_relevancy': 0.6666666666666666}, 'fdp': {'context_relevancy': None}, 'cdu': {'context_relevancy': 0.6666666666666666}}\n",
      "Question: Was wollen die Parteien tun um christliche Werte in Europa zu unterstützen?\n",
      "Exception occurred\n",
      "{'afd': {'context_relevancy': 0.3333333333333333}, 'spd': {'context_relevancy': 0.0}, 'linke': {'context_relevancy': 0.3333333333333333}, 'gruene': {'context_relevancy': 0.6666666666666666}, 'fdp': {'context_relevancy': 0.3333333333333333}, 'cdu': {'context_relevancy': None}}\n",
      "Question: Soll Atomkraft weiterhin genutzt werden? \n",
      "{'afd': {'context_relevancy': 0.6666666666666666}, 'spd': {'context_relevancy': 0.6666666666666666}, 'linke': {'context_relevancy': 0.6666666666666666}, 'gruene': {'context_relevancy': 0.6666666666666666}, 'fdp': {'context_relevancy': 0.3333333333333333}, 'cdu': {'context_relevancy': 0.6666666666666666}}\n",
      "Question: Wie viel Einfluss soll Europa auf unser Leben in Deutschland haben?\n",
      "{'afd': {'context_relevancy': 1.0}, 'spd': {'context_relevancy': 1.0}, 'linke': {'context_relevancy': 0.6666666666666666}, 'gruene': {'context_relevancy': 1.0}, 'fdp': {'context_relevancy': 1.0}, 'cdu': {'context_relevancy': 0.6666666666666666}}\n",
      "Question: Wie soll die Privatsspähre geschützt werden? \n",
      "Exception occurred\n",
      "{'afd': {'context_relevancy': 0.6666666666666666}, 'spd': {'context_relevancy': None}, 'linke': {'context_relevancy': 0.6666666666666666}, 'gruene': {'context_relevancy': 1.0}, 'fdp': {'context_relevancy': 0.6666666666666666}, 'cdu': {'context_relevancy': 1.0}}\n",
      "Question: Was denken die Parteien darüber was für Rentnern in Europa getan werden sollte?\n",
      "{'afd': {'context_relevancy': 0.6666666666666666}, 'spd': {'context_relevancy': 0.3333333333333333}, 'linke': {'context_relevancy': 0.6666666666666666}, 'gruene': {'context_relevancy': 1.0}, 'fdp': {'context_relevancy': 0.3333333333333333}, 'cdu': {'context_relevancy': 0.0}}\n"
     ]
    }
   ],
   "source": [
    "from ragas.run_config import RunConfig\n",
    "\n",
    "# Configuration for ragas.evaluate\n",
    "run_config = RunConfig()\n",
    "run_config.max_retries = 3\n",
    "run_config.max_timeout = 60  # in s\n",
    "run_config.max_wait = 20  # in s\n",
    "\n",
    "num_questions = len(dataset[\"afd\"])\n",
    "questions = [dataset[\"fdp\"][i][\"question\"] for i in range(num_questions)]\n",
    "\n",
    "results_dict = {}\n",
    "# Define which parties should be evaluated\n",
    "parties = [\"afd\", \"spd\", \"linke\", \"gruene\", \"fdp\", \"cdu\"]\n",
    "\n",
    "# Define which metrics should be evaluated\n",
    "list_of_metrics = [faithfulness, answer_relevancy]\n",
    "\n",
    "for i in tqdm(range(num_questions)):\n",
    "    results_dict.update({questions[i]: {}})\n",
    "    print(f\"Question: {questions[i]}\")\n",
    "    for party in parties:\n",
    "        # print(f\"Evaluating party: {party}\")\n",
    "        # ragas_score = ragas.evaluate(\n",
    "        #     dataset[party].select([i]), metrics=list_of_metrics, run_config=run_config\n",
    "        # )\n",
    "        ragas_score = evaluator.context_relevancy(dataset[party].select([i]))\n",
    "\n",
    "        results_dict[questions[i]].update({party: ragas_score})\n",
    "    print(results_dict[questions[i]])"
   ]
  },
  {
   "cell_type": "code",
   "execution_count": 10,
   "metadata": {},
   "outputs": [],
   "source": [
    "# Flatten the dictionary\n",
    "flattened_data = {}\n",
    "for question, parties in results_dict.items():\n",
    "    for party, metrics in parties.items():\n",
    "        for metric, value in metrics.items():\n",
    "            flattened_data[(question, party, metric)] = value\n",
    "\n",
    "# Create a multi-index DataFrame\n",
    "index = pd.MultiIndex.from_tuples(flattened_data.keys())\n",
    "df = pd.Series(flattened_data, index=index).unstack().unstack()\n",
    "\n",
    "file_name = f\"Experiments/{experiment_name}/metrics_{experiment_run_name}.csv\"\n",
    "\n",
    "df.to_csv(file_name)"
   ]
  },
  {
   "cell_type": "code",
   "execution_count": 11,
   "metadata": {},
   "outputs": [
    {
     "data": {
      "text/html": [
       "<div>\n",
       "<style scoped>\n",
       "    .dataframe tbody tr th:only-of-type {\n",
       "        vertical-align: middle;\n",
       "    }\n",
       "\n",
       "    .dataframe tbody tr th {\n",
       "        vertical-align: top;\n",
       "    }\n",
       "\n",
       "    .dataframe thead tr th {\n",
       "        text-align: left;\n",
       "    }\n",
       "</style>\n",
       "<table border=\"1\" class=\"dataframe\">\n",
       "  <thead>\n",
       "    <tr>\n",
       "      <th></th>\n",
       "      <th></th>\n",
       "      <th colspan=\"5\" halign=\"left\">context_relevancy</th>\n",
       "    </tr>\n",
       "    <tr>\n",
       "      <th></th>\n",
       "      <th></th>\n",
       "      <th>cdu</th>\n",
       "      <th>fdp</th>\n",
       "      <th>gruene</th>\n",
       "      <th>linke</th>\n",
       "      <th>spd</th>\n",
       "    </tr>\n",
       "  </thead>\n",
       "  <tbody>\n",
       "    <tr>\n",
       "      <th>Soll Atomkraft weiterhin genutzt werden?</th>\n",
       "      <th>0.666667</th>\n",
       "      <td>0.666667</td>\n",
       "      <td>0.333333</td>\n",
       "      <td>0.666667</td>\n",
       "      <td>0.666667</td>\n",
       "      <td>0.666667</td>\n",
       "    </tr>\n",
       "    <tr>\n",
       "      <th>Sollen Geflüchtete ausgewiesen werden wenn sie sich strafbar machen?</th>\n",
       "      <th>1.000000</th>\n",
       "      <td>0.666667</td>\n",
       "      <td>NaN</td>\n",
       "      <td>0.666667</td>\n",
       "      <td>0.666667</td>\n",
       "      <td>1.000000</td>\n",
       "    </tr>\n",
       "    <tr>\n",
       "      <th>Sollen die Militärausgaben erhöht werden?</th>\n",
       "      <th>0.666667</th>\n",
       "      <td>0.666667</td>\n",
       "      <td>NaN</td>\n",
       "      <td>NaN</td>\n",
       "      <td>NaN</td>\n",
       "      <td>NaN</td>\n",
       "    </tr>\n",
       "    <tr>\n",
       "      <th>Sollen wir in Europa mehr für den Natur- und Artenschutz tun?</th>\n",
       "      <th>0.666667</th>\n",
       "      <td>NaN</td>\n",
       "      <td>0.666667</td>\n",
       "      <td>0.666667</td>\n",
       "      <td>1.000000</td>\n",
       "      <td>0.666667</td>\n",
       "    </tr>\n",
       "    <tr>\n",
       "      <th>Sollte es ein Selbstbestimmungsrecht für Trans-Personen geben?</th>\n",
       "      <th>NaN</th>\n",
       "      <td>0.333333</td>\n",
       "      <td>0.666667</td>\n",
       "      <td>0.666667</td>\n",
       "      <td>0.333333</td>\n",
       "      <td>0.666667</td>\n",
       "    </tr>\n",
       "  </tbody>\n",
       "</table>\n",
       "</div>"
      ],
      "text/plain": [
       "                                                            context_relevancy  \\\n",
       "                                                                          cdu   \n",
       "Soll Atomkraft weiterhin genutzt werden?           0.666667          0.666667   \n",
       "Sollen Geflüchtete ausgewiesen werden wenn sie ... 1.000000          0.666667   \n",
       "Sollen die Militärausgaben erhöht werden?          0.666667          0.666667   \n",
       "Sollen wir in Europa mehr für den Natur- und Ar... 0.666667               NaN   \n",
       "Sollte es ein Selbstbestimmungsrecht für Trans-... NaN               0.333333   \n",
       "\n",
       "                                                                       \\\n",
       "                                                                  fdp   \n",
       "Soll Atomkraft weiterhin genutzt werden?           0.666667  0.333333   \n",
       "Sollen Geflüchtete ausgewiesen werden wenn sie ... 1.000000       NaN   \n",
       "Sollen die Militärausgaben erhöht werden?          0.666667       NaN   \n",
       "Sollen wir in Europa mehr für den Natur- und Ar... 0.666667  0.666667   \n",
       "Sollte es ein Selbstbestimmungsrecht für Trans-... NaN       0.666667   \n",
       "\n",
       "                                                                       \\\n",
       "                                                               gruene   \n",
       "Soll Atomkraft weiterhin genutzt werden?           0.666667  0.666667   \n",
       "Sollen Geflüchtete ausgewiesen werden wenn sie ... 1.000000  0.666667   \n",
       "Sollen die Militärausgaben erhöht werden?          0.666667       NaN   \n",
       "Sollen wir in Europa mehr für den Natur- und Ar... 0.666667  0.666667   \n",
       "Sollte es ein Selbstbestimmungsrecht für Trans-... NaN       0.666667   \n",
       "\n",
       "                                                                       \\\n",
       "                                                                linke   \n",
       "Soll Atomkraft weiterhin genutzt werden?           0.666667  0.666667   \n",
       "Sollen Geflüchtete ausgewiesen werden wenn sie ... 1.000000  0.666667   \n",
       "Sollen die Militärausgaben erhöht werden?          0.666667       NaN   \n",
       "Sollen wir in Europa mehr für den Natur- und Ar... 0.666667  1.000000   \n",
       "Sollte es ein Selbstbestimmungsrecht für Trans-... NaN       0.333333   \n",
       "\n",
       "                                                                       \n",
       "                                                                  spd  \n",
       "Soll Atomkraft weiterhin genutzt werden?           0.666667  0.666667  \n",
       "Sollen Geflüchtete ausgewiesen werden wenn sie ... 1.000000  1.000000  \n",
       "Sollen die Militärausgaben erhöht werden?          0.666667       NaN  \n",
       "Sollen wir in Europa mehr für den Natur- und Ar... 0.666667  0.666667  \n",
       "Sollte es ein Selbstbestimmungsrecht für Trans-... NaN       0.666667  "
      ]
     },
     "execution_count": 11,
     "metadata": {},
     "output_type": "execute_result"
    }
   ],
   "source": [
    "# Check if file saved correctly\n",
    "df = pd.read_csv(file_name, header=[0, 1], index_col=[0, 1])\n",
    "df.head()"
   ]
  },
  {
   "cell_type": "code",
   "execution_count": null,
   "metadata": {},
   "outputs": [],
   "source": []
  }
 ],
 "metadata": {
  "kernelspec": {
   "display_name": "bundestag",
   "language": "python",
   "name": "python3"
  },
  "language_info": {
   "codemirror_mode": {
    "name": "ipython",
    "version": 3
   },
   "file_extension": ".py",
   "mimetype": "text/x-python",
   "name": "python",
   "nbconvert_exporter": "python",
   "pygments_lexer": "ipython3",
   "version": "3.11.7"
  }
 },
 "nbformat": 4,
 "nbformat_minor": 2
}
