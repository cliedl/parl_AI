{
 "cells": [
  {
   "cell_type": "code",
   "execution_count": 1,
   "metadata": {},
   "outputs": [],
   "source": [
    "import sys\n",
    "import pandas as pd\n",
    "\n",
    "sys.path.append(\"..\")\n",
    "DATABASE_DIR_MANIFESTOS = \"../../data/manifestos/chroma/openai\"\n",
    "DATABASE_DIR_DEBATES = \"../../data/debates/chroma/openai\""
   ]
  },
  {
   "cell_type": "code",
   "execution_count": 2,
   "metadata": {},
   "outputs": [
    {
     "name": "stdout",
     "output_type": "stream",
     "text": [
      "reloaded database\n",
      "reloaded database\n"
     ]
    }
   ],
   "source": [
    "from database.vector_database import VectorDatabase\n",
    "from langchain_openai import OpenAIEmbeddings\n",
    "\n",
    "\n",
    "embedding_model = OpenAIEmbeddings(model=\"text-embedding-3-large\")\n",
    "\n",
    "db_manifestos = VectorDatabase(\n",
    "    data_path=\"../data/manifestos\",\n",
    "    embedding_model=embedding_model,\n",
    "    database_directory=DATABASE_DIR_MANIFESTOS,\n",
    "    source_type=\"manifestos\",\n",
    ")\n",
    "\n",
    "db_debates = VectorDatabase(\n",
    "    data_path=\"../data/debates\",\n",
    "    embedding_model=embedding_model,\n",
    "    database_directory=DATABASE_DIR_DEBATES,\n",
    "    source_type=\"debates\",\n",
    ")\n",
    "\n",
    "query = \"Wie positionieren sich die verschiedenen Parteien zum Thema Erhöhung der Verteidigungsausgaben im Kontext gemeinsamer europäischer Sicherheitsinteressen?\""
   ]
  },
  {
   "cell_type": "code",
   "execution_count": 3,
   "metadata": {},
   "outputs": [
    {
     "name": "stdout",
     "output_type": "stream",
     "text": [
      "partei_a\n",
      "cdu\n"
     ]
    }
   ],
   "source": [
    "from database.vector_database import rename_party\n",
    "\n",
    "print(rename_party(\"CDU\", \"anonymize\"))\n",
    "print(rename_party(\"partei_a\", \"deanonymize\"))"
   ]
  },
  {
   "cell_type": "code",
   "execution_count": 4,
   "metadata": {},
   "outputs": [
    {
     "name": "stderr",
     "output_type": "stream",
     "text": [
      "Warning: model not found. Using cl100k_base encoding.\n",
      "Warning: model not found. Using cl100k_base encoding.\n",
      "Warning: model not found. Using cl100k_base encoding.\n",
      "Warning: model not found. Using cl100k_base encoding.\n",
      "Warning: model not found. Using cl100k_base encoding.\n",
      "Warning: model not found. Using cl100k_base encoding.\n"
     ]
    },
    {
     "data": {
      "text/plain": [
       "'Ausschnitte aus vergangenen Reden im Europaparlament im Zeitraum 2019-2024:\\n\\nAusschnitt aus vergangenen Reden im Europaparlament von der PARTEI_A:\\nrocket science\\n\\n. Aber natürlich besser als eine künstliche Verbotsdiskussion, die es jetzt auch auf die internationale Ebene geschafft hat. Warum gehen wir nicht schon längst raffinierter vor und packen alle Entscheidungsträger an dem, was ihnen offensichtlich am wichtigsten ist – am Geldbeutel?Lassen Sie uns daran arbeiten, den Emissionshandel global einzuführen, denn dieser wird sicher dazu führen, dass CO2-Emissionen reduziert werden, und zwar auf die kostengünstigste Art und Weise. Ja, das ist ein dickes Brett, das wir bohren müssen. Aber es ist nicht unmöglich, denn einige wichtige Akteure wie China experimentieren schon damit. Dafür brauchen wir einen europäischen John Kerry, einen internationalen Klimakommissar, der permanent verhandelt.\\nmep_id: 197408\\ncountry: Germany\\n\\nAusschnitt aus vergangenen Reden im Europaparlament von der PARTEI_A:\\nfür Klimaschutzmaßnahmen aufgewendet und zusätzliche Ausgaben für Biodiversität getätigt werden. Zusammen mit den anderen Industrieländern müssen wir die Zusage auf internationaler Ebene erfüllen, 100\\xa0Milliarden US-Dollar pro Jahr für Klimaschutzmaßnahmen in unseren Partnerländern zur Verfügung zu stellen. Außerdem braucht es technische Unterstützung für Katastrophenvorsorge, Krisenreaktionsmechanismen, Anpassungsmaßnahmen, Einbeziehung der lokalen Ebene, die wir leisten müssen. Was wir aber nicht brauchen, liebe Frau González, ist zum einen die Exkulpierung bestehender Konflikte um Land aufgrund der Ethnie, aufgrund von Korruption oder Unterdrückung mit dem Klimawandel. Wir dürfen nicht zulassen, dass die tatsächlich dafür Verantwortlichen die von ihnen verursachten Probleme jetzt auf den Klimawandel schieben.Was wir ebenfalls nicht brauchen, liebe Frau González, ist, eine Debatte über neue Asylgründe vom Zaun zu brechen. Der UNHCR hat im Entwicklungsausschuss erst kürzlich\\n\\nAusschnitt aus vergangenen Reden im Europaparlament von der PARTEI_A:\\nden Klimaschutz mit möglichst niedrigen Kosten erreichen. Und das heißt nicht, dass wir Politiker entscheiden, was im Detail gemacht wird, sondern die Bürgerinnen und Bürger. Das geht am besten mit marktwirtschaftlichen Systemen. Deswegen danke an die Kommission, dass sie bei\\n\\nAusschnitt aus vergangenen Reden im Europaparlament von der PARTEI_A:\\nihre Arbeit haben. Ein Grüner Deal nimmt auch Menschen und Arbeitsplätze mit, überall auf dem Globus. Ein Grüner Deal schüchtert nicht mit dem Weltuntergang ein. Ein Grüner Deal nutzt auch das Eigeninteresse der Menschen und Betriebe an einer nachhaltigen Umwelt. Mit Klimaschutz muss man auch Geld verdienen dürfen, Geld sparen dürfen. Klimaschutz muss auch Spaß machen dürfen, dann ist der smart Deal wirklich ein guter Deal.\\n\\nAusschnitt aus vergangenen Reden im Europaparlament von der PARTEI_A:\\nCO2—Senken der Land— und Forstwirtschaft als echte Klimaschutzmaßnahmen anerkannt werden. Das ist aus meiner Sicht ein längst überfälliger Schritt für die Würdigung der Klimaleistungen der Land- und Forstwirtschaft. Und damit hören wir endlich mal auf die Wissenschaft.Liebe Kolleginnen und Kollegen, ich bin überzeugt, dass das Klimagesetz in der jetzigen Form Landwirte und Forstwirte nur noch mehr anspornen wird, mehr zum Humusaufbau, mehr zu einer nachhaltigen Landwirtschaft zu tun. Damit können wir die Senkleistungen erhöhen und das Ziel der Klimaneutralität erreichen. Es braucht aber dafür ein angemessenes Preisschild. Deswegen plädiere ich für einen CO2—Markt für die Landwirtschaft. Damit können wir noch mehr CO2 speichern, nachhaltige Landwirtschaft und Forstwirtschaft fördern und attraktive ländliche Räume erhalten.\\n\\nAusschnitt aus vergangenen Reden im Europaparlament von der PARTEI_B:\\nsind wir nämlich nur noch bei schwachen 52\\xa0%. Es ist aber wichtig, heute einzusparen, um Klimakipp-Punkte und Klimaschäden morgen zu vermeiden. Laut Klimawissenschaft bedeutet das ein Ziel von zirka 65\\xa0%. Mit Blick auf die Umstände ist 60\\xa0% bereits ein großer politischer Erfolg, der auch unsere Verhandlungsposition später stärkt.Es ist eben auch machbar, wenn wir aufhören, Beschäftigung und Klimaschutz gegeneinander auszuspielen, und den notwendigen Wandel anpacken. Ich sage mal so: 2050 klingt immer so weit weg, aber es handelt sich dabei um die Zeit, wo meine Generation noch nicht mal in Rente ist. Also ist es jetzt wichtig, anzupacken und die richtigen Instrumente auf den Weg zu bringen, weil wir keine Zeit mehr zu verlieren haben.\\n\\nAusschnitt aus vergangenen Reden im Europaparlament von der PARTEI_B:\\n: 18773\\ntopic: Klima- und Umweltnotstand (Aussprache über ein aktuelles Thema)\\n\\nAusschnitt aus vergangenen Reden im Europaparlament von der PARTEI_B:\\nSocial Climate Fund\\n\\n, den die Europäische Kommission Gott sei Dank vorgeschlagen hat, stellen wir jetzt sicher, dass wir niemanden zurücklassen.Apropos niemanden zurücklassen: Das gilt auch für die Automobilindustrie. Es ist richtig, den Verbrenner für neue Fahrzeuge 2035 auslaufen zu lassen. Und es wäre falsch, auf synthetische Kraftstoffe zu setzen, die wir nicht haben, die viel zu teuer sind und die einen Transformationspfad suggerieren, den es nicht gibt.Let’s use our last chance. Let’s keep the 1.5-degree goal in reach. Let’s vote tomorrow for an ambitious climate law package.\\nmep_id: 185619\\ncountry: Germany\\n\\nAusschnitt aus vergangenen Reden im Europaparlament von der PARTEI_B:\\nuns nicht geben, sondern nur einen wirklichen, einen tatsächlich, einen wissenschaftsbasierten Klimaschutz.Ich möchte auch an Frau Klöckner unbedingt noch ein paar Worte setzen: Frau Klöckner, Sie im Rat, wenn Sie sich trauen, dieses Ergebnis hier aus dem Parlament zu verwässern, dann versündigen Sie sich an der nächsten Generation. Wenn Sie sich trauen, hier von Freiwilligkeit bei\\n\\nAusschnitt aus vergangenen Reden im Europaparlament von der PARTEI_B:\\ndafür da sein, noch mehr Opfer zu verhindern. Und ja, man kann den Kopf in den Sand stecken, wie das die rechte Seite des Hauses tut, aber das rettet kein Leben. Deswegen ist dieser Tag, deswegen ist Klimapolitik so wichtig, liebe Kolleginnen und Kollegen. Vielen Dank an alle, die heute hier sind und sich diesem Thema stellen.\\n\\nAusschnitt aus vergangenen Reden im Europaparlament von der PARTEI_D:\\nfür Klimaschutz ist nämlich kein Luxus, sondern schlichte Notwendigkeit. Vor allem Regionen und Kommunen brauchen dazu wirksame Unterstützung. Das muss Teil eines raschen sozialen EU-Krisenpakets und Teil langfristiger EU-Förderpolitik sein.\\n\\nAusschnitt aus vergangenen Reden im Europaparlament von der PARTEI_D:\\n: 19809\\ntopic: Europäisches Klimagesetz (Aussprache)\\n\\nAusschnitt aus vergangenen Reden im Europaparlament von der PARTEI_D:\\nG7 und G20 verschiedentlich übernommenen Zusagen mit Blick auf Gelder in Höhe von mittlerweile zig Milliarden ist endlich zu realisieren. COP\\xa028, MC\\xa013 sind konkret zu nutzen, die fair und inklusiv dafür sorgen, dass Regeln eingehalten werden und Verantwortung gerecht verteilt wird. Und das jetzt und nicht morgen, denn uns läuft allen die Zeit davon.\\n\\nAusschnitt aus vergangenen Reden im Europaparlament von der PARTEI_D:\\ntext: – Frau Präsidentin! Ja, wenn wir ein Klimagesetz machen, dann müssen wir das auch richtig tun. Dazu gehört, dass wir an keiner Stelle zulassen, dass Gas in dieses Gesetz hineinkommt, dass wir auf Gas setzen. Worauf wir setzen müssen, das sind Erneuerbare, und zwar durchgängig. Denn Gas ist keine Brückentechnologie, sondern Investition in fossile Energieträger. Ganz ehrlich: Gas ist ungefähr so klimafreundlich wie beispielsweise Cola light gesund ist. Methan-Emissionen, CO2-Emissionen – dafür steht Gas, und Cola light ist ein Risiko für Diabetes.Deshalb fordere ich Sie dringend auf, gegen jeden einzelnen Änderungsantrag zu stimmen, der auf Gas setzt und versucht, es durch die Hintertür hereinzulassen. Machen wir es doch deutlich: Wir brauchen konsequente, mutige Schritte für den Klimaschutz. Wir brauchen echte Energieeffizienzmethoden in unseren Häusern, in allen Gebäuden. Wir brauchen starke Infrastruktur für Erneuerbare, und vor allem brauchen wir auch Bekämpfung von\\n\\nAusschnitt aus vergangenen Reden im Europaparlament von der PARTEI_D:\\nprofitieren, keine Dividenden an ihre Aktionäre ausschütten.So, und das Dritte ist die Liste der strategischen Netto-Null-Technologien. Inzwischen sind sie ein Gemischtwarenladen mit eFuels, Nukleartechnologie\\xa0– das sind schädliche Technologien, die man jetzt als strategisch benennt. Insofern ist das Ganze\\xa0– das sei mir gestattet zu sagen\\xa0– eine Mogelpackung mit einem wirklich schönen Namen.\\n\\nAusschnitt aus vergangenen Reden im Europaparlament von der PARTEI_F:\\ntext: – Herr Präsident, sehr geehrte Kollegen! Wer von uns will das nicht: saubere Luft, saubere Flüsse, eine intakte Umwelt und den Schutz der heimischen Flora und Fauna. Da bin ich sofort bei Ihnen, in einer vernünftigen Art an den entsprechenden Rahmenbedingungen mitzuwirken. Wobei natürlich gleich hier heftige Diskussionen anstehen dürften. Für mich ist der Mensch Teil unseres Ökosystems, während man bei vielen grün-linken Forderungen schon mal ins Grübeln gerät, ob da nicht der Gedanke Pate stand, ohne die Menschheit wäre sowieso alles viel besser.Mich treibt Grundsätzlicheres um: Umweltschutz war gestern, heute wird lieber scheinheilig das Klima gerettet – mit fatalen Folgen für die Umwelt, was die Klimaendzeitjünger wenig kümmert. Dass der Klimareligion Landschaftsschutz und vor allem viele Waldflächen für Windindustrieanlagen zum Opfer fallen, quittieren Gretas Truppen mit erstaunlichem ökologischen Gleichmut. Ebenso, dass viele Flächen dabei dauerhaft versiegelt werden, was\\n\\nAusschnitt aus vergangenen Reden im Europaparlament von der PARTEI_F:\\n: 18769\\ntopic: Klima- und Umweltnotstand (Aussprache über ein aktuelles Thema)\\n\\nAusschnitt aus vergangenen Reden im Europaparlament von der PARTEI_F:\\nGreen Deals\\n\\n sprechen, sondern über die finanziellen Auswirkungen für die Bürger, für die einzelnen Personen. Die Strompreise werden weiter steigen, und wir haben heute schon in Deutschland die höchsten Strompreise. Durch die Regelungen werden ganze Industriezweige abgebaut, und der Verlust der Wettbewerbsfähigkeit gegenüber den anderen großen Playern in der Welt wird immer stärker werden. Das kann doch nicht die Zukunft sein!Deshalb sollten wir uns nicht so sehr fürchten vor dem Klimawandel. Der Klimawandel ist eine Tatsache, keine Frage, und es hat ihn immer gegeben. Es waren auch immer die Warmzeiten, die die Blütezeiten in der Geschichte waren. Aber was wollen Sie jetzt tun? Ich vertraue lieber auf das Wort, das in Genesis steht, dass eben fortan nicht aufhören soll Saat und Ernte, Frost und Hitze, Sommer und Winter, Tag und Nacht. Und ich vertraue lieber diesen Zusagen Gottes als den utopischen Versprechungen der heutigen Klimareligion.\\nmep_id: 197482\\ncountry: Germany\\n\\nAusschnitt aus vergangenen Reden im Europaparlament von der PARTEI_F:\\n.\\n\\n – Das EU-Parlament fordert die Kommission und die Mitgliedstaaten auf, ihre Anstrengungen zur Erreichung der Klimaneutralität bis 2050 zu intensivieren. Fakt ist, dass seit dem Jahr 2010 die CO2-Emissionen in der EU um 14\\xa0% gesunken sind, während die globalen Emissionen um 11\\xa0% zugenommen haben. Im Jahr 2010 lag der Anteil der EU an den weltweiten Treibhausgasemissionen bei über 10\\xa0%, heute liegt er bei 8,6\\xa0%. Zeitgleich sind aber zwischen 2010 und 2019 die chinesischen CO2-Emissionen um 21\\xa0% gestiegen. Chinas Anteil an den weltweiten CO2-Emissionen ist also von 27,5\\xa0% auf 30\\xa0% gestiegen und wird voraussichtlich im nächsten Jahrzehnt noch weiter steigen. Auch die Emissionen in anderen sogenannten Entwicklungsländern nehmen stetig zu. Schlussfolgerung: Selbst wenn eine sich de-entwickelnde EU die Klimaneutralität bis 2050 erreicht, so werden sich die weltweiten CO2-Emissionen bis dahin trotzdem verdoppelt haben. Daher sollte klar festgehalten sein: Der EU-\\n\\nGreen Deal\\n\\nAusschnitt aus vergangenen Reden im Europaparlament von der PARTEI_F:\\nAsyl- und Migrationspolitik fahren. Und selbstverständlich stellen wir uns auch wieder dem Endgegner – dem Klimawandel. Wir lernen, dass der Klimawandel besonders frauenfeindlich ist, denn er macht besonders Frauen und Mädchen Probleme. Wenn ich mir jetzt die Aktivistinnen von\\n\\nAusschnitt aus vergangenen Reden im Europaparlament von der PARTEI_C:\\nunsere Ökosysteme ertüchtigen, damit sie der Klimakrise standhalten\\xa0– und die CDU und Manfred Weber nennen das Ideologie.Aber wer das Klima nicht schützt, der schützt die Menschen nicht. Hören Sie auf mit diesem zerstörerischen Handeln! Klimaschutz ist Menschheitsschutz.\\n\\nAusschnitt aus vergangenen Reden im Europaparlament von der PARTEI_C:\\ndem CO2-Grenzausgleich. Damit stellen wir sicher, dass sich die Dekarbonisierung wirtschaftlich in Europa und in der Welt lohnt. Wer sauber und klimafreundlich wirtschaftet, wird belohnt. Das ist der große Schritt, den wir in der Klimapolitik jetzt brauchen.\\n\\nAusschnitt aus vergangenen Reden im Europaparlament von der PARTEI_C:\\nhaben trotz Atomausstieg. Wir sind beim Klimaschutz also einen gewaltigen Schritt vorangekommen. Kohlekonzerne und Industrie wissen: Bald ist Schluss mit der Verschmutzungsparty. Und für Bürgerinnen und Bürger bedeutet es mehr Klimaschutz, mehr Freiheit und mehr Freiheit für kommende Generationen. Und das ist ein grüner Erfolg!\\n\\nAusschnitt aus vergangenen Reden im Europaparlament von der PARTEI_C:\\nzu gewähren. Und gleichzeitig: Ohne die Golfstaaten im Team Klimaschutz kriegen wir diese Welt nicht gerettet, egal wie viel wir Bahn fahren. Deswegen: Lasst uns diese COP nutzen, um die Golfstaaten zu Vorreitern bei echtem Klimaschutz zu machen.\\n\\nAusschnitt aus vergangenen Reden im Europaparlament von der PARTEI_C:\\nnur noch wenige Jahre Zeit, um das 1,5\\xa0°-Ziel einzuhalten. Das heißt, jedes Jahr, jeder Monat zählt.Machen Sie den Weg frei für das europäische Klimaschutzgesetz! Alles andere wäre ein Desaster für die deutsche Ratspräsidentschaft und eine bittere Enttäuschung der Hoffnung von Millionen von jungen Menschen überall in Europa.\\n\\nAusschnitt aus vergangenen Reden im Europaparlament von der PARTEI_E:\\n: 18843\\ntopic: Klima- und Umweltnotstand - UN-Klimakonferenz 2019 (COP 25) (Aussprache)\\n\\nAusschnitt aus vergangenen Reden im Europaparlament von der PARTEI_E:\\ntext: – Herr Präsident, werte Kolleginnen und Kollegen! Der Klimawandel ist vermutlich die größte Herausforderung unserer Zeit – für mich als Politiker, aber auch für mich persönlich, denn ich möchte meinen beiden Kindern für die Zukunft gerecht werden. Es ist eine Herausforderung, auf der einen Seite dem Klimaschutz gerecht zu werden, aber auf der anderen Seite auch die Arbeitsplätze in Europa nicht aus den Augen zu verlieren. Dabei will ich nicht mit Worten Alarmismus betreiben, im Gegenteil: Es geht darum zu ermutigen, zu motivieren, sodass jeweils die besten technologischen Möglichkeiten aus Europa zum Einsatz kommen können.Angst lähmt, aber Mut beflügelt. Wir wollen nicht Angst machen, sondern Mut. Und wir müssen uns an unseren Taten messen lassen, nicht an unseren Worten. Und wir müssen dringend handeln. Deswegen halte ich auch persönlich den Ausdruck „urgency“ für deutlich besser als „emergency“, denn als Facharzt für Chirurgie höre ich etwas anderes als das, was wir eben jetzt\\n\\nAusschnitt aus vergangenen Reden im Europaparlament von der PARTEI_E:\\nReuse, recycle \\n\\nund\\n\\n reduce\\n\\n ist das Credo. Denn die Textilbranche macht rund 10\\xa0% der weltweiten Emissionen aus, mehr als Flug- und Schiffsverkehr zusammen.Die Textilstrategie und die Textilbranche müssen Menschenrechte endlich stärken. Die Textilstrategie muss ein Baustein im Kampf gegen Kinderarbeit und Zwangsarbeit sein. Die Textilstrategie muss deshalb auch eng mit dem Lieferkettengesetz verknüpft werden. Der Kommissionsvorschlag zum Lieferkettengesetz muss allerdings noch an einigen Stellen nachgebessert werden.Liebe Kollegen, mit Kleidung verbinden wir vor allem Emotionen. Kleidung ist Wärme und Schutz, Kleidung ist Ausdruck unserer Persönlichkeit. Manche Kleidungsstücke sind besondere Erinnerungsstücke. Kleidung hat aber auch einen ökologischen und sozialen Fußabdruck. Und dem müssen wir mit der Textilstrategie endlich an den Kragen gehen.\\nmep_id: 197444\\ncountry: Germany\\n\\nAusschnitt aus vergangenen Reden im Europaparlament von der PARTEI_E:\\nKlimawandel wirklich entgegentreten wollen, dann dürfen wir keine Technologien von vornherein ausschließen. Der Verbrenner ist weder gut noch schlecht; es kommt darauf an, was wir darin verbrennen. Und wenn es eben CO2-neutrale Kraftstoffe sind, ist der Verbrenner nicht das Problem, sondern Teil der Lösung.(Der Redner ist damit einverstanden, eine Frage nach dem Verfahren der „blauen Karte“ zu beantworten.)\\n\\nAusschnitt aus vergangenen Reden im Europaparlament von der PARTEI_E:\\nnicht erreichen. Wir haben hier also ein sehr, sehr wertvolles Werkzeug, und unserer Meinung nach sollte der CO2-Zertifikatehandel eben auf die Bereiche sowohl der Gebäudewärme als auch des Verkehrs ausgeweitet werden.\\n\\n'"
      ]
     },
     "execution_count": 4,
     "metadata": {},
     "output_type": "execute_result"
    }
   ],
   "source": [
    "db_debates.build_context(\"Klimaschutz\")"
   ]
  },
  {
   "cell_type": "code",
   "execution_count": 5,
   "metadata": {},
   "outputs": [
    {
     "name": "stderr",
     "output_type": "stream",
     "text": [
      "Warning: model not found. Using cl100k_base encoding.\n"
     ]
    },
    {
     "data": {
      "text/plain": [
       "[Document(page_content='-minister.\\n\\nMehr gemeinsame europäische Beschaffung\\n\\nMit dem Sondervermögen für die Bundeswehr haben wir bewiesen, dass wir bereit sind, die nötigen \\n\\nfinanziellen Ressourcen in die Hand zu nehmen, um Europa im Bereich der Sicherheit und Verteidigung \\n\\nhandlungsfähiger zu machen. Wir müssen sicherstellen, dass die angestoßenen Investitionen fortgeführt \\n\\nwerden und setzen uns daher für eine nachhaltige Verteidigungsfinanzierung von mindestens 2 Prozent \\n\\ndes Bruttoinlandsproduktes ein. Wir wollen mehr Anreize für kollaborative Ausgaben für Verteidigung auf \\n\\neuropäischer Ebene setzen, indem wir europäische Fonds (EDF, EDIP) substanziell besser ausstatten. Wir \\n\\nsetzen uns für mehr Transparenz in der koordinierten europäischen Verteidigungsplanung ein, damit der \\n\\nDruck auf Mitgliedsstaaten erhöht wird, ihre Verpflichtungen auch zu erfüllen. Ebenso wollen wir mehr \\n\\nStand: 28.1.2024\\n\\n19 / 39', metadata={'page': 19, 'party': 'spd', 'source': '../../data/manifestos/01_pdf_originals/spd_wahlprogramm_europawahl_2024.pdf'}),\n",
       " Document(page_content='Synergieeffekte erzielt werden. Im Sinne des strategischen Kompasses der Europäischen Union möchten \\n\\nwir, dass diese eine handlungsfähigere Sicherheitsakteurin wird. Auch wenn die NATO ihre zentrale Rolle \\n\\nfür unsere Bündnisverteidigung behält, wollen wir Europa in die Lage versetzen, Sicherheit vor externen \\n\\nBedrohungen zunehmend eigenständig zu gewährleisten. Wir setzen uns für mehr Harmonisierung in der \\n\\nAusbildung von Soldatinnen und Soldaten in der EU sowie die Stärkung von effizienten und gleichzeitig \\n\\ndemokratisch legitimierten Entscheidungsstrukturen in der Gemeinsamen Sicherheits- und \\n\\nVerteidigungspolitik ein. Dazu gehören für uns insbesondere auch die Einbeziehung des Europäischen \\nParlaments, die Stärkung des Amts des Hohen Vertreters bzw. der Hohen Vertreterin der EU für Außen- \\nund Sicherheitspolitik und die Einrichtung eines eigenständigen Rats der Verteidigungsministerinnen und \\n\\n-minister.\\n\\nMehr gemeinsame europäische Beschaffung', metadata={'page': 19, 'party': 'spd', 'source': '../../data/manifestos/01_pdf_originals/spd_wahlprogramm_europawahl_2024.pdf'}),\n",
       " Document(page_content='Luftverteidigung (European Sky Shield Initiative, ESSI) erhöhen wir unseren Beitrag zur NATO bereits \\n\\nqualitativ und konzeptionell – dieses Engagement wollen wir weiter ausbauen. Gleichzeitig setzen wir als \\n\\ndie Friedenspartei in Deutschland auch weiterhin auf Diplomatie und Dialog, auf zivile Krisenprävention \\n\\nund Friedensförderung sowie auf Abrüstung und Rüstungskontrolle. Sicherheit und Frieden gehören \\n\\nuntrennbar zusammen, aber Frieden ist mehr als Sicherheit. Der Dreiklang von Außen-, Entwicklungs- und \\n\\nVerteidigungspolitik bleibt deshalb der Grundpfeiler sozialdemokratischer internationaler Politik.\\n\\nVision einer europäischen Armee\\n\\nWir Sozialdemokratinnen und Sozialdemokraten haben schon lange die Vision einer europäischen Armee, \\n\\ndenn wir wissen, durch gemeinsame Investitionen und Organisation unserer Streitkräfte können wichtige \\n\\nSynergieeffekte erzielt werden. Im Sinne des strategischen Kompasses der Europäischen Union möchten', metadata={'page': 19, 'party': 'spd', 'source': '../../data/manifestos/01_pdf_originals/spd_wahlprogramm_europawahl_2024.pdf'}),\n",
       " Document(page_content='Druck auf Mitgliedsstaaten erhöht wird, ihre Verpflichtungen auch zu erfüllen. Ebenso wollen wir mehr \\n\\nStand: 28.1.2024\\n\\n19 / 39\\n\\n\\x0cSynergien zwischen den NATO- und EU-Planungsprozessen erzeugen und die verschiedenen \\nInnovationsinitiativen besser koordinieren.\\n\\nEin europäischer Binnenmarkt für Verteidigung\\n\\nDurch mehr gemeinsame Entwicklung und Beschaffung wollen wir mehr Standardisierung und \\n\\nInteroperabilität in Europa erreichen. Wir wollen gemeinsame Rüstungsprojekte aktiv befördern und \\n\\nfinanziell unterstützen. Dabei setzen wir auch auf einheitlichere Zertifizierungsverfahren sowie \\n\\nBeschaffungszyklen. Es geht ebenso darum, Regularien in Europa zu harmonisieren, um den Transport von \\n\\nVerstärkungskräften an die NATO-\\n\\nOstflanke zu erleichtern und zu beschleunigen. Und es geht um eine schrittweise Liberalisierung des \\n\\neuropäischen Verteidigungsmarktes für Produkte, die nicht als nationale Schlüsseltechnologien gelten.\\n\\nAbrüstung und Rüstungskontrolle aktiv verfolgen', metadata={'page': 20, 'party': 'spd', 'source': '../../data/manifestos/01_pdf_originals/spd_wahlprogramm_europawahl_2024.pdf'}),\n",
       " Document(page_content='Krieg erleben wird. Wir setzen dafür weiterhin und mit allen diplomatischen Mitteln auf Versöhnung und \\n\\nDemokratie. Zugleich stärken wir unsere Verteidigung und militärische Zusammenarbeit und arbeiten \\n\\npolitisch konsequent an einer Erweiterung Europas. Denn Kooperation und Zusammenarbeit sind die \\n\\nGrundlage für Frieden innerhalb der Europäischen Union.\\n\\nEuropa ist stark, wenn seine Demokratie geachtet und geschützt wird. Die Europäische Union muss \\n\\nwehrhaft sein und sich wirksame Instrumente gegen ihre Feinde von innen und von außen geben. \\n\\nDeswegen wollen wir den Rechtsstaat stärken und unsere Demokratie ausbauen.\\n\\nEuropa ist stark, wenn Klimaschutz gelingt und zum Jobmotor wird. Dafür muss in Europa massiv in \\n\\nZukunftstechnologien und Infrastruktur investiert werden und die Industrie auf dem Weg in die \\n\\nKlimaneutralität unterstützt werden. So werden Millionen Arbeitsplätze gesichert und viele neue', metadata={'page': 2, 'party': 'spd', 'source': '../../data/manifestos/01_pdf_originals/spd_wahlprogramm_europawahl_2024.pdf'}),\n",
       " Document(page_content='zu engagieren. Dabei werden wir den Ländern des Globalen Südens als gleichberechtigte Partner \\n\\nbegegnen und uns dafür engagieren, dass die feministische Perspektive stets berücksichtigt wird. Wir \\n\\nwollen eine solidarische Migrations- und Geflüchtetenpolitik, die Humanität und Ordnung miteinander \\n\\nverbindet.\\n\\n1. Für ein friedliches Europa\\n\\nDer russische Angriff auf die Ukraine hat Krieg zurück auf den europäischen Kontinent gebracht. Aus der \\n\\nEntspannungspolitik unter Willy Brandt wissen wir, dass militärische Stärke wichtig ist, um das \\n\\nFriedensprojekt Europa zu schützen. Deshalb wollen wir den europäischen Pfeiler in der NATO stärken und \\n\\nmehr Verantwortung für unsere eigene Sicherheit übernehmen. Durch die dauerhafte Stationierung einer \\n\\ndeutschen Brigade in Litauen sowie die von Olaf Scholz angekündigte Investition in die gemeinsame \\n\\nLuftverteidigung (European Sky Shield Initiative, ESSI) erhöhen wir unseren Beitrag zur NATO bereits', metadata={'page': 19, 'party': 'spd', 'source': '../../data/manifestos/01_pdf_originals/spd_wahlprogramm_europawahl_2024.pdf'})]"
      ]
     },
     "execution_count": 5,
     "metadata": {},
     "output_type": "execute_result"
    }
   ],
   "source": [
    "res = db_manifestos.database.similarity_search(\n",
    "    query, 6, filter={\"party\": \"spd\"})\n",
    "res"
   ]
  },
  {
   "cell_type": "code",
   "execution_count": 18,
   "metadata": {},
   "outputs": [
    {
     "data": {
      "text/plain": [
       "[Document(page_content='Die Nachbarschafts- und Erweiterungspolitik wird von der EU-Kommission oft auf \\nkurzfristige und bornierte energie- und migrationspolitische „Lösungen“ verkürzt. \\nDabei ist eine friedliche, kooperative und umfassende Nachbarschaftspolitik, die eine \\nwachsende wirtschaftliche Zusammenarbeit, Rechtsstaatsdiskurse und Kulturaus-\\ntausch einschließt, Teil des erklärten Selbstverständnisses der EU. Die Linke steht für \\neine Nachbarschaftspolitik, die Kooperation, wirtschaftliche Zusammenarbeit zum \\ngegenseitigen Vorteil, den Schutz der Menschenrechte, interkulturellen Dialog und \\ndemokratische Entwicklungen fördert. Während Bundesregierung und EU-Kommission \\ngern von Menschenrechten und feministischer Außenpolitik reden, ist die Realität eine \\nvöllig andere. Militär und Polizei verschmelzen zunehmend, insbesondere an den von \\nFrontex bewachten Außengrenzen der EU. Die Militarisierung der EU-Außengrenzen \\nund die militärische „Unterstützung“ von Drittstaaten zur Vorverlagerung der europäi-', metadata={'party': 'linke', 'source': '../../data/manifestos/01_pdf_originals/linke_wahlprogramm_europawahl_2024.pdf'}),\n",
       " Document(page_content='Der soziale und klimagerechte Umbau von Wirtschaft und Gesellschaft ist eine epo-\\nchale Herausforderung. Er erfordert mehr grenzübergreifende Kooperation und \\ninternationalen Austausch. Doch die EU driftet politisch wie sozial auseinander. Die \\nUSA, die EU und China konkurrieren zunehmend miteinander. Die weltweiten Macht-\\nblöcke verschieben sich. Die Welt ist unübersichtlicher und gefährlicher geworden, die \\nBlockkonfrontation zwischen den USA und China bzw. Russland spitzt sich zu. Neue \\nHandelskriege und ein gigantischer Rüstungswettlauf sind die Folge. Die EU rüstet im \\nBündnis mit den USA und der NATO seit Jahren auf und liefert Waffen an Diktaturen. \\nDabei könnte die EU in Zeiten einer Neuordnung der globalen Machtverhältnisse ein \\nStabilitätsanker werden: Für eine gerechte Welthandelsordnung, für Völkerrecht und \\nMenschenrechte, für die diplomatische Beilegung von Konflikten, für Rechtsstaatlich-', metadata={'party': 'linke', 'source': '../../data/manifestos/01_pdf_originals/linke_wahlprogramm_europawahl_2024.pdf'}),\n",
       " Document(page_content='\\uf0a7  Das Prinzip der Parlamentsarmee darf nicht aufgeweicht werden, über Einsätze der \\n\\nBundeswehr muss weiter der Bundestag entscheiden. \\n\\n\\uf0a7  Wir werden keiner Veränderung der EU-Verträge zustimmen, die Schritte zu einer \\n\\nweiteren Militarisierung der EU umfassen. \\n\\n\\uf0a7  Die Verträge der EU müssen geändert werden: Die Aufrüstungsverpflichtung für die \\nMitgliedstaaten schreibt Militarisierung in die Grundlagen der EU. Sie muss über-\\nwunden werden. \\n\\n\\uf0a7  Wir wollen die Streitkräfte in Europa abrüsten. Es braucht eine konventionelle \\n\\nRüstungskontrolle in Europa nach dem Vorbild des A-KSE-Vertrags (Angepasster \\nVertrag über Konventionelle Streitkräfte in Europa). \\n\\n\\uf0a7  Die EU darf nicht Teil von Konfrontation und Eskalation sein! Daher müssen unnötige \\nProvokationen wie das Großmanöver „Air Defender“ oder eine dauerhafte Stationie-\\nrung von deutschen Kampftruppen an der russischen Grenze unterbleiben.', metadata={'party': 'linke', 'source': '../../data/manifestos/01_pdf_originals/linke_wahlprogramm_europawahl_2024.pdf'}),\n",
       " Document(page_content='umfassen bereits ein Vielfaches der Rüstungsausgaben Russlands. Wir streiten für eine \\nEU, die strategisch unabhängig ist, aber für Frieden, Verhandlungen und Abrüstung \\neintritt. Wir wollen daher eine Sicherheitsstrategie für Europa, die nachhaltig Sicherheit \\nschafft, ohne weiter zu eskalieren und den Rüstungswettlauf anzutreiben, und die \\nzugleich international wieder eine Perspektive für Abrüstung und Deeskalation eröff-\\nnet.', metadata={'party': 'linke', 'source': '../../data/manifestos/01_pdf_originals/linke_wahlprogramm_europawahl_2024.pdf'}),\n",
       " Document(page_content='Insgesamt sind in ihrem aktuellen Finanzrahmen bis zu 46 Milliarden Euro öffentliche \\nInvestitionen für Rüstung und militärisch relevante Forschungsprojekte vorgesehen. \\nDie von EU-Kommission und Bundesregierung verfolgte Version einer „strategischen \\nAutonomie“ soll der EU vor allem die Möglichkeit geben, militärisch global zu agieren. \\nDie „Zeitenwende“ hin zu einem neuen Rüstungswettlauf bedeutet, dass Ressourcen \\nvom Kampf für Klimaschutz, bessere Bildung, Entwicklungszusammenarbeit und \\nsoziale Sicherheit verschoben werden zu (noch) mehr Militär. Diese Politik treibt eine \\nAufrüstungsspirale an, die keinesfalls mehr Sicherheit in Europa schafft. Denn das \\nMilitär in der EU ist nicht unterfinanziert. Die Rüstungsausgaben der EU-Staaten \\numfassen bereits ein Vielfaches der Rüstungsausgaben Russlands. Wir streiten für eine \\nEU, die strategisch unabhängig ist, aber für Frieden, Verhandlungen und Abrüstung', metadata={'party': 'linke', 'source': '../../data/manifestos/01_pdf_originals/linke_wahlprogramm_europawahl_2024.pdf'}),\n",
       " Document(page_content='Dafür wurden diverse Instrumente ausgebaut oder neu geschaffen: Die Europäische \\nFriedensfazilität ist zu einem wichtigen Topf geworden, um Waffenlieferungen zu \\nfinanzieren. Ihr Budget wurde von 5,7 Milliarden Euro auf – vorläufig – 12 Milliarden \\nEuro erhöht. Außerdem fördert das im September 2023 vom EU-Parlament beschlos-\\nsene „Instrument zur Stärkung der Europäischen Verteidigungsindustrie durch gemein-\\nsame Beschaffung“ (EDIRPA) den länderübergreifenden Ankauf von Rüstungsgütern \\nmit vorerst 300 Millionen Euro aus dem EU-Haushalt. Damit ist die Zivilmacht Europa \\neinen weiten Weg gegangen: Die Forschung und Entwicklung von Rüstungsgütern, der \\nEinkauf und die Produktion, alles wird inzwischen über den EU-Haushalt mitfinanziert. \\nDer gegenwärtige Krieg ist ein Riesengeschäft für die Rüstungsindustrie.', metadata={'party': 'linke', 'source': '../../data/manifestos/01_pdf_originals/linke_wahlprogramm_europawahl_2024.pdf'})]"
      ]
     },
     "execution_count": 18,
     "metadata": {},
     "output_type": "execute_result"
    }
   ],
   "source": [
    "res = db_debates.database.similarity_search(\n",
    "    query, 6, filter={\"party\": \"linke\"})\n",
    "res"
   ]
  },
  {
   "cell_type": "code",
   "execution_count": 19,
   "metadata": {},
   "outputs": [
    {
     "data": {
      "text/plain": [
       "0.0"
      ]
     },
     "execution_count": 19,
     "metadata": {},
     "output_type": "execute_result"
    }
   ],
   "source": [
    "df = pd.DataFrame(db_manifestos.database.get())\n",
    "df.duplicated(subset=[\"documents\"]).sum() / len(df)"
   ]
  },
  {
   "cell_type": "code",
   "execution_count": 20,
   "metadata": {},
   "outputs": [
    {
     "data": {
      "text/plain": [
       "0.0"
      ]
     },
     "execution_count": 20,
     "metadata": {},
     "output_type": "execute_result"
    }
   ],
   "source": [
    "df = pd.DataFrame(db_debates.database.get())\n",
    "df.duplicated(subset=[\"documents\"]).sum() / len(df)"
   ]
  },
  {
   "cell_type": "code",
   "execution_count": null,
   "metadata": {},
   "outputs": [],
   "source": []
  }
 ],
 "metadata": {
  "kernelspec": {
   "display_name": "bundestag",
   "language": "python",
   "name": "python3"
  },
  "language_info": {
   "codemirror_mode": {
    "name": "ipython",
    "version": 3
   },
   "file_extension": ".py",
   "mimetype": "text/x-python",
   "name": "python",
   "nbconvert_exporter": "python",
   "pygments_lexer": "ipython3",
   "version": "3.10.13"
  }
 },
 "nbformat": 4,
 "nbformat_minor": 2
}
