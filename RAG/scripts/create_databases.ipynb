{
 "cells": [
  {
   "cell_type": "code",
   "execution_count": 1,
   "metadata": {},
   "outputs": [],
   "source": [
    "# Select flags: Decide which database should be rebuilt\n",
    "build_debate_database = False\n",
    "build_manifesto_database = True\n",
    "# Then: Run all"
   ]
  },
  {
   "cell_type": "code",
   "execution_count": 2,
   "metadata": {},
   "outputs": [],
   "source": [
    "import sys\n",
    "\n",
    "sys.path.append(\"..\")"
   ]
  },
  {
   "cell_type": "code",
   "execution_count": 3,
   "metadata": {},
   "outputs": [],
   "source": [
    "# Here we import our modules\n",
    "from database.vector_database import VectorDatabase\n",
    "# from models.embedding import (\n",
    "# \tManifestoBertaEmbeddings,\n",
    "# \tSentenceTransformerEmbedding,\n",
    "# \tJinaAIEmbedding,\n",
    "# \tE5BaseEmbedding,\n",
    "# )\n",
    "from langchain_openai import OpenAIEmbeddings\n",
    "# from langchain_mistralai import MistralAIEmbeddings"
   ]
  },
  {
   "cell_type": "markdown",
   "metadata": {},
   "source": [
    "# Define embedding model"
   ]
  },
  {
   "cell_type": "code",
   "execution_count": 4,
   "metadata": {},
   "outputs": [],
   "source": [
    "# Define embedding module\n",
    "# embedding_model1 = ManifestoBertaEmbeddings()\n",
    "# embedding_name = \"manifestoberta\"\n",
    "\n",
    "embedding_model = OpenAIEmbeddings(model=\"text-embedding-3-large\")\n",
    "embedding_name = \"openai\"\n",
    "\n",
    "# embedding_model = SentenceTransformerEmbedding(\"multi-qa-mpnet-base-dot-v1\")\n",
    "# embedding_name = \"multi-qa-mpnet-base\"\n",
    "\n",
    "# embedding_model = JinaAIEmbedding()\n",
    "# embedding_name = \"jina-embeddings-v2-base-de\"\n",
    "\n",
    "# embedding_model = MistralAIEmbeddings(model=\"mistral-embed\")\n",
    "# embedding_name = \"mistral_embed\"\n",
    "\n",
    "# embedding_model = E5BaseEmbedding()\n",
    "# embedding_name = \"e5_base_sts\""
   ]
  },
  {
   "cell_type": "markdown",
   "metadata": {},
   "source": [
    "# (Re)Build Debate Database"
   ]
  },
  {
   "cell_type": "code",
   "execution_count": null,
   "metadata": {},
   "outputs": [],
   "source": [
    "# Define path of database and raw data\n",
    "import pandas as pd\n",
    "\n",
    "DATABASE_DIR = f\"../../data/debates/chroma/{embedding_name}/\"\n",
    "DATA_PATH = \"../../data/debates/europarl_speeches.csv\"\n",
    "\n",
    "# instantiate database\n",
    "database_debates = VectorDatabase(\n",
    "\tembedding_model=embedding_model,\n",
    "\tsource_type=\"debates\",\n",
    "\tdata_path=DATA_PATH,\n",
    "\tdatabase_directory=DATABASE_DIR,\n",
    "\tloader=\"csv\",\n",
    "\treload=False,\n",
    ")\n",
    "\n",
    "# Build or load database, depending on flag\n",
    "if build_debate_database:\n",
    "\tdatabase_debates.build_database()\n",
    "\t# Assert whether database exists\n",
    "\tassert str(type(database_debates.database)) == \"<class 'langchain_community.vectorstores.chroma.Chroma'>\"\n",
    "else:\n",
    "\tdatabase_debates.load_database()"
   ]
  },
  {
   "cell_type": "markdown",
   "metadata": {},
   "source": [
    "# (Re)Build Manifesto Database"
   ]
  },
  {
   "cell_type": "code",
   "execution_count": 5,
   "metadata": {},
   "outputs": [],
   "source": [
    "# Define path of database and raw data\n",
    "DATABASE_DIR = f\"../../data/manifestos/chroma/{embedding_name}/\"\n",
    "DATA_PATH = \"../../data/manifestos/01_pdf_originals\"\n",
    "\n",
    "# instantiate database\n",
    "database_manifestos = VectorDatabase(\n",
    "\tembedding_model=embedding_model,\n",
    "\tsource_type=\"manifestos\",\n",
    "\tdatabase_directory=DATABASE_DIR,\n",
    "\tdata_path=DATA_PATH,\n",
    "\tloader=\"pdf\",\n",
    "\treload=False,\n",
    ")\n",
    "\n",
    "# Build or load database, depending on flag\n",
    "if build_manifesto_database:\n",
    "\tdatabase_manifestos.build_database()\n",
    "\t# Assert whether database exists\n",
    "\tassert str(type(database_manifestos.database)) == \"<class 'langchain_community.vectorstores.chroma.Chroma'>\"\n",
    "else:\n",
    "\tdatabase_manifestos.load_database()"
   ]
  },
  {
   "cell_type": "code",
   "execution_count": null,
   "metadata": {},
   "outputs": [],
   "source": []
  }
 ],
 "metadata": {
  "kernelspec": {
   "display_name": "bundestag",
   "language": "python",
   "name": "python3"
  },
  "language_info": {
   "codemirror_mode": {
    "name": "ipython",
    "version": 3
   },
   "file_extension": ".py",
   "mimetype": "text/x-python",
   "name": "python",
   "nbconvert_exporter": "python",
   "pygments_lexer": "ipython3",
   "version": "3.11.11"
  }
 },
 "nbformat": 4,
 "nbformat_minor": 2
}
