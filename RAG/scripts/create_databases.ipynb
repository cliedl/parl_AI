{
 "cells": [
  {
   "cell_type": "code",
   "execution_count": 1,
   "metadata": {},
   "outputs": [],
   "source": [
    "# Select flags: Decide which database should be rebuilt\n",
    "build_debate_database = True\n",
    "build_manifesto_database = True\n",
    "# Then: Run all"
   ]
  },
  {
   "cell_type": "code",
   "execution_count": 2,
   "metadata": {},
   "outputs": [],
   "source": [
    "import sys\n",
    "\n",
    "sys.path.append(\"..\")"
   ]
  },
  {
   "cell_type": "code",
   "execution_count": 3,
   "metadata": {},
   "outputs": [],
   "source": [
    "# Here we import our modules\n",
    "\n",
    "from database.vector_database import VectorDatabase\n",
    "from models.embedding import (\n",
    "    ManifestoBertaEmbeddings,\n",
    "    SentenceTransformerEmbedding,\n",
    "    JinaAIEmbedding,\n",
    ")\n",
    "from langchain_openai import OpenAIEmbeddings"
   ]
  },
  {
   "cell_type": "markdown",
   "metadata": {},
   "source": [
    "# Define embedding model"
   ]
  },
  {
   "cell_type": "code",
   "execution_count": 4,
   "metadata": {},
   "outputs": [],
   "source": [
    "# Define embedding module\n",
    "# embedding_model1 = ManifestoBertaEmbeddings()\n",
    "# embedding_name = \"manifestoberta\"\n",
    "\n",
    "# embedding_model = OpenAIEmbeddings(model=\"text-embedding-3-large\")\n",
    "# embedding_name = \"openai\"\n",
    "\n",
    "# embedding_model = SentenceTransformerEmbedding(\"multi-qa-mpnet-base-dot-v1\")\n",
    "# embedding_name = \"multi-qa-mpnet-base\"\n",
    "\n",
    "embedding_model = JinaAIEmbedding()\n",
    "embedding_name = \"jina-embeddings-v2-base-de\""
   ]
  },
  {
   "cell_type": "markdown",
   "metadata": {},
   "source": [
    "# (Re)Build Debate Database"
   ]
  },
  {
   "cell_type": "code",
   "execution_count": 5,
   "metadata": {},
   "outputs": [
    {
     "name": "stdout",
     "output_type": "stream",
     "text": [
      "Loading data and creating splits...\n",
      "Creating database...\n"
     ]
    }
   ],
   "source": [
    "# Define path of database and raw data\n",
    "import pandas as pd\n",
    "\n",
    "DATABASE_DIR = f\"../../data/debates/chroma/{embedding_name}/\"\n",
    "DATA_PATH = \"../../data/debates/europarl_speeches.csv\"\n",
    "\n",
    "# instantiate database\n",
    "database_debates = VectorDatabase(\n",
    "    embedding_model=embedding_model,\n",
    "    source_type=\"debates\",\n",
    "    data_path=DATA_PATH,\n",
    "    database_directory=DATABASE_DIR,\n",
    "    loader=\"csv\",\n",
    "    reload=False,\n",
    ")\n",
    "\n",
    "# Build or load database, depending on flag\n",
    "if build_debate_database:\n",
    "    database_debates.build_database()\n",
    "    # Assert whether database exists\n",
    "    assert (\n",
    "        str(type(database_debates.database))\n",
    "        == \"<class 'langchain_community.vectorstores.chroma.Chroma'>\"\n",
    "    )\n",
    "else:\n",
    "    database_debates.load_database()"
   ]
  },
  {
   "cell_type": "markdown",
   "metadata": {},
   "source": [
    "# (Re)Build Manifesto Database"
   ]
  },
  {
   "cell_type": "code",
   "execution_count": 6,
   "metadata": {},
   "outputs": [
    {
     "name": "stdout",
     "output_type": "stream",
     "text": [
      "Loading data and creating splits...\n",
      "Creating database...\n"
     ]
    }
   ],
   "source": [
    "# Define path of database and raw data\n",
    "DATABASE_DIR = f\"../../data/manifestos/chroma/{embedding_name}/\"\n",
    "DATA_PATH = \"../../data/manifestos/01_pdf_originals\"\n",
    "\n",
    "# instantiate database\n",
    "database_manifestos = VectorDatabase(\n",
    "    embedding_model=embedding_model,\n",
    "    source_type=\"manifestos\",\n",
    "    database_directory=DATABASE_DIR,\n",
    "    data_path=DATA_PATH,\n",
    "    loader=\"pdf\",\n",
    "    reload=False,\n",
    ")\n",
    "\n",
    "# Build or load database, depending on flag\n",
    "if build_manifesto_database:\n",
    "    database_manifestos.build_database()\n",
    "    # Assert whether database exists\n",
    "    assert (\n",
    "        str(type(database_manifestos.database))\n",
    "        == \"<class 'langchain_community.vectorstores.chroma.Chroma'>\"\n",
    "    )\n",
    "else:\n",
    "    database_manifestos.load_database()"
   ]
  }
 ],
 "metadata": {
  "kernelspec": {
   "display_name": "bundestag",
   "language": "python",
   "name": "python3"
  },
  "language_info": {
   "codemirror_mode": {
    "name": "ipython",
    "version": 3
   },
   "file_extension": ".py",
   "mimetype": "text/x-python",
   "name": "python",
   "nbconvert_exporter": "python",
   "pygments_lexer": "ipython3",
   "version": "3.11.7"
  }
 },
 "nbformat": 4,
 "nbformat_minor": 2
}
