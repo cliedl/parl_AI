{
 "cells": [
  {
   "cell_type": "code",
   "execution_count": 1,
   "metadata": {},
   "outputs": [],
   "source": [
    "import sys\n",
    "\n",
    "sys.path.append(\"..\")\n",
    "\n",
    "DATABASE_DIR_MANIFESTOS = \"../../data/manifestos/chroma/manifestoberta\"\n",
    "DATABASE_DIR_DEBATES = \"../../data/manifestos/chroma/manifestoberta\""
   ]
  },
  {
   "cell_type": "code",
   "execution_count": 2,
   "metadata": {},
   "outputs": [],
   "source": [
    "from database.vector_database import VectorDatabase\n",
    "from models.embedding import ManifestoBertaEmbeddings"
   ]
  },
  {
   "cell_type": "code",
   "execution_count": 3,
   "metadata": {},
   "outputs": [
    {
     "name": "stderr",
     "output_type": "stream",
     "text": [
      "/Users/christianliedl/anaconda3/envs/bundestag/lib/python3.11/site-packages/torch/_utils.py:831: UserWarning: TypedStorage is deprecated. It will be removed in the future and UntypedStorage will be the only storage class. This should only matter to you if you are using storages directly.  To access UntypedStorage directly, use tensor.untyped_storage() instead of tensor.storage()\n",
      "  return self.fget.__get__(instance, owner)()\n",
      "Some weights of XLMRobertaModel were not initialized from the model checkpoint at manifesto-project/manifestoberta-xlm-roberta-56policy-topics-sentence-2023-1-1 and are newly initialized: ['roberta.pooler.dense.bias', 'roberta.pooler.dense.weight']\n",
      "You should probably TRAIN this model on a down-stream task to be able to use it for predictions and inference.\n"
     ]
    },
    {
     "name": "stdout",
     "output_type": "stream",
     "text": [
      "reloaded database\n",
      "reloaded database\n"
     ]
    }
   ],
   "source": [
    "embedding_model = ManifestoBertaEmbeddings()\n",
    "\n",
    "db_manifestos = VectorDatabase(\n",
    "\tdata_path=\"../data/manifestos\",\n",
    "\tembedding_model=embedding_model,\n",
    "\tdatabase_directory=DATABASE_DIR_MANIFESTOS,\n",
    "\tsource_type=\"manifestos\",\n",
    ")\n",
    "\n",
    "db_debates = VectorDatabase(\n",
    "\tdata_path=\"../data/debates\",\n",
    "\tembedding_model=embedding_model,\n",
    "\tdatabase_directory=DATABASE_DIR_DEBATES,\n",
    "\tsource_type=\"debates\",\n",
    ")"
   ]
  },
  {
   "cell_type": "code",
   "execution_count": 4,
   "metadata": {},
   "outputs": [],
   "source": [
    "from models.generation import generate_chain_with_balanced_retrieval\n",
    "\n",
    "chain = generate_chain_with_balanced_retrieval([db_manifestos])  # add more databases here"
   ]
  },
  {
   "cell_type": "code",
   "execution_count": 5,
   "metadata": {},
   "outputs": [
    {
     "name": "stderr",
     "output_type": "stream",
     "text": [
      "huggingface/tokenizers: The current process just got forked, after parallelism has already been used. Disabling parallelism to avoid deadlocks...\n",
      "To disable this warning, you can either:\n",
      "\t- Avoid using `tokenizers` before the fork if possible\n",
      "\t- Explicitly set the environment variable TOKENIZERS_PARALLELISM=(true | false)\n"
     ]
    }
   ],
   "source": [
    "# invoke chain\n",
    "response = chain.invoke(\"Wie stehen die Parteien zum Selbstbestimmungsrecht des Geschlechts?\")"
   ]
  },
  {
   "cell_type": "code",
   "execution_count": 6,
   "metadata": {},
   "outputs": [
    {
     "data": {
      "text/plain": [
       "{'cdu_summary': 'Die CDU/CSU setzt sich für den Kampf gegen Gewalt gegen Frauen ein und fordert die Umsetzung der Istanbul-Konvention. Sie unterstützt Maßnahmen zur besseren Gesundheitsversorgung und zur Bekämpfung von Menschenhandel. Die Partei lehnt kommerzielle Leihmutterschaften ab und setzt sich für eine starke Familie als Keimzelle der Gesellschaft ein.',\n",
       " 'spd_summary': 'Die SPD fordert eine EU-Charta der Frauenrechte und setzt sich für den universellen Zugang zu Verhütung, sexueller und reproduktiver Gesundheit ein. Sie unterstützt sichere und legale Schwangerschaftsabbrüche sowie die Gleichstellung von LGBTIQ+-Personen. Die Partei setzt sich für eine diskriminierungsfreie Gesellschaft ein und kämpft gegen Menschenfeindlichkeit.',\n",
       " 'gruene_summary': 'Bündnis 90/Die Grünen setzen sich für die Gleichstellung und Selbstbestimmung von Frauen und Mädchen ein. Sie fordern ein Europa, das die sexuelle und geschlechtliche Vielfalt anerkennt. Die Partei kämpft gegen Queerfeindlichkeit und setzt sich für reproduktive Rechte, inklusive des Rechts auf Schwangerschaftsabbruch, ein.',\n",
       " 'linke_summary': 'Die Linke fordert die Stärkung der reproduktiven Rechte in ganz Europa und setzt sich für die Abschaffung aller Einschränkungen des Rechts auf Schwangerschaftsabbruch ein. Sie unterstützt die Selbstorganisierung von geflüchteten Frauen und queeren Menschen und setzt sich für die volle Teilhabe aller Menschen in der Gesellschaft ein.',\n",
       " 'fdp_summary': 'Die FDP setzt sich für die Verbesserung der Vereinbarkeit von Beruf und Care-Arbeit ein und fordert den universellen Zugang zu Verhütungsmitteln. Sie unterstützt die gesundheitliche Versorgung mit sicheren Schwangerschaftsabbrüchen und setzt sich für die Anerkennung von gleichgeschlechtlichen Ehen und Elternschaften in der EU ein.',\n",
       " 'afd_summary': 'Die AfD lehnt Abtreibungen als Regel ab und setzt sich für das Recht auf Leben ein. Sie unterstützt traditionelle Geschlechterrollen und lehnt die Förderung von Abtreibungen durch die EU ab. Die Partei fordert die Stärkung der Eigenverantwortung der Familien und lehnt die Gender-Ideologie ab.'}"
      ]
     },
     "execution_count": 6,
     "metadata": {},
     "output_type": "execute_result"
    }
   ],
   "source": [
    "response"
   ]
  },
  {
   "cell_type": "code",
   "execution_count": null,
   "metadata": {},
   "outputs": [],
   "source": []
  }
 ],
 "metadata": {
  "kernelspec": {
   "display_name": "bundestag",
   "language": "python",
   "name": "python3"
  },
  "language_info": {
   "codemirror_mode": {
    "name": "ipython",
    "version": 3
   },
   "file_extension": ".py",
   "mimetype": "text/x-python",
   "name": "python",
   "nbconvert_exporter": "python",
   "pygments_lexer": "ipython3",
   "version": "3.11.7"
  }
 },
 "nbformat": 4,
 "nbformat_minor": 2
}
